{
 "cells": [
  {
   "cell_type": "markdown",
   "id": "c6efc953",
   "metadata": {},
   "source": [
    "# ECON 409 and 442 B\n",
    "\n",
    "## Sebastian Polackal"
   ]
  },
  {
   "cell_type": "code",
   "execution_count": null,
   "id": "127d1528",
   "metadata": {},
   "outputs": [],
   "source": []
  },
  {
   "cell_type": "code",
   "execution_count": 14,
   "id": "fe5fa918",
   "metadata": {},
   "outputs": [
    {
     "name": "stdout",
     "output_type": "stream",
     "text": [
      "Requirement already satisfied: pmdarima in c:\\users\\sebpo\\anaconda3\\lib\\site-packages (2.0.2)\n",
      "Requirement already satisfied: numpy>=1.21.2 in c:\\users\\sebpo\\anaconda3\\lib\\site-packages (from pmdarima) (1.21.5)\n",
      "Requirement already satisfied: setuptools!=50.0.0,>=38.6.0 in c:\\users\\sebpo\\anaconda3\\lib\\site-packages (from pmdarima) (61.2.0)\n",
      "Requirement already satisfied: Cython!=0.29.18,!=0.29.31,>=0.29 in c:\\users\\sebpo\\anaconda3\\lib\\site-packages (from pmdarima) (0.29.28)\n",
      "Requirement already satisfied: scikit-learn>=0.22 in c:\\users\\sebpo\\anaconda3\\lib\\site-packages (from pmdarima) (1.0.2)\n",
      "Requirement already satisfied: scipy>=1.3.2 in c:\\users\\sebpo\\anaconda3\\lib\\site-packages (from pmdarima) (1.7.3)\n",
      "Requirement already satisfied: urllib3 in c:\\users\\sebpo\\anaconda3\\lib\\site-packages (from pmdarima) (1.26.9)\n",
      "Requirement already satisfied: joblib>=0.11 in c:\\users\\sebpo\\anaconda3\\lib\\site-packages (from pmdarima) (1.1.0)\n",
      "Requirement already satisfied: statsmodels>=0.13.2 in c:\\users\\sebpo\\anaconda3\\lib\\site-packages (from pmdarima) (0.13.2)\n",
      "Requirement already satisfied: pandas>=0.19 in c:\\users\\sebpo\\anaconda3\\lib\\site-packages (from pmdarima) (1.4.2)\n",
      "Requirement already satisfied: python-dateutil>=2.8.1 in c:\\users\\sebpo\\anaconda3\\lib\\site-packages (from pandas>=0.19->pmdarima) (2.8.2)\n",
      "Requirement already satisfied: pytz>=2020.1 in c:\\users\\sebpo\\anaconda3\\lib\\site-packages (from pandas>=0.19->pmdarima) (2022.7.1)\n",
      "Requirement already satisfied: six>=1.5 in c:\\users\\sebpo\\anaconda3\\lib\\site-packages (from python-dateutil>=2.8.1->pandas>=0.19->pmdarima) (1.16.0)\n",
      "Requirement already satisfied: threadpoolctl>=2.0.0 in c:\\users\\sebpo\\anaconda3\\lib\\site-packages (from scikit-learn>=0.22->pmdarima) (2.2.0)\n",
      "Requirement already satisfied: patsy>=0.5.2 in c:\\users\\sebpo\\anaconda3\\lib\\site-packages (from statsmodels>=0.13.2->pmdarima) (0.5.2)\n",
      "Requirement already satisfied: packaging>=21.3 in c:\\users\\sebpo\\anaconda3\\lib\\site-packages (from statsmodels>=0.13.2->pmdarima) (21.3)\n",
      "Requirement already satisfied: pyparsing!=3.0.5,>=2.0.2 in c:\\users\\sebpo\\anaconda3\\lib\\site-packages (from packaging>=21.3->statsmodels>=0.13.2->pmdarima) (3.0.4)\n",
      "Note: you may need to restart the kernel to use updated packages.\n"
     ]
    }
   ],
   "source": [
    "pip install pmdarima"
   ]
  },
  {
   "cell_type": "code",
   "execution_count": 15,
   "id": "e7032d82",
   "metadata": {},
   "outputs": [],
   "source": [
    "import yfinance as yf\n",
    "import matplotlib.pyplot as plt\n",
    "import pandas as pd\n",
    "import numpy as np\n",
    "import datetime\n",
    "import io\n",
    "import datetime\n",
    "import matplotlib.lines as mlines\n",
    "from fredapi import Fred\n",
    "import statsmodels.formula.api as smf\n",
    "from statsmodels.tsa.arima.model import ARIMA\n",
    "import pmdarima as pm\n",
    "from statsmodels.graphics.tsaplots import plot_acf, plot_pacf\n",
    "import os \n",
    "import scipy.stats as st"
   ]
  },
  {
   "cell_type": "markdown",
   "id": "95964479",
   "metadata": {},
   "source": [
    "## Q1\n",
    "Use the A1 JPYUSD.csv in the file posted on the website for the following questions."
   ]
  },
  {
   "cell_type": "code",
   "execution_count": 16,
   "id": "d8c5562d",
   "metadata": {
    "scrolled": false
   },
   "outputs": [
    {
     "name": "stdout",
     "output_type": "stream",
     "text": [
      "               Japan\n",
      "1985-01-01  0.003927\n",
      "1985-02-01  0.003854\n",
      "1985-03-01  0.003960\n",
      "1985-04-01  0.003964\n",
      "1985-05-01  0.003971\n",
      "...              ...\n",
      "2022-07-01  0.007519\n",
      "2022-08-01  0.007214\n",
      "2022-09-01  0.006909\n",
      "2022-10-01  0.006746\n",
      "2022-11-01  0.007205\n",
      "\n",
      "[455 rows x 1 columns]\n"
     ]
    }
   ],
   "source": [
    "df = pd.read_csv(\"C:/Users/sebpo/Desktop/A1_JPYUSD.csv\", parse_dates = True, index_col = 0)\n",
    "print (df)"
   ]
  },
  {
   "cell_type": "markdown",
   "id": "f2b30347",
   "metadata": {},
   "source": [
    "### Q1.a\n",
    "Use the first 80% of the data to determine the appropriate hyperparameters for an ARIMA(p,d,q)\n",
    "for making forecasts of the JPYUSD series."
   ]
  },
  {
   "cell_type": "code",
   "execution_count": 17,
   "id": "09d4be14",
   "metadata": {},
   "outputs": [
    {
     "name": "stdout",
     "output_type": "stream",
     "text": [
      "364.0\n"
     ]
    }
   ],
   "source": [
    "print (455 * 0.8)"
   ]
  },
  {
   "cell_type": "code",
   "execution_count": 18,
   "id": "18a9a5e7",
   "metadata": {
    "scrolled": true
   },
   "outputs": [
    {
     "data": {
      "text/html": [
       "<div>\n",
       "<style scoped>\n",
       "    .dataframe tbody tr th:only-of-type {\n",
       "        vertical-align: middle;\n",
       "    }\n",
       "\n",
       "    .dataframe tbody tr th {\n",
       "        vertical-align: top;\n",
       "    }\n",
       "\n",
       "    .dataframe thead th {\n",
       "        text-align: right;\n",
       "    }\n",
       "</style>\n",
       "<table border=\"1\" class=\"dataframe\">\n",
       "  <thead>\n",
       "    <tr style=\"text-align: right;\">\n",
       "      <th></th>\n",
       "      <th>Japan</th>\n",
       "    </tr>\n",
       "  </thead>\n",
       "  <tbody>\n",
       "    <tr>\n",
       "      <th>1985-01-01</th>\n",
       "      <td>0.003927</td>\n",
       "    </tr>\n",
       "    <tr>\n",
       "      <th>1985-02-01</th>\n",
       "      <td>0.003854</td>\n",
       "    </tr>\n",
       "    <tr>\n",
       "      <th>1985-03-01</th>\n",
       "      <td>0.003960</td>\n",
       "    </tr>\n",
       "    <tr>\n",
       "      <th>1985-04-01</th>\n",
       "      <td>0.003964</td>\n",
       "    </tr>\n",
       "    <tr>\n",
       "      <th>1985-05-01</th>\n",
       "      <td>0.003971</td>\n",
       "    </tr>\n",
       "    <tr>\n",
       "      <th>...</th>\n",
       "      <td>...</td>\n",
       "    </tr>\n",
       "    <tr>\n",
       "      <th>2014-12-01</th>\n",
       "      <td>0.008289</td>\n",
       "    </tr>\n",
       "    <tr>\n",
       "      <th>2015-01-01</th>\n",
       "      <td>0.008459</td>\n",
       "    </tr>\n",
       "    <tr>\n",
       "      <th>2015-02-01</th>\n",
       "      <td>0.008385</td>\n",
       "    </tr>\n",
       "    <tr>\n",
       "      <th>2015-03-01</th>\n",
       "      <td>0.008326</td>\n",
       "    </tr>\n",
       "    <tr>\n",
       "      <th>2015-04-01</th>\n",
       "      <td>0.008438</td>\n",
       "    </tr>\n",
       "  </tbody>\n",
       "</table>\n",
       "<p>364 rows × 1 columns</p>\n",
       "</div>"
      ],
      "text/plain": [
       "               Japan\n",
       "1985-01-01  0.003927\n",
       "1985-02-01  0.003854\n",
       "1985-03-01  0.003960\n",
       "1985-04-01  0.003964\n",
       "1985-05-01  0.003971\n",
       "...              ...\n",
       "2014-12-01  0.008289\n",
       "2015-01-01  0.008459\n",
       "2015-02-01  0.008385\n",
       "2015-03-01  0.008326\n",
       "2015-04-01  0.008438\n",
       "\n",
       "[364 rows x 1 columns]"
      ]
     },
     "execution_count": 18,
     "metadata": {},
     "output_type": "execute_result"
    }
   ],
   "source": [
    "df80 = df.head(n=364)\n",
    "df80"
   ]
  },
  {
   "cell_type": "code",
   "execution_count": 19,
   "id": "8043dcaa",
   "metadata": {},
   "outputs": [
    {
     "data": {
      "text/plain": [
       "Japan    0\n",
       "dtype: int64"
      ]
     },
     "execution_count": 19,
     "metadata": {},
     "output_type": "execute_result"
    }
   ],
   "source": [
    "df80.isnull().sum()"
   ]
  },
  {
   "cell_type": "code",
   "execution_count": 20,
   "id": "3b653681",
   "metadata": {
    "scrolled": true
   },
   "outputs": [
    {
     "data": {
      "text/html": [
       "<table class=\"simpletable\">\n",
       "<caption>SARIMAX Results</caption>\n",
       "<tr>\n",
       "  <th>Dep. Variable:</th>           <td>y</td>        <th>  No. Observations:  </th>    <td>364</td>   \n",
       "</tr>\n",
       "<tr>\n",
       "  <th>Model:</th>           <td>SARIMAX(2, 1, 0)</td> <th>  Log Likelihood     </th> <td>2462.691</td> \n",
       "</tr>\n",
       "<tr>\n",
       "  <th>Date:</th>            <td>Fri, 27 Jan 2023</td> <th>  AIC                </th> <td>-4919.383</td>\n",
       "</tr>\n",
       "<tr>\n",
       "  <th>Time:</th>                <td>23:03:51</td>     <th>  BIC                </th> <td>-4907.700</td>\n",
       "</tr>\n",
       "<tr>\n",
       "  <th>Sample:</th>             <td>01-01-1985</td>    <th>  HQIC               </th> <td>-4914.739</td>\n",
       "</tr>\n",
       "<tr>\n",
       "  <th></th>                   <td>- 04-01-2015</td>   <th>                     </th>     <td> </td>    \n",
       "</tr>\n",
       "<tr>\n",
       "  <th>Covariance Type:</th>        <td>opg</td>       <th>                     </th>     <td> </td>    \n",
       "</tr>\n",
       "</table>\n",
       "<table class=\"simpletable\">\n",
       "<tr>\n",
       "     <td></td>       <th>coef</th>     <th>std err</th>      <th>z</th>      <th>P>|z|</th>  <th>[0.025</th>    <th>0.975]</th>  \n",
       "</tr>\n",
       "<tr>\n",
       "  <th>ar.L1</th>  <td>    0.0900</td> <td>    0.045</td> <td>    2.018</td> <td> 0.044</td> <td>    0.003</td> <td>    0.177</td>\n",
       "</tr>\n",
       "<tr>\n",
       "  <th>ar.L2</th>  <td>    0.0947</td> <td>    0.050</td> <td>    1.898</td> <td> 0.058</td> <td>   -0.003</td> <td>    0.192</td>\n",
       "</tr>\n",
       "<tr>\n",
       "  <th>sigma2</th> <td> 7.494e-08</td> <td> 4.22e-09</td> <td>   17.775</td> <td> 0.000</td> <td> 6.67e-08</td> <td> 8.32e-08</td>\n",
       "</tr>\n",
       "</table>\n",
       "<table class=\"simpletable\">\n",
       "<tr>\n",
       "  <th>Ljung-Box (L1) (Q):</th>     <td>0.00</td> <th>  Jarque-Bera (JB):  </th> <td>39.98</td>\n",
       "</tr>\n",
       "<tr>\n",
       "  <th>Prob(Q):</th>                <td>0.96</td> <th>  Prob(JB):          </th> <td>0.00</td> \n",
       "</tr>\n",
       "<tr>\n",
       "  <th>Heteroskedasticity (H):</th> <td>1.47</td> <th>  Skew:              </th> <td>-0.12</td>\n",
       "</tr>\n",
       "<tr>\n",
       "  <th>Prob(H) (two-sided):</th>    <td>0.04</td> <th>  Kurtosis:          </th> <td>4.61</td> \n",
       "</tr>\n",
       "</table><br/><br/>Warnings:<br/>[1] Covariance matrix calculated using the outer product of gradients (complex-step)."
      ],
      "text/plain": [
       "<class 'statsmodels.iolib.summary.Summary'>\n",
       "\"\"\"\n",
       "                               SARIMAX Results                                \n",
       "==============================================================================\n",
       "Dep. Variable:                      y   No. Observations:                  364\n",
       "Model:               SARIMAX(2, 1, 0)   Log Likelihood                2462.691\n",
       "Date:                Fri, 27 Jan 2023   AIC                          -4919.383\n",
       "Time:                        23:03:51   BIC                          -4907.700\n",
       "Sample:                    01-01-1985   HQIC                         -4914.739\n",
       "                         - 04-01-2015                                         \n",
       "Covariance Type:                  opg                                         \n",
       "==============================================================================\n",
       "                 coef    std err          z      P>|z|      [0.025      0.975]\n",
       "------------------------------------------------------------------------------\n",
       "ar.L1          0.0900      0.045      2.018      0.044       0.003       0.177\n",
       "ar.L2          0.0947      0.050      1.898      0.058      -0.003       0.192\n",
       "sigma2      7.494e-08   4.22e-09     17.775      0.000    6.67e-08    8.32e-08\n",
       "===================================================================================\n",
       "Ljung-Box (L1) (Q):                   0.00   Jarque-Bera (JB):                39.98\n",
       "Prob(Q):                              0.96   Prob(JB):                         0.00\n",
       "Heteroskedasticity (H):               1.47   Skew:                            -0.12\n",
       "Prob(H) (two-sided):                  0.04   Kurtosis:                         4.61\n",
       "===================================================================================\n",
       "\n",
       "Warnings:\n",
       "[1] Covariance matrix calculated using the outer product of gradients (complex-step).\n",
       "\"\"\""
      ]
     },
     "execution_count": 20,
     "metadata": {},
     "output_type": "execute_result"
    }
   ],
   "source": [
    "import pmdarima as pm\n",
    "arima = pm.auto_arima(df80, start_p = 0, start_q = 0,\n",
    "                      suppress_warnings=True)\n",
    "arima.summary()"
   ]
  },
  {
   "cell_type": "markdown",
   "id": "4e00bebe",
   "metadata": {},
   "source": []
  },
  {
   "cell_type": "markdown",
   "id": "f8975154",
   "metadata": {},
   "source": [
    "### Q1.b\n",
    "For the last 20% of the data, make a series of out-of-sample one month ahead, forecasts of the\n",
    "JPYUSD exchange rate along with a 90% confidence interval for each forecast. (Hint: You may\n",
    "need to use a loop)."
   ]
  },
  {
   "cell_type": "code",
   "execution_count": 21,
   "id": "45921cdb",
   "metadata": {},
   "outputs": [
    {
     "data": {
      "text/html": [
       "<div>\n",
       "<style scoped>\n",
       "    .dataframe tbody tr th:only-of-type {\n",
       "        vertical-align: middle;\n",
       "    }\n",
       "\n",
       "    .dataframe tbody tr th {\n",
       "        vertical-align: top;\n",
       "    }\n",
       "\n",
       "    .dataframe thead th {\n",
       "        text-align: right;\n",
       "    }\n",
       "</style>\n",
       "<table border=\"1\" class=\"dataframe\">\n",
       "  <thead>\n",
       "    <tr style=\"text-align: right;\">\n",
       "      <th></th>\n",
       "      <th>Japan</th>\n",
       "    </tr>\n",
       "  </thead>\n",
       "  <tbody>\n",
       "    <tr>\n",
       "      <th>2015-05-01</th>\n",
       "      <td>0.008081</td>\n",
       "    </tr>\n",
       "    <tr>\n",
       "      <th>2015-06-01</th>\n",
       "      <td>0.008167</td>\n",
       "    </tr>\n",
       "    <tr>\n",
       "      <th>2015-07-01</th>\n",
       "      <td>0.008066</td>\n",
       "    </tr>\n",
       "    <tr>\n",
       "      <th>2015-08-01</th>\n",
       "      <td>0.008251</td>\n",
       "    </tr>\n",
       "    <tr>\n",
       "      <th>2015-09-01</th>\n",
       "      <td>0.008337</td>\n",
       "    </tr>\n",
       "    <tr>\n",
       "      <th>...</th>\n",
       "      <td>...</td>\n",
       "    </tr>\n",
       "    <tr>\n",
       "      <th>2022-07-01</th>\n",
       "      <td>0.007519</td>\n",
       "    </tr>\n",
       "    <tr>\n",
       "      <th>2022-08-01</th>\n",
       "      <td>0.007214</td>\n",
       "    </tr>\n",
       "    <tr>\n",
       "      <th>2022-09-01</th>\n",
       "      <td>0.006909</td>\n",
       "    </tr>\n",
       "    <tr>\n",
       "      <th>2022-10-01</th>\n",
       "      <td>0.006746</td>\n",
       "    </tr>\n",
       "    <tr>\n",
       "      <th>2022-11-01</th>\n",
       "      <td>0.007205</td>\n",
       "    </tr>\n",
       "  </tbody>\n",
       "</table>\n",
       "<p>91 rows × 1 columns</p>\n",
       "</div>"
      ],
      "text/plain": [
       "               Japan\n",
       "2015-05-01  0.008081\n",
       "2015-06-01  0.008167\n",
       "2015-07-01  0.008066\n",
       "2015-08-01  0.008251\n",
       "2015-09-01  0.008337\n",
       "...              ...\n",
       "2022-07-01  0.007519\n",
       "2022-08-01  0.007214\n",
       "2022-09-01  0.006909\n",
       "2022-10-01  0.006746\n",
       "2022-11-01  0.007205\n",
       "\n",
       "[91 rows x 1 columns]"
      ]
     },
     "execution_count": 21,
     "metadata": {},
     "output_type": "execute_result"
    }
   ],
   "source": [
    "df20 = df.tail(91)\n",
    "df20"
   ]
  },
  {
   "cell_type": "code",
   "execution_count": 22,
   "id": "85f574e2",
   "metadata": {
    "scrolled": false
   },
   "outputs": [
    {
     "name": "stderr",
     "output_type": "stream",
     "text": [
      "C:\\Users\\sebpo\\anaconda3\\lib\\site-packages\\statsmodels\\base\\model.py:604: ConvergenceWarning: Maximum Likelihood optimization failed to converge. Check mle_retvals\n",
      "  warnings.warn(\"Maximum Likelihood optimization failed to \"\n",
      "C:\\Users\\sebpo\\anaconda3\\lib\\site-packages\\statsmodels\\base\\model.py:604: ConvergenceWarning: Maximum Likelihood optimization failed to converge. Check mle_retvals\n",
      "  warnings.warn(\"Maximum Likelihood optimization failed to \"\n",
      "C:\\Users\\sebpo\\anaconda3\\lib\\site-packages\\statsmodels\\base\\model.py:604: ConvergenceWarning: Maximum Likelihood optimization failed to converge. Check mle_retvals\n",
      "  warnings.warn(\"Maximum Likelihood optimization failed to \"\n",
      "C:\\Users\\sebpo\\anaconda3\\lib\\site-packages\\statsmodels\\base\\model.py:604: ConvergenceWarning: Maximum Likelihood optimization failed to converge. Check mle_retvals\n",
      "  warnings.warn(\"Maximum Likelihood optimization failed to \"\n",
      "C:\\Users\\sebpo\\anaconda3\\lib\\site-packages\\statsmodels\\base\\model.py:604: ConvergenceWarning: Maximum Likelihood optimization failed to converge. Check mle_retvals\n",
      "  warnings.warn(\"Maximum Likelihood optimization failed to \"\n",
      "C:\\Users\\sebpo\\anaconda3\\lib\\site-packages\\statsmodels\\base\\model.py:604: ConvergenceWarning: Maximum Likelihood optimization failed to converge. Check mle_retvals\n",
      "  warnings.warn(\"Maximum Likelihood optimization failed to \"\n",
      "C:\\Users\\sebpo\\anaconda3\\lib\\site-packages\\statsmodels\\base\\model.py:604: ConvergenceWarning: Maximum Likelihood optimization failed to converge. Check mle_retvals\n",
      "  warnings.warn(\"Maximum Likelihood optimization failed to \"\n",
      "C:\\Users\\sebpo\\anaconda3\\lib\\site-packages\\statsmodels\\base\\model.py:604: ConvergenceWarning: Maximum Likelihood optimization failed to converge. Check mle_retvals\n",
      "  warnings.warn(\"Maximum Likelihood optimization failed to \"\n",
      "C:\\Users\\sebpo\\anaconda3\\lib\\site-packages\\statsmodels\\base\\model.py:604: ConvergenceWarning: Maximum Likelihood optimization failed to converge. Check mle_retvals\n",
      "  warnings.warn(\"Maximum Likelihood optimization failed to \"\n",
      "C:\\Users\\sebpo\\anaconda3\\lib\\site-packages\\statsmodels\\base\\model.py:604: ConvergenceWarning: Maximum Likelihood optimization failed to converge. Check mle_retvals\n",
      "  warnings.warn(\"Maximum Likelihood optimization failed to \"\n",
      "C:\\Users\\sebpo\\anaconda3\\lib\\site-packages\\statsmodels\\base\\model.py:604: ConvergenceWarning: Maximum Likelihood optimization failed to converge. Check mle_retvals\n",
      "  warnings.warn(\"Maximum Likelihood optimization failed to \"\n",
      "C:\\Users\\sebpo\\anaconda3\\lib\\site-packages\\statsmodels\\base\\model.py:604: ConvergenceWarning: Maximum Likelihood optimization failed to converge. Check mle_retvals\n",
      "  warnings.warn(\"Maximum Likelihood optimization failed to \"\n",
      "C:\\Users\\sebpo\\anaconda3\\lib\\site-packages\\statsmodels\\base\\model.py:604: ConvergenceWarning: Maximum Likelihood optimization failed to converge. Check mle_retvals\n",
      "  warnings.warn(\"Maximum Likelihood optimization failed to \"\n",
      "C:\\Users\\sebpo\\anaconda3\\lib\\site-packages\\statsmodels\\base\\model.py:604: ConvergenceWarning: Maximum Likelihood optimization failed to converge. Check mle_retvals\n",
      "  warnings.warn(\"Maximum Likelihood optimization failed to \"\n",
      "C:\\Users\\sebpo\\anaconda3\\lib\\site-packages\\statsmodels\\base\\model.py:604: ConvergenceWarning: Maximum Likelihood optimization failed to converge. Check mle_retvals\n",
      "  warnings.warn(\"Maximum Likelihood optimization failed to \"\n",
      "C:\\Users\\sebpo\\anaconda3\\lib\\site-packages\\statsmodels\\base\\model.py:604: ConvergenceWarning: Maximum Likelihood optimization failed to converge. Check mle_retvals\n",
      "  warnings.warn(\"Maximum Likelihood optimization failed to \"\n",
      "C:\\Users\\sebpo\\anaconda3\\lib\\site-packages\\statsmodels\\base\\model.py:604: ConvergenceWarning: Maximum Likelihood optimization failed to converge. Check mle_retvals\n",
      "  warnings.warn(\"Maximum Likelihood optimization failed to \"\n",
      "C:\\Users\\sebpo\\anaconda3\\lib\\site-packages\\statsmodels\\base\\model.py:604: ConvergenceWarning: Maximum Likelihood optimization failed to converge. Check mle_retvals\n",
      "  warnings.warn(\"Maximum Likelihood optimization failed to \"\n",
      "C:\\Users\\sebpo\\anaconda3\\lib\\site-packages\\statsmodels\\base\\model.py:604: ConvergenceWarning: Maximum Likelihood optimization failed to converge. Check mle_retvals\n",
      "  warnings.warn(\"Maximum Likelihood optimization failed to \"\n",
      "C:\\Users\\sebpo\\anaconda3\\lib\\site-packages\\statsmodels\\base\\model.py:604: ConvergenceWarning: Maximum Likelihood optimization failed to converge. Check mle_retvals\n",
      "  warnings.warn(\"Maximum Likelihood optimization failed to \"\n",
      "C:\\Users\\sebpo\\anaconda3\\lib\\site-packages\\statsmodels\\base\\model.py:604: ConvergenceWarning: Maximum Likelihood optimization failed to converge. Check mle_retvals\n",
      "  warnings.warn(\"Maximum Likelihood optimization failed to \"\n",
      "C:\\Users\\sebpo\\anaconda3\\lib\\site-packages\\statsmodels\\base\\model.py:604: ConvergenceWarning: Maximum Likelihood optimization failed to converge. Check mle_retvals\n",
      "  warnings.warn(\"Maximum Likelihood optimization failed to \"\n",
      "C:\\Users\\sebpo\\anaconda3\\lib\\site-packages\\statsmodels\\base\\model.py:604: ConvergenceWarning: Maximum Likelihood optimization failed to converge. Check mle_retvals\n",
      "  warnings.warn(\"Maximum Likelihood optimization failed to \"\n",
      "C:\\Users\\sebpo\\anaconda3\\lib\\site-packages\\statsmodels\\base\\model.py:604: ConvergenceWarning: Maximum Likelihood optimization failed to converge. Check mle_retvals\n",
      "  warnings.warn(\"Maximum Likelihood optimization failed to \"\n",
      "C:\\Users\\sebpo\\anaconda3\\lib\\site-packages\\statsmodels\\base\\model.py:604: ConvergenceWarning: Maximum Likelihood optimization failed to converge. Check mle_retvals\n",
      "  warnings.warn(\"Maximum Likelihood optimization failed to \"\n",
      "C:\\Users\\sebpo\\anaconda3\\lib\\site-packages\\statsmodels\\base\\model.py:604: ConvergenceWarning: Maximum Likelihood optimization failed to converge. Check mle_retvals\n",
      "  warnings.warn(\"Maximum Likelihood optimization failed to \"\n",
      "C:\\Users\\sebpo\\anaconda3\\lib\\site-packages\\statsmodels\\base\\model.py:604: ConvergenceWarning: Maximum Likelihood optimization failed to converge. Check mle_retvals\n",
      "  warnings.warn(\"Maximum Likelihood optimization failed to \"\n",
      "C:\\Users\\sebpo\\anaconda3\\lib\\site-packages\\statsmodels\\base\\model.py:604: ConvergenceWarning: Maximum Likelihood optimization failed to converge. Check mle_retvals\n",
      "  warnings.warn(\"Maximum Likelihood optimization failed to \"\n",
      "C:\\Users\\sebpo\\anaconda3\\lib\\site-packages\\statsmodels\\base\\model.py:604: ConvergenceWarning: Maximum Likelihood optimization failed to converge. Check mle_retvals\n",
      "  warnings.warn(\"Maximum Likelihood optimization failed to \"\n",
      "C:\\Users\\sebpo\\anaconda3\\lib\\site-packages\\statsmodels\\base\\model.py:604: ConvergenceWarning: Maximum Likelihood optimization failed to converge. Check mle_retvals\n",
      "  warnings.warn(\"Maximum Likelihood optimization failed to \"\n",
      "C:\\Users\\sebpo\\anaconda3\\lib\\site-packages\\statsmodels\\base\\model.py:604: ConvergenceWarning: Maximum Likelihood optimization failed to converge. Check mle_retvals\n",
      "  warnings.warn(\"Maximum Likelihood optimization failed to \"\n",
      "C:\\Users\\sebpo\\anaconda3\\lib\\site-packages\\statsmodels\\base\\model.py:604: ConvergenceWarning: Maximum Likelihood optimization failed to converge. Check mle_retvals\n",
      "  warnings.warn(\"Maximum Likelihood optimization failed to \"\n",
      "C:\\Users\\sebpo\\anaconda3\\lib\\site-packages\\statsmodels\\base\\model.py:604: ConvergenceWarning: Maximum Likelihood optimization failed to converge. Check mle_retvals\n",
      "  warnings.warn(\"Maximum Likelihood optimization failed to \"\n",
      "C:\\Users\\sebpo\\anaconda3\\lib\\site-packages\\statsmodels\\base\\model.py:604: ConvergenceWarning: Maximum Likelihood optimization failed to converge. Check mle_retvals\n",
      "  warnings.warn(\"Maximum Likelihood optimization failed to \"\n",
      "C:\\Users\\sebpo\\anaconda3\\lib\\site-packages\\statsmodels\\base\\model.py:604: ConvergenceWarning: Maximum Likelihood optimization failed to converge. Check mle_retvals\n",
      "  warnings.warn(\"Maximum Likelihood optimization failed to \"\n",
      "C:\\Users\\sebpo\\anaconda3\\lib\\site-packages\\statsmodels\\base\\model.py:604: ConvergenceWarning: Maximum Likelihood optimization failed to converge. Check mle_retvals\n",
      "  warnings.warn(\"Maximum Likelihood optimization failed to \"\n",
      "C:\\Users\\sebpo\\anaconda3\\lib\\site-packages\\statsmodels\\base\\model.py:604: ConvergenceWarning: Maximum Likelihood optimization failed to converge. Check mle_retvals\n",
      "  warnings.warn(\"Maximum Likelihood optimization failed to \"\n",
      "C:\\Users\\sebpo\\anaconda3\\lib\\site-packages\\statsmodels\\base\\model.py:604: ConvergenceWarning: Maximum Likelihood optimization failed to converge. Check mle_retvals\n",
      "  warnings.warn(\"Maximum Likelihood optimization failed to \"\n",
      "C:\\Users\\sebpo\\anaconda3\\lib\\site-packages\\statsmodels\\base\\model.py:604: ConvergenceWarning: Maximum Likelihood optimization failed to converge. Check mle_retvals\n",
      "  warnings.warn(\"Maximum Likelihood optimization failed to \"\n",
      "C:\\Users\\sebpo\\anaconda3\\lib\\site-packages\\statsmodels\\base\\model.py:604: ConvergenceWarning: Maximum Likelihood optimization failed to converge. Check mle_retvals\n",
      "  warnings.warn(\"Maximum Likelihood optimization failed to \"\n",
      "C:\\Users\\sebpo\\anaconda3\\lib\\site-packages\\statsmodels\\base\\model.py:604: ConvergenceWarning: Maximum Likelihood optimization failed to converge. Check mle_retvals\n",
      "  warnings.warn(\"Maximum Likelihood optimization failed to \"\n",
      "C:\\Users\\sebpo\\anaconda3\\lib\\site-packages\\statsmodels\\base\\model.py:604: ConvergenceWarning: Maximum Likelihood optimization failed to converge. Check mle_retvals\n",
      "  warnings.warn(\"Maximum Likelihood optimization failed to \"\n",
      "C:\\Users\\sebpo\\anaconda3\\lib\\site-packages\\statsmodels\\base\\model.py:604: ConvergenceWarning: Maximum Likelihood optimization failed to converge. Check mle_retvals\n",
      "  warnings.warn(\"Maximum Likelihood optimization failed to \"\n",
      "C:\\Users\\sebpo\\anaconda3\\lib\\site-packages\\statsmodels\\base\\model.py:604: ConvergenceWarning: Maximum Likelihood optimization failed to converge. Check mle_retvals\n",
      "  warnings.warn(\"Maximum Likelihood optimization failed to \"\n",
      "C:\\Users\\sebpo\\anaconda3\\lib\\site-packages\\statsmodels\\base\\model.py:604: ConvergenceWarning: Maximum Likelihood optimization failed to converge. Check mle_retvals\n",
      "  warnings.warn(\"Maximum Likelihood optimization failed to \"\n",
      "C:\\Users\\sebpo\\anaconda3\\lib\\site-packages\\statsmodels\\base\\model.py:604: ConvergenceWarning: Maximum Likelihood optimization failed to converge. Check mle_retvals\n",
      "  warnings.warn(\"Maximum Likelihood optimization failed to \"\n",
      "C:\\Users\\sebpo\\anaconda3\\lib\\site-packages\\statsmodels\\base\\model.py:604: ConvergenceWarning: Maximum Likelihood optimization failed to converge. Check mle_retvals\n",
      "  warnings.warn(\"Maximum Likelihood optimization failed to \"\n",
      "C:\\Users\\sebpo\\anaconda3\\lib\\site-packages\\statsmodels\\base\\model.py:604: ConvergenceWarning: Maximum Likelihood optimization failed to converge. Check mle_retvals\n",
      "  warnings.warn(\"Maximum Likelihood optimization failed to \"\n",
      "C:\\Users\\sebpo\\anaconda3\\lib\\site-packages\\statsmodels\\base\\model.py:604: ConvergenceWarning: Maximum Likelihood optimization failed to converge. Check mle_retvals\n",
      "  warnings.warn(\"Maximum Likelihood optimization failed to \"\n",
      "C:\\Users\\sebpo\\anaconda3\\lib\\site-packages\\statsmodels\\base\\model.py:604: ConvergenceWarning: Maximum Likelihood optimization failed to converge. Check mle_retvals\n",
      "  warnings.warn(\"Maximum Likelihood optimization failed to \"\n",
      "C:\\Users\\sebpo\\anaconda3\\lib\\site-packages\\statsmodels\\base\\model.py:604: ConvergenceWarning: Maximum Likelihood optimization failed to converge. Check mle_retvals\n",
      "  warnings.warn(\"Maximum Likelihood optimization failed to \"\n",
      "C:\\Users\\sebpo\\anaconda3\\lib\\site-packages\\statsmodels\\base\\model.py:604: ConvergenceWarning: Maximum Likelihood optimization failed to converge. Check mle_retvals\n",
      "  warnings.warn(\"Maximum Likelihood optimization failed to \"\n",
      "C:\\Users\\sebpo\\anaconda3\\lib\\site-packages\\statsmodels\\base\\model.py:604: ConvergenceWarning: Maximum Likelihood optimization failed to converge. Check mle_retvals\n",
      "  warnings.warn(\"Maximum Likelihood optimization failed to \"\n",
      "C:\\Users\\sebpo\\anaconda3\\lib\\site-packages\\statsmodels\\base\\model.py:604: ConvergenceWarning: Maximum Likelihood optimization failed to converge. Check mle_retvals\n",
      "  warnings.warn(\"Maximum Likelihood optimization failed to \"\n",
      "C:\\Users\\sebpo\\anaconda3\\lib\\site-packages\\statsmodels\\base\\model.py:604: ConvergenceWarning: Maximum Likelihood optimization failed to converge. Check mle_retvals\n",
      "  warnings.warn(\"Maximum Likelihood optimization failed to \"\n",
      "C:\\Users\\sebpo\\anaconda3\\lib\\site-packages\\statsmodels\\base\\model.py:604: ConvergenceWarning: Maximum Likelihood optimization failed to converge. Check mle_retvals\n",
      "  warnings.warn(\"Maximum Likelihood optimization failed to \"\n",
      "C:\\Users\\sebpo\\anaconda3\\lib\\site-packages\\statsmodels\\base\\model.py:604: ConvergenceWarning: Maximum Likelihood optimization failed to converge. Check mle_retvals\n",
      "  warnings.warn(\"Maximum Likelihood optimization failed to \"\n",
      "C:\\Users\\sebpo\\anaconda3\\lib\\site-packages\\statsmodels\\base\\model.py:604: ConvergenceWarning: Maximum Likelihood optimization failed to converge. Check mle_retvals\n",
      "  warnings.warn(\"Maximum Likelihood optimization failed to \"\n",
      "C:\\Users\\sebpo\\anaconda3\\lib\\site-packages\\statsmodels\\base\\model.py:604: ConvergenceWarning: Maximum Likelihood optimization failed to converge. Check mle_retvals\n",
      "  warnings.warn(\"Maximum Likelihood optimization failed to \"\n"
     ]
    }
   ],
   "source": [
    "def evaluate_arima_model(X, arima_order):\n",
    "    # prepare training dataset\n",
    "    train_size = int(len(X) * 0.8)\n",
    "    train, test = X[0:train_size], X[train_size:]\n",
    "    history = [x for x in train]\n",
    "    # make predictions\n",
    "    predictions = list()\n",
    "    for t in range(len(test)):\n",
    "        model = ARIMA(history, order=arima_order)\n",
    "        model_fit = model.fit()\n",
    "        yhat = model_fit.forecast()[0]\n",
    "        predictions.append(yhat)\n",
    "        history.append(test[t])\n",
    "    # calculate out of sample error\n",
    "    test = pd.DataFrame(test)\n",
    "    test[\"predictions\"] = predictions\n",
    "    return test\n",
    "y = evaluate_arima_model(df['Japan'], (2,0,0))"
   ]
  },
  {
   "cell_type": "code",
   "execution_count": 23,
   "id": "f9ed5c3c",
   "metadata": {
    "scrolled": false
   },
   "outputs": [
    {
     "data": {
      "text/html": [
       "<div>\n",
       "<style scoped>\n",
       "    .dataframe tbody tr th:only-of-type {\n",
       "        vertical-align: middle;\n",
       "    }\n",
       "\n",
       "    .dataframe tbody tr th {\n",
       "        vertical-align: top;\n",
       "    }\n",
       "\n",
       "    .dataframe thead th {\n",
       "        text-align: right;\n",
       "    }\n",
       "</style>\n",
       "<table border=\"1\" class=\"dataframe\">\n",
       "  <thead>\n",
       "    <tr style=\"text-align: right;\">\n",
       "      <th></th>\n",
       "      <th>Japan</th>\n",
       "      <th>predictions</th>\n",
       "    </tr>\n",
       "  </thead>\n",
       "  <tbody>\n",
       "    <tr>\n",
       "      <th>2015-05-01</th>\n",
       "      <td>0.008081</td>\n",
       "      <td>0.008458</td>\n",
       "    </tr>\n",
       "    <tr>\n",
       "      <th>2015-06-01</th>\n",
       "      <td>0.008167</td>\n",
       "      <td>0.008062</td>\n",
       "    </tr>\n",
       "    <tr>\n",
       "      <th>2015-07-01</th>\n",
       "      <td>0.008066</td>\n",
       "      <td>0.008190</td>\n",
       "    </tr>\n",
       "    <tr>\n",
       "      <th>2015-08-01</th>\n",
       "      <td>0.008251</td>\n",
       "      <td>0.008074</td>\n",
       "    </tr>\n",
       "    <tr>\n",
       "      <th>2015-09-01</th>\n",
       "      <td>0.008337</td>\n",
       "      <td>0.008282</td>\n",
       "    </tr>\n",
       "    <tr>\n",
       "      <th>...</th>\n",
       "      <td>...</td>\n",
       "      <td>...</td>\n",
       "    </tr>\n",
       "    <tr>\n",
       "      <th>2022-07-01</th>\n",
       "      <td>0.007519</td>\n",
       "      <td>0.007306</td>\n",
       "    </tr>\n",
       "    <tr>\n",
       "      <th>2022-08-01</th>\n",
       "      <td>0.007214</td>\n",
       "      <td>0.007570</td>\n",
       "    </tr>\n",
       "    <tr>\n",
       "      <th>2022-09-01</th>\n",
       "      <td>0.006909</td>\n",
       "      <td>0.007223</td>\n",
       "    </tr>\n",
       "    <tr>\n",
       "      <th>2022-10-01</th>\n",
       "      <td>0.006746</td>\n",
       "      <td>0.006923</td>\n",
       "    </tr>\n",
       "    <tr>\n",
       "      <th>2022-11-01</th>\n",
       "      <td>0.007205</td>\n",
       "      <td>0.006777</td>\n",
       "    </tr>\n",
       "  </tbody>\n",
       "</table>\n",
       "<p>91 rows × 2 columns</p>\n",
       "</div>"
      ],
      "text/plain": [
       "               Japan  predictions\n",
       "2015-05-01  0.008081     0.008458\n",
       "2015-06-01  0.008167     0.008062\n",
       "2015-07-01  0.008066     0.008190\n",
       "2015-08-01  0.008251     0.008074\n",
       "2015-09-01  0.008337     0.008282\n",
       "...              ...          ...\n",
       "2022-07-01  0.007519     0.007306\n",
       "2022-08-01  0.007214     0.007570\n",
       "2022-09-01  0.006909     0.007223\n",
       "2022-10-01  0.006746     0.006923\n",
       "2022-11-01  0.007205     0.006777\n",
       "\n",
       "[91 rows x 2 columns]"
      ]
     },
     "execution_count": 23,
     "metadata": {},
     "output_type": "execute_result"
    }
   ],
   "source": [
    "y"
   ]
  },
  {
   "cell_type": "code",
   "execution_count": 24,
   "id": "ff2f58a6",
   "metadata": {},
   "outputs": [
    {
     "name": "stderr",
     "output_type": "stream",
     "text": [
      "C:\\Users\\sebpo\\anaconda3\\lib\\site-packages\\statsmodels\\tsa\\base\\tsa_model.py:471: ValueWarning: No frequency information was provided, so inferred frequency MS will be used.\n",
      "  self._init_dates(dates, freq)\n",
      "C:\\Users\\sebpo\\anaconda3\\lib\\site-packages\\statsmodels\\tsa\\base\\tsa_model.py:471: ValueWarning: No frequency information was provided, so inferred frequency MS will be used.\n",
      "  self._init_dates(dates, freq)\n",
      "C:\\Users\\sebpo\\anaconda3\\lib\\site-packages\\statsmodels\\tsa\\base\\tsa_model.py:471: ValueWarning: No frequency information was provided, so inferred frequency MS will be used.\n",
      "  self._init_dates(dates, freq)\n"
     ]
    },
    {
     "data": {
      "text/plain": [
       "2022-12-01    0.007323\n",
       "2023-01-01    0.007396\n",
       "2023-02-01    0.007461\n",
       "2023-03-01    0.007522\n",
       "2023-04-01    0.007580\n",
       "2023-05-01    0.007636\n",
       "2023-06-01    0.007690\n",
       "2023-07-01    0.007741\n",
       "2023-08-01    0.007790\n",
       "2023-09-01    0.007837\n",
       "2023-10-01    0.007882\n",
       "2023-11-01    0.007925\n",
       "Freq: MS, Name: predicted_mean, dtype: float64"
      ]
     },
     "execution_count": 24,
     "metadata": {},
     "output_type": "execute_result"
    }
   ],
   "source": [
    "# fit the model to get the fitted model object\n",
    "model = ARIMA(df20[\"Japan\"].dropna(), order=(2,0,0)).fit()\n",
    "\n",
    "# the forecast is made for the next 12 (or however many)\n",
    "# periods that follow the data used to train the model\n",
    "model.forecast(12)"
   ]
  },
  {
   "cell_type": "code",
   "execution_count": 25,
   "id": "f4e2bf9b",
   "metadata": {},
   "outputs": [
    {
     "data": {
      "text/html": [
       "<table class=\"simpletable\">\n",
       "<caption>SARIMAX Results</caption>\n",
       "<tr>\n",
       "  <th>Dep. Variable:</th>         <td>Japan</td>      <th>  No. Observations:  </th>    <td>91</td>    \n",
       "</tr>\n",
       "<tr>\n",
       "  <th>Model:</th>            <td>ARIMA(2, 0, 0)</td>  <th>  Log Likelihood     </th>  <td>642.369</td> \n",
       "</tr>\n",
       "<tr>\n",
       "  <th>Date:</th>            <td>Fri, 27 Jan 2023</td> <th>  AIC                </th> <td>-1276.739</td>\n",
       "</tr>\n",
       "<tr>\n",
       "  <th>Time:</th>                <td>23:04:11</td>     <th>  BIC                </th> <td>-1266.695</td>\n",
       "</tr>\n",
       "<tr>\n",
       "  <th>Sample:</th>             <td>05-01-2015</td>    <th>  HQIC               </th> <td>-1272.687</td>\n",
       "</tr>\n",
       "<tr>\n",
       "  <th></th>                   <td>- 11-01-2022</td>   <th>                     </th>     <td> </td>    \n",
       "</tr>\n",
       "<tr>\n",
       "  <th>Covariance Type:</th>        <td>opg</td>       <th>                     </th>     <td> </td>    \n",
       "</tr>\n",
       "</table>\n",
       "<table class=\"simpletable\">\n",
       "<tr>\n",
       "     <td></td>       <th>coef</th>     <th>std err</th>      <th>z</th>      <th>P>|z|</th>  <th>[0.025</th>    <th>0.975]</th>  \n",
       "</tr>\n",
       "<tr>\n",
       "  <th>const</th>  <td>    0.0089</td> <td>    0.000</td> <td>   18.741</td> <td> 0.000</td> <td>    0.008</td> <td>    0.010</td>\n",
       "</tr>\n",
       "<tr>\n",
       "  <th>ar.L1</th>  <td>    1.0829</td> <td>    0.013</td> <td>   80.387</td> <td> 0.000</td> <td>    1.056</td> <td>    1.109</td>\n",
       "</tr>\n",
       "<tr>\n",
       "  <th>ar.L2</th>  <td>   -0.1208</td> <td>    0.013</td> <td>   -8.998</td> <td> 0.000</td> <td>   -0.147</td> <td>   -0.094</td>\n",
       "</tr>\n",
       "<tr>\n",
       "  <th>sigma2</th> <td> 4.184e-08</td> <td> 4.47e-09</td> <td>    9.359</td> <td> 0.000</td> <td> 3.31e-08</td> <td> 5.06e-08</td>\n",
       "</tr>\n",
       "</table>\n",
       "<table class=\"simpletable\">\n",
       "<tr>\n",
       "  <th>Ljung-Box (L1) (Q):</th>     <td>0.02</td> <th>  Jarque-Bera (JB):  </th> <td>13.09</td>\n",
       "</tr>\n",
       "<tr>\n",
       "  <th>Prob(Q):</th>                <td>0.88</td> <th>  Prob(JB):          </th> <td>0.00</td> \n",
       "</tr>\n",
       "<tr>\n",
       "  <th>Heteroskedasticity (H):</th> <td>0.95</td> <th>  Skew:              </th> <td>0.06</td> \n",
       "</tr>\n",
       "<tr>\n",
       "  <th>Prob(H) (two-sided):</th>    <td>0.89</td> <th>  Kurtosis:          </th> <td>4.85</td> \n",
       "</tr>\n",
       "</table><br/><br/>Warnings:<br/>[1] Covariance matrix calculated using the outer product of gradients (complex-step)."
      ],
      "text/plain": [
       "<class 'statsmodels.iolib.summary.Summary'>\n",
       "\"\"\"\n",
       "                               SARIMAX Results                                \n",
       "==============================================================================\n",
       "Dep. Variable:                  Japan   No. Observations:                   91\n",
       "Model:                 ARIMA(2, 0, 0)   Log Likelihood                 642.369\n",
       "Date:                Fri, 27 Jan 2023   AIC                          -1276.739\n",
       "Time:                        23:04:11   BIC                          -1266.695\n",
       "Sample:                    05-01-2015   HQIC                         -1272.687\n",
       "                         - 11-01-2022                                         \n",
       "Covariance Type:                  opg                                         \n",
       "==============================================================================\n",
       "                 coef    std err          z      P>|z|      [0.025      0.975]\n",
       "------------------------------------------------------------------------------\n",
       "const          0.0089      0.000     18.741      0.000       0.008       0.010\n",
       "ar.L1          1.0829      0.013     80.387      0.000       1.056       1.109\n",
       "ar.L2         -0.1208      0.013     -8.998      0.000      -0.147      -0.094\n",
       "sigma2      4.184e-08   4.47e-09      9.359      0.000    3.31e-08    5.06e-08\n",
       "===================================================================================\n",
       "Ljung-Box (L1) (Q):                   0.02   Jarque-Bera (JB):                13.09\n",
       "Prob(Q):                              0.88   Prob(JB):                         0.00\n",
       "Heteroskedasticity (H):               0.95   Skew:                             0.06\n",
       "Prob(H) (two-sided):                  0.89   Kurtosis:                         4.85\n",
       "===================================================================================\n",
       "\n",
       "Warnings:\n",
       "[1] Covariance matrix calculated using the outer product of gradients (complex-step).\n",
       "\"\"\""
      ]
     },
     "execution_count": 25,
     "metadata": {},
     "output_type": "execute_result"
    }
   ],
   "source": [
    "model.summary()"
   ]
  },
  {
   "cell_type": "code",
   "execution_count": 26,
   "id": "b37d1a5a",
   "metadata": {},
   "outputs": [
    {
     "data": {
      "text/html": [
       "<div>\n",
       "<style scoped>\n",
       "    .dataframe tbody tr th:only-of-type {\n",
       "        vertical-align: middle;\n",
       "    }\n",
       "\n",
       "    .dataframe tbody tr th {\n",
       "        vertical-align: top;\n",
       "    }\n",
       "\n",
       "    .dataframe thead th {\n",
       "        text-align: right;\n",
       "    }\n",
       "</style>\n",
       "<table border=\"1\" class=\"dataframe\">\n",
       "  <thead>\n",
       "    <tr style=\"text-align: right;\">\n",
       "      <th></th>\n",
       "      <th>lower Japan</th>\n",
       "      <th>upper Japan</th>\n",
       "      <th>mean</th>\n",
       "    </tr>\n",
       "  </thead>\n",
       "  <tbody>\n",
       "    <tr>\n",
       "      <th>2022-12-01</th>\n",
       "      <td>0.006987</td>\n",
       "      <td>0.007660</td>\n",
       "      <td>0.007323</td>\n",
       "    </tr>\n",
       "    <tr>\n",
       "      <th>2023-01-01</th>\n",
       "      <td>0.006900</td>\n",
       "      <td>0.007892</td>\n",
       "      <td>0.007396</td>\n",
       "    </tr>\n",
       "    <tr>\n",
       "      <th>2023-02-01</th>\n",
       "      <td>0.006852</td>\n",
       "      <td>0.008070</td>\n",
       "      <td>0.007461</td>\n",
       "    </tr>\n",
       "    <tr>\n",
       "      <th>2023-03-01</th>\n",
       "      <td>0.006825</td>\n",
       "      <td>0.008219</td>\n",
       "      <td>0.007522</td>\n",
       "    </tr>\n",
       "    <tr>\n",
       "      <th>2023-04-01</th>\n",
       "      <td>0.006811</td>\n",
       "      <td>0.008350</td>\n",
       "      <td>0.007580</td>\n",
       "    </tr>\n",
       "    <tr>\n",
       "      <th>2023-05-01</th>\n",
       "      <td>0.006807</td>\n",
       "      <td>0.008466</td>\n",
       "      <td>0.007636</td>\n",
       "    </tr>\n",
       "    <tr>\n",
       "      <th>2023-06-01</th>\n",
       "      <td>0.006809</td>\n",
       "      <td>0.008571</td>\n",
       "      <td>0.007690</td>\n",
       "    </tr>\n",
       "    <tr>\n",
       "      <th>2023-07-01</th>\n",
       "      <td>0.006815</td>\n",
       "      <td>0.008667</td>\n",
       "      <td>0.007741</td>\n",
       "    </tr>\n",
       "    <tr>\n",
       "      <th>2023-08-01</th>\n",
       "      <td>0.006825</td>\n",
       "      <td>0.008755</td>\n",
       "      <td>0.007790</td>\n",
       "    </tr>\n",
       "    <tr>\n",
       "      <th>2023-09-01</th>\n",
       "      <td>0.006838</td>\n",
       "      <td>0.008836</td>\n",
       "      <td>0.007837</td>\n",
       "    </tr>\n",
       "    <tr>\n",
       "      <th>2023-10-01</th>\n",
       "      <td>0.006852</td>\n",
       "      <td>0.008911</td>\n",
       "      <td>0.007882</td>\n",
       "    </tr>\n",
       "    <tr>\n",
       "      <th>2023-11-01</th>\n",
       "      <td>0.006868</td>\n",
       "      <td>0.008981</td>\n",
       "      <td>0.007925</td>\n",
       "    </tr>\n",
       "  </tbody>\n",
       "</table>\n",
       "</div>"
      ],
      "text/plain": [
       "            lower Japan  upper Japan      mean\n",
       "2022-12-01     0.006987     0.007660  0.007323\n",
       "2023-01-01     0.006900     0.007892  0.007396\n",
       "2023-02-01     0.006852     0.008070  0.007461\n",
       "2023-03-01     0.006825     0.008219  0.007522\n",
       "2023-04-01     0.006811     0.008350  0.007580\n",
       "2023-05-01     0.006807     0.008466  0.007636\n",
       "2023-06-01     0.006809     0.008571  0.007690\n",
       "2023-07-01     0.006815     0.008667  0.007741\n",
       "2023-08-01     0.006825     0.008755  0.007790\n",
       "2023-09-01     0.006838     0.008836  0.007837\n",
       "2023-10-01     0.006852     0.008911  0.007882\n",
       "2023-11-01     0.006868     0.008981  0.007925"
      ]
     },
     "execution_count": 26,
     "metadata": {},
     "output_type": "execute_result"
    }
   ],
   "source": [
    "forecast = model.get_forecast(12)\n",
    "\n",
    "# get the 90% confidence interval for the forecast\n",
    "yhat_conf_int = forecast.conf_int(alpha=0.1)\n",
    "yhat_conf_int[\"mean\"] = forecast.predicted_mean\n",
    "yhat_conf_int"
   ]
  },
  {
   "cell_type": "markdown",
   "id": "2c2a5bf8",
   "metadata": {},
   "source": [
    "### Q1.c \n",
    "Generate a plot of an equity curve showing what your returns for the out-of-sample testing period\n",
    "would have been if you had gone long when you forecasted the exchange rate to increase and short\n",
    "when you forecasted the exchange rate would decrease. Hold each position for a single period."
   ]
  },
  {
   "cell_type": "code",
   "execution_count": 27,
   "id": "a74a28ff",
   "metadata": {},
   "outputs": [],
   "source": [
    "# compute whether we are going long or short\n",
    "y[\"Signals\"] = np.where(y[\"predictions\"]>y['Japan'].shift(), 1,-1)\n",
    "\n",
    "# get the series of log returns\n",
    "y[\"returns\"] = np.log(y[\"Japan\"]/y[\"Japan\"].shift())\n",
    "\n",
    "# compute the long and short returns\n",
    "y[\"strategy returns\"] = y[\"Signals\"].shift()*y[\"returns\"] \n",
    "\n",
    "# convert to simple returns\n",
    "y[\"Cumulative Returns\"] = (np.exp(y[\"strategy returns\"].cumsum())-1)*100"
   ]
  },
  {
   "cell_type": "code",
   "execution_count": 28,
   "id": "b64f4594",
   "metadata": {},
   "outputs": [
    {
     "data": {
      "text/plain": [
       "2015-05-01          NaN\n",
       "2015-06-01    -1.050505\n",
       "2015-07-01     0.177778\n",
       "2015-08-01     2.467319\n",
       "2015-09-01     3.535132\n",
       "                ...    \n",
       "2022-07-01    35.483961\n",
       "2022-08-01    41.198736\n",
       "2022-09-01    35.218715\n",
       "2022-10-01    32.026152\n",
       "2022-11-01    41.005452\n",
       "Name: Cumulative Returns, Length: 91, dtype: float64"
      ]
     },
     "execution_count": 28,
     "metadata": {},
     "output_type": "execute_result"
    }
   ],
   "source": [
    "y[\"Cumulative Returns\"]"
   ]
  },
  {
   "cell_type": "code",
   "execution_count": 29,
   "id": "c2f8b93c",
   "metadata": {},
   "outputs": [
    {
     "data": {
      "image/png": "[encoded data removed]",
      "text/plain": [
       "<Figure size 1080x288 with 1 Axes>"
      ]
     },
     "metadata": {
      "needs_background": "light"
     },
     "output_type": "display_data"
    }
   ],
   "source": [
    "plt.figure(figsize = (15, 4))\n",
    "plt.plot(y[\"Cumulative Returns\"])\n",
    "plt.plot((np.exp(y[\"returns\"].cumsum())-1)*100)\n",
    "plt.ylabel(\"Cumulative Returns (%)\")\n",
    "plt.title(\"ARIMA Strategy Performance vs Buy and Hold (EURUSD)\")\n",
    "plt.legend([\"Equity Line\", \"Buy and Hold Euro\"])\n",
    "plt.grid()"
   ]
  },
  {
   "cell_type": "markdown",
   "id": "b6b2851e",
   "metadata": {},
   "source": [
    "### Q1.d\n",
    " Compute the continuously compounded and annualized returns of the trading strategy."
   ]
  },
  {
   "cell_type": "code",
   "execution_count": 30,
   "id": "40fb51b8",
   "metadata": {},
   "outputs": [
    {
     "name": "stdout",
     "output_type": "stream",
     "text": [
      "4.531363125137081\n"
     ]
    }
   ],
   "source": [
    "# compounded\n",
    "P = 1000000\n",
    "A = (((y[\"Cumulative Returns\"]/100)+1)*P)[-1]\n",
    "t = (len(y)/12)\n",
    "CCROR = np.log(A/P)/t\n",
    "print(CCROR*100)"
   ]
  },
  {
   "cell_type": "code",
   "execution_count": 31,
   "id": "bcb8dda7",
   "metadata": {},
   "outputs": [
    {
     "data": {
      "text/plain": [
       "4.635597838680372"
      ]
     },
     "execution_count": 31,
     "metadata": {},
     "output_type": "execute_result"
    }
   ],
   "source": [
    "# Annualized \n",
    "((A/P)**(1/t)-1)*100"
   ]
  },
  {
   "cell_type": "markdown",
   "id": "ff28f4ef",
   "metadata": {},
   "source": [
    "# Q2. \n",
    "Use the 1-year-treasury-rate-yield-chart.csv in the file posted on the website for the following questions.\n",
    "The following questions are based on the forecasts and returns generated in question (1)."
   ]
  },
  {
   "cell_type": "code",
   "execution_count": 34,
   "id": "beee679b",
   "metadata": {},
   "outputs": [
    {
     "name": "stdout",
     "output_type": "stream",
     "text": [
      "             value\n",
      "date              \n",
      "1962-01-02    3.22\n",
      "1962-01-03    3.24\n",
      "1962-01-04    3.24\n",
      "1962-01-05    3.26\n",
      "1962-01-08    3.31\n",
      "...            ...\n",
      "2023-01-08     NaN\n",
      "2023-01-09     NaN\n",
      "2023-01-10     NaN\n",
      "2023-01-11     NaN\n",
      "2023-01-12     NaN\n",
      "\n",
      "[15270 rows x 1 columns]\n"
     ]
    }
   ],
   "source": [
    "data = pd.read_csv(\"C:/Users/sebpo/Desktop/1-year-treasury-rate-yield-chart.csv\", parse_dates = True, index_col = 0)\n",
    "print (data)"
   ]
  },
  {
   "cell_type": "code",
   "execution_count": 35,
   "id": "fbce8d95",
   "metadata": {},
   "outputs": [
    {
     "data": {
      "text/html": [
       "<div>\n",
       "<style scoped>\n",
       "    .dataframe tbody tr th:only-of-type {\n",
       "        vertical-align: middle;\n",
       "    }\n",
       "\n",
       "    .dataframe tbody tr th {\n",
       "        vertical-align: top;\n",
       "    }\n",
       "\n",
       "    .dataframe thead th {\n",
       "        text-align: right;\n",
       "    }\n",
       "</style>\n",
       "<table border=\"1\" class=\"dataframe\">\n",
       "  <thead>\n",
       "    <tr style=\"text-align: right;\">\n",
       "      <th></th>\n",
       "      <th>Japan</th>\n",
       "      <th>predictions</th>\n",
       "      <th>Signals</th>\n",
       "      <th>returns</th>\n",
       "      <th>strategy returns</th>\n",
       "      <th>Cumulative Returns</th>\n",
       "      <th>s_current</th>\n",
       "      <th>s_future</th>\n",
       "      <th>s_change</th>\n",
       "      <th>s_change_fitted</th>\n",
       "      <th>error</th>\n",
       "    </tr>\n",
       "  </thead>\n",
       "  <tbody>\n",
       "    <tr>\n",
       "      <th>2015-05-01</th>\n",
       "      <td>0.008081</td>\n",
       "      <td>0.008458</td>\n",
       "      <td>-1</td>\n",
       "      <td>NaN</td>\n",
       "      <td>NaN</td>\n",
       "      <td>NaN</td>\n",
       "      <td>0.008081</td>\n",
       "      <td>NaN</td>\n",
       "      <td>NaN</td>\n",
       "      <td>NaN</td>\n",
       "      <td>0.000104</td>\n",
       "    </tr>\n",
       "    <tr>\n",
       "      <th>2015-06-01</th>\n",
       "      <td>0.008167</td>\n",
       "      <td>0.008062</td>\n",
       "      <td>-1</td>\n",
       "      <td>0.010561</td>\n",
       "      <td>-0.010561</td>\n",
       "      <td>-1.050505</td>\n",
       "      <td>0.008167</td>\n",
       "      <td>0.008081</td>\n",
       "      <td>-0.000086</td>\n",
       "      <td>-0.000396</td>\n",
       "      <td>-0.000123</td>\n",
       "    </tr>\n",
       "    <tr>\n",
       "      <th>2015-07-01</th>\n",
       "      <td>0.008066</td>\n",
       "      <td>0.008190</td>\n",
       "      <td>1</td>\n",
       "      <td>-0.012337</td>\n",
       "      <td>0.012337</td>\n",
       "      <td>0.177778</td>\n",
       "      <td>0.008066</td>\n",
       "      <td>0.008167</td>\n",
       "      <td>0.000100</td>\n",
       "      <td>0.000128</td>\n",
       "      <td>0.000177</td>\n",
       "    </tr>\n",
       "    <tr>\n",
       "      <th>2015-08-01</th>\n",
       "      <td>0.008251</td>\n",
       "      <td>0.008074</td>\n",
       "      <td>1</td>\n",
       "      <td>0.022598</td>\n",
       "      <td>0.022598</td>\n",
       "      <td>2.467319</td>\n",
       "      <td>0.008251</td>\n",
       "      <td>0.008066</td>\n",
       "      <td>-0.000184</td>\n",
       "      <td>-0.000116</td>\n",
       "      <td>0.000055</td>\n",
       "    </tr>\n",
       "    <tr>\n",
       "      <th>2015-09-01</th>\n",
       "      <td>0.008337</td>\n",
       "      <td>0.008282</td>\n",
       "      <td>1</td>\n",
       "      <td>0.010367</td>\n",
       "      <td>0.010367</td>\n",
       "      <td>3.535132</td>\n",
       "      <td>0.008337</td>\n",
       "      <td>0.008251</td>\n",
       "      <td>-0.000086</td>\n",
       "      <td>0.000208</td>\n",
       "      <td>-0.000083</td>\n",
       "    </tr>\n",
       "    <tr>\n",
       "      <th>...</th>\n",
       "      <td>...</td>\n",
       "      <td>...</td>\n",
       "      <td>...</td>\n",
       "      <td>...</td>\n",
       "      <td>...</td>\n",
       "      <td>...</td>\n",
       "      <td>...</td>\n",
       "      <td>...</td>\n",
       "      <td>...</td>\n",
       "      <td>...</td>\n",
       "      <td>...</td>\n",
       "    </tr>\n",
       "    <tr>\n",
       "      <th>2022-07-01</th>\n",
       "      <td>0.007519</td>\n",
       "      <td>0.007306</td>\n",
       "      <td>-1</td>\n",
       "      <td>0.026927</td>\n",
       "      <td>0.026927</td>\n",
       "      <td>35.483961</td>\n",
       "      <td>0.007519</td>\n",
       "      <td>0.007319</td>\n",
       "      <td>-0.000200</td>\n",
       "      <td>-0.000530</td>\n",
       "      <td>-0.000356</td>\n",
       "    </tr>\n",
       "    <tr>\n",
       "      <th>2022-08-01</th>\n",
       "      <td>0.007214</td>\n",
       "      <td>0.007570</td>\n",
       "      <td>1</td>\n",
       "      <td>-0.041315</td>\n",
       "      <td>0.041315</td>\n",
       "      <td>41.198736</td>\n",
       "      <td>0.007214</td>\n",
       "      <td>0.007519</td>\n",
       "      <td>0.000304</td>\n",
       "      <td>0.000264</td>\n",
       "      <td>-0.000315</td>\n",
       "    </tr>\n",
       "    <tr>\n",
       "      <th>2022-09-01</th>\n",
       "      <td>0.006909</td>\n",
       "      <td>0.007223</td>\n",
       "      <td>1</td>\n",
       "      <td>-0.043275</td>\n",
       "      <td>-0.043275</td>\n",
       "      <td>35.218715</td>\n",
       "      <td>0.006909</td>\n",
       "      <td>0.007214</td>\n",
       "      <td>0.000306</td>\n",
       "      <td>-0.000347</td>\n",
       "      <td>-0.000177</td>\n",
       "    </tr>\n",
       "    <tr>\n",
       "      <th>2022-10-01</th>\n",
       "      <td>0.006746</td>\n",
       "      <td>0.006923</td>\n",
       "      <td>1</td>\n",
       "      <td>-0.023894</td>\n",
       "      <td>-0.023894</td>\n",
       "      <td>32.026152</td>\n",
       "      <td>0.006746</td>\n",
       "      <td>0.006909</td>\n",
       "      <td>0.000163</td>\n",
       "      <td>-0.000300</td>\n",
       "      <td>0.000428</td>\n",
       "    </tr>\n",
       "    <tr>\n",
       "      <th>2022-11-01</th>\n",
       "      <td>0.007205</td>\n",
       "      <td>0.006777</td>\n",
       "      <td>1</td>\n",
       "      <td>0.065799</td>\n",
       "      <td>0.065799</td>\n",
       "      <td>41.005452</td>\n",
       "      <td>0.007205</td>\n",
       "      <td>0.006746</td>\n",
       "      <td>-0.000459</td>\n",
       "      <td>-0.000146</td>\n",
       "      <td>NaN</td>\n",
       "    </tr>\n",
       "  </tbody>\n",
       "</table>\n",
       "<p>91 rows × 11 columns</p>\n",
       "</div>"
      ],
      "text/plain": [
       "               Japan  predictions  Signals   returns  strategy returns  \\\n",
       "2015-05-01  0.008081     0.008458       -1       NaN               NaN   \n",
       "2015-06-01  0.008167     0.008062       -1  0.010561         -0.010561   \n",
       "2015-07-01  0.008066     0.008190        1 -0.012337          0.012337   \n",
       "2015-08-01  0.008251     0.008074        1  0.022598          0.022598   \n",
       "2015-09-01  0.008337     0.008282        1  0.010367          0.010367   \n",
       "...              ...          ...      ...       ...               ...   \n",
       "2022-07-01  0.007519     0.007306       -1  0.026927          0.026927   \n",
       "2022-08-01  0.007214     0.007570        1 -0.041315          0.041315   \n",
       "2022-09-01  0.006909     0.007223        1 -0.043275         -0.043275   \n",
       "2022-10-01  0.006746     0.006923        1 -0.023894         -0.023894   \n",
       "2022-11-01  0.007205     0.006777        1  0.065799          0.065799   \n",
       "\n",
       "            Cumulative Returns  s_current  s_future  s_change  \\\n",
       "2015-05-01                 NaN   0.008081       NaN       NaN   \n",
       "2015-06-01           -1.050505   0.008167  0.008081 -0.000086   \n",
       "2015-07-01            0.177778   0.008066  0.008167  0.000100   \n",
       "2015-08-01            2.467319   0.008251  0.008066 -0.000184   \n",
       "2015-09-01            3.535132   0.008337  0.008251 -0.000086   \n",
       "...                        ...        ...       ...       ...   \n",
       "2022-07-01           35.483961   0.007519  0.007319 -0.000200   \n",
       "2022-08-01           41.198736   0.007214  0.007519  0.000304   \n",
       "2022-09-01           35.218715   0.006909  0.007214  0.000306   \n",
       "2022-10-01           32.026152   0.006746  0.006909  0.000163   \n",
       "2022-11-01           41.005452   0.007205  0.006746 -0.000459   \n",
       "\n",
       "            s_change_fitted     error  \n",
       "2015-05-01              NaN  0.000104  \n",
       "2015-06-01        -0.000396 -0.000123  \n",
       "2015-07-01         0.000128  0.000177  \n",
       "2015-08-01        -0.000116  0.000055  \n",
       "2015-09-01         0.000208 -0.000083  \n",
       "...                     ...       ...  \n",
       "2022-07-01        -0.000530 -0.000356  \n",
       "2022-08-01         0.000264 -0.000315  \n",
       "2022-09-01        -0.000347 -0.000177  \n",
       "2022-10-01        -0.000300  0.000428  \n",
       "2022-11-01        -0.000146       NaN  \n",
       "\n",
       "[91 rows x 11 columns]"
      ]
     },
     "execution_count": 35,
     "metadata": {},
     "output_type": "execute_result"
    }
   ],
   "source": [
    "y['s_current'] = y['Japan']\n",
    "y['s_future'] = y['s_current'].shift(+1)\n",
    "y['s_change'] = y['s_future'] - y['s_current']\n",
    "y['s_change_fitted'] = y['predictions'] - y['predictions'].shift()\n",
    "y['error'] = ((y['Japan'].shift(-1) - y['Japan']) - (y['predictions'].shift(-1)-y['Japan']))\n",
    "y"
   ]
  },
  {
   "cell_type": "code",
   "execution_count": 36,
   "id": "38a392f2",
   "metadata": {},
   "outputs": [
    {
     "data": {
      "text/plain": [
       "4.18138193690977e-08"
      ]
     },
     "execution_count": 36,
     "metadata": {},
     "output_type": "execute_result"
    }
   ],
   "source": [
    "P = len(y['error'])\n",
    "MSE_T = np.sum(np.square(y['error']))/P\n",
    "MSE_T"
   ]
  },
  {
   "cell_type": "code",
   "execution_count": 38,
   "id": "127b4eb2",
   "metadata": {},
   "outputs": [
    {
     "data": {
      "text/plain": [
       "4.2298705334510525e-08"
      ]
     },
     "execution_count": 38,
     "metadata": {},
     "output_type": "execute_result"
    }
   ],
   "source": [
    "MSE_R = np.sum(np.square(y['s_change']))/P\n",
    "MSE_R"
   ]
  },
  {
   "cell_type": "markdown",
   "id": "9355dba0",
   "metadata": {},
   "source": [
    "## Q2.a\n",
    "Perform The DMW test on your forecasts. Were you able to outperform the random walk?"
   ]
  },
  {
   "cell_type": "code",
   "execution_count": 40,
   "id": "1b0e7424",
   "metadata": {},
   "outputs": [],
   "source": [
    "import scipy.stats as st"
   ]
  },
  {
   "cell_type": "code",
   "execution_count": 41,
   "id": "ffd43e23",
   "metadata": {},
   "outputs": [
    {
     "name": "stdout",
     "output_type": "stream",
     "text": [
      "Since the DMW statitsic is equal to 0.04052089847977821, which is less than the critical value (1.64),\n",
      "we fail to reject the null hypothesis that the MP model does not outperform the random walk model, hence our model does outperform the random walk model.\n"
     ]
    }
   ],
   "source": [
    "error_R = y['s_change'].reset_index(drop=True)\n",
    "error_T = y['error'].reset_index(drop=True)\n",
    "tmp = np.square(error_R) - np.square(error_T) - (MSE_R - MSE_T)\n",
    "V_hat = np.sum(np.square(tmp))/P\n",
    "\n",
    "## Statistic\n",
    "DMW = (MSE_R - MSE_T)/np.sqrt(V_hat/P)\n",
    "\n",
    "print('Since the DMW statitsic is equal to ' + str(DMW) + ',' + ' which is less than the critical value (' + str(round(st.norm.ppf(.95),2)) + '),')\n",
    "print('we fail to reject the null hypothesis that the MP model does not outperform the random walk model, hence our model does outperform the random walk model.')"
   ]
  },
  {
   "cell_type": "markdown",
   "id": "d071d8d3",
   "metadata": {},
   "source": [
    "## Q2.b \n",
    "Perform The Clark-West test on your forecasts. Were you able to outperform the random walk?\n"
   ]
  },
  {
   "cell_type": "code",
   "execution_count": 42,
   "id": "00f5a70e",
   "metadata": {},
   "outputs": [],
   "source": [
    "y['s_change_pred'] = y['predictions']-y['Japan'].shift()"
   ]
  },
  {
   "cell_type": "code",
   "execution_count": 43,
   "id": "d2210e67",
   "metadata": {},
   "outputs": [
    {
     "name": "stdout",
     "output_type": "stream",
     "text": [
      "Since the CW statitsic is equal to 0.07422031275002572, which is lesser than the critical value (1.64),\n",
      "we fail to reject the null hypothesis that the MP model does not outperforms the random walk model. Hence, the Random Walk outperforms the MP model\n"
     ]
    }
   ],
   "source": [
    "tmp2 = np.sum(np.square(y['s_change_pred']))/P\n",
    "CW = (MSE_R - MSE_T + tmp2)/np.sqrt(V_hat/P)\n",
    "\n",
    "print('Since the CW statitsic is equal to ' + str(CW) + ',' + ' which is lesser than the critical value (' + str(round(st.norm.ppf(.95),2)) + '),')\n",
    "print('we fail to reject the null hypothesis that the MP model does not outperforms the random walk model. Hence, the Random Walk outperforms the MP model')"
   ]
  },
  {
   "cell_type": "code",
   "execution_count": null,
   "id": "4da2014b",
   "metadata": {},
   "outputs": [],
   "source": []
  }
 ],
 "metadata": {
  "kernelspec": {
   "display_name": "Python 3 (ipykernel)",
   "language": "python",
   "name": "python3"
  },
  "language_info": {
   "codemirror_mode": {
    "name": "ipython",
    "version": 3
   },
   "file_extension": ".py",
   "mimetype": "text/x-python",
   "name": "python",
   "nbconvert_exporter": "python",
   "pygments_lexer": "ipython3",
   "version": "3.9.12"
  }
 },
 "nbformat": 4,
 "nbformat_minor": 5
}
