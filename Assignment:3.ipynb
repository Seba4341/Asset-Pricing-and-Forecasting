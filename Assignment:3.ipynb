{
 "cells": [
  {
   "cell_type": "code",
   "execution_count": 74,
   "id": "77ba04a0",
   "metadata": {},
   "outputs": [],
   "source": [
    "import pandas as pd\n",
    "import numpy as np\n",
    "import datetime"
   ]
  },
  {
   "cell_type": "markdown",
   "id": "714976c7",
   "metadata": {},
   "source": [
    "## Question:1\n",
    "### a."
   ]
  },
  {
   "cell_type": "code",
   "execution_count": 75,
   "id": "3165f042",
   "metadata": {},
   "outputs": [
    {
     "data": {
      "text/html": [
       "<div>\n",
       "<style scoped>\n",
       "    .dataframe tbody tr th:only-of-type {\n",
       "        vertical-align: middle;\n",
       "    }\n",
       "\n",
       "    .dataframe tbody tr th {\n",
       "        vertical-align: top;\n",
       "    }\n",
       "\n",
       "    .dataframe thead th {\n",
       "        text-align: right;\n",
       "    }\n",
       "</style>\n",
       "<table border=\"1\" class=\"dataframe\">\n",
       "  <thead>\n",
       "    <tr style=\"text-align: right;\">\n",
       "      <th></th>\n",
       "      <th>Date</th>\n",
       "      <th>S5MATR Index  (R1)</th>\n",
       "      <th>S5ENRS Index  (R2)</th>\n",
       "      <th>S4RLST Index  (L1)</th>\n",
       "      <th>S5FINL Index  (R1)</th>\n",
       "      <th>S5INDU Index  (R1)</th>\n",
       "      <th>S5TELS Index  (R1)</th>\n",
       "      <th>S5UTIL Index  (R1)</th>\n",
       "      <th>S5COND Index  (L1)</th>\n",
       "      <th>S5CONS Index  (R1)</th>\n",
       "      <th>S5HLTH Index  (R1)</th>\n",
       "      <th>S5INFT Index  (L1)</th>\n",
       "      <th>SPX Index  (R1)</th>\n",
       "    </tr>\n",
       "  </thead>\n",
       "  <tbody>\n",
       "    <tr>\n",
       "      <th>0</th>\n",
       "      <td>2023-01-31</td>\n",
       "      <td>17.9081</td>\n",
       "      <td>10.7430</td>\n",
       "      <td>32.2286</td>\n",
       "      <td>13.3426</td>\n",
       "      <td>19.1048</td>\n",
       "      <td>15.5487</td>\n",
       "      <td>18.0203</td>\n",
       "      <td>22.8799</td>\n",
       "      <td>20.3698</td>\n",
       "      <td>17.3003</td>\n",
       "      <td>22.6707</td>\n",
       "      <td>18.1990</td>\n",
       "    </tr>\n",
       "    <tr>\n",
       "      <th>1</th>\n",
       "      <td>2023-01-27</td>\n",
       "      <td>17.5719</td>\n",
       "      <td>10.9352</td>\n",
       "      <td>31.7015</td>\n",
       "      <td>13.2034</td>\n",
       "      <td>18.9574</td>\n",
       "      <td>15.6275</td>\n",
       "      <td>18.0010</td>\n",
       "      <td>22.8657</td>\n",
       "      <td>20.1476</td>\n",
       "      <td>17.1977</td>\n",
       "      <td>22.7657</td>\n",
       "      <td>18.1617</td>\n",
       "    </tr>\n",
       "    <tr>\n",
       "      <th>2</th>\n",
       "      <td>2023-01-20</td>\n",
       "      <td>17.1242</td>\n",
       "      <td>10.6727</td>\n",
       "      <td>30.3745</td>\n",
       "      <td>12.8771</td>\n",
       "      <td>18.3096</td>\n",
       "      <td>14.9715</td>\n",
       "      <td>18.0841</td>\n",
       "      <td>21.3794</td>\n",
       "      <td>20.1048</td>\n",
       "      <td>17.2956</td>\n",
       "      <td>21.5423</td>\n",
       "      <td>17.5797</td>\n",
       "    </tr>\n",
       "    <tr>\n",
       "      <th>3</th>\n",
       "      <td>2023-01-13</td>\n",
       "      <td>17.3470</td>\n",
       "      <td>10.5296</td>\n",
       "      <td>29.7772</td>\n",
       "      <td>13.0073</td>\n",
       "      <td>18.8523</td>\n",
       "      <td>14.5053</td>\n",
       "      <td>18.6572</td>\n",
       "      <td>21.3390</td>\n",
       "      <td>20.7692</td>\n",
       "      <td>17.3790</td>\n",
       "      <td>21.4114</td>\n",
       "      <td>17.6258</td>\n",
       "    </tr>\n",
       "    <tr>\n",
       "      <th>4</th>\n",
       "      <td>2023-01-06</td>\n",
       "      <td>16.5958</td>\n",
       "      <td>10.1140</td>\n",
       "      <td>28.1291</td>\n",
       "      <td>12.7110</td>\n",
       "      <td>18.7490</td>\n",
       "      <td>13.9931</td>\n",
       "      <td>18.5873</td>\n",
       "      <td>19.9729</td>\n",
       "      <td>21.1234</td>\n",
       "      <td>17.3654</td>\n",
       "      <td>20.4468</td>\n",
       "      <td>17.1330</td>\n",
       "    </tr>\n",
       "  </tbody>\n",
       "</table>\n",
       "</div>"
      ],
      "text/plain": [
       "        Date  S5MATR Index  (R1)  S5ENRS Index  (R2)  S4RLST Index  (L1)  \\\n",
       "0 2023-01-31             17.9081             10.7430             32.2286   \n",
       "1 2023-01-27             17.5719             10.9352             31.7015   \n",
       "2 2023-01-20             17.1242             10.6727             30.3745   \n",
       "3 2023-01-13             17.3470             10.5296             29.7772   \n",
       "4 2023-01-06             16.5958             10.1140             28.1291   \n",
       "\n",
       "   S5FINL Index  (R1)  S5INDU Index  (R1)  S5TELS Index  (R1)  \\\n",
       "0             13.3426             19.1048             15.5487   \n",
       "1             13.2034             18.9574             15.6275   \n",
       "2             12.8771             18.3096             14.9715   \n",
       "3             13.0073             18.8523             14.5053   \n",
       "4             12.7110             18.7490             13.9931   \n",
       "\n",
       "   S5UTIL Index  (R1)  S5COND Index  (L1)  S5CONS Index  (R1)  \\\n",
       "0             18.0203             22.8799             20.3698   \n",
       "1             18.0010             22.8657             20.1476   \n",
       "2             18.0841             21.3794             20.1048   \n",
       "3             18.6572             21.3390             20.7692   \n",
       "4             18.5873             19.9729             21.1234   \n",
       "\n",
       "   S5HLTH Index  (R1)  S5INFT Index  (L1)  SPX Index  (R1)  \n",
       "0             17.3003             22.6707          18.1990  \n",
       "1             17.1977             22.7657          18.1617  \n",
       "2             17.2956             21.5423          17.5797  \n",
       "3             17.3790             21.4114          17.6258  \n",
       "4             17.3654             20.4468          17.1330  "
      ]
     },
     "execution_count": 75,
     "metadata": {},
     "output_type": "execute_result"
    }
   ],
   "source": [
    "# import dataset \n",
    "\n",
    "forward = pd.read_excel('forwardSector.xlsx')\n",
    "forward.head()"
   ]
  },
  {
   "cell_type": "code",
   "execution_count": 76,
   "id": "a434739c",
   "metadata": {},
   "outputs": [],
   "source": [
    "forward.set_index('Date', inplace=True)"
   ]
  },
  {
   "cell_type": "code",
   "execution_count": 77,
   "id": "6b9c7471",
   "metadata": {},
   "outputs": [],
   "source": [
    "# selecting energy sector \n",
    "\n",
    "energy = forward[['S5ENRS Index  (R2)']]\n",
    "\n",
    "# Extract a single column and date index into a new DataFrame\n",
    "energy.index = pd.to_datetime(forward.index)"
   ]
  },
  {
   "cell_type": "code",
   "execution_count": 78,
   "id": "881894a4",
   "metadata": {},
   "outputs": [
    {
     "data": {
      "text/html": [
       "<div>\n",
       "<style scoped>\n",
       "    .dataframe tbody tr th:only-of-type {\n",
       "        vertical-align: middle;\n",
       "    }\n",
       "\n",
       "    .dataframe tbody tr th {\n",
       "        vertical-align: top;\n",
       "    }\n",
       "\n",
       "    .dataframe thead th {\n",
       "        text-align: right;\n",
       "    }\n",
       "</style>\n",
       "<table border=\"1\" class=\"dataframe\">\n",
       "  <thead>\n",
       "    <tr style=\"text-align: right;\">\n",
       "      <th></th>\n",
       "      <th>S5ENRS Index  (R2)</th>\n",
       "    </tr>\n",
       "    <tr>\n",
       "      <th>Date</th>\n",
       "      <th></th>\n",
       "    </tr>\n",
       "  </thead>\n",
       "  <tbody>\n",
       "    <tr>\n",
       "      <th>2023-01-31</th>\n",
       "      <td>10.7430</td>\n",
       "    </tr>\n",
       "    <tr>\n",
       "      <th>2023-01-27</th>\n",
       "      <td>10.9352</td>\n",
       "    </tr>\n",
       "    <tr>\n",
       "      <th>2023-01-20</th>\n",
       "      <td>10.6727</td>\n",
       "    </tr>\n",
       "    <tr>\n",
       "      <th>2023-01-13</th>\n",
       "      <td>10.5296</td>\n",
       "    </tr>\n",
       "    <tr>\n",
       "      <th>2023-01-06</th>\n",
       "      <td>10.1140</td>\n",
       "    </tr>\n",
       "    <tr>\n",
       "      <th>...</th>\n",
       "      <td>...</td>\n",
       "    </tr>\n",
       "    <tr>\n",
       "      <th>1991-02-22</th>\n",
       "      <td>12.8942</td>\n",
       "    </tr>\n",
       "    <tr>\n",
       "      <th>1991-02-15</th>\n",
       "      <td>12.9320</td>\n",
       "    </tr>\n",
       "    <tr>\n",
       "      <th>1991-02-08</th>\n",
       "      <td>12.9943</td>\n",
       "    </tr>\n",
       "    <tr>\n",
       "      <th>1991-02-01</th>\n",
       "      <td>12.1357</td>\n",
       "    </tr>\n",
       "    <tr>\n",
       "      <th>1991-01-25</th>\n",
       "      <td>12.2606</td>\n",
       "    </tr>\n",
       "  </tbody>\n",
       "</table>\n",
       "<p>1657 rows × 1 columns</p>\n",
       "</div>"
      ],
      "text/plain": [
       "            S5ENRS Index  (R2)\n",
       "Date                          \n",
       "2023-01-31             10.7430\n",
       "2023-01-27             10.9352\n",
       "2023-01-20             10.6727\n",
       "2023-01-13             10.5296\n",
       "2023-01-06             10.1140\n",
       "...                        ...\n",
       "1991-02-22             12.8942\n",
       "1991-02-15             12.9320\n",
       "1991-02-08             12.9943\n",
       "1991-02-01             12.1357\n",
       "1991-01-25             12.2606\n",
       "\n",
       "[1657 rows x 1 columns]"
      ]
     },
     "execution_count": 78,
     "metadata": {},
     "output_type": "execute_result"
    }
   ],
   "source": [
    "energy"
   ]
  },
  {
   "cell_type": "code",
   "execution_count": 79,
   "id": "6476b683",
   "metadata": {},
   "outputs": [
    {
     "data": {
      "text/plain": [
       "Text(0, 0.5, 'forward PE of energy sector')"
      ]
     },
     "execution_count": 79,
     "metadata": {},
     "output_type": "execute_result"
    },
    {
     "data": {
      "image/png": "[encoded data removed]",
      "text/plain": [
       "<Figure size 432x288 with 1 Axes>"
      ]
     },
     "metadata": {},
     "output_type": "display_data"
    }
   ],
   "source": [
    "# visualize PE series \n",
    "import matplotlib.pyplot as plt\n",
    "\n",
    "plt.plot(energy[['S5ENRS Index  (R2)']])\n",
    "plt.xlabel('Years')\n",
    "plt.ylabel('forward PE of energy sector')"
   ]
  },
  {
   "cell_type": "code",
   "execution_count": 80,
   "id": "d6916e8c",
   "metadata": {},
   "outputs": [],
   "source": [
    "# use XLE energy ETF \n",
    "xle = pd.read_csv('XLE-2.csv')\n",
    "xle.set_index('Date', inplace=True)\n",
    "\n",
    "\n",
    "xle_price = xle[['Close']]\n",
    "\n",
    "# Extract a single column and date index into a new DataFrame\n",
    "xle_price.index = pd.to_datetime(xle.index)"
   ]
  },
  {
   "cell_type": "code",
   "execution_count": 81,
   "id": "941e3c1d",
   "metadata": {},
   "outputs": [
    {
     "data": {
      "text/html": [
       "<div>\n",
       "<style scoped>\n",
       "    .dataframe tbody tr th:only-of-type {\n",
       "        vertical-align: middle;\n",
       "    }\n",
       "\n",
       "    .dataframe tbody tr th {\n",
       "        vertical-align: top;\n",
       "    }\n",
       "\n",
       "    .dataframe thead th {\n",
       "        text-align: right;\n",
       "    }\n",
       "</style>\n",
       "<table border=\"1\" class=\"dataframe\">\n",
       "  <thead>\n",
       "    <tr style=\"text-align: right;\">\n",
       "      <th></th>\n",
       "      <th>Close</th>\n",
       "    </tr>\n",
       "    <tr>\n",
       "      <th>Date</th>\n",
       "      <th></th>\n",
       "    </tr>\n",
       "  </thead>\n",
       "  <tbody>\n",
       "    <tr>\n",
       "      <th>1998-12-23</th>\n",
       "      <td>23.750000</td>\n",
       "    </tr>\n",
       "    <tr>\n",
       "      <th>1998-12-24</th>\n",
       "      <td>23.625000</td>\n",
       "    </tr>\n",
       "    <tr>\n",
       "      <th>1998-12-28</th>\n",
       "      <td>23.500000</td>\n",
       "    </tr>\n",
       "    <tr>\n",
       "      <th>1998-12-29</th>\n",
       "      <td>23.734375</td>\n",
       "    </tr>\n",
       "    <tr>\n",
       "      <th>1998-12-30</th>\n",
       "      <td>23.375000</td>\n",
       "    </tr>\n",
       "    <tr>\n",
       "      <th>...</th>\n",
       "      <td>...</td>\n",
       "    </tr>\n",
       "    <tr>\n",
       "      <th>2023-02-24</th>\n",
       "      <td>84.660004</td>\n",
       "    </tr>\n",
       "    <tr>\n",
       "      <th>2023-02-27</th>\n",
       "      <td>84.910004</td>\n",
       "    </tr>\n",
       "    <tr>\n",
       "      <th>2023-02-28</th>\n",
       "      <td>83.690002</td>\n",
       "    </tr>\n",
       "    <tr>\n",
       "      <th>2023-03-01</th>\n",
       "      <td>85.339996</td>\n",
       "    </tr>\n",
       "    <tr>\n",
       "      <th>2023-03-02</th>\n",
       "      <td>86.089996</td>\n",
       "    </tr>\n",
       "  </tbody>\n",
       "</table>\n",
       "<p>6086 rows × 1 columns</p>\n",
       "</div>"
      ],
      "text/plain": [
       "                Close\n",
       "Date                 \n",
       "1998-12-23  23.750000\n",
       "1998-12-24  23.625000\n",
       "1998-12-28  23.500000\n",
       "1998-12-29  23.734375\n",
       "1998-12-30  23.375000\n",
       "...               ...\n",
       "2023-02-24  84.660004\n",
       "2023-02-27  84.910004\n",
       "2023-02-28  83.690002\n",
       "2023-03-01  85.339996\n",
       "2023-03-02  86.089996\n",
       "\n",
       "[6086 rows x 1 columns]"
      ]
     },
     "execution_count": 81,
     "metadata": {},
     "output_type": "execute_result"
    }
   ],
   "source": [
    "xle_price"
   ]
  },
  {
   "cell_type": "code",
   "execution_count": 82,
   "id": "c3f3378c",
   "metadata": {},
   "outputs": [
    {
     "data": {
      "text/plain": [
       "Text(0, 0.5, 'price of energy ETF')"
      ]
     },
     "execution_count": 82,
     "metadata": {},
     "output_type": "execute_result"
    },
    {
     "data": {
      "image/png": "[encoded data removed]",
      "text/plain": [
       "<Figure size 432x288 with 1 Axes>"
      ]
     },
     "metadata": {},
     "output_type": "display_data"
    }
   ],
   "source": [
    "# visualize this price series \n",
    "\n",
    "plt.plot(xle_price[['Close']])\n",
    "plt.xlabel('Years')\n",
    "plt.ylabel('price of energy ETF')"
   ]
  },
  {
   "cell_type": "code",
   "execution_count": 83,
   "id": "7702bd7d",
   "metadata": {},
   "outputs": [
    {
     "data": {
      "text/html": [
       "<div>\n",
       "<style scoped>\n",
       "    .dataframe tbody tr th:only-of-type {\n",
       "        vertical-align: middle;\n",
       "    }\n",
       "\n",
       "    .dataframe tbody tr th {\n",
       "        vertical-align: top;\n",
       "    }\n",
       "\n",
       "    .dataframe thead th {\n",
       "        text-align: right;\n",
       "    }\n",
       "</style>\n",
       "<table border=\"1\" class=\"dataframe\">\n",
       "  <thead>\n",
       "    <tr style=\"text-align: right;\">\n",
       "      <th></th>\n",
       "      <th>S5ENRS Index  (R2)</th>\n",
       "      <th>Close</th>\n",
       "      <th>returns</th>\n",
       "    </tr>\n",
       "    <tr>\n",
       "      <th>Date</th>\n",
       "      <th></th>\n",
       "      <th></th>\n",
       "      <th></th>\n",
       "    </tr>\n",
       "  </thead>\n",
       "  <tbody>\n",
       "    <tr>\n",
       "      <th>1999-01-01</th>\n",
       "      <td>24.8916</td>\n",
       "      <td>23.343750</td>\n",
       "      <td>-0.011976</td>\n",
       "    </tr>\n",
       "    <tr>\n",
       "      <th>1999-01-08</th>\n",
       "      <td>25.2982</td>\n",
       "      <td>23.968750</td>\n",
       "      <td>0.026422</td>\n",
       "    </tr>\n",
       "    <tr>\n",
       "      <th>1999-01-15</th>\n",
       "      <td>24.0740</td>\n",
       "      <td>22.718750</td>\n",
       "      <td>-0.053560</td>\n",
       "    </tr>\n",
       "    <tr>\n",
       "      <th>1999-01-22</th>\n",
       "      <td>24.3329</td>\n",
       "      <td>22.593750</td>\n",
       "      <td>-0.005517</td>\n",
       "    </tr>\n",
       "    <tr>\n",
       "      <th>1999-01-29</th>\n",
       "      <td>24.3994</td>\n",
       "      <td>21.812500</td>\n",
       "      <td>-0.035190</td>\n",
       "    </tr>\n",
       "    <tr>\n",
       "      <th>...</th>\n",
       "      <td>...</td>\n",
       "      <td>...</td>\n",
       "      <td>...</td>\n",
       "    </tr>\n",
       "    <tr>\n",
       "      <th>2023-01-06</th>\n",
       "      <td>10.1140</td>\n",
       "      <td>87.559998</td>\n",
       "      <td>0.001028</td>\n",
       "    </tr>\n",
       "    <tr>\n",
       "      <th>2023-01-13</th>\n",
       "      <td>10.5296</td>\n",
       "      <td>89.949997</td>\n",
       "      <td>0.026930</td>\n",
       "    </tr>\n",
       "    <tr>\n",
       "      <th>2023-01-20</th>\n",
       "      <td>10.6727</td>\n",
       "      <td>90.480003</td>\n",
       "      <td>0.005875</td>\n",
       "    </tr>\n",
       "    <tr>\n",
       "      <th>2023-01-27</th>\n",
       "      <td>10.9352</td>\n",
       "      <td>91.230003</td>\n",
       "      <td>0.008255</td>\n",
       "    </tr>\n",
       "    <tr>\n",
       "      <th>2023-01-31</th>\n",
       "      <td>10.7430</td>\n",
       "      <td>89.930000</td>\n",
       "      <td>-0.014352</td>\n",
       "    </tr>\n",
       "  </tbody>\n",
       "</table>\n",
       "<p>1242 rows × 3 columns</p>\n",
       "</div>"
      ],
      "text/plain": [
       "            S5ENRS Index  (R2)      Close   returns\n",
       "Date                                               \n",
       "1999-01-01             24.8916  23.343750 -0.011976\n",
       "1999-01-08             25.2982  23.968750  0.026422\n",
       "1999-01-15             24.0740  22.718750 -0.053560\n",
       "1999-01-22             24.3329  22.593750 -0.005517\n",
       "1999-01-29             24.3994  21.812500 -0.035190\n",
       "...                        ...        ...       ...\n",
       "2023-01-06             10.1140  87.559998  0.001028\n",
       "2023-01-13             10.5296  89.949997  0.026930\n",
       "2023-01-20             10.6727  90.480003  0.005875\n",
       "2023-01-27             10.9352  91.230003  0.008255\n",
       "2023-01-31             10.7430  89.930000 -0.014352\n",
       "\n",
       "[1242 rows x 3 columns]"
      ]
     },
     "execution_count": 83,
     "metadata": {},
     "output_type": "execute_result"
    }
   ],
   "source": [
    "# merge two datasets \n",
    "\n",
    "# sort left dataframe by index\n",
    "energy = energy.sort_index()\n",
    "\n",
    "energy_xle = pd.merge_asof(energy, xle_price,left_index = True, right_index = True)\n",
    "energy_xle[\"returns\"] = np.log(energy_xle[\"Close\"]).diff()\n",
    "energy_xle = energy_xle.dropna()\n",
    "\n",
    "energy_xle"
   ]
  },
  {
   "cell_type": "code",
   "execution_count": 84,
   "id": "e323f608",
   "metadata": {},
   "outputs": [
    {
     "data": {
      "text/html": [
       "<div>\n",
       "<style scoped>\n",
       "    .dataframe tbody tr th:only-of-type {\n",
       "        vertical-align: middle;\n",
       "    }\n",
       "\n",
       "    .dataframe tbody tr th {\n",
       "        vertical-align: top;\n",
       "    }\n",
       "\n",
       "    .dataframe thead th {\n",
       "        text-align: right;\n",
       "    }\n",
       "</style>\n",
       "<table border=\"1\" class=\"dataframe\">\n",
       "  <thead>\n",
       "    <tr style=\"text-align: right;\">\n",
       "      <th></th>\n",
       "      <th>S5ENRS Index  (R2)</th>\n",
       "      <th>Close</th>\n",
       "      <th>returns</th>\n",
       "    </tr>\n",
       "    <tr>\n",
       "      <th>Date</th>\n",
       "      <th></th>\n",
       "      <th></th>\n",
       "      <th></th>\n",
       "    </tr>\n",
       "  </thead>\n",
       "  <tbody>\n",
       "    <tr>\n",
       "      <th>1999-01-01</th>\n",
       "      <td>24.8916</td>\n",
       "      <td>23.343750</td>\n",
       "      <td>-0.011976</td>\n",
       "    </tr>\n",
       "    <tr>\n",
       "      <th>1999-01-08</th>\n",
       "      <td>25.2982</td>\n",
       "      <td>23.968750</td>\n",
       "      <td>0.026422</td>\n",
       "    </tr>\n",
       "    <tr>\n",
       "      <th>1999-01-15</th>\n",
       "      <td>24.0740</td>\n",
       "      <td>22.718750</td>\n",
       "      <td>-0.053560</td>\n",
       "    </tr>\n",
       "    <tr>\n",
       "      <th>1999-01-22</th>\n",
       "      <td>24.3329</td>\n",
       "      <td>22.593750</td>\n",
       "      <td>-0.005517</td>\n",
       "    </tr>\n",
       "    <tr>\n",
       "      <th>1999-01-29</th>\n",
       "      <td>24.3994</td>\n",
       "      <td>21.812500</td>\n",
       "      <td>-0.035190</td>\n",
       "    </tr>\n",
       "    <tr>\n",
       "      <th>...</th>\n",
       "      <td>...</td>\n",
       "      <td>...</td>\n",
       "      <td>...</td>\n",
       "    </tr>\n",
       "    <tr>\n",
       "      <th>2018-03-23</th>\n",
       "      <td>19.0941</td>\n",
       "      <td>66.769997</td>\n",
       "      <td>-0.008055</td>\n",
       "    </tr>\n",
       "    <tr>\n",
       "      <th>2018-03-30</th>\n",
       "      <td>19.2302</td>\n",
       "      <td>67.410004</td>\n",
       "      <td>0.009540</td>\n",
       "    </tr>\n",
       "    <tr>\n",
       "      <th>2018-04-06</th>\n",
       "      <td>19.1522</td>\n",
       "      <td>67.349998</td>\n",
       "      <td>-0.000891</td>\n",
       "    </tr>\n",
       "    <tr>\n",
       "      <th>2018-04-13</th>\n",
       "      <td>19.9199</td>\n",
       "      <td>71.410004</td>\n",
       "      <td>0.058535</td>\n",
       "    </tr>\n",
       "    <tr>\n",
       "      <th>2018-04-20</th>\n",
       "      <td>20.3202</td>\n",
       "      <td>73.300003</td>\n",
       "      <td>0.026123</td>\n",
       "    </tr>\n",
       "  </tbody>\n",
       "</table>\n",
       "<p>993 rows × 3 columns</p>\n",
       "</div>"
      ],
      "text/plain": [
       "            S5ENRS Index  (R2)      Close   returns\n",
       "Date                                               \n",
       "1999-01-01             24.8916  23.343750 -0.011976\n",
       "1999-01-08             25.2982  23.968750  0.026422\n",
       "1999-01-15             24.0740  22.718750 -0.053560\n",
       "1999-01-22             24.3329  22.593750 -0.005517\n",
       "1999-01-29             24.3994  21.812500 -0.035190\n",
       "...                        ...        ...       ...\n",
       "2018-03-23             19.0941  66.769997 -0.008055\n",
       "2018-03-30             19.2302  67.410004  0.009540\n",
       "2018-04-06             19.1522  67.349998 -0.000891\n",
       "2018-04-13             19.9199  71.410004  0.058535\n",
       "2018-04-20             20.3202  73.300003  0.026123\n",
       "\n",
       "[993 rows x 3 columns]"
      ]
     },
     "execution_count": 84,
     "metadata": {},
     "output_type": "execute_result"
    }
   ],
   "source": [
    "# Split the DataFrame into a training set and a validation set\n",
    "\n",
    "# Calculate the split index\n",
    "split_index = int(0.8 * len(energy_xle))\n",
    "\n",
    "# Split the DataFrame into a training set and a validation set\n",
    "train_df = energy_xle[:split_index]\n",
    "val_df = energy_xle[split_index:]\n",
    "train_df"
   ]
  },
  {
   "cell_type": "markdown",
   "id": "2e040c6b",
   "metadata": {},
   "source": [
    "### b."
   ]
  },
  {
   "cell_type": "code",
   "execution_count": 85,
   "id": "4dc797ed",
   "metadata": {},
   "outputs": [
    {
     "data": {
      "text/plain": [
       "Index(['S5ENRS Index  (R2)', 'Close', 'returns'], dtype='object')"
      ]
     },
     "execution_count": 85,
     "metadata": {},
     "output_type": "execute_result"
    }
   ],
   "source": [
    "energy_xle.columns"
   ]
  },
  {
   "cell_type": "code",
   "execution_count": 86,
   "id": "6ba422c0",
   "metadata": {},
   "outputs": [],
   "source": [
    "# specify candidate values for hyperparameters\n",
    "\n",
    "ks = np.linspace(.01, .99, 10)\n",
    "zs = np.linspace(.01, 3, 10)\n",
    "ws = np.arange(5, 30, 5)\n",
    "hs = 5. # one week"
   ]
  },
  {
   "cell_type": "code",
   "execution_count": 87,
   "id": "f39f13f8",
   "metadata": {},
   "outputs": [
    {
     "data": {
      "text/plain": [
       "array([[1.00000000e-02, 1.00000000e-02, 5.00000000e+00, 5.00000000e+00],\n",
       "       [1.00000000e-02, 3.42222222e-01, 5.00000000e+00, 5.00000000e+00],\n",
       "       [1.00000000e-02, 6.74444444e-01, 5.00000000e+00, 5.00000000e+00],\n",
       "       ...,\n",
       "       [9.90000000e-01, 2.33555556e+00, 2.50000000e+01, 5.00000000e+00],\n",
       "       [9.90000000e-01, 2.66777778e+00, 2.50000000e+01, 5.00000000e+00],\n",
       "       [9.90000000e-01, 3.00000000e+00, 2.50000000e+01, 5.00000000e+00]])"
      ]
     },
     "execution_count": 87,
     "metadata": {},
     "output_type": "execute_result"
    }
   ],
   "source": [
    "import itertools as it\n",
    "# build a grid with all possible hyperparameters\n",
    "grid = np.array(np.meshgrid(ks,zs, ws, hs)).T.reshape(-1,4)\n",
    "\n",
    "grid"
   ]
  },
  {
   "cell_type": "code",
   "execution_count": 88,
   "id": "01852c45",
   "metadata": {},
   "outputs": [],
   "source": [
    "energy_xle1 = train_df.copy()"
   ]
  },
  {
   "cell_type": "code",
   "execution_count": 18,
   "id": "93813535",
   "metadata": {},
   "outputs": [
    {
     "name": "stderr",
     "output_type": "stream",
     "text": [
      "C:\\Users\\sebpo\\AppData\\Local\\Temp\\ipykernel_24280\\1739624593.py:33: FutureWarning: The frame.append method is deprecated and will be removed from pandas in a future version. Use pandas.concat instead.\n",
      "  storage = storage.append({\"k\":k, \"z\":z, \"w\":w, \"h\":h,\n"
     ]
    },
    {
     "name": "stdout",
     "output_type": "stream",
     "text": [
      "0\n"
     ]
    },
    {
     "name": "stderr",
     "output_type": "stream",
     "text": [
      "C:\\Users\\sebpo\\AppData\\Local\\Temp\\ipykernel_24280\\1739624593.py:33: FutureWarning: The frame.append method is deprecated and will be removed from pandas in a future version. Use pandas.concat instead.\n",
      "  storage = storage.append({\"k\":k, \"z\":z, \"w\":w, \"h\":h,\n"
     ]
    },
    {
     "name": "stdout",
     "output_type": "stream",
     "text": [
      "1\n"
     ]
    },
    {
     "name": "stderr",
     "output_type": "stream",
     "text": [
      "C:\\Users\\sebpo\\AppData\\Local\\Temp\\ipykernel_24280\\1739624593.py:33: FutureWarning: The frame.append method is deprecated and will be removed from pandas in a future version. Use pandas.concat instead.\n",
      "  storage = storage.append({\"k\":k, \"z\":z, \"w\":w, \"h\":h,\n"
     ]
    },
    {
     "name": "stdout",
     "output_type": "stream",
     "text": [
      "2\n"
     ]
    },
    {
     "name": "stderr",
     "output_type": "stream",
     "text": [
      "C:\\Users\\sebpo\\AppData\\Local\\Temp\\ipykernel_24280\\1739624593.py:33: FutureWarning: The frame.append method is deprecated and will be removed from pandas in a future version. Use pandas.concat instead.\n",
      "  storage = storage.append({\"k\":k, \"z\":z, \"w\":w, \"h\":h,\n"
     ]
    },
    {
     "name": "stdout",
     "output_type": "stream",
     "text": [
      "3\n"
     ]
    },
    {
     "name": "stderr",
     "output_type": "stream",
     "text": [
      "C:\\Users\\sebpo\\AppData\\Local\\Temp\\ipykernel_24280\\1739624593.py:33: FutureWarning: The frame.append method is deprecated and will be removed from pandas in a future version. Use pandas.concat instead.\n",
      "  storage = storage.append({\"k\":k, \"z\":z, \"w\":w, \"h\":h,\n"
     ]
    },
    {
     "name": "stdout",
     "output_type": "stream",
     "text": [
      "4\n"
     ]
    },
    {
     "name": "stderr",
     "output_type": "stream",
     "text": [
      "C:\\Users\\sebpo\\AppData\\Local\\Temp\\ipykernel_24280\\1739624593.py:33: FutureWarning: The frame.append method is deprecated and will be removed from pandas in a future version. Use pandas.concat instead.\n",
      "  storage = storage.append({\"k\":k, \"z\":z, \"w\":w, \"h\":h,\n"
     ]
    },
    {
     "name": "stdout",
     "output_type": "stream",
     "text": [
      "5\n"
     ]
    },
    {
     "name": "stderr",
     "output_type": "stream",
     "text": [
      "C:\\Users\\sebpo\\AppData\\Local\\Temp\\ipykernel_24280\\1739624593.py:33: FutureWarning: The frame.append method is deprecated and will be removed from pandas in a future version. Use pandas.concat instead.\n",
      "  storage = storage.append({\"k\":k, \"z\":z, \"w\":w, \"h\":h,\n"
     ]
    },
    {
     "name": "stdout",
     "output_type": "stream",
     "text": [
      "6\n"
     ]
    },
    {
     "name": "stderr",
     "output_type": "stream",
     "text": [
      "C:\\Users\\sebpo\\AppData\\Local\\Temp\\ipykernel_24280\\1739624593.py:33: FutureWarning: The frame.append method is deprecated and will be removed from pandas in a future version. Use pandas.concat instead.\n",
      "  storage = storage.append({\"k\":k, \"z\":z, \"w\":w, \"h\":h,\n"
     ]
    },
    {
     "name": "stdout",
     "output_type": "stream",
     "text": [
      "7\n"
     ]
    },
    {
     "name": "stderr",
     "output_type": "stream",
     "text": [
      "C:\\Users\\sebpo\\AppData\\Local\\Temp\\ipykernel_24280\\1739624593.py:33: FutureWarning: The frame.append method is deprecated and will be removed from pandas in a future version. Use pandas.concat instead.\n",
      "  storage = storage.append({\"k\":k, \"z\":z, \"w\":w, \"h\":h,\n"
     ]
    },
    {
     "name": "stdout",
     "output_type": "stream",
     "text": [
      "8\n"
     ]
    },
    {
     "name": "stderr",
     "output_type": "stream",
     "text": [
      "C:\\Users\\sebpo\\AppData\\Local\\Temp\\ipykernel_24280\\1739624593.py:33: FutureWarning: The frame.append method is deprecated and will be removed from pandas in a future version. Use pandas.concat instead.\n",
      "  storage = storage.append({\"k\":k, \"z\":z, \"w\":w, \"h\":h,\n"
     ]
    },
    {
     "name": "stdout",
     "output_type": "stream",
     "text": [
      "9\n"
     ]
    },
    {
     "name": "stderr",
     "output_type": "stream",
     "text": [
      "C:\\Users\\sebpo\\AppData\\Local\\Temp\\ipykernel_24280\\1739624593.py:33: FutureWarning: The frame.append method is deprecated and will be removed from pandas in a future version. Use pandas.concat instead.\n",
      "  storage = storage.append({\"k\":k, \"z\":z, \"w\":w, \"h\":h,\n"
     ]
    },
    {
     "name": "stdout",
     "output_type": "stream",
     "text": [
      "10\n"
     ]
    },
    {
     "name": "stderr",
     "output_type": "stream",
     "text": [
      "C:\\Users\\sebpo\\AppData\\Local\\Temp\\ipykernel_24280\\1739624593.py:33: FutureWarning: The frame.append method is deprecated and will be removed from pandas in a future version. Use pandas.concat instead.\n",
      "  storage = storage.append({\"k\":k, \"z\":z, \"w\":w, \"h\":h,\n"
     ]
    },
    {
     "name": "stdout",
     "output_type": "stream",
     "text": [
      "11\n"
     ]
    },
    {
     "name": "stderr",
     "output_type": "stream",
     "text": [
      "C:\\Users\\sebpo\\AppData\\Local\\Temp\\ipykernel_24280\\1739624593.py:33: FutureWarning: The frame.append method is deprecated and will be removed from pandas in a future version. Use pandas.concat instead.\n",
      "  storage = storage.append({\"k\":k, \"z\":z, \"w\":w, \"h\":h,\n"
     ]
    },
    {
     "name": "stdout",
     "output_type": "stream",
     "text": [
      "12\n"
     ]
    },
    {
     "name": "stderr",
     "output_type": "stream",
     "text": [
      "C:\\Users\\sebpo\\AppData\\Local\\Temp\\ipykernel_24280\\1739624593.py:33: FutureWarning: The frame.append method is deprecated and will be removed from pandas in a future version. Use pandas.concat instead.\n",
      "  storage = storage.append({\"k\":k, \"z\":z, \"w\":w, \"h\":h,\n"
     ]
    },
    {
     "name": "stdout",
     "output_type": "stream",
     "text": [
      "13\n"
     ]
    },
    {
     "name": "stderr",
     "output_type": "stream",
     "text": [
      "C:\\Users\\sebpo\\AppData\\Local\\Temp\\ipykernel_24280\\1739624593.py:33: FutureWarning: The frame.append method is deprecated and will be removed from pandas in a future version. Use pandas.concat instead.\n",
      "  storage = storage.append({\"k\":k, \"z\":z, \"w\":w, \"h\":h,\n"
     ]
    },
    {
     "name": "stdout",
     "output_type": "stream",
     "text": [
      "14\n"
     ]
    },
    {
     "name": "stderr",
     "output_type": "stream",
     "text": [
      "C:\\Users\\sebpo\\AppData\\Local\\Temp\\ipykernel_24280\\1739624593.py:33: FutureWarning: The frame.append method is deprecated and will be removed from pandas in a future version. Use pandas.concat instead.\n",
      "  storage = storage.append({\"k\":k, \"z\":z, \"w\":w, \"h\":h,\n"
     ]
    },
    {
     "name": "stdout",
     "output_type": "stream",
     "text": [
      "15\n"
     ]
    },
    {
     "name": "stderr",
     "output_type": "stream",
     "text": [
      "C:\\Users\\sebpo\\AppData\\Local\\Temp\\ipykernel_24280\\1739624593.py:33: FutureWarning: The frame.append method is deprecated and will be removed from pandas in a future version. Use pandas.concat instead.\n",
      "  storage = storage.append({\"k\":k, \"z\":z, \"w\":w, \"h\":h,\n"
     ]
    },
    {
     "name": "stdout",
     "output_type": "stream",
     "text": [
      "16\n"
     ]
    },
    {
     "name": "stderr",
     "output_type": "stream",
     "text": [
      "C:\\Users\\sebpo\\AppData\\Local\\Temp\\ipykernel_24280\\1739624593.py:33: FutureWarning: The frame.append method is deprecated and will be removed from pandas in a future version. Use pandas.concat instead.\n",
      "  storage = storage.append({\"k\":k, \"z\":z, \"w\":w, \"h\":h,\n"
     ]
    },
    {
     "name": "stdout",
     "output_type": "stream",
     "text": [
      "17\n"
     ]
    },
    {
     "name": "stderr",
     "output_type": "stream",
     "text": [
      "C:\\Users\\sebpo\\AppData\\Local\\Temp\\ipykernel_24280\\1739624593.py:33: FutureWarning: The frame.append method is deprecated and will be removed from pandas in a future version. Use pandas.concat instead.\n",
      "  storage = storage.append({\"k\":k, \"z\":z, \"w\":w, \"h\":h,\n"
     ]
    },
    {
     "name": "stdout",
     "output_type": "stream",
     "text": [
      "18\n"
     ]
    },
    {
     "name": "stderr",
     "output_type": "stream",
     "text": [
      "C:\\Users\\sebpo\\AppData\\Local\\Temp\\ipykernel_24280\\1739624593.py:33: FutureWarning: The frame.append method is deprecated and will be removed from pandas in a future version. Use pandas.concat instead.\n",
      "  storage = storage.append({\"k\":k, \"z\":z, \"w\":w, \"h\":h,\n"
     ]
    },
    {
     "name": "stdout",
     "output_type": "stream",
     "text": [
      "19\n"
     ]
    },
    {
     "name": "stderr",
     "output_type": "stream",
     "text": [
      "C:\\Users\\sebpo\\AppData\\Local\\Temp\\ipykernel_24280\\1739624593.py:33: FutureWarning: The frame.append method is deprecated and will be removed from pandas in a future version. Use pandas.concat instead.\n",
      "  storage = storage.append({\"k\":k, \"z\":z, \"w\":w, \"h\":h,\n"
     ]
    },
    {
     "name": "stdout",
     "output_type": "stream",
     "text": [
      "20\n"
     ]
    },
    {
     "name": "stderr",
     "output_type": "stream",
     "text": [
      "C:\\Users\\sebpo\\AppData\\Local\\Temp\\ipykernel_24280\\1739624593.py:33: FutureWarning: The frame.append method is deprecated and will be removed from pandas in a future version. Use pandas.concat instead.\n",
      "  storage = storage.append({\"k\":k, \"z\":z, \"w\":w, \"h\":h,\n"
     ]
    },
    {
     "name": "stdout",
     "output_type": "stream",
     "text": [
      "21\n"
     ]
    },
    {
     "name": "stderr",
     "output_type": "stream",
     "text": [
      "C:\\Users\\sebpo\\AppData\\Local\\Temp\\ipykernel_24280\\1739624593.py:33: FutureWarning: The frame.append method is deprecated and will be removed from pandas in a future version. Use pandas.concat instead.\n",
      "  storage = storage.append({\"k\":k, \"z\":z, \"w\":w, \"h\":h,\n"
     ]
    },
    {
     "name": "stdout",
     "output_type": "stream",
     "text": [
      "22\n"
     ]
    },
    {
     "name": "stderr",
     "output_type": "stream",
     "text": [
      "C:\\Users\\sebpo\\AppData\\Local\\Temp\\ipykernel_24280\\1739624593.py:33: FutureWarning: The frame.append method is deprecated and will be removed from pandas in a future version. Use pandas.concat instead.\n",
      "  storage = storage.append({\"k\":k, \"z\":z, \"w\":w, \"h\":h,\n"
     ]
    },
    {
     "name": "stdout",
     "output_type": "stream",
     "text": [
      "23\n"
     ]
    },
    {
     "name": "stderr",
     "output_type": "stream",
     "text": [
      "C:\\Users\\sebpo\\AppData\\Local\\Temp\\ipykernel_24280\\1739624593.py:33: FutureWarning: The frame.append method is deprecated and will be removed from pandas in a future version. Use pandas.concat instead.\n",
      "  storage = storage.append({\"k\":k, \"z\":z, \"w\":w, \"h\":h,\n"
     ]
    },
    {
     "name": "stdout",
     "output_type": "stream",
     "text": [
      "24\n"
     ]
    },
    {
     "name": "stderr",
     "output_type": "stream",
     "text": [
      "C:\\Users\\sebpo\\AppData\\Local\\Temp\\ipykernel_24280\\1739624593.py:33: FutureWarning: The frame.append method is deprecated and will be removed from pandas in a future version. Use pandas.concat instead.\n",
      "  storage = storage.append({\"k\":k, \"z\":z, \"w\":w, \"h\":h,\n"
     ]
    },
    {
     "name": "stdout",
     "output_type": "stream",
     "text": [
      "25\n"
     ]
    },
    {
     "name": "stderr",
     "output_type": "stream",
     "text": [
      "C:\\Users\\sebpo\\AppData\\Local\\Temp\\ipykernel_24280\\1739624593.py:33: FutureWarning: The frame.append method is deprecated and will be removed from pandas in a future version. Use pandas.concat instead.\n",
      "  storage = storage.append({\"k\":k, \"z\":z, \"w\":w, \"h\":h,\n"
     ]
    },
    {
     "name": "stdout",
     "output_type": "stream",
     "text": [
      "26\n"
     ]
    },
    {
     "name": "stderr",
     "output_type": "stream",
     "text": [
      "C:\\Users\\sebpo\\AppData\\Local\\Temp\\ipykernel_24280\\1739624593.py:33: FutureWarning: The frame.append method is deprecated and will be removed from pandas in a future version. Use pandas.concat instead.\n",
      "  storage = storage.append({\"k\":k, \"z\":z, \"w\":w, \"h\":h,\n"
     ]
    },
    {
     "name": "stdout",
     "output_type": "stream",
     "text": [
      "27\n"
     ]
    },
    {
     "name": "stderr",
     "output_type": "stream",
     "text": [
      "C:\\Users\\sebpo\\AppData\\Local\\Temp\\ipykernel_24280\\1739624593.py:33: FutureWarning: The frame.append method is deprecated and will be removed from pandas in a future version. Use pandas.concat instead.\n",
      "  storage = storage.append({\"k\":k, \"z\":z, \"w\":w, \"h\":h,\n"
     ]
    },
    {
     "name": "stdout",
     "output_type": "stream",
     "text": [
      "28\n"
     ]
    },
    {
     "name": "stderr",
     "output_type": "stream",
     "text": [
      "C:\\Users\\sebpo\\AppData\\Local\\Temp\\ipykernel_24280\\1739624593.py:33: FutureWarning: The frame.append method is deprecated and will be removed from pandas in a future version. Use pandas.concat instead.\n",
      "  storage = storage.append({\"k\":k, \"z\":z, \"w\":w, \"h\":h,\n"
     ]
    },
    {
     "name": "stdout",
     "output_type": "stream",
     "text": [
      "29\n"
     ]
    },
    {
     "name": "stderr",
     "output_type": "stream",
     "text": [
      "C:\\Users\\sebpo\\AppData\\Local\\Temp\\ipykernel_24280\\1739624593.py:33: FutureWarning: The frame.append method is deprecated and will be removed from pandas in a future version. Use pandas.concat instead.\n",
      "  storage = storage.append({\"k\":k, \"z\":z, \"w\":w, \"h\":h,\n"
     ]
    },
    {
     "name": "stdout",
     "output_type": "stream",
     "text": [
      "30\n"
     ]
    },
    {
     "name": "stderr",
     "output_type": "stream",
     "text": [
      "C:\\Users\\sebpo\\AppData\\Local\\Temp\\ipykernel_24280\\1739624593.py:33: FutureWarning: The frame.append method is deprecated and will be removed from pandas in a future version. Use pandas.concat instead.\n",
      "  storage = storage.append({\"k\":k, \"z\":z, \"w\":w, \"h\":h,\n"
     ]
    },
    {
     "name": "stdout",
     "output_type": "stream",
     "text": [
      "31\n"
     ]
    },
    {
     "name": "stderr",
     "output_type": "stream",
     "text": [
      "C:\\Users\\sebpo\\AppData\\Local\\Temp\\ipykernel_24280\\1739624593.py:33: FutureWarning: The frame.append method is deprecated and will be removed from pandas in a future version. Use pandas.concat instead.\n",
      "  storage = storage.append({\"k\":k, \"z\":z, \"w\":w, \"h\":h,\n"
     ]
    },
    {
     "name": "stdout",
     "output_type": "stream",
     "text": [
      "32\n"
     ]
    },
    {
     "name": "stderr",
     "output_type": "stream",
     "text": [
      "C:\\Users\\sebpo\\AppData\\Local\\Temp\\ipykernel_24280\\1739624593.py:33: FutureWarning: The frame.append method is deprecated and will be removed from pandas in a future version. Use pandas.concat instead.\n",
      "  storage = storage.append({\"k\":k, \"z\":z, \"w\":w, \"h\":h,\n"
     ]
    },
    {
     "name": "stdout",
     "output_type": "stream",
     "text": [
      "33\n"
     ]
    },
    {
     "name": "stderr",
     "output_type": "stream",
     "text": [
      "C:\\Users\\sebpo\\AppData\\Local\\Temp\\ipykernel_24280\\1739624593.py:33: FutureWarning: The frame.append method is deprecated and will be removed from pandas in a future version. Use pandas.concat instead.\n",
      "  storage = storage.append({\"k\":k, \"z\":z, \"w\":w, \"h\":h,\n"
     ]
    },
    {
     "name": "stdout",
     "output_type": "stream",
     "text": [
      "34\n"
     ]
    },
    {
     "name": "stderr",
     "output_type": "stream",
     "text": [
      "C:\\Users\\sebpo\\AppData\\Local\\Temp\\ipykernel_24280\\1739624593.py:33: FutureWarning: The frame.append method is deprecated and will be removed from pandas in a future version. Use pandas.concat instead.\n",
      "  storage = storage.append({\"k\":k, \"z\":z, \"w\":w, \"h\":h,\n"
     ]
    },
    {
     "name": "stdout",
     "output_type": "stream",
     "text": [
      "35\n"
     ]
    },
    {
     "name": "stderr",
     "output_type": "stream",
     "text": [
      "C:\\Users\\sebpo\\AppData\\Local\\Temp\\ipykernel_24280\\1739624593.py:33: FutureWarning: The frame.append method is deprecated and will be removed from pandas in a future version. Use pandas.concat instead.\n",
      "  storage = storage.append({\"k\":k, \"z\":z, \"w\":w, \"h\":h,\n"
     ]
    },
    {
     "name": "stdout",
     "output_type": "stream",
     "text": [
      "36\n"
     ]
    },
    {
     "name": "stderr",
     "output_type": "stream",
     "text": [
      "C:\\Users\\sebpo\\AppData\\Local\\Temp\\ipykernel_24280\\1739624593.py:33: FutureWarning: The frame.append method is deprecated and will be removed from pandas in a future version. Use pandas.concat instead.\n",
      "  storage = storage.append({\"k\":k, \"z\":z, \"w\":w, \"h\":h,\n"
     ]
    },
    {
     "name": "stdout",
     "output_type": "stream",
     "text": [
      "37\n"
     ]
    },
    {
     "name": "stderr",
     "output_type": "stream",
     "text": [
      "C:\\Users\\sebpo\\AppData\\Local\\Temp\\ipykernel_24280\\1739624593.py:33: FutureWarning: The frame.append method is deprecated and will be removed from pandas in a future version. Use pandas.concat instead.\n",
      "  storage = storage.append({\"k\":k, \"z\":z, \"w\":w, \"h\":h,\n"
     ]
    },
    {
     "name": "stdout",
     "output_type": "stream",
     "text": [
      "38\n"
     ]
    },
    {
     "name": "stderr",
     "output_type": "stream",
     "text": [
      "C:\\Users\\sebpo\\AppData\\Local\\Temp\\ipykernel_24280\\1739624593.py:33: FutureWarning: The frame.append method is deprecated and will be removed from pandas in a future version. Use pandas.concat instead.\n",
      "  storage = storage.append({\"k\":k, \"z\":z, \"w\":w, \"h\":h,\n"
     ]
    },
    {
     "name": "stdout",
     "output_type": "stream",
     "text": [
      "39\n"
     ]
    },
    {
     "name": "stderr",
     "output_type": "stream",
     "text": [
      "C:\\Users\\sebpo\\AppData\\Local\\Temp\\ipykernel_24280\\1739624593.py:33: FutureWarning: The frame.append method is deprecated and will be removed from pandas in a future version. Use pandas.concat instead.\n",
      "  storage = storage.append({\"k\":k, \"z\":z, \"w\":w, \"h\":h,\n"
     ]
    },
    {
     "name": "stdout",
     "output_type": "stream",
     "text": [
      "40\n"
     ]
    },
    {
     "name": "stderr",
     "output_type": "stream",
     "text": [
      "C:\\Users\\sebpo\\AppData\\Local\\Temp\\ipykernel_24280\\1739624593.py:33: FutureWarning: The frame.append method is deprecated and will be removed from pandas in a future version. Use pandas.concat instead.\n",
      "  storage = storage.append({\"k\":k, \"z\":z, \"w\":w, \"h\":h,\n"
     ]
    },
    {
     "name": "stdout",
     "output_type": "stream",
     "text": [
      "41\n"
     ]
    },
    {
     "name": "stderr",
     "output_type": "stream",
     "text": [
      "C:\\Users\\sebpo\\AppData\\Local\\Temp\\ipykernel_24280\\1739624593.py:33: FutureWarning: The frame.append method is deprecated and will be removed from pandas in a future version. Use pandas.concat instead.\n",
      "  storage = storage.append({\"k\":k, \"z\":z, \"w\":w, \"h\":h,\n"
     ]
    },
    {
     "name": "stdout",
     "output_type": "stream",
     "text": [
      "42\n"
     ]
    },
    {
     "name": "stderr",
     "output_type": "stream",
     "text": [
      "C:\\Users\\sebpo\\AppData\\Local\\Temp\\ipykernel_24280\\1739624593.py:33: FutureWarning: The frame.append method is deprecated and will be removed from pandas in a future version. Use pandas.concat instead.\n",
      "  storage = storage.append({\"k\":k, \"z\":z, \"w\":w, \"h\":h,\n"
     ]
    },
    {
     "name": "stdout",
     "output_type": "stream",
     "text": [
      "43\n"
     ]
    },
    {
     "name": "stderr",
     "output_type": "stream",
     "text": [
      "C:\\Users\\sebpo\\AppData\\Local\\Temp\\ipykernel_24280\\1739624593.py:33: FutureWarning: The frame.append method is deprecated and will be removed from pandas in a future version. Use pandas.concat instead.\n",
      "  storage = storage.append({\"k\":k, \"z\":z, \"w\":w, \"h\":h,\n"
     ]
    },
    {
     "name": "stdout",
     "output_type": "stream",
     "text": [
      "44\n"
     ]
    },
    {
     "name": "stderr",
     "output_type": "stream",
     "text": [
      "C:\\Users\\sebpo\\AppData\\Local\\Temp\\ipykernel_24280\\1739624593.py:33: FutureWarning: The frame.append method is deprecated and will be removed from pandas in a future version. Use pandas.concat instead.\n",
      "  storage = storage.append({\"k\":k, \"z\":z, \"w\":w, \"h\":h,\n"
     ]
    },
    {
     "name": "stdout",
     "output_type": "stream",
     "text": [
      "45\n"
     ]
    },
    {
     "name": "stderr",
     "output_type": "stream",
     "text": [
      "C:\\Users\\sebpo\\AppData\\Local\\Temp\\ipykernel_24280\\1739624593.py:33: FutureWarning: The frame.append method is deprecated and will be removed from pandas in a future version. Use pandas.concat instead.\n",
      "  storage = storage.append({\"k\":k, \"z\":z, \"w\":w, \"h\":h,\n"
     ]
    },
    {
     "name": "stdout",
     "output_type": "stream",
     "text": [
      "46\n"
     ]
    },
    {
     "name": "stderr",
     "output_type": "stream",
     "text": [
      "C:\\Users\\sebpo\\AppData\\Local\\Temp\\ipykernel_24280\\1739624593.py:33: FutureWarning: The frame.append method is deprecated and will be removed from pandas in a future version. Use pandas.concat instead.\n",
      "  storage = storage.append({\"k\":k, \"z\":z, \"w\":w, \"h\":h,\n"
     ]
    },
    {
     "name": "stdout",
     "output_type": "stream",
     "text": [
      "47\n"
     ]
    },
    {
     "name": "stderr",
     "output_type": "stream",
     "text": [
      "C:\\Users\\sebpo\\AppData\\Local\\Temp\\ipykernel_24280\\1739624593.py:33: FutureWarning: The frame.append method is deprecated and will be removed from pandas in a future version. Use pandas.concat instead.\n",
      "  storage = storage.append({\"k\":k, \"z\":z, \"w\":w, \"h\":h,\n"
     ]
    },
    {
     "name": "stdout",
     "output_type": "stream",
     "text": [
      "48\n"
     ]
    },
    {
     "name": "stderr",
     "output_type": "stream",
     "text": [
      "C:\\Users\\sebpo\\AppData\\Local\\Temp\\ipykernel_24280\\1739624593.py:33: FutureWarning: The frame.append method is deprecated and will be removed from pandas in a future version. Use pandas.concat instead.\n",
      "  storage = storage.append({\"k\":k, \"z\":z, \"w\":w, \"h\":h,\n"
     ]
    },
    {
     "name": "stdout",
     "output_type": "stream",
     "text": [
      "49\n"
     ]
    },
    {
     "name": "stderr",
     "output_type": "stream",
     "text": [
      "C:\\Users\\sebpo\\AppData\\Local\\Temp\\ipykernel_24280\\1739624593.py:33: FutureWarning: The frame.append method is deprecated and will be removed from pandas in a future version. Use pandas.concat instead.\n",
      "  storage = storage.append({\"k\":k, \"z\":z, \"w\":w, \"h\":h,\n"
     ]
    },
    {
     "name": "stdout",
     "output_type": "stream",
     "text": [
      "50\n"
     ]
    },
    {
     "name": "stderr",
     "output_type": "stream",
     "text": [
      "C:\\Users\\sebpo\\AppData\\Local\\Temp\\ipykernel_24280\\1739624593.py:33: FutureWarning: The frame.append method is deprecated and will be removed from pandas in a future version. Use pandas.concat instead.\n",
      "  storage = storage.append({\"k\":k, \"z\":z, \"w\":w, \"h\":h,\n"
     ]
    },
    {
     "name": "stdout",
     "output_type": "stream",
     "text": [
      "51\n"
     ]
    },
    {
     "name": "stderr",
     "output_type": "stream",
     "text": [
      "C:\\Users\\sebpo\\AppData\\Local\\Temp\\ipykernel_24280\\1739624593.py:33: FutureWarning: The frame.append method is deprecated and will be removed from pandas in a future version. Use pandas.concat instead.\n",
      "  storage = storage.append({\"k\":k, \"z\":z, \"w\":w, \"h\":h,\n"
     ]
    },
    {
     "name": "stdout",
     "output_type": "stream",
     "text": [
      "52\n"
     ]
    },
    {
     "name": "stderr",
     "output_type": "stream",
     "text": [
      "C:\\Users\\sebpo\\AppData\\Local\\Temp\\ipykernel_24280\\1739624593.py:33: FutureWarning: The frame.append method is deprecated and will be removed from pandas in a future version. Use pandas.concat instead.\n",
      "  storage = storage.append({\"k\":k, \"z\":z, \"w\":w, \"h\":h,\n"
     ]
    },
    {
     "name": "stdout",
     "output_type": "stream",
     "text": [
      "53\n"
     ]
    },
    {
     "name": "stderr",
     "output_type": "stream",
     "text": [
      "C:\\Users\\sebpo\\AppData\\Local\\Temp\\ipykernel_24280\\1739624593.py:33: FutureWarning: The frame.append method is deprecated and will be removed from pandas in a future version. Use pandas.concat instead.\n",
      "  storage = storage.append({\"k\":k, \"z\":z, \"w\":w, \"h\":h,\n"
     ]
    },
    {
     "name": "stdout",
     "output_type": "stream",
     "text": [
      "54\n"
     ]
    },
    {
     "name": "stderr",
     "output_type": "stream",
     "text": [
      "C:\\Users\\sebpo\\AppData\\Local\\Temp\\ipykernel_24280\\1739624593.py:33: FutureWarning: The frame.append method is deprecated and will be removed from pandas in a future version. Use pandas.concat instead.\n",
      "  storage = storage.append({\"k\":k, \"z\":z, \"w\":w, \"h\":h,\n"
     ]
    },
    {
     "name": "stdout",
     "output_type": "stream",
     "text": [
      "55\n"
     ]
    },
    {
     "name": "stderr",
     "output_type": "stream",
     "text": [
      "C:\\Users\\sebpo\\AppData\\Local\\Temp\\ipykernel_24280\\1739624593.py:33: FutureWarning: The frame.append method is deprecated and will be removed from pandas in a future version. Use pandas.concat instead.\n",
      "  storage = storage.append({\"k\":k, \"z\":z, \"w\":w, \"h\":h,\n"
     ]
    },
    {
     "name": "stdout",
     "output_type": "stream",
     "text": [
      "56\n"
     ]
    },
    {
     "name": "stderr",
     "output_type": "stream",
     "text": [
      "C:\\Users\\sebpo\\AppData\\Local\\Temp\\ipykernel_24280\\1739624593.py:33: FutureWarning: The frame.append method is deprecated and will be removed from pandas in a future version. Use pandas.concat instead.\n",
      "  storage = storage.append({\"k\":k, \"z\":z, \"w\":w, \"h\":h,\n"
     ]
    },
    {
     "name": "stdout",
     "output_type": "stream",
     "text": [
      "57\n"
     ]
    },
    {
     "name": "stderr",
     "output_type": "stream",
     "text": [
      "C:\\Users\\sebpo\\AppData\\Local\\Temp\\ipykernel_24280\\1739624593.py:33: FutureWarning: The frame.append method is deprecated and will be removed from pandas in a future version. Use pandas.concat instead.\n",
      "  storage = storage.append({\"k\":k, \"z\":z, \"w\":w, \"h\":h,\n"
     ]
    },
    {
     "name": "stdout",
     "output_type": "stream",
     "text": [
      "58\n"
     ]
    },
    {
     "name": "stderr",
     "output_type": "stream",
     "text": [
      "C:\\Users\\sebpo\\AppData\\Local\\Temp\\ipykernel_24280\\1739624593.py:33: FutureWarning: The frame.append method is deprecated and will be removed from pandas in a future version. Use pandas.concat instead.\n",
      "  storage = storage.append({\"k\":k, \"z\":z, \"w\":w, \"h\":h,\n"
     ]
    },
    {
     "name": "stdout",
     "output_type": "stream",
     "text": [
      "59\n"
     ]
    },
    {
     "name": "stderr",
     "output_type": "stream",
     "text": [
      "C:\\Users\\sebpo\\AppData\\Local\\Temp\\ipykernel_24280\\1739624593.py:33: FutureWarning: The frame.append method is deprecated and will be removed from pandas in a future version. Use pandas.concat instead.\n",
      "  storage = storage.append({\"k\":k, \"z\":z, \"w\":w, \"h\":h,\n"
     ]
    },
    {
     "name": "stdout",
     "output_type": "stream",
     "text": [
      "60\n"
     ]
    },
    {
     "name": "stderr",
     "output_type": "stream",
     "text": [
      "C:\\Users\\sebpo\\AppData\\Local\\Temp\\ipykernel_24280\\1739624593.py:33: FutureWarning: The frame.append method is deprecated and will be removed from pandas in a future version. Use pandas.concat instead.\n",
      "  storage = storage.append({\"k\":k, \"z\":z, \"w\":w, \"h\":h,\n"
     ]
    },
    {
     "name": "stdout",
     "output_type": "stream",
     "text": [
      "61\n"
     ]
    },
    {
     "name": "stderr",
     "output_type": "stream",
     "text": [
      "C:\\Users\\sebpo\\AppData\\Local\\Temp\\ipykernel_24280\\1739624593.py:33: FutureWarning: The frame.append method is deprecated and will be removed from pandas in a future version. Use pandas.concat instead.\n",
      "  storage = storage.append({\"k\":k, \"z\":z, \"w\":w, \"h\":h,\n"
     ]
    },
    {
     "name": "stdout",
     "output_type": "stream",
     "text": [
      "62\n"
     ]
    },
    {
     "name": "stderr",
     "output_type": "stream",
     "text": [
      "C:\\Users\\sebpo\\AppData\\Local\\Temp\\ipykernel_24280\\1739624593.py:33: FutureWarning: The frame.append method is deprecated and will be removed from pandas in a future version. Use pandas.concat instead.\n",
      "  storage = storage.append({\"k\":k, \"z\":z, \"w\":w, \"h\":h,\n"
     ]
    },
    {
     "name": "stdout",
     "output_type": "stream",
     "text": [
      "63\n"
     ]
    },
    {
     "name": "stderr",
     "output_type": "stream",
     "text": [
      "C:\\Users\\sebpo\\AppData\\Local\\Temp\\ipykernel_24280\\1739624593.py:33: FutureWarning: The frame.append method is deprecated and will be removed from pandas in a future version. Use pandas.concat instead.\n",
      "  storage = storage.append({\"k\":k, \"z\":z, \"w\":w, \"h\":h,\n"
     ]
    },
    {
     "name": "stdout",
     "output_type": "stream",
     "text": [
      "64\n"
     ]
    },
    {
     "name": "stderr",
     "output_type": "stream",
     "text": [
      "C:\\Users\\sebpo\\AppData\\Local\\Temp\\ipykernel_24280\\1739624593.py:33: FutureWarning: The frame.append method is deprecated and will be removed from pandas in a future version. Use pandas.concat instead.\n",
      "  storage = storage.append({\"k\":k, \"z\":z, \"w\":w, \"h\":h,\n"
     ]
    },
    {
     "name": "stdout",
     "output_type": "stream",
     "text": [
      "65\n"
     ]
    },
    {
     "name": "stderr",
     "output_type": "stream",
     "text": [
      "C:\\Users\\sebpo\\AppData\\Local\\Temp\\ipykernel_24280\\1739624593.py:33: FutureWarning: The frame.append method is deprecated and will be removed from pandas in a future version. Use pandas.concat instead.\n",
      "  storage = storage.append({\"k\":k, \"z\":z, \"w\":w, \"h\":h,\n"
     ]
    },
    {
     "name": "stdout",
     "output_type": "stream",
     "text": [
      "66\n"
     ]
    },
    {
     "name": "stderr",
     "output_type": "stream",
     "text": [
      "C:\\Users\\sebpo\\AppData\\Local\\Temp\\ipykernel_24280\\1739624593.py:33: FutureWarning: The frame.append method is deprecated and will be removed from pandas in a future version. Use pandas.concat instead.\n",
      "  storage = storage.append({\"k\":k, \"z\":z, \"w\":w, \"h\":h,\n"
     ]
    },
    {
     "name": "stdout",
     "output_type": "stream",
     "text": [
      "67\n"
     ]
    },
    {
     "name": "stderr",
     "output_type": "stream",
     "text": [
      "C:\\Users\\sebpo\\AppData\\Local\\Temp\\ipykernel_24280\\1739624593.py:33: FutureWarning: The frame.append method is deprecated and will be removed from pandas in a future version. Use pandas.concat instead.\n",
      "  storage = storage.append({\"k\":k, \"z\":z, \"w\":w, \"h\":h,\n"
     ]
    },
    {
     "name": "stdout",
     "output_type": "stream",
     "text": [
      "68\n"
     ]
    },
    {
     "name": "stderr",
     "output_type": "stream",
     "text": [
      "C:\\Users\\sebpo\\AppData\\Local\\Temp\\ipykernel_24280\\1739624593.py:33: FutureWarning: The frame.append method is deprecated and will be removed from pandas in a future version. Use pandas.concat instead.\n",
      "  storage = storage.append({\"k\":k, \"z\":z, \"w\":w, \"h\":h,\n"
     ]
    },
    {
     "name": "stdout",
     "output_type": "stream",
     "text": [
      "69\n"
     ]
    },
    {
     "name": "stderr",
     "output_type": "stream",
     "text": [
      "C:\\Users\\sebpo\\AppData\\Local\\Temp\\ipykernel_24280\\1739624593.py:33: FutureWarning: The frame.append method is deprecated and will be removed from pandas in a future version. Use pandas.concat instead.\n",
      "  storage = storage.append({\"k\":k, \"z\":z, \"w\":w, \"h\":h,\n"
     ]
    },
    {
     "name": "stdout",
     "output_type": "stream",
     "text": [
      "70\n"
     ]
    },
    {
     "name": "stderr",
     "output_type": "stream",
     "text": [
      "C:\\Users\\sebpo\\AppData\\Local\\Temp\\ipykernel_24280\\1739624593.py:33: FutureWarning: The frame.append method is deprecated and will be removed from pandas in a future version. Use pandas.concat instead.\n",
      "  storage = storage.append({\"k\":k, \"z\":z, \"w\":w, \"h\":h,\n"
     ]
    },
    {
     "name": "stdout",
     "output_type": "stream",
     "text": [
      "71\n"
     ]
    },
    {
     "name": "stderr",
     "output_type": "stream",
     "text": [
      "C:\\Users\\sebpo\\AppData\\Local\\Temp\\ipykernel_24280\\1739624593.py:33: FutureWarning: The frame.append method is deprecated and will be removed from pandas in a future version. Use pandas.concat instead.\n",
      "  storage = storage.append({\"k\":k, \"z\":z, \"w\":w, \"h\":h,\n"
     ]
    },
    {
     "name": "stdout",
     "output_type": "stream",
     "text": [
      "72\n"
     ]
    },
    {
     "name": "stderr",
     "output_type": "stream",
     "text": [
      "C:\\Users\\sebpo\\AppData\\Local\\Temp\\ipykernel_24280\\1739624593.py:33: FutureWarning: The frame.append method is deprecated and will be removed from pandas in a future version. Use pandas.concat instead.\n",
      "  storage = storage.append({\"k\":k, \"z\":z, \"w\":w, \"h\":h,\n"
     ]
    },
    {
     "name": "stdout",
     "output_type": "stream",
     "text": [
      "73\n"
     ]
    },
    {
     "name": "stderr",
     "output_type": "stream",
     "text": [
      "C:\\Users\\sebpo\\AppData\\Local\\Temp\\ipykernel_24280\\1739624593.py:33: FutureWarning: The frame.append method is deprecated and will be removed from pandas in a future version. Use pandas.concat instead.\n",
      "  storage = storage.append({\"k\":k, \"z\":z, \"w\":w, \"h\":h,\n"
     ]
    },
    {
     "name": "stdout",
     "output_type": "stream",
     "text": [
      "74\n"
     ]
    },
    {
     "name": "stderr",
     "output_type": "stream",
     "text": [
      "C:\\Users\\sebpo\\AppData\\Local\\Temp\\ipykernel_24280\\1739624593.py:33: FutureWarning: The frame.append method is deprecated and will be removed from pandas in a future version. Use pandas.concat instead.\n",
      "  storage = storage.append({\"k\":k, \"z\":z, \"w\":w, \"h\":h,\n"
     ]
    },
    {
     "name": "stdout",
     "output_type": "stream",
     "text": [
      "75\n"
     ]
    },
    {
     "name": "stderr",
     "output_type": "stream",
     "text": [
      "C:\\Users\\sebpo\\AppData\\Local\\Temp\\ipykernel_24280\\1739624593.py:33: FutureWarning: The frame.append method is deprecated and will be removed from pandas in a future version. Use pandas.concat instead.\n",
      "  storage = storage.append({\"k\":k, \"z\":z, \"w\":w, \"h\":h,\n"
     ]
    },
    {
     "name": "stdout",
     "output_type": "stream",
     "text": [
      "76\n"
     ]
    },
    {
     "name": "stderr",
     "output_type": "stream",
     "text": [
      "C:\\Users\\sebpo\\AppData\\Local\\Temp\\ipykernel_24280\\1739624593.py:33: FutureWarning: The frame.append method is deprecated and will be removed from pandas in a future version. Use pandas.concat instead.\n",
      "  storage = storage.append({\"k\":k, \"z\":z, \"w\":w, \"h\":h,\n"
     ]
    },
    {
     "name": "stdout",
     "output_type": "stream",
     "text": [
      "77\n"
     ]
    },
    {
     "name": "stderr",
     "output_type": "stream",
     "text": [
      "C:\\Users\\sebpo\\AppData\\Local\\Temp\\ipykernel_24280\\1739624593.py:33: FutureWarning: The frame.append method is deprecated and will be removed from pandas in a future version. Use pandas.concat instead.\n",
      "  storage = storage.append({\"k\":k, \"z\":z, \"w\":w, \"h\":h,\n"
     ]
    },
    {
     "name": "stdout",
     "output_type": "stream",
     "text": [
      "78\n"
     ]
    },
    {
     "name": "stderr",
     "output_type": "stream",
     "text": [
      "C:\\Users\\sebpo\\AppData\\Local\\Temp\\ipykernel_24280\\1739624593.py:33: FutureWarning: The frame.append method is deprecated and will be removed from pandas in a future version. Use pandas.concat instead.\n",
      "  storage = storage.append({\"k\":k, \"z\":z, \"w\":w, \"h\":h,\n"
     ]
    },
    {
     "name": "stdout",
     "output_type": "stream",
     "text": [
      "79\n"
     ]
    },
    {
     "name": "stderr",
     "output_type": "stream",
     "text": [
      "C:\\Users\\sebpo\\AppData\\Local\\Temp\\ipykernel_24280\\1739624593.py:33: FutureWarning: The frame.append method is deprecated and will be removed from pandas in a future version. Use pandas.concat instead.\n",
      "  storage = storage.append({\"k\":k, \"z\":z, \"w\":w, \"h\":h,\n"
     ]
    },
    {
     "name": "stdout",
     "output_type": "stream",
     "text": [
      "80\n"
     ]
    },
    {
     "name": "stderr",
     "output_type": "stream",
     "text": [
      "C:\\Users\\sebpo\\AppData\\Local\\Temp\\ipykernel_24280\\1739624593.py:33: FutureWarning: The frame.append method is deprecated and will be removed from pandas in a future version. Use pandas.concat instead.\n",
      "  storage = storage.append({\"k\":k, \"z\":z, \"w\":w, \"h\":h,\n"
     ]
    },
    {
     "name": "stdout",
     "output_type": "stream",
     "text": [
      "81\n"
     ]
    },
    {
     "name": "stderr",
     "output_type": "stream",
     "text": [
      "C:\\Users\\sebpo\\AppData\\Local\\Temp\\ipykernel_24280\\1739624593.py:33: FutureWarning: The frame.append method is deprecated and will be removed from pandas in a future version. Use pandas.concat instead.\n",
      "  storage = storage.append({\"k\":k, \"z\":z, \"w\":w, \"h\":h,\n"
     ]
    },
    {
     "name": "stdout",
     "output_type": "stream",
     "text": [
      "82\n"
     ]
    },
    {
     "name": "stderr",
     "output_type": "stream",
     "text": [
      "C:\\Users\\sebpo\\AppData\\Local\\Temp\\ipykernel_24280\\1739624593.py:33: FutureWarning: The frame.append method is deprecated and will be removed from pandas in a future version. Use pandas.concat instead.\n",
      "  storage = storage.append({\"k\":k, \"z\":z, \"w\":w, \"h\":h,\n"
     ]
    },
    {
     "name": "stdout",
     "output_type": "stream",
     "text": [
      "83\n"
     ]
    },
    {
     "name": "stderr",
     "output_type": "stream",
     "text": [
      "C:\\Users\\sebpo\\AppData\\Local\\Temp\\ipykernel_24280\\1739624593.py:33: FutureWarning: The frame.append method is deprecated and will be removed from pandas in a future version. Use pandas.concat instead.\n",
      "  storage = storage.append({\"k\":k, \"z\":z, \"w\":w, \"h\":h,\n"
     ]
    },
    {
     "name": "stdout",
     "output_type": "stream",
     "text": [
      "84\n"
     ]
    },
    {
     "name": "stderr",
     "output_type": "stream",
     "text": [
      "C:\\Users\\sebpo\\AppData\\Local\\Temp\\ipykernel_24280\\1739624593.py:33: FutureWarning: The frame.append method is deprecated and will be removed from pandas in a future version. Use pandas.concat instead.\n",
      "  storage = storage.append({\"k\":k, \"z\":z, \"w\":w, \"h\":h,\n"
     ]
    },
    {
     "name": "stdout",
     "output_type": "stream",
     "text": [
      "85\n"
     ]
    },
    {
     "name": "stderr",
     "output_type": "stream",
     "text": [
      "C:\\Users\\sebpo\\AppData\\Local\\Temp\\ipykernel_24280\\1739624593.py:33: FutureWarning: The frame.append method is deprecated and will be removed from pandas in a future version. Use pandas.concat instead.\n",
      "  storage = storage.append({\"k\":k, \"z\":z, \"w\":w, \"h\":h,\n"
     ]
    },
    {
     "name": "stdout",
     "output_type": "stream",
     "text": [
      "86\n"
     ]
    },
    {
     "name": "stderr",
     "output_type": "stream",
     "text": [
      "C:\\Users\\sebpo\\AppData\\Local\\Temp\\ipykernel_24280\\1739624593.py:33: FutureWarning: The frame.append method is deprecated and will be removed from pandas in a future version. Use pandas.concat instead.\n",
      "  storage = storage.append({\"k\":k, \"z\":z, \"w\":w, \"h\":h,\n"
     ]
    },
    {
     "name": "stdout",
     "output_type": "stream",
     "text": [
      "87\n"
     ]
    },
    {
     "name": "stderr",
     "output_type": "stream",
     "text": [
      "C:\\Users\\sebpo\\AppData\\Local\\Temp\\ipykernel_24280\\1739624593.py:33: FutureWarning: The frame.append method is deprecated and will be removed from pandas in a future version. Use pandas.concat instead.\n",
      "  storage = storage.append({\"k\":k, \"z\":z, \"w\":w, \"h\":h,\n"
     ]
    },
    {
     "name": "stdout",
     "output_type": "stream",
     "text": [
      "88\n"
     ]
    },
    {
     "name": "stderr",
     "output_type": "stream",
     "text": [
      "C:\\Users\\sebpo\\AppData\\Local\\Temp\\ipykernel_24280\\1739624593.py:33: FutureWarning: The frame.append method is deprecated and will be removed from pandas in a future version. Use pandas.concat instead.\n",
      "  storage = storage.append({\"k\":k, \"z\":z, \"w\":w, \"h\":h,\n"
     ]
    },
    {
     "name": "stdout",
     "output_type": "stream",
     "text": [
      "89\n"
     ]
    },
    {
     "name": "stderr",
     "output_type": "stream",
     "text": [
      "C:\\Users\\sebpo\\AppData\\Local\\Temp\\ipykernel_24280\\1739624593.py:33: FutureWarning: The frame.append method is deprecated and will be removed from pandas in a future version. Use pandas.concat instead.\n",
      "  storage = storage.append({\"k\":k, \"z\":z, \"w\":w, \"h\":h,\n"
     ]
    },
    {
     "name": "stdout",
     "output_type": "stream",
     "text": [
      "90\n"
     ]
    },
    {
     "name": "stderr",
     "output_type": "stream",
     "text": [
      "C:\\Users\\sebpo\\AppData\\Local\\Temp\\ipykernel_24280\\1739624593.py:33: FutureWarning: The frame.append method is deprecated and will be removed from pandas in a future version. Use pandas.concat instead.\n",
      "  storage = storage.append({\"k\":k, \"z\":z, \"w\":w, \"h\":h,\n"
     ]
    },
    {
     "name": "stdout",
     "output_type": "stream",
     "text": [
      "91\n"
     ]
    },
    {
     "name": "stderr",
     "output_type": "stream",
     "text": [
      "C:\\Users\\sebpo\\AppData\\Local\\Temp\\ipykernel_24280\\1739624593.py:33: FutureWarning: The frame.append method is deprecated and will be removed from pandas in a future version. Use pandas.concat instead.\n",
      "  storage = storage.append({\"k\":k, \"z\":z, \"w\":w, \"h\":h,\n"
     ]
    },
    {
     "name": "stdout",
     "output_type": "stream",
     "text": [
      "92\n"
     ]
    },
    {
     "name": "stderr",
     "output_type": "stream",
     "text": [
      "C:\\Users\\sebpo\\AppData\\Local\\Temp\\ipykernel_24280\\1739624593.py:33: FutureWarning: The frame.append method is deprecated and will be removed from pandas in a future version. Use pandas.concat instead.\n",
      "  storage = storage.append({\"k\":k, \"z\":z, \"w\":w, \"h\":h,\n"
     ]
    },
    {
     "name": "stdout",
     "output_type": "stream",
     "text": [
      "93\n"
     ]
    },
    {
     "name": "stderr",
     "output_type": "stream",
     "text": [
      "C:\\Users\\sebpo\\AppData\\Local\\Temp\\ipykernel_24280\\1739624593.py:33: FutureWarning: The frame.append method is deprecated and will be removed from pandas in a future version. Use pandas.concat instead.\n",
      "  storage = storage.append({\"k\":k, \"z\":z, \"w\":w, \"h\":h,\n"
     ]
    },
    {
     "name": "stdout",
     "output_type": "stream",
     "text": [
      "94\n"
     ]
    },
    {
     "name": "stderr",
     "output_type": "stream",
     "text": [
      "C:\\Users\\sebpo\\AppData\\Local\\Temp\\ipykernel_24280\\1739624593.py:33: FutureWarning: The frame.append method is deprecated and will be removed from pandas in a future version. Use pandas.concat instead.\n",
      "  storage = storage.append({\"k\":k, \"z\":z, \"w\":w, \"h\":h,\n"
     ]
    },
    {
     "name": "stdout",
     "output_type": "stream",
     "text": [
      "95\n"
     ]
    },
    {
     "name": "stderr",
     "output_type": "stream",
     "text": [
      "C:\\Users\\sebpo\\AppData\\Local\\Temp\\ipykernel_24280\\1739624593.py:33: FutureWarning: The frame.append method is deprecated and will be removed from pandas in a future version. Use pandas.concat instead.\n",
      "  storage = storage.append({\"k\":k, \"z\":z, \"w\":w, \"h\":h,\n"
     ]
    },
    {
     "name": "stdout",
     "output_type": "stream",
     "text": [
      "96\n"
     ]
    },
    {
     "name": "stderr",
     "output_type": "stream",
     "text": [
      "C:\\Users\\sebpo\\AppData\\Local\\Temp\\ipykernel_24280\\1739624593.py:33: FutureWarning: The frame.append method is deprecated and will be removed from pandas in a future version. Use pandas.concat instead.\n",
      "  storage = storage.append({\"k\":k, \"z\":z, \"w\":w, \"h\":h,\n"
     ]
    },
    {
     "name": "stdout",
     "output_type": "stream",
     "text": [
      "97\n"
     ]
    },
    {
     "name": "stderr",
     "output_type": "stream",
     "text": [
      "C:\\Users\\sebpo\\AppData\\Local\\Temp\\ipykernel_24280\\1739624593.py:33: FutureWarning: The frame.append method is deprecated and will be removed from pandas in a future version. Use pandas.concat instead.\n",
      "  storage = storage.append({\"k\":k, \"z\":z, \"w\":w, \"h\":h,\n"
     ]
    },
    {
     "name": "stdout",
     "output_type": "stream",
     "text": [
      "98\n"
     ]
    },
    {
     "name": "stderr",
     "output_type": "stream",
     "text": [
      "C:\\Users\\sebpo\\AppData\\Local\\Temp\\ipykernel_24280\\1739624593.py:33: FutureWarning: The frame.append method is deprecated and will be removed from pandas in a future version. Use pandas.concat instead.\n",
      "  storage = storage.append({\"k\":k, \"z\":z, \"w\":w, \"h\":h,\n"
     ]
    },
    {
     "name": "stdout",
     "output_type": "stream",
     "text": [
      "99\n"
     ]
    },
    {
     "name": "stderr",
     "output_type": "stream",
     "text": [
      "C:\\Users\\sebpo\\AppData\\Local\\Temp\\ipykernel_24280\\1739624593.py:33: FutureWarning: The frame.append method is deprecated and will be removed from pandas in a future version. Use pandas.concat instead.\n",
      "  storage = storage.append({\"k\":k, \"z\":z, \"w\":w, \"h\":h,\n"
     ]
    },
    {
     "name": "stdout",
     "output_type": "stream",
     "text": [
      "100\n"
     ]
    },
    {
     "name": "stderr",
     "output_type": "stream",
     "text": [
      "C:\\Users\\sebpo\\AppData\\Local\\Temp\\ipykernel_24280\\1739624593.py:33: FutureWarning: The frame.append method is deprecated and will be removed from pandas in a future version. Use pandas.concat instead.\n",
      "  storage = storage.append({\"k\":k, \"z\":z, \"w\":w, \"h\":h,\n"
     ]
    },
    {
     "name": "stdout",
     "output_type": "stream",
     "text": [
      "101\n"
     ]
    },
    {
     "name": "stderr",
     "output_type": "stream",
     "text": [
      "C:\\Users\\sebpo\\AppData\\Local\\Temp\\ipykernel_24280\\1739624593.py:33: FutureWarning: The frame.append method is deprecated and will be removed from pandas in a future version. Use pandas.concat instead.\n",
      "  storage = storage.append({\"k\":k, \"z\":z, \"w\":w, \"h\":h,\n"
     ]
    },
    {
     "name": "stdout",
     "output_type": "stream",
     "text": [
      "102\n"
     ]
    },
    {
     "name": "stderr",
     "output_type": "stream",
     "text": [
      "C:\\Users\\sebpo\\AppData\\Local\\Temp\\ipykernel_24280\\1739624593.py:33: FutureWarning: The frame.append method is deprecated and will be removed from pandas in a future version. Use pandas.concat instead.\n",
      "  storage = storage.append({\"k\":k, \"z\":z, \"w\":w, \"h\":h,\n"
     ]
    },
    {
     "name": "stdout",
     "output_type": "stream",
     "text": [
      "103\n"
     ]
    },
    {
     "name": "stderr",
     "output_type": "stream",
     "text": [
      "C:\\Users\\sebpo\\AppData\\Local\\Temp\\ipykernel_24280\\1739624593.py:33: FutureWarning: The frame.append method is deprecated and will be removed from pandas in a future version. Use pandas.concat instead.\n",
      "  storage = storage.append({\"k\":k, \"z\":z, \"w\":w, \"h\":h,\n"
     ]
    },
    {
     "name": "stdout",
     "output_type": "stream",
     "text": [
      "104\n"
     ]
    },
    {
     "name": "stderr",
     "output_type": "stream",
     "text": [
      "C:\\Users\\sebpo\\AppData\\Local\\Temp\\ipykernel_24280\\1739624593.py:33: FutureWarning: The frame.append method is deprecated and will be removed from pandas in a future version. Use pandas.concat instead.\n",
      "  storage = storage.append({\"k\":k, \"z\":z, \"w\":w, \"h\":h,\n"
     ]
    },
    {
     "name": "stdout",
     "output_type": "stream",
     "text": [
      "105\n"
     ]
    },
    {
     "name": "stderr",
     "output_type": "stream",
     "text": [
      "C:\\Users\\sebpo\\AppData\\Local\\Temp\\ipykernel_24280\\1739624593.py:33: FutureWarning: The frame.append method is deprecated and will be removed from pandas in a future version. Use pandas.concat instead.\n",
      "  storage = storage.append({\"k\":k, \"z\":z, \"w\":w, \"h\":h,\n"
     ]
    },
    {
     "name": "stdout",
     "output_type": "stream",
     "text": [
      "106\n"
     ]
    },
    {
     "name": "stderr",
     "output_type": "stream",
     "text": [
      "C:\\Users\\sebpo\\AppData\\Local\\Temp\\ipykernel_24280\\1739624593.py:33: FutureWarning: The frame.append method is deprecated and will be removed from pandas in a future version. Use pandas.concat instead.\n",
      "  storage = storage.append({\"k\":k, \"z\":z, \"w\":w, \"h\":h,\n"
     ]
    },
    {
     "name": "stdout",
     "output_type": "stream",
     "text": [
      "107\n"
     ]
    },
    {
     "name": "stderr",
     "output_type": "stream",
     "text": [
      "C:\\Users\\sebpo\\AppData\\Local\\Temp\\ipykernel_24280\\1739624593.py:33: FutureWarning: The frame.append method is deprecated and will be removed from pandas in a future version. Use pandas.concat instead.\n",
      "  storage = storage.append({\"k\":k, \"z\":z, \"w\":w, \"h\":h,\n"
     ]
    },
    {
     "name": "stdout",
     "output_type": "stream",
     "text": [
      "108\n"
     ]
    },
    {
     "name": "stderr",
     "output_type": "stream",
     "text": [
      "C:\\Users\\sebpo\\AppData\\Local\\Temp\\ipykernel_24280\\1739624593.py:33: FutureWarning: The frame.append method is deprecated and will be removed from pandas in a future version. Use pandas.concat instead.\n",
      "  storage = storage.append({\"k\":k, \"z\":z, \"w\":w, \"h\":h,\n"
     ]
    },
    {
     "name": "stdout",
     "output_type": "stream",
     "text": [
      "109\n"
     ]
    },
    {
     "name": "stderr",
     "output_type": "stream",
     "text": [
      "C:\\Users\\sebpo\\AppData\\Local\\Temp\\ipykernel_24280\\1739624593.py:33: FutureWarning: The frame.append method is deprecated and will be removed from pandas in a future version. Use pandas.concat instead.\n",
      "  storage = storage.append({\"k\":k, \"z\":z, \"w\":w, \"h\":h,\n"
     ]
    },
    {
     "name": "stdout",
     "output_type": "stream",
     "text": [
      "110\n"
     ]
    },
    {
     "name": "stderr",
     "output_type": "stream",
     "text": [
      "C:\\Users\\sebpo\\AppData\\Local\\Temp\\ipykernel_24280\\1739624593.py:33: FutureWarning: The frame.append method is deprecated and will be removed from pandas in a future version. Use pandas.concat instead.\n",
      "  storage = storage.append({\"k\":k, \"z\":z, \"w\":w, \"h\":h,\n"
     ]
    },
    {
     "name": "stdout",
     "output_type": "stream",
     "text": [
      "111\n"
     ]
    },
    {
     "name": "stderr",
     "output_type": "stream",
     "text": [
      "C:\\Users\\sebpo\\AppData\\Local\\Temp\\ipykernel_24280\\1739624593.py:33: FutureWarning: The frame.append method is deprecated and will be removed from pandas in a future version. Use pandas.concat instead.\n",
      "  storage = storage.append({\"k\":k, \"z\":z, \"w\":w, \"h\":h,\n"
     ]
    },
    {
     "name": "stdout",
     "output_type": "stream",
     "text": [
      "112\n"
     ]
    },
    {
     "name": "stderr",
     "output_type": "stream",
     "text": [
      "C:\\Users\\sebpo\\AppData\\Local\\Temp\\ipykernel_24280\\1739624593.py:33: FutureWarning: The frame.append method is deprecated and will be removed from pandas in a future version. Use pandas.concat instead.\n",
      "  storage = storage.append({\"k\":k, \"z\":z, \"w\":w, \"h\":h,\n"
     ]
    },
    {
     "name": "stdout",
     "output_type": "stream",
     "text": [
      "113\n"
     ]
    },
    {
     "name": "stderr",
     "output_type": "stream",
     "text": [
      "C:\\Users\\sebpo\\AppData\\Local\\Temp\\ipykernel_24280\\1739624593.py:33: FutureWarning: The frame.append method is deprecated and will be removed from pandas in a future version. Use pandas.concat instead.\n",
      "  storage = storage.append({\"k\":k, \"z\":z, \"w\":w, \"h\":h,\n"
     ]
    },
    {
     "name": "stdout",
     "output_type": "stream",
     "text": [
      "114\n"
     ]
    },
    {
     "name": "stderr",
     "output_type": "stream",
     "text": [
      "C:\\Users\\sebpo\\AppData\\Local\\Temp\\ipykernel_24280\\1739624593.py:33: FutureWarning: The frame.append method is deprecated and will be removed from pandas in a future version. Use pandas.concat instead.\n",
      "  storage = storage.append({\"k\":k, \"z\":z, \"w\":w, \"h\":h,\n"
     ]
    },
    {
     "name": "stdout",
     "output_type": "stream",
     "text": [
      "115\n"
     ]
    },
    {
     "name": "stderr",
     "output_type": "stream",
     "text": [
      "C:\\Users\\sebpo\\AppData\\Local\\Temp\\ipykernel_24280\\1739624593.py:33: FutureWarning: The frame.append method is deprecated and will be removed from pandas in a future version. Use pandas.concat instead.\n",
      "  storage = storage.append({\"k\":k, \"z\":z, \"w\":w, \"h\":h,\n"
     ]
    },
    {
     "name": "stdout",
     "output_type": "stream",
     "text": [
      "116\n"
     ]
    },
    {
     "name": "stderr",
     "output_type": "stream",
     "text": [
      "C:\\Users\\sebpo\\AppData\\Local\\Temp\\ipykernel_24280\\1739624593.py:33: FutureWarning: The frame.append method is deprecated and will be removed from pandas in a future version. Use pandas.concat instead.\n",
      "  storage = storage.append({\"k\":k, \"z\":z, \"w\":w, \"h\":h,\n"
     ]
    },
    {
     "name": "stdout",
     "output_type": "stream",
     "text": [
      "117\n"
     ]
    },
    {
     "name": "stderr",
     "output_type": "stream",
     "text": [
      "C:\\Users\\sebpo\\AppData\\Local\\Temp\\ipykernel_24280\\1739624593.py:33: FutureWarning: The frame.append method is deprecated and will be removed from pandas in a future version. Use pandas.concat instead.\n",
      "  storage = storage.append({\"k\":k, \"z\":z, \"w\":w, \"h\":h,\n"
     ]
    },
    {
     "name": "stdout",
     "output_type": "stream",
     "text": [
      "118\n"
     ]
    },
    {
     "name": "stderr",
     "output_type": "stream",
     "text": [
      "C:\\Users\\sebpo\\AppData\\Local\\Temp\\ipykernel_24280\\1739624593.py:33: FutureWarning: The frame.append method is deprecated and will be removed from pandas in a future version. Use pandas.concat instead.\n",
      "  storage = storage.append({\"k\":k, \"z\":z, \"w\":w, \"h\":h,\n"
     ]
    },
    {
     "name": "stdout",
     "output_type": "stream",
     "text": [
      "119\n"
     ]
    },
    {
     "name": "stderr",
     "output_type": "stream",
     "text": [
      "C:\\Users\\sebpo\\AppData\\Local\\Temp\\ipykernel_24280\\1739624593.py:33: FutureWarning: The frame.append method is deprecated and will be removed from pandas in a future version. Use pandas.concat instead.\n",
      "  storage = storage.append({\"k\":k, \"z\":z, \"w\":w, \"h\":h,\n"
     ]
    },
    {
     "name": "stdout",
     "output_type": "stream",
     "text": [
      "120\n"
     ]
    },
    {
     "name": "stderr",
     "output_type": "stream",
     "text": [
      "C:\\Users\\sebpo\\AppData\\Local\\Temp\\ipykernel_24280\\1739624593.py:33: FutureWarning: The frame.append method is deprecated and will be removed from pandas in a future version. Use pandas.concat instead.\n",
      "  storage = storage.append({\"k\":k, \"z\":z, \"w\":w, \"h\":h,\n"
     ]
    },
    {
     "name": "stdout",
     "output_type": "stream",
     "text": [
      "121\n"
     ]
    },
    {
     "name": "stderr",
     "output_type": "stream",
     "text": [
      "C:\\Users\\sebpo\\AppData\\Local\\Temp\\ipykernel_24280\\1739624593.py:33: FutureWarning: The frame.append method is deprecated and will be removed from pandas in a future version. Use pandas.concat instead.\n",
      "  storage = storage.append({\"k\":k, \"z\":z, \"w\":w, \"h\":h,\n"
     ]
    },
    {
     "name": "stdout",
     "output_type": "stream",
     "text": [
      "122\n"
     ]
    },
    {
     "name": "stderr",
     "output_type": "stream",
     "text": [
      "C:\\Users\\sebpo\\AppData\\Local\\Temp\\ipykernel_24280\\1739624593.py:33: FutureWarning: The frame.append method is deprecated and will be removed from pandas in a future version. Use pandas.concat instead.\n",
      "  storage = storage.append({\"k\":k, \"z\":z, \"w\":w, \"h\":h,\n"
     ]
    },
    {
     "name": "stdout",
     "output_type": "stream",
     "text": [
      "123\n"
     ]
    },
    {
     "name": "stderr",
     "output_type": "stream",
     "text": [
      "C:\\Users\\sebpo\\AppData\\Local\\Temp\\ipykernel_24280\\1739624593.py:33: FutureWarning: The frame.append method is deprecated and will be removed from pandas in a future version. Use pandas.concat instead.\n",
      "  storage = storage.append({\"k\":k, \"z\":z, \"w\":w, \"h\":h,\n"
     ]
    },
    {
     "name": "stdout",
     "output_type": "stream",
     "text": [
      "124\n"
     ]
    },
    {
     "name": "stderr",
     "output_type": "stream",
     "text": [
      "C:\\Users\\sebpo\\AppData\\Local\\Temp\\ipykernel_24280\\1739624593.py:33: FutureWarning: The frame.append method is deprecated and will be removed from pandas in a future version. Use pandas.concat instead.\n",
      "  storage = storage.append({\"k\":k, \"z\":z, \"w\":w, \"h\":h,\n"
     ]
    },
    {
     "name": "stdout",
     "output_type": "stream",
     "text": [
      "125\n"
     ]
    },
    {
     "name": "stderr",
     "output_type": "stream",
     "text": [
      "C:\\Users\\sebpo\\AppData\\Local\\Temp\\ipykernel_24280\\1739624593.py:33: FutureWarning: The frame.append method is deprecated and will be removed from pandas in a future version. Use pandas.concat instead.\n",
      "  storage = storage.append({\"k\":k, \"z\":z, \"w\":w, \"h\":h,\n"
     ]
    },
    {
     "name": "stdout",
     "output_type": "stream",
     "text": [
      "126\n"
     ]
    },
    {
     "name": "stderr",
     "output_type": "stream",
     "text": [
      "C:\\Users\\sebpo\\AppData\\Local\\Temp\\ipykernel_24280\\1739624593.py:33: FutureWarning: The frame.append method is deprecated and will be removed from pandas in a future version. Use pandas.concat instead.\n",
      "  storage = storage.append({\"k\":k, \"z\":z, \"w\":w, \"h\":h,\n"
     ]
    },
    {
     "name": "stdout",
     "output_type": "stream",
     "text": [
      "127\n"
     ]
    },
    {
     "name": "stderr",
     "output_type": "stream",
     "text": [
      "C:\\Users\\sebpo\\AppData\\Local\\Temp\\ipykernel_24280\\1739624593.py:33: FutureWarning: The frame.append method is deprecated and will be removed from pandas in a future version. Use pandas.concat instead.\n",
      "  storage = storage.append({\"k\":k, \"z\":z, \"w\":w, \"h\":h,\n"
     ]
    },
    {
     "name": "stdout",
     "output_type": "stream",
     "text": [
      "128\n"
     ]
    },
    {
     "name": "stderr",
     "output_type": "stream",
     "text": [
      "C:\\Users\\sebpo\\AppData\\Local\\Temp\\ipykernel_24280\\1739624593.py:33: FutureWarning: The frame.append method is deprecated and will be removed from pandas in a future version. Use pandas.concat instead.\n",
      "  storage = storage.append({\"k\":k, \"z\":z, \"w\":w, \"h\":h,\n"
     ]
    },
    {
     "name": "stdout",
     "output_type": "stream",
     "text": [
      "129\n"
     ]
    },
    {
     "name": "stderr",
     "output_type": "stream",
     "text": [
      "C:\\Users\\sebpo\\AppData\\Local\\Temp\\ipykernel_24280\\1739624593.py:33: FutureWarning: The frame.append method is deprecated and will be removed from pandas in a future version. Use pandas.concat instead.\n",
      "  storage = storage.append({\"k\":k, \"z\":z, \"w\":w, \"h\":h,\n"
     ]
    },
    {
     "name": "stdout",
     "output_type": "stream",
     "text": [
      "130\n"
     ]
    },
    {
     "name": "stderr",
     "output_type": "stream",
     "text": [
      "C:\\Users\\sebpo\\AppData\\Local\\Temp\\ipykernel_24280\\1739624593.py:33: FutureWarning: The frame.append method is deprecated and will be removed from pandas in a future version. Use pandas.concat instead.\n",
      "  storage = storage.append({\"k\":k, \"z\":z, \"w\":w, \"h\":h,\n"
     ]
    },
    {
     "name": "stdout",
     "output_type": "stream",
     "text": [
      "131\n"
     ]
    },
    {
     "name": "stderr",
     "output_type": "stream",
     "text": [
      "C:\\Users\\sebpo\\AppData\\Local\\Temp\\ipykernel_24280\\1739624593.py:33: FutureWarning: The frame.append method is deprecated and will be removed from pandas in a future version. Use pandas.concat instead.\n",
      "  storage = storage.append({\"k\":k, \"z\":z, \"w\":w, \"h\":h,\n"
     ]
    },
    {
     "name": "stdout",
     "output_type": "stream",
     "text": [
      "132\n"
     ]
    },
    {
     "name": "stderr",
     "output_type": "stream",
     "text": [
      "C:\\Users\\sebpo\\AppData\\Local\\Temp\\ipykernel_24280\\1739624593.py:33: FutureWarning: The frame.append method is deprecated and will be removed from pandas in a future version. Use pandas.concat instead.\n",
      "  storage = storage.append({\"k\":k, \"z\":z, \"w\":w, \"h\":h,\n"
     ]
    },
    {
     "name": "stdout",
     "output_type": "stream",
     "text": [
      "133\n"
     ]
    },
    {
     "name": "stderr",
     "output_type": "stream",
     "text": [
      "C:\\Users\\sebpo\\AppData\\Local\\Temp\\ipykernel_24280\\1739624593.py:33: FutureWarning: The frame.append method is deprecated and will be removed from pandas in a future version. Use pandas.concat instead.\n",
      "  storage = storage.append({\"k\":k, \"z\":z, \"w\":w, \"h\":h,\n"
     ]
    },
    {
     "name": "stdout",
     "output_type": "stream",
     "text": [
      "134\n"
     ]
    },
    {
     "name": "stderr",
     "output_type": "stream",
     "text": [
      "C:\\Users\\sebpo\\AppData\\Local\\Temp\\ipykernel_24280\\1739624593.py:33: FutureWarning: The frame.append method is deprecated and will be removed from pandas in a future version. Use pandas.concat instead.\n",
      "  storage = storage.append({\"k\":k, \"z\":z, \"w\":w, \"h\":h,\n"
     ]
    },
    {
     "name": "stdout",
     "output_type": "stream",
     "text": [
      "135\n"
     ]
    },
    {
     "name": "stderr",
     "output_type": "stream",
     "text": [
      "C:\\Users\\sebpo\\AppData\\Local\\Temp\\ipykernel_24280\\1739624593.py:33: FutureWarning: The frame.append method is deprecated and will be removed from pandas in a future version. Use pandas.concat instead.\n",
      "  storage = storage.append({\"k\":k, \"z\":z, \"w\":w, \"h\":h,\n"
     ]
    },
    {
     "name": "stdout",
     "output_type": "stream",
     "text": [
      "136\n"
     ]
    },
    {
     "name": "stderr",
     "output_type": "stream",
     "text": [
      "C:\\Users\\sebpo\\AppData\\Local\\Temp\\ipykernel_24280\\1739624593.py:33: FutureWarning: The frame.append method is deprecated and will be removed from pandas in a future version. Use pandas.concat instead.\n",
      "  storage = storage.append({\"k\":k, \"z\":z, \"w\":w, \"h\":h,\n"
     ]
    },
    {
     "name": "stdout",
     "output_type": "stream",
     "text": [
      "137\n"
     ]
    },
    {
     "name": "stderr",
     "output_type": "stream",
     "text": [
      "C:\\Users\\sebpo\\AppData\\Local\\Temp\\ipykernel_24280\\1739624593.py:33: FutureWarning: The frame.append method is deprecated and will be removed from pandas in a future version. Use pandas.concat instead.\n",
      "  storage = storage.append({\"k\":k, \"z\":z, \"w\":w, \"h\":h,\n"
     ]
    },
    {
     "name": "stdout",
     "output_type": "stream",
     "text": [
      "138\n"
     ]
    },
    {
     "name": "stderr",
     "output_type": "stream",
     "text": [
      "C:\\Users\\sebpo\\AppData\\Local\\Temp\\ipykernel_24280\\1739624593.py:33: FutureWarning: The frame.append method is deprecated and will be removed from pandas in a future version. Use pandas.concat instead.\n",
      "  storage = storage.append({\"k\":k, \"z\":z, \"w\":w, \"h\":h,\n"
     ]
    },
    {
     "name": "stdout",
     "output_type": "stream",
     "text": [
      "139\n"
     ]
    },
    {
     "name": "stderr",
     "output_type": "stream",
     "text": [
      "C:\\Users\\sebpo\\AppData\\Local\\Temp\\ipykernel_24280\\1739624593.py:33: FutureWarning: The frame.append method is deprecated and will be removed from pandas in a future version. Use pandas.concat instead.\n",
      "  storage = storage.append({\"k\":k, \"z\":z, \"w\":w, \"h\":h,\n"
     ]
    },
    {
     "name": "stdout",
     "output_type": "stream",
     "text": [
      "140\n"
     ]
    },
    {
     "name": "stderr",
     "output_type": "stream",
     "text": [
      "C:\\Users\\sebpo\\AppData\\Local\\Temp\\ipykernel_24280\\1739624593.py:33: FutureWarning: The frame.append method is deprecated and will be removed from pandas in a future version. Use pandas.concat instead.\n",
      "  storage = storage.append({\"k\":k, \"z\":z, \"w\":w, \"h\":h,\n"
     ]
    },
    {
     "name": "stdout",
     "output_type": "stream",
     "text": [
      "141\n"
     ]
    },
    {
     "name": "stderr",
     "output_type": "stream",
     "text": [
      "C:\\Users\\sebpo\\AppData\\Local\\Temp\\ipykernel_24280\\1739624593.py:33: FutureWarning: The frame.append method is deprecated and will be removed from pandas in a future version. Use pandas.concat instead.\n",
      "  storage = storage.append({\"k\":k, \"z\":z, \"w\":w, \"h\":h,\n"
     ]
    },
    {
     "name": "stdout",
     "output_type": "stream",
     "text": [
      "142\n"
     ]
    },
    {
     "name": "stderr",
     "output_type": "stream",
     "text": [
      "C:\\Users\\sebpo\\AppData\\Local\\Temp\\ipykernel_24280\\1739624593.py:33: FutureWarning: The frame.append method is deprecated and will be removed from pandas in a future version. Use pandas.concat instead.\n",
      "  storage = storage.append({\"k\":k, \"z\":z, \"w\":w, \"h\":h,\n"
     ]
    },
    {
     "name": "stdout",
     "output_type": "stream",
     "text": [
      "143\n"
     ]
    },
    {
     "name": "stderr",
     "output_type": "stream",
     "text": [
      "C:\\Users\\sebpo\\AppData\\Local\\Temp\\ipykernel_24280\\1739624593.py:33: FutureWarning: The frame.append method is deprecated and will be removed from pandas in a future version. Use pandas.concat instead.\n",
      "  storage = storage.append({\"k\":k, \"z\":z, \"w\":w, \"h\":h,\n"
     ]
    },
    {
     "name": "stdout",
     "output_type": "stream",
     "text": [
      "144\n"
     ]
    },
    {
     "name": "stderr",
     "output_type": "stream",
     "text": [
      "C:\\Users\\sebpo\\AppData\\Local\\Temp\\ipykernel_24280\\1739624593.py:33: FutureWarning: The frame.append method is deprecated and will be removed from pandas in a future version. Use pandas.concat instead.\n",
      "  storage = storage.append({\"k\":k, \"z\":z, \"w\":w, \"h\":h,\n"
     ]
    },
    {
     "name": "stdout",
     "output_type": "stream",
     "text": [
      "145\n"
     ]
    },
    {
     "name": "stderr",
     "output_type": "stream",
     "text": [
      "C:\\Users\\sebpo\\AppData\\Local\\Temp\\ipykernel_24280\\1739624593.py:33: FutureWarning: The frame.append method is deprecated and will be removed from pandas in a future version. Use pandas.concat instead.\n",
      "  storage = storage.append({\"k\":k, \"z\":z, \"w\":w, \"h\":h,\n"
     ]
    },
    {
     "name": "stdout",
     "output_type": "stream",
     "text": [
      "146\n"
     ]
    },
    {
     "name": "stderr",
     "output_type": "stream",
     "text": [
      "C:\\Users\\sebpo\\AppData\\Local\\Temp\\ipykernel_24280\\1739624593.py:33: FutureWarning: The frame.append method is deprecated and will be removed from pandas in a future version. Use pandas.concat instead.\n",
      "  storage = storage.append({\"k\":k, \"z\":z, \"w\":w, \"h\":h,\n"
     ]
    },
    {
     "name": "stdout",
     "output_type": "stream",
     "text": [
      "147\n"
     ]
    },
    {
     "name": "stderr",
     "output_type": "stream",
     "text": [
      "C:\\Users\\sebpo\\AppData\\Local\\Temp\\ipykernel_24280\\1739624593.py:33: FutureWarning: The frame.append method is deprecated and will be removed from pandas in a future version. Use pandas.concat instead.\n",
      "  storage = storage.append({\"k\":k, \"z\":z, \"w\":w, \"h\":h,\n"
     ]
    },
    {
     "name": "stdout",
     "output_type": "stream",
     "text": [
      "148\n"
     ]
    },
    {
     "name": "stderr",
     "output_type": "stream",
     "text": [
      "C:\\Users\\sebpo\\AppData\\Local\\Temp\\ipykernel_24280\\1739624593.py:33: FutureWarning: The frame.append method is deprecated and will be removed from pandas in a future version. Use pandas.concat instead.\n",
      "  storage = storage.append({\"k\":k, \"z\":z, \"w\":w, \"h\":h,\n"
     ]
    },
    {
     "name": "stdout",
     "output_type": "stream",
     "text": [
      "149\n"
     ]
    },
    {
     "name": "stderr",
     "output_type": "stream",
     "text": [
      "C:\\Users\\sebpo\\AppData\\Local\\Temp\\ipykernel_24280\\1739624593.py:33: FutureWarning: The frame.append method is deprecated and will be removed from pandas in a future version. Use pandas.concat instead.\n",
      "  storage = storage.append({\"k\":k, \"z\":z, \"w\":w, \"h\":h,\n"
     ]
    },
    {
     "name": "stdout",
     "output_type": "stream",
     "text": [
      "150\n"
     ]
    },
    {
     "name": "stderr",
     "output_type": "stream",
     "text": [
      "C:\\Users\\sebpo\\AppData\\Local\\Temp\\ipykernel_24280\\1739624593.py:33: FutureWarning: The frame.append method is deprecated and will be removed from pandas in a future version. Use pandas.concat instead.\n",
      "  storage = storage.append({\"k\":k, \"z\":z, \"w\":w, \"h\":h,\n"
     ]
    },
    {
     "name": "stdout",
     "output_type": "stream",
     "text": [
      "151\n"
     ]
    },
    {
     "name": "stderr",
     "output_type": "stream",
     "text": [
      "C:\\Users\\sebpo\\AppData\\Local\\Temp\\ipykernel_24280\\1739624593.py:33: FutureWarning: The frame.append method is deprecated and will be removed from pandas in a future version. Use pandas.concat instead.\n",
      "  storage = storage.append({\"k\":k, \"z\":z, \"w\":w, \"h\":h,\n"
     ]
    },
    {
     "name": "stdout",
     "output_type": "stream",
     "text": [
      "152\n"
     ]
    },
    {
     "name": "stderr",
     "output_type": "stream",
     "text": [
      "C:\\Users\\sebpo\\AppData\\Local\\Temp\\ipykernel_24280\\1739624593.py:33: FutureWarning: The frame.append method is deprecated and will be removed from pandas in a future version. Use pandas.concat instead.\n",
      "  storage = storage.append({\"k\":k, \"z\":z, \"w\":w, \"h\":h,\n"
     ]
    },
    {
     "name": "stdout",
     "output_type": "stream",
     "text": [
      "153\n"
     ]
    },
    {
     "name": "stderr",
     "output_type": "stream",
     "text": [
      "C:\\Users\\sebpo\\AppData\\Local\\Temp\\ipykernel_24280\\1739624593.py:33: FutureWarning: The frame.append method is deprecated and will be removed from pandas in a future version. Use pandas.concat instead.\n",
      "  storage = storage.append({\"k\":k, \"z\":z, \"w\":w, \"h\":h,\n"
     ]
    },
    {
     "name": "stdout",
     "output_type": "stream",
     "text": [
      "154\n"
     ]
    },
    {
     "name": "stderr",
     "output_type": "stream",
     "text": [
      "C:\\Users\\sebpo\\AppData\\Local\\Temp\\ipykernel_24280\\1739624593.py:33: FutureWarning: The frame.append method is deprecated and will be removed from pandas in a future version. Use pandas.concat instead.\n",
      "  storage = storage.append({\"k\":k, \"z\":z, \"w\":w, \"h\":h,\n"
     ]
    },
    {
     "name": "stdout",
     "output_type": "stream",
     "text": [
      "155\n"
     ]
    },
    {
     "name": "stderr",
     "output_type": "stream",
     "text": [
      "C:\\Users\\sebpo\\AppData\\Local\\Temp\\ipykernel_24280\\1739624593.py:33: FutureWarning: The frame.append method is deprecated and will be removed from pandas in a future version. Use pandas.concat instead.\n",
      "  storage = storage.append({\"k\":k, \"z\":z, \"w\":w, \"h\":h,\n"
     ]
    },
    {
     "name": "stdout",
     "output_type": "stream",
     "text": [
      "156\n"
     ]
    },
    {
     "name": "stderr",
     "output_type": "stream",
     "text": [
      "C:\\Users\\sebpo\\AppData\\Local\\Temp\\ipykernel_24280\\1739624593.py:33: FutureWarning: The frame.append method is deprecated and will be removed from pandas in a future version. Use pandas.concat instead.\n",
      "  storage = storage.append({\"k\":k, \"z\":z, \"w\":w, \"h\":h,\n"
     ]
    },
    {
     "name": "stdout",
     "output_type": "stream",
     "text": [
      "157\n"
     ]
    },
    {
     "name": "stderr",
     "output_type": "stream",
     "text": [
      "C:\\Users\\sebpo\\AppData\\Local\\Temp\\ipykernel_24280\\1739624593.py:33: FutureWarning: The frame.append method is deprecated and will be removed from pandas in a future version. Use pandas.concat instead.\n",
      "  storage = storage.append({\"k\":k, \"z\":z, \"w\":w, \"h\":h,\n"
     ]
    },
    {
     "name": "stdout",
     "output_type": "stream",
     "text": [
      "158\n"
     ]
    },
    {
     "name": "stderr",
     "output_type": "stream",
     "text": [
      "C:\\Users\\sebpo\\AppData\\Local\\Temp\\ipykernel_24280\\1739624593.py:33: FutureWarning: The frame.append method is deprecated and will be removed from pandas in a future version. Use pandas.concat instead.\n",
      "  storage = storage.append({\"k\":k, \"z\":z, \"w\":w, \"h\":h,\n"
     ]
    },
    {
     "name": "stdout",
     "output_type": "stream",
     "text": [
      "159\n"
     ]
    },
    {
     "name": "stderr",
     "output_type": "stream",
     "text": [
      "C:\\Users\\sebpo\\AppData\\Local\\Temp\\ipykernel_24280\\1739624593.py:33: FutureWarning: The frame.append method is deprecated and will be removed from pandas in a future version. Use pandas.concat instead.\n",
      "  storage = storage.append({\"k\":k, \"z\":z, \"w\":w, \"h\":h,\n"
     ]
    },
    {
     "name": "stdout",
     "output_type": "stream",
     "text": [
      "160\n"
     ]
    },
    {
     "name": "stderr",
     "output_type": "stream",
     "text": [
      "C:\\Users\\sebpo\\AppData\\Local\\Temp\\ipykernel_24280\\1739624593.py:33: FutureWarning: The frame.append method is deprecated and will be removed from pandas in a future version. Use pandas.concat instead.\n",
      "  storage = storage.append({\"k\":k, \"z\":z, \"w\":w, \"h\":h,\n"
     ]
    },
    {
     "name": "stdout",
     "output_type": "stream",
     "text": [
      "161\n"
     ]
    },
    {
     "name": "stderr",
     "output_type": "stream",
     "text": [
      "C:\\Users\\sebpo\\AppData\\Local\\Temp\\ipykernel_24280\\1739624593.py:33: FutureWarning: The frame.append method is deprecated and will be removed from pandas in a future version. Use pandas.concat instead.\n",
      "  storage = storage.append({\"k\":k, \"z\":z, \"w\":w, \"h\":h,\n"
     ]
    },
    {
     "name": "stdout",
     "output_type": "stream",
     "text": [
      "162\n"
     ]
    },
    {
     "name": "stderr",
     "output_type": "stream",
     "text": [
      "C:\\Users\\sebpo\\AppData\\Local\\Temp\\ipykernel_24280\\1739624593.py:33: FutureWarning: The frame.append method is deprecated and will be removed from pandas in a future version. Use pandas.concat instead.\n",
      "  storage = storage.append({\"k\":k, \"z\":z, \"w\":w, \"h\":h,\n"
     ]
    },
    {
     "name": "stdout",
     "output_type": "stream",
     "text": [
      "163\n"
     ]
    },
    {
     "name": "stderr",
     "output_type": "stream",
     "text": [
      "C:\\Users\\sebpo\\AppData\\Local\\Temp\\ipykernel_24280\\1739624593.py:33: FutureWarning: The frame.append method is deprecated and will be removed from pandas in a future version. Use pandas.concat instead.\n",
      "  storage = storage.append({\"k\":k, \"z\":z, \"w\":w, \"h\":h,\n"
     ]
    },
    {
     "name": "stdout",
     "output_type": "stream",
     "text": [
      "164\n"
     ]
    },
    {
     "name": "stderr",
     "output_type": "stream",
     "text": [
      "C:\\Users\\sebpo\\AppData\\Local\\Temp\\ipykernel_24280\\1739624593.py:33: FutureWarning: The frame.append method is deprecated and will be removed from pandas in a future version. Use pandas.concat instead.\n",
      "  storage = storage.append({\"k\":k, \"z\":z, \"w\":w, \"h\":h,\n"
     ]
    },
    {
     "name": "stdout",
     "output_type": "stream",
     "text": [
      "165\n"
     ]
    },
    {
     "name": "stderr",
     "output_type": "stream",
     "text": [
      "C:\\Users\\sebpo\\AppData\\Local\\Temp\\ipykernel_24280\\1739624593.py:33: FutureWarning: The frame.append method is deprecated and will be removed from pandas in a future version. Use pandas.concat instead.\n",
      "  storage = storage.append({\"k\":k, \"z\":z, \"w\":w, \"h\":h,\n"
     ]
    },
    {
     "name": "stdout",
     "output_type": "stream",
     "text": [
      "166\n"
     ]
    },
    {
     "name": "stderr",
     "output_type": "stream",
     "text": [
      "C:\\Users\\sebpo\\AppData\\Local\\Temp\\ipykernel_24280\\1739624593.py:33: FutureWarning: The frame.append method is deprecated and will be removed from pandas in a future version. Use pandas.concat instead.\n",
      "  storage = storage.append({\"k\":k, \"z\":z, \"w\":w, \"h\":h,\n"
     ]
    },
    {
     "name": "stdout",
     "output_type": "stream",
     "text": [
      "167\n"
     ]
    },
    {
     "name": "stderr",
     "output_type": "stream",
     "text": [
      "C:\\Users\\sebpo\\AppData\\Local\\Temp\\ipykernel_24280\\1739624593.py:33: FutureWarning: The frame.append method is deprecated and will be removed from pandas in a future version. Use pandas.concat instead.\n",
      "  storage = storage.append({\"k\":k, \"z\":z, \"w\":w, \"h\":h,\n"
     ]
    },
    {
     "name": "stdout",
     "output_type": "stream",
     "text": [
      "168\n"
     ]
    },
    {
     "name": "stderr",
     "output_type": "stream",
     "text": [
      "C:\\Users\\sebpo\\AppData\\Local\\Temp\\ipykernel_24280\\1739624593.py:33: FutureWarning: The frame.append method is deprecated and will be removed from pandas in a future version. Use pandas.concat instead.\n",
      "  storage = storage.append({\"k\":k, \"z\":z, \"w\":w, \"h\":h,\n"
     ]
    },
    {
     "name": "stdout",
     "output_type": "stream",
     "text": [
      "169\n"
     ]
    },
    {
     "name": "stderr",
     "output_type": "stream",
     "text": [
      "C:\\Users\\sebpo\\AppData\\Local\\Temp\\ipykernel_24280\\1739624593.py:33: FutureWarning: The frame.append method is deprecated and will be removed from pandas in a future version. Use pandas.concat instead.\n",
      "  storage = storage.append({\"k\":k, \"z\":z, \"w\":w, \"h\":h,\n"
     ]
    },
    {
     "name": "stdout",
     "output_type": "stream",
     "text": [
      "170\n"
     ]
    },
    {
     "name": "stderr",
     "output_type": "stream",
     "text": [
      "C:\\Users\\sebpo\\AppData\\Local\\Temp\\ipykernel_24280\\1739624593.py:33: FutureWarning: The frame.append method is deprecated and will be removed from pandas in a future version. Use pandas.concat instead.\n",
      "  storage = storage.append({\"k\":k, \"z\":z, \"w\":w, \"h\":h,\n"
     ]
    },
    {
     "name": "stdout",
     "output_type": "stream",
     "text": [
      "171\n"
     ]
    },
    {
     "name": "stderr",
     "output_type": "stream",
     "text": [
      "C:\\Users\\sebpo\\AppData\\Local\\Temp\\ipykernel_24280\\1739624593.py:33: FutureWarning: The frame.append method is deprecated and will be removed from pandas in a future version. Use pandas.concat instead.\n",
      "  storage = storage.append({\"k\":k, \"z\":z, \"w\":w, \"h\":h,\n"
     ]
    },
    {
     "name": "stdout",
     "output_type": "stream",
     "text": [
      "172\n"
     ]
    },
    {
     "name": "stderr",
     "output_type": "stream",
     "text": [
      "C:\\Users\\sebpo\\AppData\\Local\\Temp\\ipykernel_24280\\1739624593.py:33: FutureWarning: The frame.append method is deprecated and will be removed from pandas in a future version. Use pandas.concat instead.\n",
      "  storage = storage.append({\"k\":k, \"z\":z, \"w\":w, \"h\":h,\n"
     ]
    },
    {
     "name": "stdout",
     "output_type": "stream",
     "text": [
      "173\n"
     ]
    },
    {
     "name": "stderr",
     "output_type": "stream",
     "text": [
      "C:\\Users\\sebpo\\AppData\\Local\\Temp\\ipykernel_24280\\1739624593.py:33: FutureWarning: The frame.append method is deprecated and will be removed from pandas in a future version. Use pandas.concat instead.\n",
      "  storage = storage.append({\"k\":k, \"z\":z, \"w\":w, \"h\":h,\n"
     ]
    },
    {
     "name": "stdout",
     "output_type": "stream",
     "text": [
      "174\n"
     ]
    },
    {
     "name": "stderr",
     "output_type": "stream",
     "text": [
      "C:\\Users\\sebpo\\AppData\\Local\\Temp\\ipykernel_24280\\1739624593.py:33: FutureWarning: The frame.append method is deprecated and will be removed from pandas in a future version. Use pandas.concat instead.\n",
      "  storage = storage.append({\"k\":k, \"z\":z, \"w\":w, \"h\":h,\n"
     ]
    },
    {
     "name": "stdout",
     "output_type": "stream",
     "text": [
      "175\n"
     ]
    },
    {
     "name": "stderr",
     "output_type": "stream",
     "text": [
      "C:\\Users\\sebpo\\AppData\\Local\\Temp\\ipykernel_24280\\1739624593.py:33: FutureWarning: The frame.append method is deprecated and will be removed from pandas in a future version. Use pandas.concat instead.\n",
      "  storage = storage.append({\"k\":k, \"z\":z, \"w\":w, \"h\":h,\n"
     ]
    },
    {
     "name": "stdout",
     "output_type": "stream",
     "text": [
      "176\n"
     ]
    },
    {
     "name": "stderr",
     "output_type": "stream",
     "text": [
      "C:\\Users\\sebpo\\AppData\\Local\\Temp\\ipykernel_24280\\1739624593.py:33: FutureWarning: The frame.append method is deprecated and will be removed from pandas in a future version. Use pandas.concat instead.\n",
      "  storage = storage.append({\"k\":k, \"z\":z, \"w\":w, \"h\":h,\n"
     ]
    },
    {
     "name": "stdout",
     "output_type": "stream",
     "text": [
      "177\n"
     ]
    },
    {
     "name": "stderr",
     "output_type": "stream",
     "text": [
      "C:\\Users\\sebpo\\AppData\\Local\\Temp\\ipykernel_24280\\1739624593.py:33: FutureWarning: The frame.append method is deprecated and will be removed from pandas in a future version. Use pandas.concat instead.\n",
      "  storage = storage.append({\"k\":k, \"z\":z, \"w\":w, \"h\":h,\n"
     ]
    },
    {
     "name": "stdout",
     "output_type": "stream",
     "text": [
      "178\n"
     ]
    },
    {
     "name": "stderr",
     "output_type": "stream",
     "text": [
      "C:\\Users\\sebpo\\AppData\\Local\\Temp\\ipykernel_24280\\1739624593.py:33: FutureWarning: The frame.append method is deprecated and will be removed from pandas in a future version. Use pandas.concat instead.\n",
      "  storage = storage.append({\"k\":k, \"z\":z, \"w\":w, \"h\":h,\n"
     ]
    },
    {
     "name": "stdout",
     "output_type": "stream",
     "text": [
      "179\n"
     ]
    },
    {
     "name": "stderr",
     "output_type": "stream",
     "text": [
      "C:\\Users\\sebpo\\AppData\\Local\\Temp\\ipykernel_24280\\1739624593.py:33: FutureWarning: The frame.append method is deprecated and will be removed from pandas in a future version. Use pandas.concat instead.\n",
      "  storage = storage.append({\"k\":k, \"z\":z, \"w\":w, \"h\":h,\n"
     ]
    },
    {
     "name": "stdout",
     "output_type": "stream",
     "text": [
      "180\n"
     ]
    },
    {
     "name": "stderr",
     "output_type": "stream",
     "text": [
      "C:\\Users\\sebpo\\AppData\\Local\\Temp\\ipykernel_24280\\1739624593.py:33: FutureWarning: The frame.append method is deprecated and will be removed from pandas in a future version. Use pandas.concat instead.\n",
      "  storage = storage.append({\"k\":k, \"z\":z, \"w\":w, \"h\":h,\n"
     ]
    },
    {
     "name": "stdout",
     "output_type": "stream",
     "text": [
      "181\n"
     ]
    },
    {
     "name": "stderr",
     "output_type": "stream",
     "text": [
      "C:\\Users\\sebpo\\AppData\\Local\\Temp\\ipykernel_24280\\1739624593.py:33: FutureWarning: The frame.append method is deprecated and will be removed from pandas in a future version. Use pandas.concat instead.\n",
      "  storage = storage.append({\"k\":k, \"z\":z, \"w\":w, \"h\":h,\n"
     ]
    },
    {
     "name": "stdout",
     "output_type": "stream",
     "text": [
      "182\n"
     ]
    },
    {
     "name": "stderr",
     "output_type": "stream",
     "text": [
      "C:\\Users\\sebpo\\AppData\\Local\\Temp\\ipykernel_24280\\1739624593.py:33: FutureWarning: The frame.append method is deprecated and will be removed from pandas in a future version. Use pandas.concat instead.\n",
      "  storage = storage.append({\"k\":k, \"z\":z, \"w\":w, \"h\":h,\n"
     ]
    },
    {
     "name": "stdout",
     "output_type": "stream",
     "text": [
      "183\n"
     ]
    },
    {
     "name": "stderr",
     "output_type": "stream",
     "text": [
      "C:\\Users\\sebpo\\AppData\\Local\\Temp\\ipykernel_24280\\1739624593.py:33: FutureWarning: The frame.append method is deprecated and will be removed from pandas in a future version. Use pandas.concat instead.\n",
      "  storage = storage.append({\"k\":k, \"z\":z, \"w\":w, \"h\":h,\n"
     ]
    },
    {
     "name": "stdout",
     "output_type": "stream",
     "text": [
      "184\n"
     ]
    },
    {
     "name": "stderr",
     "output_type": "stream",
     "text": [
      "C:\\Users\\sebpo\\AppData\\Local\\Temp\\ipykernel_24280\\1739624593.py:33: FutureWarning: The frame.append method is deprecated and will be removed from pandas in a future version. Use pandas.concat instead.\n",
      "  storage = storage.append({\"k\":k, \"z\":z, \"w\":w, \"h\":h,\n"
     ]
    },
    {
     "name": "stdout",
     "output_type": "stream",
     "text": [
      "185\n"
     ]
    },
    {
     "name": "stderr",
     "output_type": "stream",
     "text": [
      "C:\\Users\\sebpo\\AppData\\Local\\Temp\\ipykernel_24280\\1739624593.py:33: FutureWarning: The frame.append method is deprecated and will be removed from pandas in a future version. Use pandas.concat instead.\n",
      "  storage = storage.append({\"k\":k, \"z\":z, \"w\":w, \"h\":h,\n"
     ]
    },
    {
     "name": "stdout",
     "output_type": "stream",
     "text": [
      "186\n"
     ]
    },
    {
     "name": "stderr",
     "output_type": "stream",
     "text": [
      "C:\\Users\\sebpo\\AppData\\Local\\Temp\\ipykernel_24280\\1739624593.py:33: FutureWarning: The frame.append method is deprecated and will be removed from pandas in a future version. Use pandas.concat instead.\n",
      "  storage = storage.append({\"k\":k, \"z\":z, \"w\":w, \"h\":h,\n"
     ]
    },
    {
     "name": "stdout",
     "output_type": "stream",
     "text": [
      "187\n"
     ]
    },
    {
     "name": "stderr",
     "output_type": "stream",
     "text": [
      "C:\\Users\\sebpo\\AppData\\Local\\Temp\\ipykernel_24280\\1739624593.py:33: FutureWarning: The frame.append method is deprecated and will be removed from pandas in a future version. Use pandas.concat instead.\n",
      "  storage = storage.append({\"k\":k, \"z\":z, \"w\":w, \"h\":h,\n"
     ]
    },
    {
     "name": "stdout",
     "output_type": "stream",
     "text": [
      "188\n"
     ]
    },
    {
     "name": "stderr",
     "output_type": "stream",
     "text": [
      "C:\\Users\\sebpo\\AppData\\Local\\Temp\\ipykernel_24280\\1739624593.py:33: FutureWarning: The frame.append method is deprecated and will be removed from pandas in a future version. Use pandas.concat instead.\n",
      "  storage = storage.append({\"k\":k, \"z\":z, \"w\":w, \"h\":h,\n"
     ]
    },
    {
     "name": "stdout",
     "output_type": "stream",
     "text": [
      "189\n"
     ]
    },
    {
     "name": "stderr",
     "output_type": "stream",
     "text": [
      "C:\\Users\\sebpo\\AppData\\Local\\Temp\\ipykernel_24280\\1739624593.py:33: FutureWarning: The frame.append method is deprecated and will be removed from pandas in a future version. Use pandas.concat instead.\n",
      "  storage = storage.append({\"k\":k, \"z\":z, \"w\":w, \"h\":h,\n"
     ]
    },
    {
     "name": "stdout",
     "output_type": "stream",
     "text": [
      "190\n"
     ]
    },
    {
     "name": "stderr",
     "output_type": "stream",
     "text": [
      "C:\\Users\\sebpo\\AppData\\Local\\Temp\\ipykernel_24280\\1739624593.py:33: FutureWarning: The frame.append method is deprecated and will be removed from pandas in a future version. Use pandas.concat instead.\n",
      "  storage = storage.append({\"k\":k, \"z\":z, \"w\":w, \"h\":h,\n"
     ]
    },
    {
     "name": "stdout",
     "output_type": "stream",
     "text": [
      "191\n"
     ]
    },
    {
     "name": "stderr",
     "output_type": "stream",
     "text": [
      "C:\\Users\\sebpo\\AppData\\Local\\Temp\\ipykernel_24280\\1739624593.py:33: FutureWarning: The frame.append method is deprecated and will be removed from pandas in a future version. Use pandas.concat instead.\n",
      "  storage = storage.append({\"k\":k, \"z\":z, \"w\":w, \"h\":h,\n"
     ]
    },
    {
     "name": "stdout",
     "output_type": "stream",
     "text": [
      "192\n"
     ]
    },
    {
     "name": "stderr",
     "output_type": "stream",
     "text": [
      "C:\\Users\\sebpo\\AppData\\Local\\Temp\\ipykernel_24280\\1739624593.py:33: FutureWarning: The frame.append method is deprecated and will be removed from pandas in a future version. Use pandas.concat instead.\n",
      "  storage = storage.append({\"k\":k, \"z\":z, \"w\":w, \"h\":h,\n"
     ]
    },
    {
     "name": "stdout",
     "output_type": "stream",
     "text": [
      "193\n"
     ]
    },
    {
     "name": "stderr",
     "output_type": "stream",
     "text": [
      "C:\\Users\\sebpo\\AppData\\Local\\Temp\\ipykernel_24280\\1739624593.py:33: FutureWarning: The frame.append method is deprecated and will be removed from pandas in a future version. Use pandas.concat instead.\n",
      "  storage = storage.append({\"k\":k, \"z\":z, \"w\":w, \"h\":h,\n"
     ]
    },
    {
     "name": "stdout",
     "output_type": "stream",
     "text": [
      "194\n"
     ]
    },
    {
     "name": "stderr",
     "output_type": "stream",
     "text": [
      "C:\\Users\\sebpo\\AppData\\Local\\Temp\\ipykernel_24280\\1739624593.py:33: FutureWarning: The frame.append method is deprecated and will be removed from pandas in a future version. Use pandas.concat instead.\n",
      "  storage = storage.append({\"k\":k, \"z\":z, \"w\":w, \"h\":h,\n"
     ]
    },
    {
     "name": "stdout",
     "output_type": "stream",
     "text": [
      "195\n"
     ]
    },
    {
     "name": "stderr",
     "output_type": "stream",
     "text": [
      "C:\\Users\\sebpo\\AppData\\Local\\Temp\\ipykernel_24280\\1739624593.py:33: FutureWarning: The frame.append method is deprecated and will be removed from pandas in a future version. Use pandas.concat instead.\n",
      "  storage = storage.append({\"k\":k, \"z\":z, \"w\":w, \"h\":h,\n"
     ]
    },
    {
     "name": "stdout",
     "output_type": "stream",
     "text": [
      "196\n"
     ]
    },
    {
     "name": "stderr",
     "output_type": "stream",
     "text": [
      "C:\\Users\\sebpo\\AppData\\Local\\Temp\\ipykernel_24280\\1739624593.py:33: FutureWarning: The frame.append method is deprecated and will be removed from pandas in a future version. Use pandas.concat instead.\n",
      "  storage = storage.append({\"k\":k, \"z\":z, \"w\":w, \"h\":h,\n"
     ]
    },
    {
     "name": "stdout",
     "output_type": "stream",
     "text": [
      "197\n"
     ]
    },
    {
     "name": "stderr",
     "output_type": "stream",
     "text": [
      "C:\\Users\\sebpo\\AppData\\Local\\Temp\\ipykernel_24280\\1739624593.py:33: FutureWarning: The frame.append method is deprecated and will be removed from pandas in a future version. Use pandas.concat instead.\n",
      "  storage = storage.append({\"k\":k, \"z\":z, \"w\":w, \"h\":h,\n"
     ]
    },
    {
     "name": "stdout",
     "output_type": "stream",
     "text": [
      "198\n"
     ]
    },
    {
     "name": "stderr",
     "output_type": "stream",
     "text": [
      "C:\\Users\\sebpo\\AppData\\Local\\Temp\\ipykernel_24280\\1739624593.py:33: FutureWarning: The frame.append method is deprecated and will be removed from pandas in a future version. Use pandas.concat instead.\n",
      "  storage = storage.append({\"k\":k, \"z\":z, \"w\":w, \"h\":h,\n"
     ]
    },
    {
     "name": "stdout",
     "output_type": "stream",
     "text": [
      "199\n"
     ]
    },
    {
     "name": "stderr",
     "output_type": "stream",
     "text": [
      "C:\\Users\\sebpo\\AppData\\Local\\Temp\\ipykernel_24280\\1739624593.py:33: FutureWarning: The frame.append method is deprecated and will be removed from pandas in a future version. Use pandas.concat instead.\n",
      "  storage = storage.append({\"k\":k, \"z\":z, \"w\":w, \"h\":h,\n"
     ]
    },
    {
     "name": "stdout",
     "output_type": "stream",
     "text": [
      "200\n"
     ]
    },
    {
     "name": "stderr",
     "output_type": "stream",
     "text": [
      "C:\\Users\\sebpo\\AppData\\Local\\Temp\\ipykernel_24280\\1739624593.py:33: FutureWarning: The frame.append method is deprecated and will be removed from pandas in a future version. Use pandas.concat instead.\n",
      "  storage = storage.append({\"k\":k, \"z\":z, \"w\":w, \"h\":h,\n"
     ]
    },
    {
     "name": "stdout",
     "output_type": "stream",
     "text": [
      "201\n"
     ]
    },
    {
     "name": "stderr",
     "output_type": "stream",
     "text": [
      "C:\\Users\\sebpo\\AppData\\Local\\Temp\\ipykernel_24280\\1739624593.py:33: FutureWarning: The frame.append method is deprecated and will be removed from pandas in a future version. Use pandas.concat instead.\n",
      "  storage = storage.append({\"k\":k, \"z\":z, \"w\":w, \"h\":h,\n"
     ]
    },
    {
     "name": "stdout",
     "output_type": "stream",
     "text": [
      "202\n"
     ]
    },
    {
     "name": "stderr",
     "output_type": "stream",
     "text": [
      "C:\\Users\\sebpo\\AppData\\Local\\Temp\\ipykernel_24280\\1739624593.py:33: FutureWarning: The frame.append method is deprecated and will be removed from pandas in a future version. Use pandas.concat instead.\n",
      "  storage = storage.append({\"k\":k, \"z\":z, \"w\":w, \"h\":h,\n"
     ]
    },
    {
     "name": "stdout",
     "output_type": "stream",
     "text": [
      "203\n"
     ]
    },
    {
     "name": "stderr",
     "output_type": "stream",
     "text": [
      "C:\\Users\\sebpo\\AppData\\Local\\Temp\\ipykernel_24280\\1739624593.py:33: FutureWarning: The frame.append method is deprecated and will be removed from pandas in a future version. Use pandas.concat instead.\n",
      "  storage = storage.append({\"k\":k, \"z\":z, \"w\":w, \"h\":h,\n"
     ]
    },
    {
     "name": "stdout",
     "output_type": "stream",
     "text": [
      "204\n"
     ]
    },
    {
     "name": "stderr",
     "output_type": "stream",
     "text": [
      "C:\\Users\\sebpo\\AppData\\Local\\Temp\\ipykernel_24280\\1739624593.py:33: FutureWarning: The frame.append method is deprecated and will be removed from pandas in a future version. Use pandas.concat instead.\n",
      "  storage = storage.append({\"k\":k, \"z\":z, \"w\":w, \"h\":h,\n"
     ]
    },
    {
     "name": "stdout",
     "output_type": "stream",
     "text": [
      "205\n"
     ]
    },
    {
     "name": "stderr",
     "output_type": "stream",
     "text": [
      "C:\\Users\\sebpo\\AppData\\Local\\Temp\\ipykernel_24280\\1739624593.py:33: FutureWarning: The frame.append method is deprecated and will be removed from pandas in a future version. Use pandas.concat instead.\n",
      "  storage = storage.append({\"k\":k, \"z\":z, \"w\":w, \"h\":h,\n"
     ]
    },
    {
     "name": "stdout",
     "output_type": "stream",
     "text": [
      "206\n"
     ]
    },
    {
     "name": "stderr",
     "output_type": "stream",
     "text": [
      "C:\\Users\\sebpo\\AppData\\Local\\Temp\\ipykernel_24280\\1739624593.py:33: FutureWarning: The frame.append method is deprecated and will be removed from pandas in a future version. Use pandas.concat instead.\n",
      "  storage = storage.append({\"k\":k, \"z\":z, \"w\":w, \"h\":h,\n"
     ]
    },
    {
     "name": "stdout",
     "output_type": "stream",
     "text": [
      "207\n"
     ]
    },
    {
     "name": "stderr",
     "output_type": "stream",
     "text": [
      "C:\\Users\\sebpo\\AppData\\Local\\Temp\\ipykernel_24280\\1739624593.py:33: FutureWarning: The frame.append method is deprecated and will be removed from pandas in a future version. Use pandas.concat instead.\n",
      "  storage = storage.append({\"k\":k, \"z\":z, \"w\":w, \"h\":h,\n"
     ]
    },
    {
     "name": "stdout",
     "output_type": "stream",
     "text": [
      "208\n"
     ]
    },
    {
     "name": "stderr",
     "output_type": "stream",
     "text": [
      "C:\\Users\\sebpo\\AppData\\Local\\Temp\\ipykernel_24280\\1739624593.py:33: FutureWarning: The frame.append method is deprecated and will be removed from pandas in a future version. Use pandas.concat instead.\n",
      "  storage = storage.append({\"k\":k, \"z\":z, \"w\":w, \"h\":h,\n"
     ]
    },
    {
     "name": "stdout",
     "output_type": "stream",
     "text": [
      "209\n"
     ]
    },
    {
     "name": "stderr",
     "output_type": "stream",
     "text": [
      "C:\\Users\\sebpo\\AppData\\Local\\Temp\\ipykernel_24280\\1739624593.py:33: FutureWarning: The frame.append method is deprecated and will be removed from pandas in a future version. Use pandas.concat instead.\n",
      "  storage = storage.append({\"k\":k, \"z\":z, \"w\":w, \"h\":h,\n"
     ]
    },
    {
     "name": "stdout",
     "output_type": "stream",
     "text": [
      "210\n"
     ]
    },
    {
     "name": "stderr",
     "output_type": "stream",
     "text": [
      "C:\\Users\\sebpo\\AppData\\Local\\Temp\\ipykernel_24280\\1739624593.py:33: FutureWarning: The frame.append method is deprecated and will be removed from pandas in a future version. Use pandas.concat instead.\n",
      "  storage = storage.append({\"k\":k, \"z\":z, \"w\":w, \"h\":h,\n"
     ]
    },
    {
     "name": "stdout",
     "output_type": "stream",
     "text": [
      "211\n"
     ]
    },
    {
     "name": "stderr",
     "output_type": "stream",
     "text": [
      "C:\\Users\\sebpo\\AppData\\Local\\Temp\\ipykernel_24280\\1739624593.py:33: FutureWarning: The frame.append method is deprecated and will be removed from pandas in a future version. Use pandas.concat instead.\n",
      "  storage = storage.append({\"k\":k, \"z\":z, \"w\":w, \"h\":h,\n"
     ]
    },
    {
     "name": "stdout",
     "output_type": "stream",
     "text": [
      "212\n"
     ]
    },
    {
     "name": "stderr",
     "output_type": "stream",
     "text": [
      "C:\\Users\\sebpo\\AppData\\Local\\Temp\\ipykernel_24280\\1739624593.py:33: FutureWarning: The frame.append method is deprecated and will be removed from pandas in a future version. Use pandas.concat instead.\n",
      "  storage = storage.append({\"k\":k, \"z\":z, \"w\":w, \"h\":h,\n"
     ]
    },
    {
     "name": "stdout",
     "output_type": "stream",
     "text": [
      "213\n"
     ]
    },
    {
     "name": "stderr",
     "output_type": "stream",
     "text": [
      "C:\\Users\\sebpo\\AppData\\Local\\Temp\\ipykernel_24280\\1739624593.py:33: FutureWarning: The frame.append method is deprecated and will be removed from pandas in a future version. Use pandas.concat instead.\n",
      "  storage = storage.append({\"k\":k, \"z\":z, \"w\":w, \"h\":h,\n"
     ]
    },
    {
     "name": "stdout",
     "output_type": "stream",
     "text": [
      "214\n"
     ]
    },
    {
     "name": "stderr",
     "output_type": "stream",
     "text": [
      "C:\\Users\\sebpo\\AppData\\Local\\Temp\\ipykernel_24280\\1739624593.py:33: FutureWarning: The frame.append method is deprecated and will be removed from pandas in a future version. Use pandas.concat instead.\n",
      "  storage = storage.append({\"k\":k, \"z\":z, \"w\":w, \"h\":h,\n"
     ]
    },
    {
     "name": "stdout",
     "output_type": "stream",
     "text": [
      "215\n"
     ]
    },
    {
     "name": "stderr",
     "output_type": "stream",
     "text": [
      "C:\\Users\\sebpo\\AppData\\Local\\Temp\\ipykernel_24280\\1739624593.py:33: FutureWarning: The frame.append method is deprecated and will be removed from pandas in a future version. Use pandas.concat instead.\n",
      "  storage = storage.append({\"k\":k, \"z\":z, \"w\":w, \"h\":h,\n"
     ]
    },
    {
     "name": "stdout",
     "output_type": "stream",
     "text": [
      "216\n"
     ]
    },
    {
     "name": "stderr",
     "output_type": "stream",
     "text": [
      "C:\\Users\\sebpo\\AppData\\Local\\Temp\\ipykernel_24280\\1739624593.py:33: FutureWarning: The frame.append method is deprecated and will be removed from pandas in a future version. Use pandas.concat instead.\n",
      "  storage = storage.append({\"k\":k, \"z\":z, \"w\":w, \"h\":h,\n"
     ]
    },
    {
     "name": "stdout",
     "output_type": "stream",
     "text": [
      "217\n"
     ]
    },
    {
     "name": "stderr",
     "output_type": "stream",
     "text": [
      "C:\\Users\\sebpo\\AppData\\Local\\Temp\\ipykernel_24280\\1739624593.py:33: FutureWarning: The frame.append method is deprecated and will be removed from pandas in a future version. Use pandas.concat instead.\n",
      "  storage = storage.append({\"k\":k, \"z\":z, \"w\":w, \"h\":h,\n"
     ]
    },
    {
     "name": "stdout",
     "output_type": "stream",
     "text": [
      "218\n"
     ]
    },
    {
     "name": "stderr",
     "output_type": "stream",
     "text": [
      "C:\\Users\\sebpo\\AppData\\Local\\Temp\\ipykernel_24280\\1739624593.py:33: FutureWarning: The frame.append method is deprecated and will be removed from pandas in a future version. Use pandas.concat instead.\n",
      "  storage = storage.append({\"k\":k, \"z\":z, \"w\":w, \"h\":h,\n"
     ]
    },
    {
     "name": "stdout",
     "output_type": "stream",
     "text": [
      "219\n"
     ]
    },
    {
     "name": "stderr",
     "output_type": "stream",
     "text": [
      "C:\\Users\\sebpo\\AppData\\Local\\Temp\\ipykernel_24280\\1739624593.py:33: FutureWarning: The frame.append method is deprecated and will be removed from pandas in a future version. Use pandas.concat instead.\n",
      "  storage = storage.append({\"k\":k, \"z\":z, \"w\":w, \"h\":h,\n"
     ]
    },
    {
     "name": "stdout",
     "output_type": "stream",
     "text": [
      "220\n"
     ]
    },
    {
     "name": "stderr",
     "output_type": "stream",
     "text": [
      "C:\\Users\\sebpo\\AppData\\Local\\Temp\\ipykernel_24280\\1739624593.py:33: FutureWarning: The frame.append method is deprecated and will be removed from pandas in a future version. Use pandas.concat instead.\n",
      "  storage = storage.append({\"k\":k, \"z\":z, \"w\":w, \"h\":h,\n"
     ]
    },
    {
     "name": "stdout",
     "output_type": "stream",
     "text": [
      "221\n"
     ]
    },
    {
     "name": "stderr",
     "output_type": "stream",
     "text": [
      "C:\\Users\\sebpo\\AppData\\Local\\Temp\\ipykernel_24280\\1739624593.py:33: FutureWarning: The frame.append method is deprecated and will be removed from pandas in a future version. Use pandas.concat instead.\n",
      "  storage = storage.append({\"k\":k, \"z\":z, \"w\":w, \"h\":h,\n"
     ]
    },
    {
     "name": "stdout",
     "output_type": "stream",
     "text": [
      "222\n"
     ]
    },
    {
     "name": "stderr",
     "output_type": "stream",
     "text": [
      "C:\\Users\\sebpo\\AppData\\Local\\Temp\\ipykernel_24280\\1739624593.py:33: FutureWarning: The frame.append method is deprecated and will be removed from pandas in a future version. Use pandas.concat instead.\n",
      "  storage = storage.append({\"k\":k, \"z\":z, \"w\":w, \"h\":h,\n"
     ]
    },
    {
     "name": "stdout",
     "output_type": "stream",
     "text": [
      "223\n"
     ]
    },
    {
     "name": "stderr",
     "output_type": "stream",
     "text": [
      "C:\\Users\\sebpo\\AppData\\Local\\Temp\\ipykernel_24280\\1739624593.py:33: FutureWarning: The frame.append method is deprecated and will be removed from pandas in a future version. Use pandas.concat instead.\n",
      "  storage = storage.append({\"k\":k, \"z\":z, \"w\":w, \"h\":h,\n"
     ]
    },
    {
     "name": "stdout",
     "output_type": "stream",
     "text": [
      "224\n"
     ]
    },
    {
     "name": "stderr",
     "output_type": "stream",
     "text": [
      "C:\\Users\\sebpo\\AppData\\Local\\Temp\\ipykernel_24280\\1739624593.py:33: FutureWarning: The frame.append method is deprecated and will be removed from pandas in a future version. Use pandas.concat instead.\n",
      "  storage = storage.append({\"k\":k, \"z\":z, \"w\":w, \"h\":h,\n"
     ]
    },
    {
     "name": "stdout",
     "output_type": "stream",
     "text": [
      "225\n"
     ]
    },
    {
     "name": "stderr",
     "output_type": "stream",
     "text": [
      "C:\\Users\\sebpo\\AppData\\Local\\Temp\\ipykernel_24280\\1739624593.py:33: FutureWarning: The frame.append method is deprecated and will be removed from pandas in a future version. Use pandas.concat instead.\n",
      "  storage = storage.append({\"k\":k, \"z\":z, \"w\":w, \"h\":h,\n"
     ]
    },
    {
     "name": "stdout",
     "output_type": "stream",
     "text": [
      "226\n"
     ]
    },
    {
     "name": "stderr",
     "output_type": "stream",
     "text": [
      "C:\\Users\\sebpo\\AppData\\Local\\Temp\\ipykernel_24280\\1739624593.py:33: FutureWarning: The frame.append method is deprecated and will be removed from pandas in a future version. Use pandas.concat instead.\n",
      "  storage = storage.append({\"k\":k, \"z\":z, \"w\":w, \"h\":h,\n"
     ]
    },
    {
     "name": "stdout",
     "output_type": "stream",
     "text": [
      "227\n"
     ]
    },
    {
     "name": "stderr",
     "output_type": "stream",
     "text": [
      "C:\\Users\\sebpo\\AppData\\Local\\Temp\\ipykernel_24280\\1739624593.py:33: FutureWarning: The frame.append method is deprecated and will be removed from pandas in a future version. Use pandas.concat instead.\n",
      "  storage = storage.append({\"k\":k, \"z\":z, \"w\":w, \"h\":h,\n"
     ]
    },
    {
     "name": "stdout",
     "output_type": "stream",
     "text": [
      "228\n"
     ]
    },
    {
     "name": "stderr",
     "output_type": "stream",
     "text": [
      "C:\\Users\\sebpo\\AppData\\Local\\Temp\\ipykernel_24280\\1739624593.py:33: FutureWarning: The frame.append method is deprecated and will be removed from pandas in a future version. Use pandas.concat instead.\n",
      "  storage = storage.append({\"k\":k, \"z\":z, \"w\":w, \"h\":h,\n"
     ]
    },
    {
     "name": "stdout",
     "output_type": "stream",
     "text": [
      "229\n"
     ]
    },
    {
     "name": "stderr",
     "output_type": "stream",
     "text": [
      "C:\\Users\\sebpo\\AppData\\Local\\Temp\\ipykernel_24280\\1739624593.py:33: FutureWarning: The frame.append method is deprecated and will be removed from pandas in a future version. Use pandas.concat instead.\n",
      "  storage = storage.append({\"k\":k, \"z\":z, \"w\":w, \"h\":h,\n"
     ]
    },
    {
     "name": "stdout",
     "output_type": "stream",
     "text": [
      "230\n"
     ]
    },
    {
     "name": "stderr",
     "output_type": "stream",
     "text": [
      "C:\\Users\\sebpo\\AppData\\Local\\Temp\\ipykernel_24280\\1739624593.py:33: FutureWarning: The frame.append method is deprecated and will be removed from pandas in a future version. Use pandas.concat instead.\n",
      "  storage = storage.append({\"k\":k, \"z\":z, \"w\":w, \"h\":h,\n"
     ]
    },
    {
     "name": "stdout",
     "output_type": "stream",
     "text": [
      "231\n"
     ]
    },
    {
     "name": "stderr",
     "output_type": "stream",
     "text": [
      "C:\\Users\\sebpo\\AppData\\Local\\Temp\\ipykernel_24280\\1739624593.py:33: FutureWarning: The frame.append method is deprecated and will be removed from pandas in a future version. Use pandas.concat instead.\n",
      "  storage = storage.append({\"k\":k, \"z\":z, \"w\":w, \"h\":h,\n"
     ]
    },
    {
     "name": "stdout",
     "output_type": "stream",
     "text": [
      "232\n"
     ]
    },
    {
     "name": "stderr",
     "output_type": "stream",
     "text": [
      "C:\\Users\\sebpo\\AppData\\Local\\Temp\\ipykernel_24280\\1739624593.py:33: FutureWarning: The frame.append method is deprecated and will be removed from pandas in a future version. Use pandas.concat instead.\n",
      "  storage = storage.append({\"k\":k, \"z\":z, \"w\":w, \"h\":h,\n"
     ]
    },
    {
     "name": "stdout",
     "output_type": "stream",
     "text": [
      "233\n"
     ]
    },
    {
     "name": "stderr",
     "output_type": "stream",
     "text": [
      "C:\\Users\\sebpo\\AppData\\Local\\Temp\\ipykernel_24280\\1739624593.py:33: FutureWarning: The frame.append method is deprecated and will be removed from pandas in a future version. Use pandas.concat instead.\n",
      "  storage = storage.append({\"k\":k, \"z\":z, \"w\":w, \"h\":h,\n"
     ]
    },
    {
     "name": "stdout",
     "output_type": "stream",
     "text": [
      "234\n"
     ]
    },
    {
     "name": "stderr",
     "output_type": "stream",
     "text": [
      "C:\\Users\\sebpo\\AppData\\Local\\Temp\\ipykernel_24280\\1739624593.py:33: FutureWarning: The frame.append method is deprecated and will be removed from pandas in a future version. Use pandas.concat instead.\n",
      "  storage = storage.append({\"k\":k, \"z\":z, \"w\":w, \"h\":h,\n"
     ]
    },
    {
     "name": "stdout",
     "output_type": "stream",
     "text": [
      "235\n"
     ]
    },
    {
     "name": "stderr",
     "output_type": "stream",
     "text": [
      "C:\\Users\\sebpo\\AppData\\Local\\Temp\\ipykernel_24280\\1739624593.py:33: FutureWarning: The frame.append method is deprecated and will be removed from pandas in a future version. Use pandas.concat instead.\n",
      "  storage = storage.append({\"k\":k, \"z\":z, \"w\":w, \"h\":h,\n"
     ]
    },
    {
     "name": "stdout",
     "output_type": "stream",
     "text": [
      "236\n"
     ]
    },
    {
     "name": "stderr",
     "output_type": "stream",
     "text": [
      "C:\\Users\\sebpo\\AppData\\Local\\Temp\\ipykernel_24280\\1739624593.py:33: FutureWarning: The frame.append method is deprecated and will be removed from pandas in a future version. Use pandas.concat instead.\n",
      "  storage = storage.append({\"k\":k, \"z\":z, \"w\":w, \"h\":h,\n"
     ]
    },
    {
     "name": "stdout",
     "output_type": "stream",
     "text": [
      "237\n"
     ]
    },
    {
     "name": "stderr",
     "output_type": "stream",
     "text": [
      "C:\\Users\\sebpo\\AppData\\Local\\Temp\\ipykernel_24280\\1739624593.py:33: FutureWarning: The frame.append method is deprecated and will be removed from pandas in a future version. Use pandas.concat instead.\n",
      "  storage = storage.append({\"k\":k, \"z\":z, \"w\":w, \"h\":h,\n"
     ]
    },
    {
     "name": "stdout",
     "output_type": "stream",
     "text": [
      "238\n"
     ]
    },
    {
     "name": "stderr",
     "output_type": "stream",
     "text": [
      "C:\\Users\\sebpo\\AppData\\Local\\Temp\\ipykernel_24280\\1739624593.py:33: FutureWarning: The frame.append method is deprecated and will be removed from pandas in a future version. Use pandas.concat instead.\n",
      "  storage = storage.append({\"k\":k, \"z\":z, \"w\":w, \"h\":h,\n"
     ]
    },
    {
     "name": "stdout",
     "output_type": "stream",
     "text": [
      "239\n"
     ]
    },
    {
     "name": "stderr",
     "output_type": "stream",
     "text": [
      "C:\\Users\\sebpo\\AppData\\Local\\Temp\\ipykernel_24280\\1739624593.py:33: FutureWarning: The frame.append method is deprecated and will be removed from pandas in a future version. Use pandas.concat instead.\n",
      "  storage = storage.append({\"k\":k, \"z\":z, \"w\":w, \"h\":h,\n"
     ]
    },
    {
     "name": "stdout",
     "output_type": "stream",
     "text": [
      "240\n"
     ]
    },
    {
     "name": "stderr",
     "output_type": "stream",
     "text": [
      "C:\\Users\\sebpo\\AppData\\Local\\Temp\\ipykernel_24280\\1739624593.py:33: FutureWarning: The frame.append method is deprecated and will be removed from pandas in a future version. Use pandas.concat instead.\n",
      "  storage = storage.append({\"k\":k, \"z\":z, \"w\":w, \"h\":h,\n"
     ]
    },
    {
     "name": "stdout",
     "output_type": "stream",
     "text": [
      "241\n"
     ]
    },
    {
     "name": "stderr",
     "output_type": "stream",
     "text": [
      "C:\\Users\\sebpo\\AppData\\Local\\Temp\\ipykernel_24280\\1739624593.py:33: FutureWarning: The frame.append method is deprecated and will be removed from pandas in a future version. Use pandas.concat instead.\n",
      "  storage = storage.append({\"k\":k, \"z\":z, \"w\":w, \"h\":h,\n"
     ]
    },
    {
     "name": "stdout",
     "output_type": "stream",
     "text": [
      "242\n"
     ]
    },
    {
     "name": "stderr",
     "output_type": "stream",
     "text": [
      "C:\\Users\\sebpo\\AppData\\Local\\Temp\\ipykernel_24280\\1739624593.py:33: FutureWarning: The frame.append method is deprecated and will be removed from pandas in a future version. Use pandas.concat instead.\n",
      "  storage = storage.append({\"k\":k, \"z\":z, \"w\":w, \"h\":h,\n"
     ]
    },
    {
     "name": "stdout",
     "output_type": "stream",
     "text": [
      "243\n"
     ]
    },
    {
     "name": "stderr",
     "output_type": "stream",
     "text": [
      "C:\\Users\\sebpo\\AppData\\Local\\Temp\\ipykernel_24280\\1739624593.py:33: FutureWarning: The frame.append method is deprecated and will be removed from pandas in a future version. Use pandas.concat instead.\n",
      "  storage = storage.append({\"k\":k, \"z\":z, \"w\":w, \"h\":h,\n"
     ]
    },
    {
     "name": "stdout",
     "output_type": "stream",
     "text": [
      "244\n"
     ]
    },
    {
     "name": "stderr",
     "output_type": "stream",
     "text": [
      "C:\\Users\\sebpo\\AppData\\Local\\Temp\\ipykernel_24280\\1739624593.py:33: FutureWarning: The frame.append method is deprecated and will be removed from pandas in a future version. Use pandas.concat instead.\n",
      "  storage = storage.append({\"k\":k, \"z\":z, \"w\":w, \"h\":h,\n"
     ]
    },
    {
     "name": "stdout",
     "output_type": "stream",
     "text": [
      "245\n"
     ]
    },
    {
     "name": "stderr",
     "output_type": "stream",
     "text": [
      "C:\\Users\\sebpo\\AppData\\Local\\Temp\\ipykernel_24280\\1739624593.py:33: FutureWarning: The frame.append method is deprecated and will be removed from pandas in a future version. Use pandas.concat instead.\n",
      "  storage = storage.append({\"k\":k, \"z\":z, \"w\":w, \"h\":h,\n"
     ]
    },
    {
     "name": "stdout",
     "output_type": "stream",
     "text": [
      "246\n"
     ]
    },
    {
     "name": "stderr",
     "output_type": "stream",
     "text": [
      "C:\\Users\\sebpo\\AppData\\Local\\Temp\\ipykernel_24280\\1739624593.py:33: FutureWarning: The frame.append method is deprecated and will be removed from pandas in a future version. Use pandas.concat instead.\n",
      "  storage = storage.append({\"k\":k, \"z\":z, \"w\":w, \"h\":h,\n"
     ]
    },
    {
     "name": "stdout",
     "output_type": "stream",
     "text": [
      "247\n"
     ]
    },
    {
     "name": "stderr",
     "output_type": "stream",
     "text": [
      "C:\\Users\\sebpo\\AppData\\Local\\Temp\\ipykernel_24280\\1739624593.py:33: FutureWarning: The frame.append method is deprecated and will be removed from pandas in a future version. Use pandas.concat instead.\n",
      "  storage = storage.append({\"k\":k, \"z\":z, \"w\":w, \"h\":h,\n"
     ]
    },
    {
     "name": "stdout",
     "output_type": "stream",
     "text": [
      "248\n"
     ]
    },
    {
     "name": "stderr",
     "output_type": "stream",
     "text": [
      "C:\\Users\\sebpo\\AppData\\Local\\Temp\\ipykernel_24280\\1739624593.py:33: FutureWarning: The frame.append method is deprecated and will be removed from pandas in a future version. Use pandas.concat instead.\n",
      "  storage = storage.append({\"k\":k, \"z\":z, \"w\":w, \"h\":h,\n"
     ]
    },
    {
     "name": "stdout",
     "output_type": "stream",
     "text": [
      "249\n"
     ]
    },
    {
     "name": "stderr",
     "output_type": "stream",
     "text": [
      "C:\\Users\\sebpo\\AppData\\Local\\Temp\\ipykernel_24280\\1739624593.py:33: FutureWarning: The frame.append method is deprecated and will be removed from pandas in a future version. Use pandas.concat instead.\n",
      "  storage = storage.append({\"k\":k, \"z\":z, \"w\":w, \"h\":h,\n"
     ]
    },
    {
     "name": "stdout",
     "output_type": "stream",
     "text": [
      "250\n"
     ]
    },
    {
     "name": "stderr",
     "output_type": "stream",
     "text": [
      "C:\\Users\\sebpo\\AppData\\Local\\Temp\\ipykernel_24280\\1739624593.py:33: FutureWarning: The frame.append method is deprecated and will be removed from pandas in a future version. Use pandas.concat instead.\n",
      "  storage = storage.append({\"k\":k, \"z\":z, \"w\":w, \"h\":h,\n"
     ]
    },
    {
     "name": "stdout",
     "output_type": "stream",
     "text": [
      "251\n"
     ]
    },
    {
     "name": "stderr",
     "output_type": "stream",
     "text": [
      "C:\\Users\\sebpo\\AppData\\Local\\Temp\\ipykernel_24280\\1739624593.py:33: FutureWarning: The frame.append method is deprecated and will be removed from pandas in a future version. Use pandas.concat instead.\n",
      "  storage = storage.append({\"k\":k, \"z\":z, \"w\":w, \"h\":h,\n"
     ]
    },
    {
     "name": "stdout",
     "output_type": "stream",
     "text": [
      "252\n"
     ]
    },
    {
     "name": "stderr",
     "output_type": "stream",
     "text": [
      "C:\\Users\\sebpo\\AppData\\Local\\Temp\\ipykernel_24280\\1739624593.py:33: FutureWarning: The frame.append method is deprecated and will be removed from pandas in a future version. Use pandas.concat instead.\n",
      "  storage = storage.append({\"k\":k, \"z\":z, \"w\":w, \"h\":h,\n"
     ]
    },
    {
     "name": "stdout",
     "output_type": "stream",
     "text": [
      "253\n"
     ]
    },
    {
     "name": "stderr",
     "output_type": "stream",
     "text": [
      "C:\\Users\\sebpo\\AppData\\Local\\Temp\\ipykernel_24280\\1739624593.py:33: FutureWarning: The frame.append method is deprecated and will be removed from pandas in a future version. Use pandas.concat instead.\n",
      "  storage = storage.append({\"k\":k, \"z\":z, \"w\":w, \"h\":h,\n"
     ]
    },
    {
     "name": "stdout",
     "output_type": "stream",
     "text": [
      "254\n"
     ]
    },
    {
     "name": "stderr",
     "output_type": "stream",
     "text": [
      "C:\\Users\\sebpo\\AppData\\Local\\Temp\\ipykernel_24280\\1739624593.py:33: FutureWarning: The frame.append method is deprecated and will be removed from pandas in a future version. Use pandas.concat instead.\n",
      "  storage = storage.append({\"k\":k, \"z\":z, \"w\":w, \"h\":h,\n"
     ]
    },
    {
     "name": "stdout",
     "output_type": "stream",
     "text": [
      "255\n"
     ]
    },
    {
     "name": "stderr",
     "output_type": "stream",
     "text": [
      "C:\\Users\\sebpo\\AppData\\Local\\Temp\\ipykernel_24280\\1739624593.py:33: FutureWarning: The frame.append method is deprecated and will be removed from pandas in a future version. Use pandas.concat instead.\n",
      "  storage = storage.append({\"k\":k, \"z\":z, \"w\":w, \"h\":h,\n"
     ]
    },
    {
     "name": "stdout",
     "output_type": "stream",
     "text": [
      "256\n"
     ]
    },
    {
     "name": "stderr",
     "output_type": "stream",
     "text": [
      "C:\\Users\\sebpo\\AppData\\Local\\Temp\\ipykernel_24280\\1739624593.py:33: FutureWarning: The frame.append method is deprecated and will be removed from pandas in a future version. Use pandas.concat instead.\n",
      "  storage = storage.append({\"k\":k, \"z\":z, \"w\":w, \"h\":h,\n"
     ]
    },
    {
     "name": "stdout",
     "output_type": "stream",
     "text": [
      "257\n"
     ]
    },
    {
     "name": "stderr",
     "output_type": "stream",
     "text": [
      "C:\\Users\\sebpo\\AppData\\Local\\Temp\\ipykernel_24280\\1739624593.py:33: FutureWarning: The frame.append method is deprecated and will be removed from pandas in a future version. Use pandas.concat instead.\n",
      "  storage = storage.append({\"k\":k, \"z\":z, \"w\":w, \"h\":h,\n"
     ]
    },
    {
     "name": "stdout",
     "output_type": "stream",
     "text": [
      "258\n"
     ]
    },
    {
     "name": "stderr",
     "output_type": "stream",
     "text": [
      "C:\\Users\\sebpo\\AppData\\Local\\Temp\\ipykernel_24280\\1739624593.py:33: FutureWarning: The frame.append method is deprecated and will be removed from pandas in a future version. Use pandas.concat instead.\n",
      "  storage = storage.append({\"k\":k, \"z\":z, \"w\":w, \"h\":h,\n"
     ]
    },
    {
     "name": "stdout",
     "output_type": "stream",
     "text": [
      "259\n"
     ]
    },
    {
     "name": "stderr",
     "output_type": "stream",
     "text": [
      "C:\\Users\\sebpo\\AppData\\Local\\Temp\\ipykernel_24280\\1739624593.py:33: FutureWarning: The frame.append method is deprecated and will be removed from pandas in a future version. Use pandas.concat instead.\n",
      "  storage = storage.append({\"k\":k, \"z\":z, \"w\":w, \"h\":h,\n"
     ]
    },
    {
     "name": "stdout",
     "output_type": "stream",
     "text": [
      "260\n"
     ]
    },
    {
     "name": "stderr",
     "output_type": "stream",
     "text": [
      "C:\\Users\\sebpo\\AppData\\Local\\Temp\\ipykernel_24280\\1739624593.py:33: FutureWarning: The frame.append method is deprecated and will be removed from pandas in a future version. Use pandas.concat instead.\n",
      "  storage = storage.append({\"k\":k, \"z\":z, \"w\":w, \"h\":h,\n"
     ]
    },
    {
     "name": "stdout",
     "output_type": "stream",
     "text": [
      "261\n"
     ]
    },
    {
     "name": "stderr",
     "output_type": "stream",
     "text": [
      "C:\\Users\\sebpo\\AppData\\Local\\Temp\\ipykernel_24280\\1739624593.py:33: FutureWarning: The frame.append method is deprecated and will be removed from pandas in a future version. Use pandas.concat instead.\n",
      "  storage = storage.append({\"k\":k, \"z\":z, \"w\":w, \"h\":h,\n"
     ]
    },
    {
     "name": "stdout",
     "output_type": "stream",
     "text": [
      "262\n"
     ]
    },
    {
     "name": "stderr",
     "output_type": "stream",
     "text": [
      "C:\\Users\\sebpo\\AppData\\Local\\Temp\\ipykernel_24280\\1739624593.py:33: FutureWarning: The frame.append method is deprecated and will be removed from pandas in a future version. Use pandas.concat instead.\n",
      "  storage = storage.append({\"k\":k, \"z\":z, \"w\":w, \"h\":h,\n"
     ]
    },
    {
     "name": "stdout",
     "output_type": "stream",
     "text": [
      "263\n"
     ]
    },
    {
     "name": "stderr",
     "output_type": "stream",
     "text": [
      "C:\\Users\\sebpo\\AppData\\Local\\Temp\\ipykernel_24280\\1739624593.py:33: FutureWarning: The frame.append method is deprecated and will be removed from pandas in a future version. Use pandas.concat instead.\n",
      "  storage = storage.append({\"k\":k, \"z\":z, \"w\":w, \"h\":h,\n"
     ]
    },
    {
     "name": "stdout",
     "output_type": "stream",
     "text": [
      "264\n"
     ]
    },
    {
     "name": "stderr",
     "output_type": "stream",
     "text": [
      "C:\\Users\\sebpo\\AppData\\Local\\Temp\\ipykernel_24280\\1739624593.py:33: FutureWarning: The frame.append method is deprecated and will be removed from pandas in a future version. Use pandas.concat instead.\n",
      "  storage = storage.append({\"k\":k, \"z\":z, \"w\":w, \"h\":h,\n"
     ]
    },
    {
     "name": "stdout",
     "output_type": "stream",
     "text": [
      "265\n"
     ]
    },
    {
     "name": "stderr",
     "output_type": "stream",
     "text": [
      "C:\\Users\\sebpo\\AppData\\Local\\Temp\\ipykernel_24280\\1739624593.py:33: FutureWarning: The frame.append method is deprecated and will be removed from pandas in a future version. Use pandas.concat instead.\n",
      "  storage = storage.append({\"k\":k, \"z\":z, \"w\":w, \"h\":h,\n"
     ]
    },
    {
     "name": "stdout",
     "output_type": "stream",
     "text": [
      "266\n"
     ]
    },
    {
     "name": "stderr",
     "output_type": "stream",
     "text": [
      "C:\\Users\\sebpo\\AppData\\Local\\Temp\\ipykernel_24280\\1739624593.py:33: FutureWarning: The frame.append method is deprecated and will be removed from pandas in a future version. Use pandas.concat instead.\n",
      "  storage = storage.append({\"k\":k, \"z\":z, \"w\":w, \"h\":h,\n"
     ]
    },
    {
     "name": "stdout",
     "output_type": "stream",
     "text": [
      "267\n"
     ]
    },
    {
     "name": "stderr",
     "output_type": "stream",
     "text": [
      "C:\\Users\\sebpo\\AppData\\Local\\Temp\\ipykernel_24280\\1739624593.py:33: FutureWarning: The frame.append method is deprecated and will be removed from pandas in a future version. Use pandas.concat instead.\n",
      "  storage = storage.append({\"k\":k, \"z\":z, \"w\":w, \"h\":h,\n"
     ]
    },
    {
     "name": "stdout",
     "output_type": "stream",
     "text": [
      "268\n"
     ]
    },
    {
     "name": "stderr",
     "output_type": "stream",
     "text": [
      "C:\\Users\\sebpo\\AppData\\Local\\Temp\\ipykernel_24280\\1739624593.py:33: FutureWarning: The frame.append method is deprecated and will be removed from pandas in a future version. Use pandas.concat instead.\n",
      "  storage = storage.append({\"k\":k, \"z\":z, \"w\":w, \"h\":h,\n"
     ]
    },
    {
     "name": "stdout",
     "output_type": "stream",
     "text": [
      "269\n"
     ]
    },
    {
     "name": "stderr",
     "output_type": "stream",
     "text": [
      "C:\\Users\\sebpo\\AppData\\Local\\Temp\\ipykernel_24280\\1739624593.py:33: FutureWarning: The frame.append method is deprecated and will be removed from pandas in a future version. Use pandas.concat instead.\n",
      "  storage = storage.append({\"k\":k, \"z\":z, \"w\":w, \"h\":h,\n"
     ]
    },
    {
     "name": "stdout",
     "output_type": "stream",
     "text": [
      "270\n"
     ]
    },
    {
     "name": "stderr",
     "output_type": "stream",
     "text": [
      "C:\\Users\\sebpo\\AppData\\Local\\Temp\\ipykernel_24280\\1739624593.py:33: FutureWarning: The frame.append method is deprecated and will be removed from pandas in a future version. Use pandas.concat instead.\n",
      "  storage = storage.append({\"k\":k, \"z\":z, \"w\":w, \"h\":h,\n"
     ]
    },
    {
     "name": "stdout",
     "output_type": "stream",
     "text": [
      "271\n"
     ]
    },
    {
     "name": "stderr",
     "output_type": "stream",
     "text": [
      "C:\\Users\\sebpo\\AppData\\Local\\Temp\\ipykernel_24280\\1739624593.py:33: FutureWarning: The frame.append method is deprecated and will be removed from pandas in a future version. Use pandas.concat instead.\n",
      "  storage = storage.append({\"k\":k, \"z\":z, \"w\":w, \"h\":h,\n"
     ]
    },
    {
     "name": "stdout",
     "output_type": "stream",
     "text": [
      "272\n"
     ]
    },
    {
     "name": "stderr",
     "output_type": "stream",
     "text": [
      "C:\\Users\\sebpo\\AppData\\Local\\Temp\\ipykernel_24280\\1739624593.py:33: FutureWarning: The frame.append method is deprecated and will be removed from pandas in a future version. Use pandas.concat instead.\n",
      "  storage = storage.append({\"k\":k, \"z\":z, \"w\":w, \"h\":h,\n"
     ]
    },
    {
     "name": "stdout",
     "output_type": "stream",
     "text": [
      "273\n"
     ]
    },
    {
     "name": "stderr",
     "output_type": "stream",
     "text": [
      "C:\\Users\\sebpo\\AppData\\Local\\Temp\\ipykernel_24280\\1739624593.py:33: FutureWarning: The frame.append method is deprecated and will be removed from pandas in a future version. Use pandas.concat instead.\n",
      "  storage = storage.append({\"k\":k, \"z\":z, \"w\":w, \"h\":h,\n"
     ]
    },
    {
     "name": "stdout",
     "output_type": "stream",
     "text": [
      "274\n"
     ]
    },
    {
     "name": "stderr",
     "output_type": "stream",
     "text": [
      "C:\\Users\\sebpo\\AppData\\Local\\Temp\\ipykernel_24280\\1739624593.py:33: FutureWarning: The frame.append method is deprecated and will be removed from pandas in a future version. Use pandas.concat instead.\n",
      "  storage = storage.append({\"k\":k, \"z\":z, \"w\":w, \"h\":h,\n"
     ]
    },
    {
     "name": "stdout",
     "output_type": "stream",
     "text": [
      "275\n"
     ]
    },
    {
     "name": "stderr",
     "output_type": "stream",
     "text": [
      "C:\\Users\\sebpo\\AppData\\Local\\Temp\\ipykernel_24280\\1739624593.py:33: FutureWarning: The frame.append method is deprecated and will be removed from pandas in a future version. Use pandas.concat instead.\n",
      "  storage = storage.append({\"k\":k, \"z\":z, \"w\":w, \"h\":h,\n"
     ]
    },
    {
     "name": "stdout",
     "output_type": "stream",
     "text": [
      "276\n"
     ]
    },
    {
     "name": "stderr",
     "output_type": "stream",
     "text": [
      "C:\\Users\\sebpo\\AppData\\Local\\Temp\\ipykernel_24280\\1739624593.py:33: FutureWarning: The frame.append method is deprecated and will be removed from pandas in a future version. Use pandas.concat instead.\n",
      "  storage = storage.append({\"k\":k, \"z\":z, \"w\":w, \"h\":h,\n"
     ]
    },
    {
     "name": "stdout",
     "output_type": "stream",
     "text": [
      "277\n"
     ]
    },
    {
     "name": "stderr",
     "output_type": "stream",
     "text": [
      "C:\\Users\\sebpo\\AppData\\Local\\Temp\\ipykernel_24280\\1739624593.py:33: FutureWarning: The frame.append method is deprecated and will be removed from pandas in a future version. Use pandas.concat instead.\n",
      "  storage = storage.append({\"k\":k, \"z\":z, \"w\":w, \"h\":h,\n"
     ]
    },
    {
     "name": "stdout",
     "output_type": "stream",
     "text": [
      "278\n"
     ]
    },
    {
     "name": "stderr",
     "output_type": "stream",
     "text": [
      "C:\\Users\\sebpo\\AppData\\Local\\Temp\\ipykernel_24280\\1739624593.py:33: FutureWarning: The frame.append method is deprecated and will be removed from pandas in a future version. Use pandas.concat instead.\n",
      "  storage = storage.append({\"k\":k, \"z\":z, \"w\":w, \"h\":h,\n"
     ]
    },
    {
     "name": "stdout",
     "output_type": "stream",
     "text": [
      "279\n"
     ]
    },
    {
     "name": "stderr",
     "output_type": "stream",
     "text": [
      "C:\\Users\\sebpo\\AppData\\Local\\Temp\\ipykernel_24280\\1739624593.py:33: FutureWarning: The frame.append method is deprecated and will be removed from pandas in a future version. Use pandas.concat instead.\n",
      "  storage = storage.append({\"k\":k, \"z\":z, \"w\":w, \"h\":h,\n"
     ]
    },
    {
     "name": "stdout",
     "output_type": "stream",
     "text": [
      "280\n"
     ]
    },
    {
     "name": "stderr",
     "output_type": "stream",
     "text": [
      "C:\\Users\\sebpo\\AppData\\Local\\Temp\\ipykernel_24280\\1739624593.py:33: FutureWarning: The frame.append method is deprecated and will be removed from pandas in a future version. Use pandas.concat instead.\n",
      "  storage = storage.append({\"k\":k, \"z\":z, \"w\":w, \"h\":h,\n"
     ]
    },
    {
     "name": "stdout",
     "output_type": "stream",
     "text": [
      "281\n"
     ]
    },
    {
     "name": "stderr",
     "output_type": "stream",
     "text": [
      "C:\\Users\\sebpo\\AppData\\Local\\Temp\\ipykernel_24280\\1739624593.py:33: FutureWarning: The frame.append method is deprecated and will be removed from pandas in a future version. Use pandas.concat instead.\n",
      "  storage = storage.append({\"k\":k, \"z\":z, \"w\":w, \"h\":h,\n"
     ]
    },
    {
     "name": "stdout",
     "output_type": "stream",
     "text": [
      "282\n"
     ]
    },
    {
     "name": "stderr",
     "output_type": "stream",
     "text": [
      "C:\\Users\\sebpo\\AppData\\Local\\Temp\\ipykernel_24280\\1739624593.py:33: FutureWarning: The frame.append method is deprecated and will be removed from pandas in a future version. Use pandas.concat instead.\n",
      "  storage = storage.append({\"k\":k, \"z\":z, \"w\":w, \"h\":h,\n"
     ]
    },
    {
     "name": "stdout",
     "output_type": "stream",
     "text": [
      "283\n"
     ]
    },
    {
     "name": "stderr",
     "output_type": "stream",
     "text": [
      "C:\\Users\\sebpo\\AppData\\Local\\Temp\\ipykernel_24280\\1739624593.py:33: FutureWarning: The frame.append method is deprecated and will be removed from pandas in a future version. Use pandas.concat instead.\n",
      "  storage = storage.append({\"k\":k, \"z\":z, \"w\":w, \"h\":h,\n"
     ]
    },
    {
     "name": "stdout",
     "output_type": "stream",
     "text": [
      "284\n"
     ]
    },
    {
     "name": "stderr",
     "output_type": "stream",
     "text": [
      "C:\\Users\\sebpo\\AppData\\Local\\Temp\\ipykernel_24280\\1739624593.py:33: FutureWarning: The frame.append method is deprecated and will be removed from pandas in a future version. Use pandas.concat instead.\n",
      "  storage = storage.append({\"k\":k, \"z\":z, \"w\":w, \"h\":h,\n"
     ]
    },
    {
     "name": "stdout",
     "output_type": "stream",
     "text": [
      "285\n"
     ]
    },
    {
     "name": "stderr",
     "output_type": "stream",
     "text": [
      "C:\\Users\\sebpo\\AppData\\Local\\Temp\\ipykernel_24280\\1739624593.py:33: FutureWarning: The frame.append method is deprecated and will be removed from pandas in a future version. Use pandas.concat instead.\n",
      "  storage = storage.append({\"k\":k, \"z\":z, \"w\":w, \"h\":h,\n"
     ]
    },
    {
     "name": "stdout",
     "output_type": "stream",
     "text": [
      "286\n"
     ]
    },
    {
     "name": "stderr",
     "output_type": "stream",
     "text": [
      "C:\\Users\\sebpo\\AppData\\Local\\Temp\\ipykernel_24280\\1739624593.py:33: FutureWarning: The frame.append method is deprecated and will be removed from pandas in a future version. Use pandas.concat instead.\n",
      "  storage = storage.append({\"k\":k, \"z\":z, \"w\":w, \"h\":h,\n"
     ]
    },
    {
     "name": "stdout",
     "output_type": "stream",
     "text": [
      "287\n"
     ]
    },
    {
     "name": "stderr",
     "output_type": "stream",
     "text": [
      "C:\\Users\\sebpo\\AppData\\Local\\Temp\\ipykernel_24280\\1739624593.py:33: FutureWarning: The frame.append method is deprecated and will be removed from pandas in a future version. Use pandas.concat instead.\n",
      "  storage = storage.append({\"k\":k, \"z\":z, \"w\":w, \"h\":h,\n"
     ]
    },
    {
     "name": "stdout",
     "output_type": "stream",
     "text": [
      "288\n"
     ]
    },
    {
     "name": "stderr",
     "output_type": "stream",
     "text": [
      "C:\\Users\\sebpo\\AppData\\Local\\Temp\\ipykernel_24280\\1739624593.py:33: FutureWarning: The frame.append method is deprecated and will be removed from pandas in a future version. Use pandas.concat instead.\n",
      "  storage = storage.append({\"k\":k, \"z\":z, \"w\":w, \"h\":h,\n"
     ]
    },
    {
     "name": "stdout",
     "output_type": "stream",
     "text": [
      "289\n"
     ]
    },
    {
     "name": "stderr",
     "output_type": "stream",
     "text": [
      "C:\\Users\\sebpo\\AppData\\Local\\Temp\\ipykernel_24280\\1739624593.py:33: FutureWarning: The frame.append method is deprecated and will be removed from pandas in a future version. Use pandas.concat instead.\n",
      "  storage = storage.append({\"k\":k, \"z\":z, \"w\":w, \"h\":h,\n"
     ]
    },
    {
     "name": "stdout",
     "output_type": "stream",
     "text": [
      "290\n"
     ]
    },
    {
     "name": "stderr",
     "output_type": "stream",
     "text": [
      "C:\\Users\\sebpo\\AppData\\Local\\Temp\\ipykernel_24280\\1739624593.py:33: FutureWarning: The frame.append method is deprecated and will be removed from pandas in a future version. Use pandas.concat instead.\n",
      "  storage = storage.append({\"k\":k, \"z\":z, \"w\":w, \"h\":h,\n"
     ]
    },
    {
     "name": "stdout",
     "output_type": "stream",
     "text": [
      "291\n"
     ]
    },
    {
     "name": "stderr",
     "output_type": "stream",
     "text": [
      "C:\\Users\\sebpo\\AppData\\Local\\Temp\\ipykernel_24280\\1739624593.py:33: FutureWarning: The frame.append method is deprecated and will be removed from pandas in a future version. Use pandas.concat instead.\n",
      "  storage = storage.append({\"k\":k, \"z\":z, \"w\":w, \"h\":h,\n"
     ]
    },
    {
     "name": "stdout",
     "output_type": "stream",
     "text": [
      "292\n"
     ]
    },
    {
     "name": "stderr",
     "output_type": "stream",
     "text": [
      "C:\\Users\\sebpo\\AppData\\Local\\Temp\\ipykernel_24280\\1739624593.py:33: FutureWarning: The frame.append method is deprecated and will be removed from pandas in a future version. Use pandas.concat instead.\n",
      "  storage = storage.append({\"k\":k, \"z\":z, \"w\":w, \"h\":h,\n"
     ]
    },
    {
     "name": "stdout",
     "output_type": "stream",
     "text": [
      "293\n"
     ]
    },
    {
     "name": "stderr",
     "output_type": "stream",
     "text": [
      "C:\\Users\\sebpo\\AppData\\Local\\Temp\\ipykernel_24280\\1739624593.py:33: FutureWarning: The frame.append method is deprecated and will be removed from pandas in a future version. Use pandas.concat instead.\n",
      "  storage = storage.append({\"k\":k, \"z\":z, \"w\":w, \"h\":h,\n"
     ]
    },
    {
     "name": "stdout",
     "output_type": "stream",
     "text": [
      "294\n"
     ]
    },
    {
     "name": "stderr",
     "output_type": "stream",
     "text": [
      "C:\\Users\\sebpo\\AppData\\Local\\Temp\\ipykernel_24280\\1739624593.py:33: FutureWarning: The frame.append method is deprecated and will be removed from pandas in a future version. Use pandas.concat instead.\n",
      "  storage = storage.append({\"k\":k, \"z\":z, \"w\":w, \"h\":h,\n"
     ]
    },
    {
     "name": "stdout",
     "output_type": "stream",
     "text": [
      "295\n"
     ]
    },
    {
     "name": "stderr",
     "output_type": "stream",
     "text": [
      "C:\\Users\\sebpo\\AppData\\Local\\Temp\\ipykernel_24280\\1739624593.py:33: FutureWarning: The frame.append method is deprecated and will be removed from pandas in a future version. Use pandas.concat instead.\n",
      "  storage = storage.append({\"k\":k, \"z\":z, \"w\":w, \"h\":h,\n"
     ]
    },
    {
     "name": "stdout",
     "output_type": "stream",
     "text": [
      "296\n"
     ]
    },
    {
     "name": "stderr",
     "output_type": "stream",
     "text": [
      "C:\\Users\\sebpo\\AppData\\Local\\Temp\\ipykernel_24280\\1739624593.py:33: FutureWarning: The frame.append method is deprecated and will be removed from pandas in a future version. Use pandas.concat instead.\n",
      "  storage = storage.append({\"k\":k, \"z\":z, \"w\":w, \"h\":h,\n"
     ]
    },
    {
     "name": "stdout",
     "output_type": "stream",
     "text": [
      "297\n"
     ]
    },
    {
     "name": "stderr",
     "output_type": "stream",
     "text": [
      "C:\\Users\\sebpo\\AppData\\Local\\Temp\\ipykernel_24280\\1739624593.py:33: FutureWarning: The frame.append method is deprecated and will be removed from pandas in a future version. Use pandas.concat instead.\n",
      "  storage = storage.append({\"k\":k, \"z\":z, \"w\":w, \"h\":h,\n"
     ]
    },
    {
     "name": "stdout",
     "output_type": "stream",
     "text": [
      "298\n"
     ]
    },
    {
     "name": "stderr",
     "output_type": "stream",
     "text": [
      "C:\\Users\\sebpo\\AppData\\Local\\Temp\\ipykernel_24280\\1739624593.py:33: FutureWarning: The frame.append method is deprecated and will be removed from pandas in a future version. Use pandas.concat instead.\n",
      "  storage = storage.append({\"k\":k, \"z\":z, \"w\":w, \"h\":h,\n"
     ]
    },
    {
     "name": "stdout",
     "output_type": "stream",
     "text": [
      "299\n"
     ]
    },
    {
     "name": "stderr",
     "output_type": "stream",
     "text": [
      "C:\\Users\\sebpo\\AppData\\Local\\Temp\\ipykernel_24280\\1739624593.py:33: FutureWarning: The frame.append method is deprecated and will be removed from pandas in a future version. Use pandas.concat instead.\n",
      "  storage = storage.append({\"k\":k, \"z\":z, \"w\":w, \"h\":h,\n"
     ]
    },
    {
     "name": "stdout",
     "output_type": "stream",
     "text": [
      "300\n"
     ]
    },
    {
     "name": "stderr",
     "output_type": "stream",
     "text": [
      "C:\\Users\\sebpo\\AppData\\Local\\Temp\\ipykernel_24280\\1739624593.py:33: FutureWarning: The frame.append method is deprecated and will be removed from pandas in a future version. Use pandas.concat instead.\n",
      "  storage = storage.append({\"k\":k, \"z\":z, \"w\":w, \"h\":h,\n"
     ]
    },
    {
     "name": "stdout",
     "output_type": "stream",
     "text": [
      "301\n"
     ]
    },
    {
     "name": "stderr",
     "output_type": "stream",
     "text": [
      "C:\\Users\\sebpo\\AppData\\Local\\Temp\\ipykernel_24280\\1739624593.py:33: FutureWarning: The frame.append method is deprecated and will be removed from pandas in a future version. Use pandas.concat instead.\n",
      "  storage = storage.append({\"k\":k, \"z\":z, \"w\":w, \"h\":h,\n"
     ]
    },
    {
     "name": "stdout",
     "output_type": "stream",
     "text": [
      "302\n"
     ]
    },
    {
     "name": "stderr",
     "output_type": "stream",
     "text": [
      "C:\\Users\\sebpo\\AppData\\Local\\Temp\\ipykernel_24280\\1739624593.py:33: FutureWarning: The frame.append method is deprecated and will be removed from pandas in a future version. Use pandas.concat instead.\n",
      "  storage = storage.append({\"k\":k, \"z\":z, \"w\":w, \"h\":h,\n"
     ]
    },
    {
     "name": "stdout",
     "output_type": "stream",
     "text": [
      "303\n"
     ]
    },
    {
     "name": "stderr",
     "output_type": "stream",
     "text": [
      "C:\\Users\\sebpo\\AppData\\Local\\Temp\\ipykernel_24280\\1739624593.py:33: FutureWarning: The frame.append method is deprecated and will be removed from pandas in a future version. Use pandas.concat instead.\n",
      "  storage = storage.append({\"k\":k, \"z\":z, \"w\":w, \"h\":h,\n"
     ]
    },
    {
     "name": "stdout",
     "output_type": "stream",
     "text": [
      "304\n"
     ]
    },
    {
     "name": "stderr",
     "output_type": "stream",
     "text": [
      "C:\\Users\\sebpo\\AppData\\Local\\Temp\\ipykernel_24280\\1739624593.py:33: FutureWarning: The frame.append method is deprecated and will be removed from pandas in a future version. Use pandas.concat instead.\n",
      "  storage = storage.append({\"k\":k, \"z\":z, \"w\":w, \"h\":h,\n"
     ]
    },
    {
     "name": "stdout",
     "output_type": "stream",
     "text": [
      "305\n"
     ]
    },
    {
     "name": "stderr",
     "output_type": "stream",
     "text": [
      "C:\\Users\\sebpo\\AppData\\Local\\Temp\\ipykernel_24280\\1739624593.py:33: FutureWarning: The frame.append method is deprecated and will be removed from pandas in a future version. Use pandas.concat instead.\n",
      "  storage = storage.append({\"k\":k, \"z\":z, \"w\":w, \"h\":h,\n"
     ]
    },
    {
     "name": "stdout",
     "output_type": "stream",
     "text": [
      "306\n"
     ]
    },
    {
     "name": "stderr",
     "output_type": "stream",
     "text": [
      "C:\\Users\\sebpo\\AppData\\Local\\Temp\\ipykernel_24280\\1739624593.py:33: FutureWarning: The frame.append method is deprecated and will be removed from pandas in a future version. Use pandas.concat instead.\n",
      "  storage = storage.append({\"k\":k, \"z\":z, \"w\":w, \"h\":h,\n"
     ]
    },
    {
     "name": "stdout",
     "output_type": "stream",
     "text": [
      "307\n"
     ]
    },
    {
     "name": "stderr",
     "output_type": "stream",
     "text": [
      "C:\\Users\\sebpo\\AppData\\Local\\Temp\\ipykernel_24280\\1739624593.py:33: FutureWarning: The frame.append method is deprecated and will be removed from pandas in a future version. Use pandas.concat instead.\n",
      "  storage = storage.append({\"k\":k, \"z\":z, \"w\":w, \"h\":h,\n"
     ]
    },
    {
     "name": "stdout",
     "output_type": "stream",
     "text": [
      "308\n"
     ]
    },
    {
     "name": "stderr",
     "output_type": "stream",
     "text": [
      "C:\\Users\\sebpo\\AppData\\Local\\Temp\\ipykernel_24280\\1739624593.py:33: FutureWarning: The frame.append method is deprecated and will be removed from pandas in a future version. Use pandas.concat instead.\n",
      "  storage = storage.append({\"k\":k, \"z\":z, \"w\":w, \"h\":h,\n"
     ]
    },
    {
     "name": "stdout",
     "output_type": "stream",
     "text": [
      "309\n"
     ]
    },
    {
     "name": "stderr",
     "output_type": "stream",
     "text": [
      "C:\\Users\\sebpo\\AppData\\Local\\Temp\\ipykernel_24280\\1739624593.py:33: FutureWarning: The frame.append method is deprecated and will be removed from pandas in a future version. Use pandas.concat instead.\n",
      "  storage = storage.append({\"k\":k, \"z\":z, \"w\":w, \"h\":h,\n"
     ]
    },
    {
     "name": "stdout",
     "output_type": "stream",
     "text": [
      "310\n"
     ]
    },
    {
     "name": "stderr",
     "output_type": "stream",
     "text": [
      "C:\\Users\\sebpo\\AppData\\Local\\Temp\\ipykernel_24280\\1739624593.py:33: FutureWarning: The frame.append method is deprecated and will be removed from pandas in a future version. Use pandas.concat instead.\n",
      "  storage = storage.append({\"k\":k, \"z\":z, \"w\":w, \"h\":h,\n"
     ]
    },
    {
     "name": "stdout",
     "output_type": "stream",
     "text": [
      "311\n"
     ]
    },
    {
     "name": "stderr",
     "output_type": "stream",
     "text": [
      "C:\\Users\\sebpo\\AppData\\Local\\Temp\\ipykernel_24280\\1739624593.py:33: FutureWarning: The frame.append method is deprecated and will be removed from pandas in a future version. Use pandas.concat instead.\n",
      "  storage = storage.append({\"k\":k, \"z\":z, \"w\":w, \"h\":h,\n"
     ]
    },
    {
     "name": "stdout",
     "output_type": "stream",
     "text": [
      "312\n"
     ]
    },
    {
     "name": "stderr",
     "output_type": "stream",
     "text": [
      "C:\\Users\\sebpo\\AppData\\Local\\Temp\\ipykernel_24280\\1739624593.py:33: FutureWarning: The frame.append method is deprecated and will be removed from pandas in a future version. Use pandas.concat instead.\n",
      "  storage = storage.append({\"k\":k, \"z\":z, \"w\":w, \"h\":h,\n"
     ]
    },
    {
     "name": "stdout",
     "output_type": "stream",
     "text": [
      "313\n"
     ]
    },
    {
     "name": "stderr",
     "output_type": "stream",
     "text": [
      "C:\\Users\\sebpo\\AppData\\Local\\Temp\\ipykernel_24280\\1739624593.py:33: FutureWarning: The frame.append method is deprecated and will be removed from pandas in a future version. Use pandas.concat instead.\n",
      "  storage = storage.append({\"k\":k, \"z\":z, \"w\":w, \"h\":h,\n"
     ]
    },
    {
     "name": "stdout",
     "output_type": "stream",
     "text": [
      "314\n"
     ]
    },
    {
     "name": "stderr",
     "output_type": "stream",
     "text": [
      "C:\\Users\\sebpo\\AppData\\Local\\Temp\\ipykernel_24280\\1739624593.py:33: FutureWarning: The frame.append method is deprecated and will be removed from pandas in a future version. Use pandas.concat instead.\n",
      "  storage = storage.append({\"k\":k, \"z\":z, \"w\":w, \"h\":h,\n"
     ]
    },
    {
     "name": "stdout",
     "output_type": "stream",
     "text": [
      "315\n"
     ]
    },
    {
     "name": "stderr",
     "output_type": "stream",
     "text": [
      "C:\\Users\\sebpo\\AppData\\Local\\Temp\\ipykernel_24280\\1739624593.py:33: FutureWarning: The frame.append method is deprecated and will be removed from pandas in a future version. Use pandas.concat instead.\n",
      "  storage = storage.append({\"k\":k, \"z\":z, \"w\":w, \"h\":h,\n"
     ]
    },
    {
     "name": "stdout",
     "output_type": "stream",
     "text": [
      "316\n"
     ]
    },
    {
     "name": "stderr",
     "output_type": "stream",
     "text": [
      "C:\\Users\\sebpo\\AppData\\Local\\Temp\\ipykernel_24280\\1739624593.py:33: FutureWarning: The frame.append method is deprecated and will be removed from pandas in a future version. Use pandas.concat instead.\n",
      "  storage = storage.append({\"k\":k, \"z\":z, \"w\":w, \"h\":h,\n"
     ]
    },
    {
     "name": "stdout",
     "output_type": "stream",
     "text": [
      "317\n"
     ]
    },
    {
     "name": "stderr",
     "output_type": "stream",
     "text": [
      "C:\\Users\\sebpo\\AppData\\Local\\Temp\\ipykernel_24280\\1739624593.py:33: FutureWarning: The frame.append method is deprecated and will be removed from pandas in a future version. Use pandas.concat instead.\n",
      "  storage = storage.append({\"k\":k, \"z\":z, \"w\":w, \"h\":h,\n"
     ]
    },
    {
     "name": "stdout",
     "output_type": "stream",
     "text": [
      "318\n"
     ]
    },
    {
     "name": "stderr",
     "output_type": "stream",
     "text": [
      "C:\\Users\\sebpo\\AppData\\Local\\Temp\\ipykernel_24280\\1739624593.py:33: FutureWarning: The frame.append method is deprecated and will be removed from pandas in a future version. Use pandas.concat instead.\n",
      "  storage = storage.append({\"k\":k, \"z\":z, \"w\":w, \"h\":h,\n"
     ]
    },
    {
     "name": "stdout",
     "output_type": "stream",
     "text": [
      "319\n"
     ]
    },
    {
     "name": "stderr",
     "output_type": "stream",
     "text": [
      "C:\\Users\\sebpo\\AppData\\Local\\Temp\\ipykernel_24280\\1739624593.py:33: FutureWarning: The frame.append method is deprecated and will be removed from pandas in a future version. Use pandas.concat instead.\n",
      "  storage = storage.append({\"k\":k, \"z\":z, \"w\":w, \"h\":h,\n"
     ]
    },
    {
     "name": "stdout",
     "output_type": "stream",
     "text": [
      "320\n"
     ]
    },
    {
     "name": "stderr",
     "output_type": "stream",
     "text": [
      "C:\\Users\\sebpo\\AppData\\Local\\Temp\\ipykernel_24280\\1739624593.py:33: FutureWarning: The frame.append method is deprecated and will be removed from pandas in a future version. Use pandas.concat instead.\n",
      "  storage = storage.append({\"k\":k, \"z\":z, \"w\":w, \"h\":h,\n"
     ]
    },
    {
     "name": "stdout",
     "output_type": "stream",
     "text": [
      "321\n"
     ]
    },
    {
     "name": "stderr",
     "output_type": "stream",
     "text": [
      "C:\\Users\\sebpo\\AppData\\Local\\Temp\\ipykernel_24280\\1739624593.py:33: FutureWarning: The frame.append method is deprecated and will be removed from pandas in a future version. Use pandas.concat instead.\n",
      "  storage = storage.append({\"k\":k, \"z\":z, \"w\":w, \"h\":h,\n"
     ]
    },
    {
     "name": "stdout",
     "output_type": "stream",
     "text": [
      "322\n"
     ]
    },
    {
     "name": "stderr",
     "output_type": "stream",
     "text": [
      "C:\\Users\\sebpo\\AppData\\Local\\Temp\\ipykernel_24280\\1739624593.py:33: FutureWarning: The frame.append method is deprecated and will be removed from pandas in a future version. Use pandas.concat instead.\n",
      "  storage = storage.append({\"k\":k, \"z\":z, \"w\":w, \"h\":h,\n"
     ]
    },
    {
     "name": "stdout",
     "output_type": "stream",
     "text": [
      "323\n"
     ]
    },
    {
     "name": "stderr",
     "output_type": "stream",
     "text": [
      "C:\\Users\\sebpo\\AppData\\Local\\Temp\\ipykernel_24280\\1739624593.py:33: FutureWarning: The frame.append method is deprecated and will be removed from pandas in a future version. Use pandas.concat instead.\n",
      "  storage = storage.append({\"k\":k, \"z\":z, \"w\":w, \"h\":h,\n"
     ]
    },
    {
     "name": "stdout",
     "output_type": "stream",
     "text": [
      "324\n"
     ]
    },
    {
     "name": "stderr",
     "output_type": "stream",
     "text": [
      "C:\\Users\\sebpo\\AppData\\Local\\Temp\\ipykernel_24280\\1739624593.py:33: FutureWarning: The frame.append method is deprecated and will be removed from pandas in a future version. Use pandas.concat instead.\n",
      "  storage = storage.append({\"k\":k, \"z\":z, \"w\":w, \"h\":h,\n"
     ]
    },
    {
     "name": "stdout",
     "output_type": "stream",
     "text": [
      "325\n"
     ]
    },
    {
     "name": "stderr",
     "output_type": "stream",
     "text": [
      "C:\\Users\\sebpo\\AppData\\Local\\Temp\\ipykernel_24280\\1739624593.py:33: FutureWarning: The frame.append method is deprecated and will be removed from pandas in a future version. Use pandas.concat instead.\n",
      "  storage = storage.append({\"k\":k, \"z\":z, \"w\":w, \"h\":h,\n"
     ]
    },
    {
     "name": "stdout",
     "output_type": "stream",
     "text": [
      "326\n"
     ]
    },
    {
     "name": "stderr",
     "output_type": "stream",
     "text": [
      "C:\\Users\\sebpo\\AppData\\Local\\Temp\\ipykernel_24280\\1739624593.py:33: FutureWarning: The frame.append method is deprecated and will be removed from pandas in a future version. Use pandas.concat instead.\n",
      "  storage = storage.append({\"k\":k, \"z\":z, \"w\":w, \"h\":h,\n"
     ]
    },
    {
     "name": "stdout",
     "output_type": "stream",
     "text": [
      "327\n"
     ]
    },
    {
     "name": "stderr",
     "output_type": "stream",
     "text": [
      "C:\\Users\\sebpo\\AppData\\Local\\Temp\\ipykernel_24280\\1739624593.py:33: FutureWarning: The frame.append method is deprecated and will be removed from pandas in a future version. Use pandas.concat instead.\n",
      "  storage = storage.append({\"k\":k, \"z\":z, \"w\":w, \"h\":h,\n"
     ]
    },
    {
     "name": "stdout",
     "output_type": "stream",
     "text": [
      "328\n"
     ]
    },
    {
     "name": "stderr",
     "output_type": "stream",
     "text": [
      "C:\\Users\\sebpo\\AppData\\Local\\Temp\\ipykernel_24280\\1739624593.py:33: FutureWarning: The frame.append method is deprecated and will be removed from pandas in a future version. Use pandas.concat instead.\n",
      "  storage = storage.append({\"k\":k, \"z\":z, \"w\":w, \"h\":h,\n"
     ]
    },
    {
     "name": "stdout",
     "output_type": "stream",
     "text": [
      "329\n"
     ]
    },
    {
     "name": "stderr",
     "output_type": "stream",
     "text": [
      "C:\\Users\\sebpo\\AppData\\Local\\Temp\\ipykernel_24280\\1739624593.py:33: FutureWarning: The frame.append method is deprecated and will be removed from pandas in a future version. Use pandas.concat instead.\n",
      "  storage = storage.append({\"k\":k, \"z\":z, \"w\":w, \"h\":h,\n"
     ]
    },
    {
     "name": "stdout",
     "output_type": "stream",
     "text": [
      "330\n"
     ]
    },
    {
     "name": "stderr",
     "output_type": "stream",
     "text": [
      "C:\\Users\\sebpo\\AppData\\Local\\Temp\\ipykernel_24280\\1739624593.py:33: FutureWarning: The frame.append method is deprecated and will be removed from pandas in a future version. Use pandas.concat instead.\n",
      "  storage = storage.append({\"k\":k, \"z\":z, \"w\":w, \"h\":h,\n"
     ]
    },
    {
     "name": "stdout",
     "output_type": "stream",
     "text": [
      "331\n"
     ]
    },
    {
     "name": "stderr",
     "output_type": "stream",
     "text": [
      "C:\\Users\\sebpo\\AppData\\Local\\Temp\\ipykernel_24280\\1739624593.py:33: FutureWarning: The frame.append method is deprecated and will be removed from pandas in a future version. Use pandas.concat instead.\n",
      "  storage = storage.append({\"k\":k, \"z\":z, \"w\":w, \"h\":h,\n"
     ]
    },
    {
     "name": "stdout",
     "output_type": "stream",
     "text": [
      "332\n"
     ]
    },
    {
     "name": "stderr",
     "output_type": "stream",
     "text": [
      "C:\\Users\\sebpo\\AppData\\Local\\Temp\\ipykernel_24280\\1739624593.py:33: FutureWarning: The frame.append method is deprecated and will be removed from pandas in a future version. Use pandas.concat instead.\n",
      "  storage = storage.append({\"k\":k, \"z\":z, \"w\":w, \"h\":h,\n"
     ]
    },
    {
     "name": "stdout",
     "output_type": "stream",
     "text": [
      "333\n"
     ]
    },
    {
     "name": "stderr",
     "output_type": "stream",
     "text": [
      "C:\\Users\\sebpo\\AppData\\Local\\Temp\\ipykernel_24280\\1739624593.py:33: FutureWarning: The frame.append method is deprecated and will be removed from pandas in a future version. Use pandas.concat instead.\n",
      "  storage = storage.append({\"k\":k, \"z\":z, \"w\":w, \"h\":h,\n"
     ]
    },
    {
     "name": "stdout",
     "output_type": "stream",
     "text": [
      "334\n"
     ]
    },
    {
     "name": "stderr",
     "output_type": "stream",
     "text": [
      "C:\\Users\\sebpo\\AppData\\Local\\Temp\\ipykernel_24280\\1739624593.py:33: FutureWarning: The frame.append method is deprecated and will be removed from pandas in a future version. Use pandas.concat instead.\n",
      "  storage = storage.append({\"k\":k, \"z\":z, \"w\":w, \"h\":h,\n"
     ]
    },
    {
     "name": "stdout",
     "output_type": "stream",
     "text": [
      "335\n"
     ]
    },
    {
     "name": "stderr",
     "output_type": "stream",
     "text": [
      "C:\\Users\\sebpo\\AppData\\Local\\Temp\\ipykernel_24280\\1739624593.py:33: FutureWarning: The frame.append method is deprecated and will be removed from pandas in a future version. Use pandas.concat instead.\n",
      "  storage = storage.append({\"k\":k, \"z\":z, \"w\":w, \"h\":h,\n"
     ]
    },
    {
     "name": "stdout",
     "output_type": "stream",
     "text": [
      "336\n"
     ]
    },
    {
     "name": "stderr",
     "output_type": "stream",
     "text": [
      "C:\\Users\\sebpo\\AppData\\Local\\Temp\\ipykernel_24280\\1739624593.py:33: FutureWarning: The frame.append method is deprecated and will be removed from pandas in a future version. Use pandas.concat instead.\n",
      "  storage = storage.append({\"k\":k, \"z\":z, \"w\":w, \"h\":h,\n"
     ]
    },
    {
     "name": "stdout",
     "output_type": "stream",
     "text": [
      "337\n"
     ]
    },
    {
     "name": "stderr",
     "output_type": "stream",
     "text": [
      "C:\\Users\\sebpo\\AppData\\Local\\Temp\\ipykernel_24280\\1739624593.py:33: FutureWarning: The frame.append method is deprecated and will be removed from pandas in a future version. Use pandas.concat instead.\n",
      "  storage = storage.append({\"k\":k, \"z\":z, \"w\":w, \"h\":h,\n"
     ]
    },
    {
     "name": "stdout",
     "output_type": "stream",
     "text": [
      "338\n"
     ]
    },
    {
     "name": "stderr",
     "output_type": "stream",
     "text": [
      "C:\\Users\\sebpo\\AppData\\Local\\Temp\\ipykernel_24280\\1739624593.py:33: FutureWarning: The frame.append method is deprecated and will be removed from pandas in a future version. Use pandas.concat instead.\n",
      "  storage = storage.append({\"k\":k, \"z\":z, \"w\":w, \"h\":h,\n"
     ]
    },
    {
     "name": "stdout",
     "output_type": "stream",
     "text": [
      "339\n"
     ]
    },
    {
     "name": "stderr",
     "output_type": "stream",
     "text": [
      "C:\\Users\\sebpo\\AppData\\Local\\Temp\\ipykernel_24280\\1739624593.py:33: FutureWarning: The frame.append method is deprecated and will be removed from pandas in a future version. Use pandas.concat instead.\n",
      "  storage = storage.append({\"k\":k, \"z\":z, \"w\":w, \"h\":h,\n"
     ]
    },
    {
     "name": "stdout",
     "output_type": "stream",
     "text": [
      "340\n"
     ]
    },
    {
     "name": "stderr",
     "output_type": "stream",
     "text": [
      "C:\\Users\\sebpo\\AppData\\Local\\Temp\\ipykernel_24280\\1739624593.py:33: FutureWarning: The frame.append method is deprecated and will be removed from pandas in a future version. Use pandas.concat instead.\n",
      "  storage = storage.append({\"k\":k, \"z\":z, \"w\":w, \"h\":h,\n"
     ]
    },
    {
     "name": "stdout",
     "output_type": "stream",
     "text": [
      "341\n"
     ]
    },
    {
     "name": "stderr",
     "output_type": "stream",
     "text": [
      "C:\\Users\\sebpo\\AppData\\Local\\Temp\\ipykernel_24280\\1739624593.py:33: FutureWarning: The frame.append method is deprecated and will be removed from pandas in a future version. Use pandas.concat instead.\n",
      "  storage = storage.append({\"k\":k, \"z\":z, \"w\":w, \"h\":h,\n"
     ]
    },
    {
     "name": "stdout",
     "output_type": "stream",
     "text": [
      "342\n"
     ]
    },
    {
     "name": "stderr",
     "output_type": "stream",
     "text": [
      "C:\\Users\\sebpo\\AppData\\Local\\Temp\\ipykernel_24280\\1739624593.py:33: FutureWarning: The frame.append method is deprecated and will be removed from pandas in a future version. Use pandas.concat instead.\n",
      "  storage = storage.append({\"k\":k, \"z\":z, \"w\":w, \"h\":h,\n"
     ]
    },
    {
     "name": "stdout",
     "output_type": "stream",
     "text": [
      "343\n"
     ]
    },
    {
     "name": "stderr",
     "output_type": "stream",
     "text": [
      "C:\\Users\\sebpo\\AppData\\Local\\Temp\\ipykernel_24280\\1739624593.py:33: FutureWarning: The frame.append method is deprecated and will be removed from pandas in a future version. Use pandas.concat instead.\n",
      "  storage = storage.append({\"k\":k, \"z\":z, \"w\":w, \"h\":h,\n"
     ]
    },
    {
     "name": "stdout",
     "output_type": "stream",
     "text": [
      "344\n"
     ]
    },
    {
     "name": "stderr",
     "output_type": "stream",
     "text": [
      "C:\\Users\\sebpo\\AppData\\Local\\Temp\\ipykernel_24280\\1739624593.py:33: FutureWarning: The frame.append method is deprecated and will be removed from pandas in a future version. Use pandas.concat instead.\n",
      "  storage = storage.append({\"k\":k, \"z\":z, \"w\":w, \"h\":h,\n"
     ]
    },
    {
     "name": "stdout",
     "output_type": "stream",
     "text": [
      "345\n"
     ]
    },
    {
     "name": "stderr",
     "output_type": "stream",
     "text": [
      "C:\\Users\\sebpo\\AppData\\Local\\Temp\\ipykernel_24280\\1739624593.py:33: FutureWarning: The frame.append method is deprecated and will be removed from pandas in a future version. Use pandas.concat instead.\n",
      "  storage = storage.append({\"k\":k, \"z\":z, \"w\":w, \"h\":h,\n"
     ]
    },
    {
     "name": "stdout",
     "output_type": "stream",
     "text": [
      "346\n"
     ]
    },
    {
     "name": "stderr",
     "output_type": "stream",
     "text": [
      "C:\\Users\\sebpo\\AppData\\Local\\Temp\\ipykernel_24280\\1739624593.py:33: FutureWarning: The frame.append method is deprecated and will be removed from pandas in a future version. Use pandas.concat instead.\n",
      "  storage = storage.append({\"k\":k, \"z\":z, \"w\":w, \"h\":h,\n"
     ]
    },
    {
     "name": "stdout",
     "output_type": "stream",
     "text": [
      "347\n"
     ]
    },
    {
     "name": "stderr",
     "output_type": "stream",
     "text": [
      "C:\\Users\\sebpo\\AppData\\Local\\Temp\\ipykernel_24280\\1739624593.py:33: FutureWarning: The frame.append method is deprecated and will be removed from pandas in a future version. Use pandas.concat instead.\n",
      "  storage = storage.append({\"k\":k, \"z\":z, \"w\":w, \"h\":h,\n"
     ]
    },
    {
     "name": "stdout",
     "output_type": "stream",
     "text": [
      "348\n"
     ]
    },
    {
     "name": "stderr",
     "output_type": "stream",
     "text": [
      "C:\\Users\\sebpo\\AppData\\Local\\Temp\\ipykernel_24280\\1739624593.py:33: FutureWarning: The frame.append method is deprecated and will be removed from pandas in a future version. Use pandas.concat instead.\n",
      "  storage = storage.append({\"k\":k, \"z\":z, \"w\":w, \"h\":h,\n"
     ]
    },
    {
     "name": "stdout",
     "output_type": "stream",
     "text": [
      "349\n"
     ]
    },
    {
     "name": "stderr",
     "output_type": "stream",
     "text": [
      "C:\\Users\\sebpo\\AppData\\Local\\Temp\\ipykernel_24280\\1739624593.py:33: FutureWarning: The frame.append method is deprecated and will be removed from pandas in a future version. Use pandas.concat instead.\n",
      "  storage = storage.append({\"k\":k, \"z\":z, \"w\":w, \"h\":h,\n"
     ]
    },
    {
     "name": "stdout",
     "output_type": "stream",
     "text": [
      "350\n"
     ]
    },
    {
     "name": "stderr",
     "output_type": "stream",
     "text": [
      "C:\\Users\\sebpo\\AppData\\Local\\Temp\\ipykernel_24280\\1739624593.py:33: FutureWarning: The frame.append method is deprecated and will be removed from pandas in a future version. Use pandas.concat instead.\n",
      "  storage = storage.append({\"k\":k, \"z\":z, \"w\":w, \"h\":h,\n"
     ]
    },
    {
     "name": "stdout",
     "output_type": "stream",
     "text": [
      "351\n"
     ]
    },
    {
     "name": "stderr",
     "output_type": "stream",
     "text": [
      "C:\\Users\\sebpo\\AppData\\Local\\Temp\\ipykernel_24280\\1739624593.py:33: FutureWarning: The frame.append method is deprecated and will be removed from pandas in a future version. Use pandas.concat instead.\n",
      "  storage = storage.append({\"k\":k, \"z\":z, \"w\":w, \"h\":h,\n"
     ]
    },
    {
     "name": "stdout",
     "output_type": "stream",
     "text": [
      "352\n"
     ]
    },
    {
     "name": "stderr",
     "output_type": "stream",
     "text": [
      "C:\\Users\\sebpo\\AppData\\Local\\Temp\\ipykernel_24280\\1739624593.py:33: FutureWarning: The frame.append method is deprecated and will be removed from pandas in a future version. Use pandas.concat instead.\n",
      "  storage = storage.append({\"k\":k, \"z\":z, \"w\":w, \"h\":h,\n"
     ]
    },
    {
     "name": "stdout",
     "output_type": "stream",
     "text": [
      "353\n"
     ]
    },
    {
     "name": "stderr",
     "output_type": "stream",
     "text": [
      "C:\\Users\\sebpo\\AppData\\Local\\Temp\\ipykernel_24280\\1739624593.py:33: FutureWarning: The frame.append method is deprecated and will be removed from pandas in a future version. Use pandas.concat instead.\n",
      "  storage = storage.append({\"k\":k, \"z\":z, \"w\":w, \"h\":h,\n"
     ]
    },
    {
     "name": "stdout",
     "output_type": "stream",
     "text": [
      "354\n"
     ]
    },
    {
     "name": "stderr",
     "output_type": "stream",
     "text": [
      "C:\\Users\\sebpo\\AppData\\Local\\Temp\\ipykernel_24280\\1739624593.py:33: FutureWarning: The frame.append method is deprecated and will be removed from pandas in a future version. Use pandas.concat instead.\n",
      "  storage = storage.append({\"k\":k, \"z\":z, \"w\":w, \"h\":h,\n"
     ]
    },
    {
     "name": "stdout",
     "output_type": "stream",
     "text": [
      "355\n"
     ]
    },
    {
     "name": "stderr",
     "output_type": "stream",
     "text": [
      "C:\\Users\\sebpo\\AppData\\Local\\Temp\\ipykernel_24280\\1739624593.py:33: FutureWarning: The frame.append method is deprecated and will be removed from pandas in a future version. Use pandas.concat instead.\n",
      "  storage = storage.append({\"k\":k, \"z\":z, \"w\":w, \"h\":h,\n"
     ]
    },
    {
     "name": "stdout",
     "output_type": "stream",
     "text": [
      "356\n"
     ]
    },
    {
     "name": "stderr",
     "output_type": "stream",
     "text": [
      "C:\\Users\\sebpo\\AppData\\Local\\Temp\\ipykernel_24280\\1739624593.py:33: FutureWarning: The frame.append method is deprecated and will be removed from pandas in a future version. Use pandas.concat instead.\n",
      "  storage = storage.append({\"k\":k, \"z\":z, \"w\":w, \"h\":h,\n"
     ]
    },
    {
     "name": "stdout",
     "output_type": "stream",
     "text": [
      "357\n"
     ]
    },
    {
     "name": "stderr",
     "output_type": "stream",
     "text": [
      "C:\\Users\\sebpo\\AppData\\Local\\Temp\\ipykernel_24280\\1739624593.py:33: FutureWarning: The frame.append method is deprecated and will be removed from pandas in a future version. Use pandas.concat instead.\n",
      "  storage = storage.append({\"k\":k, \"z\":z, \"w\":w, \"h\":h,\n"
     ]
    },
    {
     "name": "stdout",
     "output_type": "stream",
     "text": [
      "358\n"
     ]
    },
    {
     "name": "stderr",
     "output_type": "stream",
     "text": [
      "C:\\Users\\sebpo\\AppData\\Local\\Temp\\ipykernel_24280\\1739624593.py:33: FutureWarning: The frame.append method is deprecated and will be removed from pandas in a future version. Use pandas.concat instead.\n",
      "  storage = storage.append({\"k\":k, \"z\":z, \"w\":w, \"h\":h,\n"
     ]
    },
    {
     "name": "stdout",
     "output_type": "stream",
     "text": [
      "359\n"
     ]
    },
    {
     "name": "stderr",
     "output_type": "stream",
     "text": [
      "C:\\Users\\sebpo\\AppData\\Local\\Temp\\ipykernel_24280\\1739624593.py:33: FutureWarning: The frame.append method is deprecated and will be removed from pandas in a future version. Use pandas.concat instead.\n",
      "  storage = storage.append({\"k\":k, \"z\":z, \"w\":w, \"h\":h,\n"
     ]
    },
    {
     "name": "stdout",
     "output_type": "stream",
     "text": [
      "360\n"
     ]
    },
    {
     "name": "stderr",
     "output_type": "stream",
     "text": [
      "C:\\Users\\sebpo\\AppData\\Local\\Temp\\ipykernel_24280\\1739624593.py:33: FutureWarning: The frame.append method is deprecated and will be removed from pandas in a future version. Use pandas.concat instead.\n",
      "  storage = storage.append({\"k\":k, \"z\":z, \"w\":w, \"h\":h,\n"
     ]
    },
    {
     "name": "stdout",
     "output_type": "stream",
     "text": [
      "361\n"
     ]
    },
    {
     "name": "stderr",
     "output_type": "stream",
     "text": [
      "C:\\Users\\sebpo\\AppData\\Local\\Temp\\ipykernel_24280\\1739624593.py:33: FutureWarning: The frame.append method is deprecated and will be removed from pandas in a future version. Use pandas.concat instead.\n",
      "  storage = storage.append({\"k\":k, \"z\":z, \"w\":w, \"h\":h,\n"
     ]
    },
    {
     "name": "stdout",
     "output_type": "stream",
     "text": [
      "362\n"
     ]
    },
    {
     "name": "stderr",
     "output_type": "stream",
     "text": [
      "C:\\Users\\sebpo\\AppData\\Local\\Temp\\ipykernel_24280\\1739624593.py:33: FutureWarning: The frame.append method is deprecated and will be removed from pandas in a future version. Use pandas.concat instead.\n",
      "  storage = storage.append({\"k\":k, \"z\":z, \"w\":w, \"h\":h,\n"
     ]
    },
    {
     "name": "stdout",
     "output_type": "stream",
     "text": [
      "363\n"
     ]
    },
    {
     "name": "stderr",
     "output_type": "stream",
     "text": [
      "C:\\Users\\sebpo\\AppData\\Local\\Temp\\ipykernel_24280\\1739624593.py:33: FutureWarning: The frame.append method is deprecated and will be removed from pandas in a future version. Use pandas.concat instead.\n",
      "  storage = storage.append({\"k\":k, \"z\":z, \"w\":w, \"h\":h,\n"
     ]
    },
    {
     "name": "stdout",
     "output_type": "stream",
     "text": [
      "364\n"
     ]
    },
    {
     "name": "stderr",
     "output_type": "stream",
     "text": [
      "C:\\Users\\sebpo\\AppData\\Local\\Temp\\ipykernel_24280\\1739624593.py:33: FutureWarning: The frame.append method is deprecated and will be removed from pandas in a future version. Use pandas.concat instead.\n",
      "  storage = storage.append({\"k\":k, \"z\":z, \"w\":w, \"h\":h,\n"
     ]
    },
    {
     "name": "stdout",
     "output_type": "stream",
     "text": [
      "365\n"
     ]
    },
    {
     "name": "stderr",
     "output_type": "stream",
     "text": [
      "C:\\Users\\sebpo\\AppData\\Local\\Temp\\ipykernel_24280\\1739624593.py:33: FutureWarning: The frame.append method is deprecated and will be removed from pandas in a future version. Use pandas.concat instead.\n",
      "  storage = storage.append({\"k\":k, \"z\":z, \"w\":w, \"h\":h,\n"
     ]
    },
    {
     "name": "stdout",
     "output_type": "stream",
     "text": [
      "366\n"
     ]
    },
    {
     "name": "stderr",
     "output_type": "stream",
     "text": [
      "C:\\Users\\sebpo\\AppData\\Local\\Temp\\ipykernel_24280\\1739624593.py:33: FutureWarning: The frame.append method is deprecated and will be removed from pandas in a future version. Use pandas.concat instead.\n",
      "  storage = storage.append({\"k\":k, \"z\":z, \"w\":w, \"h\":h,\n"
     ]
    },
    {
     "name": "stdout",
     "output_type": "stream",
     "text": [
      "367\n"
     ]
    },
    {
     "name": "stderr",
     "output_type": "stream",
     "text": [
      "C:\\Users\\sebpo\\AppData\\Local\\Temp\\ipykernel_24280\\1739624593.py:33: FutureWarning: The frame.append method is deprecated and will be removed from pandas in a future version. Use pandas.concat instead.\n",
      "  storage = storage.append({\"k\":k, \"z\":z, \"w\":w, \"h\":h,\n"
     ]
    },
    {
     "name": "stdout",
     "output_type": "stream",
     "text": [
      "368\n"
     ]
    },
    {
     "name": "stderr",
     "output_type": "stream",
     "text": [
      "C:\\Users\\sebpo\\AppData\\Local\\Temp\\ipykernel_24280\\1739624593.py:33: FutureWarning: The frame.append method is deprecated and will be removed from pandas in a future version. Use pandas.concat instead.\n",
      "  storage = storage.append({\"k\":k, \"z\":z, \"w\":w, \"h\":h,\n"
     ]
    },
    {
     "name": "stdout",
     "output_type": "stream",
     "text": [
      "369\n"
     ]
    },
    {
     "name": "stderr",
     "output_type": "stream",
     "text": [
      "C:\\Users\\sebpo\\AppData\\Local\\Temp\\ipykernel_24280\\1739624593.py:33: FutureWarning: The frame.append method is deprecated and will be removed from pandas in a future version. Use pandas.concat instead.\n",
      "  storage = storage.append({\"k\":k, \"z\":z, \"w\":w, \"h\":h,\n"
     ]
    },
    {
     "name": "stdout",
     "output_type": "stream",
     "text": [
      "370\n"
     ]
    },
    {
     "name": "stderr",
     "output_type": "stream",
     "text": [
      "C:\\Users\\sebpo\\AppData\\Local\\Temp\\ipykernel_24280\\1739624593.py:33: FutureWarning: The frame.append method is deprecated and will be removed from pandas in a future version. Use pandas.concat instead.\n",
      "  storage = storage.append({\"k\":k, \"z\":z, \"w\":w, \"h\":h,\n"
     ]
    },
    {
     "name": "stdout",
     "output_type": "stream",
     "text": [
      "371\n"
     ]
    },
    {
     "name": "stderr",
     "output_type": "stream",
     "text": [
      "C:\\Users\\sebpo\\AppData\\Local\\Temp\\ipykernel_24280\\1739624593.py:33: FutureWarning: The frame.append method is deprecated and will be removed from pandas in a future version. Use pandas.concat instead.\n",
      "  storage = storage.append({\"k\":k, \"z\":z, \"w\":w, \"h\":h,\n"
     ]
    },
    {
     "name": "stdout",
     "output_type": "stream",
     "text": [
      "372\n"
     ]
    },
    {
     "name": "stderr",
     "output_type": "stream",
     "text": [
      "C:\\Users\\sebpo\\AppData\\Local\\Temp\\ipykernel_24280\\1739624593.py:33: FutureWarning: The frame.append method is deprecated and will be removed from pandas in a future version. Use pandas.concat instead.\n",
      "  storage = storage.append({\"k\":k, \"z\":z, \"w\":w, \"h\":h,\n"
     ]
    },
    {
     "name": "stdout",
     "output_type": "stream",
     "text": [
      "373\n"
     ]
    },
    {
     "name": "stderr",
     "output_type": "stream",
     "text": [
      "C:\\Users\\sebpo\\AppData\\Local\\Temp\\ipykernel_24280\\1739624593.py:33: FutureWarning: The frame.append method is deprecated and will be removed from pandas in a future version. Use pandas.concat instead.\n",
      "  storage = storage.append({\"k\":k, \"z\":z, \"w\":w, \"h\":h,\n"
     ]
    },
    {
     "name": "stdout",
     "output_type": "stream",
     "text": [
      "374\n"
     ]
    },
    {
     "name": "stderr",
     "output_type": "stream",
     "text": [
      "C:\\Users\\sebpo\\AppData\\Local\\Temp\\ipykernel_24280\\1739624593.py:33: FutureWarning: The frame.append method is deprecated and will be removed from pandas in a future version. Use pandas.concat instead.\n",
      "  storage = storage.append({\"k\":k, \"z\":z, \"w\":w, \"h\":h,\n"
     ]
    },
    {
     "name": "stdout",
     "output_type": "stream",
     "text": [
      "375\n"
     ]
    },
    {
     "name": "stderr",
     "output_type": "stream",
     "text": [
      "C:\\Users\\sebpo\\AppData\\Local\\Temp\\ipykernel_24280\\1739624593.py:33: FutureWarning: The frame.append method is deprecated and will be removed from pandas in a future version. Use pandas.concat instead.\n",
      "  storage = storage.append({\"k\":k, \"z\":z, \"w\":w, \"h\":h,\n"
     ]
    },
    {
     "name": "stdout",
     "output_type": "stream",
     "text": [
      "376\n"
     ]
    },
    {
     "name": "stderr",
     "output_type": "stream",
     "text": [
      "C:\\Users\\sebpo\\AppData\\Local\\Temp\\ipykernel_24280\\1739624593.py:33: FutureWarning: The frame.append method is deprecated and will be removed from pandas in a future version. Use pandas.concat instead.\n",
      "  storage = storage.append({\"k\":k, \"z\":z, \"w\":w, \"h\":h,\n"
     ]
    },
    {
     "name": "stdout",
     "output_type": "stream",
     "text": [
      "377\n"
     ]
    },
    {
     "name": "stderr",
     "output_type": "stream",
     "text": [
      "C:\\Users\\sebpo\\AppData\\Local\\Temp\\ipykernel_24280\\1739624593.py:33: FutureWarning: The frame.append method is deprecated and will be removed from pandas in a future version. Use pandas.concat instead.\n",
      "  storage = storage.append({\"k\":k, \"z\":z, \"w\":w, \"h\":h,\n"
     ]
    },
    {
     "name": "stdout",
     "output_type": "stream",
     "text": [
      "378\n"
     ]
    },
    {
     "name": "stderr",
     "output_type": "stream",
     "text": [
      "C:\\Users\\sebpo\\AppData\\Local\\Temp\\ipykernel_24280\\1739624593.py:33: FutureWarning: The frame.append method is deprecated and will be removed from pandas in a future version. Use pandas.concat instead.\n",
      "  storage = storage.append({\"k\":k, \"z\":z, \"w\":w, \"h\":h,\n"
     ]
    },
    {
     "name": "stdout",
     "output_type": "stream",
     "text": [
      "379\n"
     ]
    },
    {
     "name": "stderr",
     "output_type": "stream",
     "text": [
      "C:\\Users\\sebpo\\AppData\\Local\\Temp\\ipykernel_24280\\1739624593.py:33: FutureWarning: The frame.append method is deprecated and will be removed from pandas in a future version. Use pandas.concat instead.\n",
      "  storage = storage.append({\"k\":k, \"z\":z, \"w\":w, \"h\":h,\n"
     ]
    },
    {
     "name": "stdout",
     "output_type": "stream",
     "text": [
      "380\n"
     ]
    },
    {
     "name": "stderr",
     "output_type": "stream",
     "text": [
      "C:\\Users\\sebpo\\AppData\\Local\\Temp\\ipykernel_24280\\1739624593.py:33: FutureWarning: The frame.append method is deprecated and will be removed from pandas in a future version. Use pandas.concat instead.\n",
      "  storage = storage.append({\"k\":k, \"z\":z, \"w\":w, \"h\":h,\n"
     ]
    },
    {
     "name": "stdout",
     "output_type": "stream",
     "text": [
      "381\n"
     ]
    },
    {
     "name": "stderr",
     "output_type": "stream",
     "text": [
      "C:\\Users\\sebpo\\AppData\\Local\\Temp\\ipykernel_24280\\1739624593.py:33: FutureWarning: The frame.append method is deprecated and will be removed from pandas in a future version. Use pandas.concat instead.\n",
      "  storage = storage.append({\"k\":k, \"z\":z, \"w\":w, \"h\":h,\n"
     ]
    },
    {
     "name": "stdout",
     "output_type": "stream",
     "text": [
      "382\n"
     ]
    },
    {
     "name": "stderr",
     "output_type": "stream",
     "text": [
      "C:\\Users\\sebpo\\AppData\\Local\\Temp\\ipykernel_24280\\1739624593.py:33: FutureWarning: The frame.append method is deprecated and will be removed from pandas in a future version. Use pandas.concat instead.\n",
      "  storage = storage.append({\"k\":k, \"z\":z, \"w\":w, \"h\":h,\n"
     ]
    },
    {
     "name": "stdout",
     "output_type": "stream",
     "text": [
      "383\n"
     ]
    },
    {
     "name": "stderr",
     "output_type": "stream",
     "text": [
      "C:\\Users\\sebpo\\AppData\\Local\\Temp\\ipykernel_24280\\1739624593.py:33: FutureWarning: The frame.append method is deprecated and will be removed from pandas in a future version. Use pandas.concat instead.\n",
      "  storage = storage.append({\"k\":k, \"z\":z, \"w\":w, \"h\":h,\n"
     ]
    },
    {
     "name": "stdout",
     "output_type": "stream",
     "text": [
      "384\n"
     ]
    },
    {
     "name": "stderr",
     "output_type": "stream",
     "text": [
      "C:\\Users\\sebpo\\AppData\\Local\\Temp\\ipykernel_24280\\1739624593.py:33: FutureWarning: The frame.append method is deprecated and will be removed from pandas in a future version. Use pandas.concat instead.\n",
      "  storage = storage.append({\"k\":k, \"z\":z, \"w\":w, \"h\":h,\n"
     ]
    },
    {
     "name": "stdout",
     "output_type": "stream",
     "text": [
      "385\n"
     ]
    },
    {
     "name": "stderr",
     "output_type": "stream",
     "text": [
      "C:\\Users\\sebpo\\AppData\\Local\\Temp\\ipykernel_24280\\1739624593.py:33: FutureWarning: The frame.append method is deprecated and will be removed from pandas in a future version. Use pandas.concat instead.\n",
      "  storage = storage.append({\"k\":k, \"z\":z, \"w\":w, \"h\":h,\n"
     ]
    },
    {
     "name": "stdout",
     "output_type": "stream",
     "text": [
      "386\n"
     ]
    },
    {
     "name": "stderr",
     "output_type": "stream",
     "text": [
      "C:\\Users\\sebpo\\AppData\\Local\\Temp\\ipykernel_24280\\1739624593.py:33: FutureWarning: The frame.append method is deprecated and will be removed from pandas in a future version. Use pandas.concat instead.\n",
      "  storage = storage.append({\"k\":k, \"z\":z, \"w\":w, \"h\":h,\n"
     ]
    },
    {
     "name": "stdout",
     "output_type": "stream",
     "text": [
      "387\n"
     ]
    },
    {
     "name": "stderr",
     "output_type": "stream",
     "text": [
      "C:\\Users\\sebpo\\AppData\\Local\\Temp\\ipykernel_24280\\1739624593.py:33: FutureWarning: The frame.append method is deprecated and will be removed from pandas in a future version. Use pandas.concat instead.\n",
      "  storage = storage.append({\"k\":k, \"z\":z, \"w\":w, \"h\":h,\n"
     ]
    },
    {
     "name": "stdout",
     "output_type": "stream",
     "text": [
      "388\n"
     ]
    },
    {
     "name": "stderr",
     "output_type": "stream",
     "text": [
      "C:\\Users\\sebpo\\AppData\\Local\\Temp\\ipykernel_24280\\1739624593.py:33: FutureWarning: The frame.append method is deprecated and will be removed from pandas in a future version. Use pandas.concat instead.\n",
      "  storage = storage.append({\"k\":k, \"z\":z, \"w\":w, \"h\":h,\n"
     ]
    },
    {
     "name": "stdout",
     "output_type": "stream",
     "text": [
      "389\n"
     ]
    },
    {
     "name": "stderr",
     "output_type": "stream",
     "text": [
      "C:\\Users\\sebpo\\AppData\\Local\\Temp\\ipykernel_24280\\1739624593.py:33: FutureWarning: The frame.append method is deprecated and will be removed from pandas in a future version. Use pandas.concat instead.\n",
      "  storage = storage.append({\"k\":k, \"z\":z, \"w\":w, \"h\":h,\n"
     ]
    },
    {
     "name": "stdout",
     "output_type": "stream",
     "text": [
      "390\n"
     ]
    },
    {
     "name": "stderr",
     "output_type": "stream",
     "text": [
      "C:\\Users\\sebpo\\AppData\\Local\\Temp\\ipykernel_24280\\1739624593.py:33: FutureWarning: The frame.append method is deprecated and will be removed from pandas in a future version. Use pandas.concat instead.\n",
      "  storage = storage.append({\"k\":k, \"z\":z, \"w\":w, \"h\":h,\n"
     ]
    },
    {
     "name": "stdout",
     "output_type": "stream",
     "text": [
      "391\n"
     ]
    },
    {
     "name": "stderr",
     "output_type": "stream",
     "text": [
      "C:\\Users\\sebpo\\AppData\\Local\\Temp\\ipykernel_24280\\1739624593.py:33: FutureWarning: The frame.append method is deprecated and will be removed from pandas in a future version. Use pandas.concat instead.\n",
      "  storage = storage.append({\"k\":k, \"z\":z, \"w\":w, \"h\":h,\n"
     ]
    },
    {
     "name": "stdout",
     "output_type": "stream",
     "text": [
      "392\n"
     ]
    },
    {
     "name": "stderr",
     "output_type": "stream",
     "text": [
      "C:\\Users\\sebpo\\AppData\\Local\\Temp\\ipykernel_24280\\1739624593.py:33: FutureWarning: The frame.append method is deprecated and will be removed from pandas in a future version. Use pandas.concat instead.\n",
      "  storage = storage.append({\"k\":k, \"z\":z, \"w\":w, \"h\":h,\n"
     ]
    },
    {
     "name": "stdout",
     "output_type": "stream",
     "text": [
      "393\n"
     ]
    },
    {
     "name": "stderr",
     "output_type": "stream",
     "text": [
      "C:\\Users\\sebpo\\AppData\\Local\\Temp\\ipykernel_24280\\1739624593.py:33: FutureWarning: The frame.append method is deprecated and will be removed from pandas in a future version. Use pandas.concat instead.\n",
      "  storage = storage.append({\"k\":k, \"z\":z, \"w\":w, \"h\":h,\n"
     ]
    },
    {
     "name": "stdout",
     "output_type": "stream",
     "text": [
      "394\n"
     ]
    },
    {
     "name": "stderr",
     "output_type": "stream",
     "text": [
      "C:\\Users\\sebpo\\AppData\\Local\\Temp\\ipykernel_24280\\1739624593.py:33: FutureWarning: The frame.append method is deprecated and will be removed from pandas in a future version. Use pandas.concat instead.\n",
      "  storage = storage.append({\"k\":k, \"z\":z, \"w\":w, \"h\":h,\n"
     ]
    },
    {
     "name": "stdout",
     "output_type": "stream",
     "text": [
      "395\n"
     ]
    },
    {
     "name": "stderr",
     "output_type": "stream",
     "text": [
      "C:\\Users\\sebpo\\AppData\\Local\\Temp\\ipykernel_24280\\1739624593.py:33: FutureWarning: The frame.append method is deprecated and will be removed from pandas in a future version. Use pandas.concat instead.\n",
      "  storage = storage.append({\"k\":k, \"z\":z, \"w\":w, \"h\":h,\n"
     ]
    },
    {
     "name": "stdout",
     "output_type": "stream",
     "text": [
      "396\n"
     ]
    },
    {
     "name": "stderr",
     "output_type": "stream",
     "text": [
      "C:\\Users\\sebpo\\AppData\\Local\\Temp\\ipykernel_24280\\1739624593.py:33: FutureWarning: The frame.append method is deprecated and will be removed from pandas in a future version. Use pandas.concat instead.\n",
      "  storage = storage.append({\"k\":k, \"z\":z, \"w\":w, \"h\":h,\n"
     ]
    },
    {
     "name": "stdout",
     "output_type": "stream",
     "text": [
      "397\n"
     ]
    },
    {
     "name": "stderr",
     "output_type": "stream",
     "text": [
      "C:\\Users\\sebpo\\AppData\\Local\\Temp\\ipykernel_24280\\1739624593.py:33: FutureWarning: The frame.append method is deprecated and will be removed from pandas in a future version. Use pandas.concat instead.\n",
      "  storage = storage.append({\"k\":k, \"z\":z, \"w\":w, \"h\":h,\n"
     ]
    },
    {
     "name": "stdout",
     "output_type": "stream",
     "text": [
      "398\n"
     ]
    },
    {
     "name": "stderr",
     "output_type": "stream",
     "text": [
      "C:\\Users\\sebpo\\AppData\\Local\\Temp\\ipykernel_24280\\1739624593.py:33: FutureWarning: The frame.append method is deprecated and will be removed from pandas in a future version. Use pandas.concat instead.\n",
      "  storage = storage.append({\"k\":k, \"z\":z, \"w\":w, \"h\":h,\n"
     ]
    },
    {
     "name": "stdout",
     "output_type": "stream",
     "text": [
      "399\n"
     ]
    },
    {
     "name": "stderr",
     "output_type": "stream",
     "text": [
      "C:\\Users\\sebpo\\AppData\\Local\\Temp\\ipykernel_24280\\1739624593.py:33: FutureWarning: The frame.append method is deprecated and will be removed from pandas in a future version. Use pandas.concat instead.\n",
      "  storage = storage.append({\"k\":k, \"z\":z, \"w\":w, \"h\":h,\n"
     ]
    },
    {
     "name": "stdout",
     "output_type": "stream",
     "text": [
      "400\n"
     ]
    },
    {
     "name": "stderr",
     "output_type": "stream",
     "text": [
      "C:\\Users\\sebpo\\AppData\\Local\\Temp\\ipykernel_24280\\1739624593.py:33: FutureWarning: The frame.append method is deprecated and will be removed from pandas in a future version. Use pandas.concat instead.\n",
      "  storage = storage.append({\"k\":k, \"z\":z, \"w\":w, \"h\":h,\n"
     ]
    },
    {
     "name": "stdout",
     "output_type": "stream",
     "text": [
      "401\n"
     ]
    },
    {
     "name": "stderr",
     "output_type": "stream",
     "text": [
      "C:\\Users\\sebpo\\AppData\\Local\\Temp\\ipykernel_24280\\1739624593.py:33: FutureWarning: The frame.append method is deprecated and will be removed from pandas in a future version. Use pandas.concat instead.\n",
      "  storage = storage.append({\"k\":k, \"z\":z, \"w\":w, \"h\":h,\n"
     ]
    },
    {
     "name": "stdout",
     "output_type": "stream",
     "text": [
      "402\n"
     ]
    },
    {
     "name": "stderr",
     "output_type": "stream",
     "text": [
      "C:\\Users\\sebpo\\AppData\\Local\\Temp\\ipykernel_24280\\1739624593.py:33: FutureWarning: The frame.append method is deprecated and will be removed from pandas in a future version. Use pandas.concat instead.\n",
      "  storage = storage.append({\"k\":k, \"z\":z, \"w\":w, \"h\":h,\n"
     ]
    },
    {
     "name": "stdout",
     "output_type": "stream",
     "text": [
      "403\n"
     ]
    },
    {
     "name": "stderr",
     "output_type": "stream",
     "text": [
      "C:\\Users\\sebpo\\AppData\\Local\\Temp\\ipykernel_24280\\1739624593.py:33: FutureWarning: The frame.append method is deprecated and will be removed from pandas in a future version. Use pandas.concat instead.\n",
      "  storage = storage.append({\"k\":k, \"z\":z, \"w\":w, \"h\":h,\n"
     ]
    },
    {
     "name": "stdout",
     "output_type": "stream",
     "text": [
      "404\n"
     ]
    },
    {
     "name": "stderr",
     "output_type": "stream",
     "text": [
      "C:\\Users\\sebpo\\AppData\\Local\\Temp\\ipykernel_24280\\1739624593.py:33: FutureWarning: The frame.append method is deprecated and will be removed from pandas in a future version. Use pandas.concat instead.\n",
      "  storage = storage.append({\"k\":k, \"z\":z, \"w\":w, \"h\":h,\n"
     ]
    },
    {
     "name": "stdout",
     "output_type": "stream",
     "text": [
      "405\n"
     ]
    },
    {
     "name": "stderr",
     "output_type": "stream",
     "text": [
      "C:\\Users\\sebpo\\AppData\\Local\\Temp\\ipykernel_24280\\1739624593.py:33: FutureWarning: The frame.append method is deprecated and will be removed from pandas in a future version. Use pandas.concat instead.\n",
      "  storage = storage.append({\"k\":k, \"z\":z, \"w\":w, \"h\":h,\n"
     ]
    },
    {
     "name": "stdout",
     "output_type": "stream",
     "text": [
      "406\n"
     ]
    },
    {
     "name": "stderr",
     "output_type": "stream",
     "text": [
      "C:\\Users\\sebpo\\AppData\\Local\\Temp\\ipykernel_24280\\1739624593.py:33: FutureWarning: The frame.append method is deprecated and will be removed from pandas in a future version. Use pandas.concat instead.\n",
      "  storage = storage.append({\"k\":k, \"z\":z, \"w\":w, \"h\":h,\n"
     ]
    },
    {
     "name": "stdout",
     "output_type": "stream",
     "text": [
      "407\n"
     ]
    },
    {
     "name": "stderr",
     "output_type": "stream",
     "text": [
      "C:\\Users\\sebpo\\AppData\\Local\\Temp\\ipykernel_24280\\1739624593.py:33: FutureWarning: The frame.append method is deprecated and will be removed from pandas in a future version. Use pandas.concat instead.\n",
      "  storage = storage.append({\"k\":k, \"z\":z, \"w\":w, \"h\":h,\n"
     ]
    },
    {
     "name": "stdout",
     "output_type": "stream",
     "text": [
      "408\n"
     ]
    },
    {
     "name": "stderr",
     "output_type": "stream",
     "text": [
      "C:\\Users\\sebpo\\AppData\\Local\\Temp\\ipykernel_24280\\1739624593.py:33: FutureWarning: The frame.append method is deprecated and will be removed from pandas in a future version. Use pandas.concat instead.\n",
      "  storage = storage.append({\"k\":k, \"z\":z, \"w\":w, \"h\":h,\n"
     ]
    },
    {
     "name": "stdout",
     "output_type": "stream",
     "text": [
      "409\n"
     ]
    },
    {
     "name": "stderr",
     "output_type": "stream",
     "text": [
      "C:\\Users\\sebpo\\AppData\\Local\\Temp\\ipykernel_24280\\1739624593.py:33: FutureWarning: The frame.append method is deprecated and will be removed from pandas in a future version. Use pandas.concat instead.\n",
      "  storage = storage.append({\"k\":k, \"z\":z, \"w\":w, \"h\":h,\n"
     ]
    },
    {
     "name": "stdout",
     "output_type": "stream",
     "text": [
      "410\n"
     ]
    },
    {
     "name": "stderr",
     "output_type": "stream",
     "text": [
      "C:\\Users\\sebpo\\AppData\\Local\\Temp\\ipykernel_24280\\1739624593.py:33: FutureWarning: The frame.append method is deprecated and will be removed from pandas in a future version. Use pandas.concat instead.\n",
      "  storage = storage.append({\"k\":k, \"z\":z, \"w\":w, \"h\":h,\n"
     ]
    },
    {
     "name": "stdout",
     "output_type": "stream",
     "text": [
      "411\n"
     ]
    },
    {
     "name": "stderr",
     "output_type": "stream",
     "text": [
      "C:\\Users\\sebpo\\AppData\\Local\\Temp\\ipykernel_24280\\1739624593.py:33: FutureWarning: The frame.append method is deprecated and will be removed from pandas in a future version. Use pandas.concat instead.\n",
      "  storage = storage.append({\"k\":k, \"z\":z, \"w\":w, \"h\":h,\n"
     ]
    },
    {
     "name": "stdout",
     "output_type": "stream",
     "text": [
      "412\n"
     ]
    },
    {
     "name": "stderr",
     "output_type": "stream",
     "text": [
      "C:\\Users\\sebpo\\AppData\\Local\\Temp\\ipykernel_24280\\1739624593.py:33: FutureWarning: The frame.append method is deprecated and will be removed from pandas in a future version. Use pandas.concat instead.\n",
      "  storage = storage.append({\"k\":k, \"z\":z, \"w\":w, \"h\":h,\n"
     ]
    },
    {
     "name": "stdout",
     "output_type": "stream",
     "text": [
      "413\n"
     ]
    },
    {
     "name": "stderr",
     "output_type": "stream",
     "text": [
      "C:\\Users\\sebpo\\AppData\\Local\\Temp\\ipykernel_24280\\1739624593.py:33: FutureWarning: The frame.append method is deprecated and will be removed from pandas in a future version. Use pandas.concat instead.\n",
      "  storage = storage.append({\"k\":k, \"z\":z, \"w\":w, \"h\":h,\n"
     ]
    },
    {
     "name": "stdout",
     "output_type": "stream",
     "text": [
      "414\n"
     ]
    },
    {
     "name": "stderr",
     "output_type": "stream",
     "text": [
      "C:\\Users\\sebpo\\AppData\\Local\\Temp\\ipykernel_24280\\1739624593.py:33: FutureWarning: The frame.append method is deprecated and will be removed from pandas in a future version. Use pandas.concat instead.\n",
      "  storage = storage.append({\"k\":k, \"z\":z, \"w\":w, \"h\":h,\n"
     ]
    },
    {
     "name": "stdout",
     "output_type": "stream",
     "text": [
      "415\n"
     ]
    },
    {
     "name": "stderr",
     "output_type": "stream",
     "text": [
      "C:\\Users\\sebpo\\AppData\\Local\\Temp\\ipykernel_24280\\1739624593.py:33: FutureWarning: The frame.append method is deprecated and will be removed from pandas in a future version. Use pandas.concat instead.\n",
      "  storage = storage.append({\"k\":k, \"z\":z, \"w\":w, \"h\":h,\n"
     ]
    },
    {
     "name": "stdout",
     "output_type": "stream",
     "text": [
      "416\n"
     ]
    },
    {
     "name": "stderr",
     "output_type": "stream",
     "text": [
      "C:\\Users\\sebpo\\AppData\\Local\\Temp\\ipykernel_24280\\1739624593.py:33: FutureWarning: The frame.append method is deprecated and will be removed from pandas in a future version. Use pandas.concat instead.\n",
      "  storage = storage.append({\"k\":k, \"z\":z, \"w\":w, \"h\":h,\n"
     ]
    },
    {
     "name": "stdout",
     "output_type": "stream",
     "text": [
      "417\n"
     ]
    },
    {
     "name": "stderr",
     "output_type": "stream",
     "text": [
      "C:\\Users\\sebpo\\AppData\\Local\\Temp\\ipykernel_24280\\1739624593.py:33: FutureWarning: The frame.append method is deprecated and will be removed from pandas in a future version. Use pandas.concat instead.\n",
      "  storage = storage.append({\"k\":k, \"z\":z, \"w\":w, \"h\":h,\n"
     ]
    },
    {
     "name": "stdout",
     "output_type": "stream",
     "text": [
      "418\n"
     ]
    },
    {
     "name": "stderr",
     "output_type": "stream",
     "text": [
      "C:\\Users\\sebpo\\AppData\\Local\\Temp\\ipykernel_24280\\1739624593.py:33: FutureWarning: The frame.append method is deprecated and will be removed from pandas in a future version. Use pandas.concat instead.\n",
      "  storage = storage.append({\"k\":k, \"z\":z, \"w\":w, \"h\":h,\n"
     ]
    },
    {
     "name": "stdout",
     "output_type": "stream",
     "text": [
      "419\n"
     ]
    },
    {
     "name": "stderr",
     "output_type": "stream",
     "text": [
      "C:\\Users\\sebpo\\AppData\\Local\\Temp\\ipykernel_24280\\1739624593.py:33: FutureWarning: The frame.append method is deprecated and will be removed from pandas in a future version. Use pandas.concat instead.\n",
      "  storage = storage.append({\"k\":k, \"z\":z, \"w\":w, \"h\":h,\n"
     ]
    },
    {
     "name": "stdout",
     "output_type": "stream",
     "text": [
      "420\n"
     ]
    },
    {
     "name": "stderr",
     "output_type": "stream",
     "text": [
      "C:\\Users\\sebpo\\AppData\\Local\\Temp\\ipykernel_24280\\1739624593.py:33: FutureWarning: The frame.append method is deprecated and will be removed from pandas in a future version. Use pandas.concat instead.\n",
      "  storage = storage.append({\"k\":k, \"z\":z, \"w\":w, \"h\":h,\n"
     ]
    },
    {
     "name": "stdout",
     "output_type": "stream",
     "text": [
      "421\n"
     ]
    },
    {
     "name": "stderr",
     "output_type": "stream",
     "text": [
      "C:\\Users\\sebpo\\AppData\\Local\\Temp\\ipykernel_24280\\1739624593.py:33: FutureWarning: The frame.append method is deprecated and will be removed from pandas in a future version. Use pandas.concat instead.\n",
      "  storage = storage.append({\"k\":k, \"z\":z, \"w\":w, \"h\":h,\n"
     ]
    },
    {
     "name": "stdout",
     "output_type": "stream",
     "text": [
      "422\n"
     ]
    },
    {
     "name": "stderr",
     "output_type": "stream",
     "text": [
      "C:\\Users\\sebpo\\AppData\\Local\\Temp\\ipykernel_24280\\1739624593.py:33: FutureWarning: The frame.append method is deprecated and will be removed from pandas in a future version. Use pandas.concat instead.\n",
      "  storage = storage.append({\"k\":k, \"z\":z, \"w\":w, \"h\":h,\n"
     ]
    },
    {
     "name": "stdout",
     "output_type": "stream",
     "text": [
      "423\n"
     ]
    },
    {
     "name": "stderr",
     "output_type": "stream",
     "text": [
      "C:\\Users\\sebpo\\AppData\\Local\\Temp\\ipykernel_24280\\1739624593.py:33: FutureWarning: The frame.append method is deprecated and will be removed from pandas in a future version. Use pandas.concat instead.\n",
      "  storage = storage.append({\"k\":k, \"z\":z, \"w\":w, \"h\":h,\n"
     ]
    },
    {
     "name": "stdout",
     "output_type": "stream",
     "text": [
      "424\n"
     ]
    },
    {
     "name": "stderr",
     "output_type": "stream",
     "text": [
      "C:\\Users\\sebpo\\AppData\\Local\\Temp\\ipykernel_24280\\1739624593.py:33: FutureWarning: The frame.append method is deprecated and will be removed from pandas in a future version. Use pandas.concat instead.\n",
      "  storage = storage.append({\"k\":k, \"z\":z, \"w\":w, \"h\":h,\n"
     ]
    },
    {
     "name": "stdout",
     "output_type": "stream",
     "text": [
      "425\n"
     ]
    },
    {
     "name": "stderr",
     "output_type": "stream",
     "text": [
      "C:\\Users\\sebpo\\AppData\\Local\\Temp\\ipykernel_24280\\1739624593.py:33: FutureWarning: The frame.append method is deprecated and will be removed from pandas in a future version. Use pandas.concat instead.\n",
      "  storage = storage.append({\"k\":k, \"z\":z, \"w\":w, \"h\":h,\n"
     ]
    },
    {
     "name": "stdout",
     "output_type": "stream",
     "text": [
      "426\n"
     ]
    },
    {
     "name": "stderr",
     "output_type": "stream",
     "text": [
      "C:\\Users\\sebpo\\AppData\\Local\\Temp\\ipykernel_24280\\1739624593.py:33: FutureWarning: The frame.append method is deprecated and will be removed from pandas in a future version. Use pandas.concat instead.\n",
      "  storage = storage.append({\"k\":k, \"z\":z, \"w\":w, \"h\":h,\n"
     ]
    },
    {
     "name": "stdout",
     "output_type": "stream",
     "text": [
      "427\n"
     ]
    },
    {
     "name": "stderr",
     "output_type": "stream",
     "text": [
      "C:\\Users\\sebpo\\AppData\\Local\\Temp\\ipykernel_24280\\1739624593.py:33: FutureWarning: The frame.append method is deprecated and will be removed from pandas in a future version. Use pandas.concat instead.\n",
      "  storage = storage.append({\"k\":k, \"z\":z, \"w\":w, \"h\":h,\n"
     ]
    },
    {
     "name": "stdout",
     "output_type": "stream",
     "text": [
      "428\n"
     ]
    },
    {
     "name": "stderr",
     "output_type": "stream",
     "text": [
      "C:\\Users\\sebpo\\AppData\\Local\\Temp\\ipykernel_24280\\1739624593.py:33: FutureWarning: The frame.append method is deprecated and will be removed from pandas in a future version. Use pandas.concat instead.\n",
      "  storage = storage.append({\"k\":k, \"z\":z, \"w\":w, \"h\":h,\n"
     ]
    },
    {
     "name": "stdout",
     "output_type": "stream",
     "text": [
      "429\n"
     ]
    },
    {
     "name": "stderr",
     "output_type": "stream",
     "text": [
      "C:\\Users\\sebpo\\AppData\\Local\\Temp\\ipykernel_24280\\1739624593.py:33: FutureWarning: The frame.append method is deprecated and will be removed from pandas in a future version. Use pandas.concat instead.\n",
      "  storage = storage.append({\"k\":k, \"z\":z, \"w\":w, \"h\":h,\n"
     ]
    },
    {
     "name": "stdout",
     "output_type": "stream",
     "text": [
      "430\n"
     ]
    },
    {
     "name": "stderr",
     "output_type": "stream",
     "text": [
      "C:\\Users\\sebpo\\AppData\\Local\\Temp\\ipykernel_24280\\1739624593.py:33: FutureWarning: The frame.append method is deprecated and will be removed from pandas in a future version. Use pandas.concat instead.\n",
      "  storage = storage.append({\"k\":k, \"z\":z, \"w\":w, \"h\":h,\n"
     ]
    },
    {
     "name": "stdout",
     "output_type": "stream",
     "text": [
      "431\n"
     ]
    },
    {
     "name": "stderr",
     "output_type": "stream",
     "text": [
      "C:\\Users\\sebpo\\AppData\\Local\\Temp\\ipykernel_24280\\1739624593.py:33: FutureWarning: The frame.append method is deprecated and will be removed from pandas in a future version. Use pandas.concat instead.\n",
      "  storage = storage.append({\"k\":k, \"z\":z, \"w\":w, \"h\":h,\n"
     ]
    },
    {
     "name": "stdout",
     "output_type": "stream",
     "text": [
      "432\n"
     ]
    },
    {
     "name": "stderr",
     "output_type": "stream",
     "text": [
      "C:\\Users\\sebpo\\AppData\\Local\\Temp\\ipykernel_24280\\1739624593.py:33: FutureWarning: The frame.append method is deprecated and will be removed from pandas in a future version. Use pandas.concat instead.\n",
      "  storage = storage.append({\"k\":k, \"z\":z, \"w\":w, \"h\":h,\n"
     ]
    },
    {
     "name": "stdout",
     "output_type": "stream",
     "text": [
      "433\n"
     ]
    },
    {
     "name": "stderr",
     "output_type": "stream",
     "text": [
      "C:\\Users\\sebpo\\AppData\\Local\\Temp\\ipykernel_24280\\1739624593.py:33: FutureWarning: The frame.append method is deprecated and will be removed from pandas in a future version. Use pandas.concat instead.\n",
      "  storage = storage.append({\"k\":k, \"z\":z, \"w\":w, \"h\":h,\n"
     ]
    },
    {
     "name": "stdout",
     "output_type": "stream",
     "text": [
      "434\n"
     ]
    },
    {
     "name": "stderr",
     "output_type": "stream",
     "text": [
      "C:\\Users\\sebpo\\AppData\\Local\\Temp\\ipykernel_24280\\1739624593.py:33: FutureWarning: The frame.append method is deprecated and will be removed from pandas in a future version. Use pandas.concat instead.\n",
      "  storage = storage.append({\"k\":k, \"z\":z, \"w\":w, \"h\":h,\n"
     ]
    },
    {
     "name": "stdout",
     "output_type": "stream",
     "text": [
      "435\n"
     ]
    },
    {
     "name": "stderr",
     "output_type": "stream",
     "text": [
      "C:\\Users\\sebpo\\AppData\\Local\\Temp\\ipykernel_24280\\1739624593.py:33: FutureWarning: The frame.append method is deprecated and will be removed from pandas in a future version. Use pandas.concat instead.\n",
      "  storage = storage.append({\"k\":k, \"z\":z, \"w\":w, \"h\":h,\n"
     ]
    },
    {
     "name": "stdout",
     "output_type": "stream",
     "text": [
      "436\n"
     ]
    },
    {
     "name": "stderr",
     "output_type": "stream",
     "text": [
      "C:\\Users\\sebpo\\AppData\\Local\\Temp\\ipykernel_24280\\1739624593.py:33: FutureWarning: The frame.append method is deprecated and will be removed from pandas in a future version. Use pandas.concat instead.\n",
      "  storage = storage.append({\"k\":k, \"z\":z, \"w\":w, \"h\":h,\n"
     ]
    },
    {
     "name": "stdout",
     "output_type": "stream",
     "text": [
      "437\n"
     ]
    },
    {
     "name": "stderr",
     "output_type": "stream",
     "text": [
      "C:\\Users\\sebpo\\AppData\\Local\\Temp\\ipykernel_24280\\1739624593.py:33: FutureWarning: The frame.append method is deprecated and will be removed from pandas in a future version. Use pandas.concat instead.\n",
      "  storage = storage.append({\"k\":k, \"z\":z, \"w\":w, \"h\":h,\n"
     ]
    },
    {
     "name": "stdout",
     "output_type": "stream",
     "text": [
      "438\n"
     ]
    },
    {
     "name": "stderr",
     "output_type": "stream",
     "text": [
      "C:\\Users\\sebpo\\AppData\\Local\\Temp\\ipykernel_24280\\1739624593.py:33: FutureWarning: The frame.append method is deprecated and will be removed from pandas in a future version. Use pandas.concat instead.\n",
      "  storage = storage.append({\"k\":k, \"z\":z, \"w\":w, \"h\":h,\n"
     ]
    },
    {
     "name": "stdout",
     "output_type": "stream",
     "text": [
      "439\n"
     ]
    },
    {
     "name": "stderr",
     "output_type": "stream",
     "text": [
      "C:\\Users\\sebpo\\AppData\\Local\\Temp\\ipykernel_24280\\1739624593.py:33: FutureWarning: The frame.append method is deprecated and will be removed from pandas in a future version. Use pandas.concat instead.\n",
      "  storage = storage.append({\"k\":k, \"z\":z, \"w\":w, \"h\":h,\n"
     ]
    },
    {
     "name": "stdout",
     "output_type": "stream",
     "text": [
      "440\n"
     ]
    },
    {
     "name": "stderr",
     "output_type": "stream",
     "text": [
      "C:\\Users\\sebpo\\AppData\\Local\\Temp\\ipykernel_24280\\1739624593.py:33: FutureWarning: The frame.append method is deprecated and will be removed from pandas in a future version. Use pandas.concat instead.\n",
      "  storage = storage.append({\"k\":k, \"z\":z, \"w\":w, \"h\":h,\n"
     ]
    },
    {
     "name": "stdout",
     "output_type": "stream",
     "text": [
      "441\n"
     ]
    },
    {
     "name": "stderr",
     "output_type": "stream",
     "text": [
      "C:\\Users\\sebpo\\AppData\\Local\\Temp\\ipykernel_24280\\1739624593.py:33: FutureWarning: The frame.append method is deprecated and will be removed from pandas in a future version. Use pandas.concat instead.\n",
      "  storage = storage.append({\"k\":k, \"z\":z, \"w\":w, \"h\":h,\n"
     ]
    },
    {
     "name": "stdout",
     "output_type": "stream",
     "text": [
      "442\n"
     ]
    },
    {
     "name": "stderr",
     "output_type": "stream",
     "text": [
      "C:\\Users\\sebpo\\AppData\\Local\\Temp\\ipykernel_24280\\1739624593.py:33: FutureWarning: The frame.append method is deprecated and will be removed from pandas in a future version. Use pandas.concat instead.\n",
      "  storage = storage.append({\"k\":k, \"z\":z, \"w\":w, \"h\":h,\n"
     ]
    },
    {
     "name": "stdout",
     "output_type": "stream",
     "text": [
      "443\n"
     ]
    },
    {
     "name": "stderr",
     "output_type": "stream",
     "text": [
      "C:\\Users\\sebpo\\AppData\\Local\\Temp\\ipykernel_24280\\1739624593.py:33: FutureWarning: The frame.append method is deprecated and will be removed from pandas in a future version. Use pandas.concat instead.\n",
      "  storage = storage.append({\"k\":k, \"z\":z, \"w\":w, \"h\":h,\n"
     ]
    },
    {
     "name": "stdout",
     "output_type": "stream",
     "text": [
      "444\n"
     ]
    },
    {
     "name": "stderr",
     "output_type": "stream",
     "text": [
      "C:\\Users\\sebpo\\AppData\\Local\\Temp\\ipykernel_24280\\1739624593.py:33: FutureWarning: The frame.append method is deprecated and will be removed from pandas in a future version. Use pandas.concat instead.\n",
      "  storage = storage.append({\"k\":k, \"z\":z, \"w\":w, \"h\":h,\n"
     ]
    },
    {
     "name": "stdout",
     "output_type": "stream",
     "text": [
      "445\n"
     ]
    },
    {
     "name": "stderr",
     "output_type": "stream",
     "text": [
      "C:\\Users\\sebpo\\AppData\\Local\\Temp\\ipykernel_24280\\1739624593.py:33: FutureWarning: The frame.append method is deprecated and will be removed from pandas in a future version. Use pandas.concat instead.\n",
      "  storage = storage.append({\"k\":k, \"z\":z, \"w\":w, \"h\":h,\n"
     ]
    },
    {
     "name": "stdout",
     "output_type": "stream",
     "text": [
      "446\n"
     ]
    },
    {
     "name": "stderr",
     "output_type": "stream",
     "text": [
      "C:\\Users\\sebpo\\AppData\\Local\\Temp\\ipykernel_24280\\1739624593.py:33: FutureWarning: The frame.append method is deprecated and will be removed from pandas in a future version. Use pandas.concat instead.\n",
      "  storage = storage.append({\"k\":k, \"z\":z, \"w\":w, \"h\":h,\n"
     ]
    },
    {
     "name": "stdout",
     "output_type": "stream",
     "text": [
      "447\n"
     ]
    },
    {
     "name": "stderr",
     "output_type": "stream",
     "text": [
      "C:\\Users\\sebpo\\AppData\\Local\\Temp\\ipykernel_24280\\1739624593.py:33: FutureWarning: The frame.append method is deprecated and will be removed from pandas in a future version. Use pandas.concat instead.\n",
      "  storage = storage.append({\"k\":k, \"z\":z, \"w\":w, \"h\":h,\n"
     ]
    },
    {
     "name": "stdout",
     "output_type": "stream",
     "text": [
      "448\n"
     ]
    },
    {
     "name": "stderr",
     "output_type": "stream",
     "text": [
      "C:\\Users\\sebpo\\AppData\\Local\\Temp\\ipykernel_24280\\1739624593.py:33: FutureWarning: The frame.append method is deprecated and will be removed from pandas in a future version. Use pandas.concat instead.\n",
      "  storage = storage.append({\"k\":k, \"z\":z, \"w\":w, \"h\":h,\n"
     ]
    },
    {
     "name": "stdout",
     "output_type": "stream",
     "text": [
      "449\n"
     ]
    },
    {
     "name": "stderr",
     "output_type": "stream",
     "text": [
      "C:\\Users\\sebpo\\AppData\\Local\\Temp\\ipykernel_24280\\1739624593.py:33: FutureWarning: The frame.append method is deprecated and will be removed from pandas in a future version. Use pandas.concat instead.\n",
      "  storage = storage.append({\"k\":k, \"z\":z, \"w\":w, \"h\":h,\n"
     ]
    },
    {
     "name": "stdout",
     "output_type": "stream",
     "text": [
      "450\n"
     ]
    },
    {
     "name": "stderr",
     "output_type": "stream",
     "text": [
      "C:\\Users\\sebpo\\AppData\\Local\\Temp\\ipykernel_24280\\1739624593.py:33: FutureWarning: The frame.append method is deprecated and will be removed from pandas in a future version. Use pandas.concat instead.\n",
      "  storage = storage.append({\"k\":k, \"z\":z, \"w\":w, \"h\":h,\n"
     ]
    },
    {
     "name": "stdout",
     "output_type": "stream",
     "text": [
      "451\n"
     ]
    },
    {
     "name": "stderr",
     "output_type": "stream",
     "text": [
      "C:\\Users\\sebpo\\AppData\\Local\\Temp\\ipykernel_24280\\1739624593.py:33: FutureWarning: The frame.append method is deprecated and will be removed from pandas in a future version. Use pandas.concat instead.\n",
      "  storage = storage.append({\"k\":k, \"z\":z, \"w\":w, \"h\":h,\n"
     ]
    },
    {
     "name": "stdout",
     "output_type": "stream",
     "text": [
      "452\n"
     ]
    },
    {
     "name": "stderr",
     "output_type": "stream",
     "text": [
      "C:\\Users\\sebpo\\AppData\\Local\\Temp\\ipykernel_24280\\1739624593.py:33: FutureWarning: The frame.append method is deprecated and will be removed from pandas in a future version. Use pandas.concat instead.\n",
      "  storage = storage.append({\"k\":k, \"z\":z, \"w\":w, \"h\":h,\n"
     ]
    },
    {
     "name": "stdout",
     "output_type": "stream",
     "text": [
      "453\n"
     ]
    },
    {
     "name": "stderr",
     "output_type": "stream",
     "text": [
      "C:\\Users\\sebpo\\AppData\\Local\\Temp\\ipykernel_24280\\1739624593.py:33: FutureWarning: The frame.append method is deprecated and will be removed from pandas in a future version. Use pandas.concat instead.\n",
      "  storage = storage.append({\"k\":k, \"z\":z, \"w\":w, \"h\":h,\n"
     ]
    },
    {
     "name": "stdout",
     "output_type": "stream",
     "text": [
      "454\n"
     ]
    },
    {
     "name": "stderr",
     "output_type": "stream",
     "text": [
      "C:\\Users\\sebpo\\AppData\\Local\\Temp\\ipykernel_24280\\1739624593.py:33: FutureWarning: The frame.append method is deprecated and will be removed from pandas in a future version. Use pandas.concat instead.\n",
      "  storage = storage.append({\"k\":k, \"z\":z, \"w\":w, \"h\":h,\n"
     ]
    },
    {
     "name": "stdout",
     "output_type": "stream",
     "text": [
      "455\n"
     ]
    },
    {
     "name": "stderr",
     "output_type": "stream",
     "text": [
      "C:\\Users\\sebpo\\AppData\\Local\\Temp\\ipykernel_24280\\1739624593.py:33: FutureWarning: The frame.append method is deprecated and will be removed from pandas in a future version. Use pandas.concat instead.\n",
      "  storage = storage.append({\"k\":k, \"z\":z, \"w\":w, \"h\":h,\n"
     ]
    },
    {
     "name": "stdout",
     "output_type": "stream",
     "text": [
      "456\n"
     ]
    },
    {
     "name": "stderr",
     "output_type": "stream",
     "text": [
      "C:\\Users\\sebpo\\AppData\\Local\\Temp\\ipykernel_24280\\1739624593.py:33: FutureWarning: The frame.append method is deprecated and will be removed from pandas in a future version. Use pandas.concat instead.\n",
      "  storage = storage.append({\"k\":k, \"z\":z, \"w\":w, \"h\":h,\n"
     ]
    },
    {
     "name": "stdout",
     "output_type": "stream",
     "text": [
      "457\n"
     ]
    },
    {
     "name": "stderr",
     "output_type": "stream",
     "text": [
      "C:\\Users\\sebpo\\AppData\\Local\\Temp\\ipykernel_24280\\1739624593.py:33: FutureWarning: The frame.append method is deprecated and will be removed from pandas in a future version. Use pandas.concat instead.\n",
      "  storage = storage.append({\"k\":k, \"z\":z, \"w\":w, \"h\":h,\n"
     ]
    },
    {
     "name": "stdout",
     "output_type": "stream",
     "text": [
      "458\n"
     ]
    },
    {
     "name": "stderr",
     "output_type": "stream",
     "text": [
      "C:\\Users\\sebpo\\AppData\\Local\\Temp\\ipykernel_24280\\1739624593.py:33: FutureWarning: The frame.append method is deprecated and will be removed from pandas in a future version. Use pandas.concat instead.\n",
      "  storage = storage.append({\"k\":k, \"z\":z, \"w\":w, \"h\":h,\n"
     ]
    },
    {
     "name": "stdout",
     "output_type": "stream",
     "text": [
      "459\n"
     ]
    },
    {
     "name": "stderr",
     "output_type": "stream",
     "text": [
      "C:\\Users\\sebpo\\AppData\\Local\\Temp\\ipykernel_24280\\1739624593.py:33: FutureWarning: The frame.append method is deprecated and will be removed from pandas in a future version. Use pandas.concat instead.\n",
      "  storage = storage.append({\"k\":k, \"z\":z, \"w\":w, \"h\":h,\n"
     ]
    },
    {
     "name": "stdout",
     "output_type": "stream",
     "text": [
      "460\n"
     ]
    },
    {
     "name": "stderr",
     "output_type": "stream",
     "text": [
      "C:\\Users\\sebpo\\AppData\\Local\\Temp\\ipykernel_24280\\1739624593.py:33: FutureWarning: The frame.append method is deprecated and will be removed from pandas in a future version. Use pandas.concat instead.\n",
      "  storage = storage.append({\"k\":k, \"z\":z, \"w\":w, \"h\":h,\n"
     ]
    },
    {
     "name": "stdout",
     "output_type": "stream",
     "text": [
      "461\n"
     ]
    },
    {
     "name": "stderr",
     "output_type": "stream",
     "text": [
      "C:\\Users\\sebpo\\AppData\\Local\\Temp\\ipykernel_24280\\1739624593.py:33: FutureWarning: The frame.append method is deprecated and will be removed from pandas in a future version. Use pandas.concat instead.\n",
      "  storage = storage.append({\"k\":k, \"z\":z, \"w\":w, \"h\":h,\n"
     ]
    },
    {
     "name": "stdout",
     "output_type": "stream",
     "text": [
      "462\n"
     ]
    },
    {
     "name": "stderr",
     "output_type": "stream",
     "text": [
      "C:\\Users\\sebpo\\AppData\\Local\\Temp\\ipykernel_24280\\1739624593.py:33: FutureWarning: The frame.append method is deprecated and will be removed from pandas in a future version. Use pandas.concat instead.\n",
      "  storage = storage.append({\"k\":k, \"z\":z, \"w\":w, \"h\":h,\n"
     ]
    },
    {
     "name": "stdout",
     "output_type": "stream",
     "text": [
      "463\n"
     ]
    },
    {
     "name": "stderr",
     "output_type": "stream",
     "text": [
      "C:\\Users\\sebpo\\AppData\\Local\\Temp\\ipykernel_24280\\1739624593.py:33: FutureWarning: The frame.append method is deprecated and will be removed from pandas in a future version. Use pandas.concat instead.\n",
      "  storage = storage.append({\"k\":k, \"z\":z, \"w\":w, \"h\":h,\n"
     ]
    },
    {
     "name": "stdout",
     "output_type": "stream",
     "text": [
      "464\n"
     ]
    },
    {
     "name": "stderr",
     "output_type": "stream",
     "text": [
      "C:\\Users\\sebpo\\AppData\\Local\\Temp\\ipykernel_24280\\1739624593.py:33: FutureWarning: The frame.append method is deprecated and will be removed from pandas in a future version. Use pandas.concat instead.\n",
      "  storage = storage.append({\"k\":k, \"z\":z, \"w\":w, \"h\":h,\n"
     ]
    },
    {
     "name": "stdout",
     "output_type": "stream",
     "text": [
      "465\n"
     ]
    },
    {
     "name": "stderr",
     "output_type": "stream",
     "text": [
      "C:\\Users\\sebpo\\AppData\\Local\\Temp\\ipykernel_24280\\1739624593.py:33: FutureWarning: The frame.append method is deprecated and will be removed from pandas in a future version. Use pandas.concat instead.\n",
      "  storage = storage.append({\"k\":k, \"z\":z, \"w\":w, \"h\":h,\n"
     ]
    },
    {
     "name": "stdout",
     "output_type": "stream",
     "text": [
      "466\n"
     ]
    },
    {
     "name": "stderr",
     "output_type": "stream",
     "text": [
      "C:\\Users\\sebpo\\AppData\\Local\\Temp\\ipykernel_24280\\1739624593.py:33: FutureWarning: The frame.append method is deprecated and will be removed from pandas in a future version. Use pandas.concat instead.\n",
      "  storage = storage.append({\"k\":k, \"z\":z, \"w\":w, \"h\":h,\n"
     ]
    },
    {
     "name": "stdout",
     "output_type": "stream",
     "text": [
      "467\n"
     ]
    },
    {
     "name": "stderr",
     "output_type": "stream",
     "text": [
      "C:\\Users\\sebpo\\AppData\\Local\\Temp\\ipykernel_24280\\1739624593.py:33: FutureWarning: The frame.append method is deprecated and will be removed from pandas in a future version. Use pandas.concat instead.\n",
      "  storage = storage.append({\"k\":k, \"z\":z, \"w\":w, \"h\":h,\n"
     ]
    },
    {
     "name": "stdout",
     "output_type": "stream",
     "text": [
      "468\n"
     ]
    },
    {
     "name": "stderr",
     "output_type": "stream",
     "text": [
      "C:\\Users\\sebpo\\AppData\\Local\\Temp\\ipykernel_24280\\1739624593.py:33: FutureWarning: The frame.append method is deprecated and will be removed from pandas in a future version. Use pandas.concat instead.\n",
      "  storage = storage.append({\"k\":k, \"z\":z, \"w\":w, \"h\":h,\n"
     ]
    },
    {
     "name": "stdout",
     "output_type": "stream",
     "text": [
      "469\n"
     ]
    },
    {
     "name": "stderr",
     "output_type": "stream",
     "text": [
      "C:\\Users\\sebpo\\AppData\\Local\\Temp\\ipykernel_24280\\1739624593.py:33: FutureWarning: The frame.append method is deprecated and will be removed from pandas in a future version. Use pandas.concat instead.\n",
      "  storage = storage.append({\"k\":k, \"z\":z, \"w\":w, \"h\":h,\n"
     ]
    },
    {
     "name": "stdout",
     "output_type": "stream",
     "text": [
      "470\n"
     ]
    },
    {
     "name": "stderr",
     "output_type": "stream",
     "text": [
      "C:\\Users\\sebpo\\AppData\\Local\\Temp\\ipykernel_24280\\1739624593.py:33: FutureWarning: The frame.append method is deprecated and will be removed from pandas in a future version. Use pandas.concat instead.\n",
      "  storage = storage.append({\"k\":k, \"z\":z, \"w\":w, \"h\":h,\n"
     ]
    },
    {
     "name": "stdout",
     "output_type": "stream",
     "text": [
      "471\n"
     ]
    },
    {
     "name": "stderr",
     "output_type": "stream",
     "text": [
      "C:\\Users\\sebpo\\AppData\\Local\\Temp\\ipykernel_24280\\1739624593.py:33: FutureWarning: The frame.append method is deprecated and will be removed from pandas in a future version. Use pandas.concat instead.\n",
      "  storage = storage.append({\"k\":k, \"z\":z, \"w\":w, \"h\":h,\n"
     ]
    },
    {
     "name": "stdout",
     "output_type": "stream",
     "text": [
      "472\n"
     ]
    },
    {
     "name": "stderr",
     "output_type": "stream",
     "text": [
      "C:\\Users\\sebpo\\AppData\\Local\\Temp\\ipykernel_24280\\1739624593.py:33: FutureWarning: The frame.append method is deprecated and will be removed from pandas in a future version. Use pandas.concat instead.\n",
      "  storage = storage.append({\"k\":k, \"z\":z, \"w\":w, \"h\":h,\n"
     ]
    },
    {
     "name": "stdout",
     "output_type": "stream",
     "text": [
      "473\n"
     ]
    },
    {
     "name": "stderr",
     "output_type": "stream",
     "text": [
      "C:\\Users\\sebpo\\AppData\\Local\\Temp\\ipykernel_24280\\1739624593.py:33: FutureWarning: The frame.append method is deprecated and will be removed from pandas in a future version. Use pandas.concat instead.\n",
      "  storage = storage.append({\"k\":k, \"z\":z, \"w\":w, \"h\":h,\n"
     ]
    },
    {
     "name": "stdout",
     "output_type": "stream",
     "text": [
      "474\n"
     ]
    },
    {
     "name": "stderr",
     "output_type": "stream",
     "text": [
      "C:\\Users\\sebpo\\AppData\\Local\\Temp\\ipykernel_24280\\1739624593.py:33: FutureWarning: The frame.append method is deprecated and will be removed from pandas in a future version. Use pandas.concat instead.\n",
      "  storage = storage.append({\"k\":k, \"z\":z, \"w\":w, \"h\":h,\n"
     ]
    },
    {
     "name": "stdout",
     "output_type": "stream",
     "text": [
      "475\n"
     ]
    },
    {
     "name": "stderr",
     "output_type": "stream",
     "text": [
      "C:\\Users\\sebpo\\AppData\\Local\\Temp\\ipykernel_24280\\1739624593.py:33: FutureWarning: The frame.append method is deprecated and will be removed from pandas in a future version. Use pandas.concat instead.\n",
      "  storage = storage.append({\"k\":k, \"z\":z, \"w\":w, \"h\":h,\n"
     ]
    },
    {
     "name": "stdout",
     "output_type": "stream",
     "text": [
      "476\n"
     ]
    },
    {
     "name": "stderr",
     "output_type": "stream",
     "text": [
      "C:\\Users\\sebpo\\AppData\\Local\\Temp\\ipykernel_24280\\1739624593.py:33: FutureWarning: The frame.append method is deprecated and will be removed from pandas in a future version. Use pandas.concat instead.\n",
      "  storage = storage.append({\"k\":k, \"z\":z, \"w\":w, \"h\":h,\n"
     ]
    },
    {
     "name": "stdout",
     "output_type": "stream",
     "text": [
      "477\n"
     ]
    },
    {
     "name": "stderr",
     "output_type": "stream",
     "text": [
      "C:\\Users\\sebpo\\AppData\\Local\\Temp\\ipykernel_24280\\1739624593.py:33: FutureWarning: The frame.append method is deprecated and will be removed from pandas in a future version. Use pandas.concat instead.\n",
      "  storage = storage.append({\"k\":k, \"z\":z, \"w\":w, \"h\":h,\n"
     ]
    },
    {
     "name": "stdout",
     "output_type": "stream",
     "text": [
      "478\n"
     ]
    },
    {
     "name": "stderr",
     "output_type": "stream",
     "text": [
      "C:\\Users\\sebpo\\AppData\\Local\\Temp\\ipykernel_24280\\1739624593.py:33: FutureWarning: The frame.append method is deprecated and will be removed from pandas in a future version. Use pandas.concat instead.\n",
      "  storage = storage.append({\"k\":k, \"z\":z, \"w\":w, \"h\":h,\n"
     ]
    },
    {
     "name": "stdout",
     "output_type": "stream",
     "text": [
      "479\n"
     ]
    },
    {
     "name": "stderr",
     "output_type": "stream",
     "text": [
      "C:\\Users\\sebpo\\AppData\\Local\\Temp\\ipykernel_24280\\1739624593.py:33: FutureWarning: The frame.append method is deprecated and will be removed from pandas in a future version. Use pandas.concat instead.\n",
      "  storage = storage.append({\"k\":k, \"z\":z, \"w\":w, \"h\":h,\n"
     ]
    },
    {
     "name": "stdout",
     "output_type": "stream",
     "text": [
      "480\n"
     ]
    },
    {
     "name": "stderr",
     "output_type": "stream",
     "text": [
      "C:\\Users\\sebpo\\AppData\\Local\\Temp\\ipykernel_24280\\1739624593.py:33: FutureWarning: The frame.append method is deprecated and will be removed from pandas in a future version. Use pandas.concat instead.\n",
      "  storage = storage.append({\"k\":k, \"z\":z, \"w\":w, \"h\":h,\n"
     ]
    },
    {
     "name": "stdout",
     "output_type": "stream",
     "text": [
      "481\n"
     ]
    },
    {
     "name": "stderr",
     "output_type": "stream",
     "text": [
      "C:\\Users\\sebpo\\AppData\\Local\\Temp\\ipykernel_24280\\1739624593.py:33: FutureWarning: The frame.append method is deprecated and will be removed from pandas in a future version. Use pandas.concat instead.\n",
      "  storage = storage.append({\"k\":k, \"z\":z, \"w\":w, \"h\":h,\n"
     ]
    },
    {
     "name": "stdout",
     "output_type": "stream",
     "text": [
      "482\n"
     ]
    },
    {
     "name": "stderr",
     "output_type": "stream",
     "text": [
      "C:\\Users\\sebpo\\AppData\\Local\\Temp\\ipykernel_24280\\1739624593.py:33: FutureWarning: The frame.append method is deprecated and will be removed from pandas in a future version. Use pandas.concat instead.\n",
      "  storage = storage.append({\"k\":k, \"z\":z, \"w\":w, \"h\":h,\n"
     ]
    },
    {
     "name": "stdout",
     "output_type": "stream",
     "text": [
      "483\n"
     ]
    },
    {
     "name": "stderr",
     "output_type": "stream",
     "text": [
      "C:\\Users\\sebpo\\AppData\\Local\\Temp\\ipykernel_24280\\1739624593.py:33: FutureWarning: The frame.append method is deprecated and will be removed from pandas in a future version. Use pandas.concat instead.\n",
      "  storage = storage.append({\"k\":k, \"z\":z, \"w\":w, \"h\":h,\n"
     ]
    },
    {
     "name": "stdout",
     "output_type": "stream",
     "text": [
      "484\n"
     ]
    },
    {
     "name": "stderr",
     "output_type": "stream",
     "text": [
      "C:\\Users\\sebpo\\AppData\\Local\\Temp\\ipykernel_24280\\1739624593.py:33: FutureWarning: The frame.append method is deprecated and will be removed from pandas in a future version. Use pandas.concat instead.\n",
      "  storage = storage.append({\"k\":k, \"z\":z, \"w\":w, \"h\":h,\n"
     ]
    },
    {
     "name": "stdout",
     "output_type": "stream",
     "text": [
      "485\n"
     ]
    },
    {
     "name": "stderr",
     "output_type": "stream",
     "text": [
      "C:\\Users\\sebpo\\AppData\\Local\\Temp\\ipykernel_24280\\1739624593.py:33: FutureWarning: The frame.append method is deprecated and will be removed from pandas in a future version. Use pandas.concat instead.\n",
      "  storage = storage.append({\"k\":k, \"z\":z, \"w\":w, \"h\":h,\n"
     ]
    },
    {
     "name": "stdout",
     "output_type": "stream",
     "text": [
      "486\n"
     ]
    },
    {
     "name": "stderr",
     "output_type": "stream",
     "text": [
      "C:\\Users\\sebpo\\AppData\\Local\\Temp\\ipykernel_24280\\1739624593.py:33: FutureWarning: The frame.append method is deprecated and will be removed from pandas in a future version. Use pandas.concat instead.\n",
      "  storage = storage.append({\"k\":k, \"z\":z, \"w\":w, \"h\":h,\n"
     ]
    },
    {
     "name": "stdout",
     "output_type": "stream",
     "text": [
      "487\n"
     ]
    },
    {
     "name": "stderr",
     "output_type": "stream",
     "text": [
      "C:\\Users\\sebpo\\AppData\\Local\\Temp\\ipykernel_24280\\1739624593.py:33: FutureWarning: The frame.append method is deprecated and will be removed from pandas in a future version. Use pandas.concat instead.\n",
      "  storage = storage.append({\"k\":k, \"z\":z, \"w\":w, \"h\":h,\n"
     ]
    },
    {
     "name": "stdout",
     "output_type": "stream",
     "text": [
      "488\n"
     ]
    },
    {
     "name": "stderr",
     "output_type": "stream",
     "text": [
      "C:\\Users\\sebpo\\AppData\\Local\\Temp\\ipykernel_24280\\1739624593.py:33: FutureWarning: The frame.append method is deprecated and will be removed from pandas in a future version. Use pandas.concat instead.\n",
      "  storage = storage.append({\"k\":k, \"z\":z, \"w\":w, \"h\":h,\n"
     ]
    },
    {
     "name": "stdout",
     "output_type": "stream",
     "text": [
      "489\n"
     ]
    },
    {
     "name": "stderr",
     "output_type": "stream",
     "text": [
      "C:\\Users\\sebpo\\AppData\\Local\\Temp\\ipykernel_24280\\1739624593.py:33: FutureWarning: The frame.append method is deprecated and will be removed from pandas in a future version. Use pandas.concat instead.\n",
      "  storage = storage.append({\"k\":k, \"z\":z, \"w\":w, \"h\":h,\n"
     ]
    },
    {
     "name": "stdout",
     "output_type": "stream",
     "text": [
      "490\n"
     ]
    },
    {
     "name": "stderr",
     "output_type": "stream",
     "text": [
      "C:\\Users\\sebpo\\AppData\\Local\\Temp\\ipykernel_24280\\1739624593.py:33: FutureWarning: The frame.append method is deprecated and will be removed from pandas in a future version. Use pandas.concat instead.\n",
      "  storage = storage.append({\"k\":k, \"z\":z, \"w\":w, \"h\":h,\n"
     ]
    },
    {
     "name": "stdout",
     "output_type": "stream",
     "text": [
      "491\n"
     ]
    },
    {
     "name": "stderr",
     "output_type": "stream",
     "text": [
      "C:\\Users\\sebpo\\AppData\\Local\\Temp\\ipykernel_24280\\1739624593.py:33: FutureWarning: The frame.append method is deprecated and will be removed from pandas in a future version. Use pandas.concat instead.\n",
      "  storage = storage.append({\"k\":k, \"z\":z, \"w\":w, \"h\":h,\n"
     ]
    },
    {
     "name": "stdout",
     "output_type": "stream",
     "text": [
      "492\n"
     ]
    },
    {
     "name": "stderr",
     "output_type": "stream",
     "text": [
      "C:\\Users\\sebpo\\AppData\\Local\\Temp\\ipykernel_24280\\1739624593.py:33: FutureWarning: The frame.append method is deprecated and will be removed from pandas in a future version. Use pandas.concat instead.\n",
      "  storage = storage.append({\"k\":k, \"z\":z, \"w\":w, \"h\":h,\n"
     ]
    },
    {
     "name": "stdout",
     "output_type": "stream",
     "text": [
      "493\n"
     ]
    },
    {
     "name": "stderr",
     "output_type": "stream",
     "text": [
      "C:\\Users\\sebpo\\AppData\\Local\\Temp\\ipykernel_24280\\1739624593.py:33: FutureWarning: The frame.append method is deprecated and will be removed from pandas in a future version. Use pandas.concat instead.\n",
      "  storage = storage.append({\"k\":k, \"z\":z, \"w\":w, \"h\":h,\n"
     ]
    },
    {
     "name": "stdout",
     "output_type": "stream",
     "text": [
      "494\n"
     ]
    },
    {
     "name": "stderr",
     "output_type": "stream",
     "text": [
      "C:\\Users\\sebpo\\AppData\\Local\\Temp\\ipykernel_24280\\1739624593.py:33: FutureWarning: The frame.append method is deprecated and will be removed from pandas in a future version. Use pandas.concat instead.\n",
      "  storage = storage.append({\"k\":k, \"z\":z, \"w\":w, \"h\":h,\n"
     ]
    },
    {
     "name": "stdout",
     "output_type": "stream",
     "text": [
      "495\n"
     ]
    },
    {
     "name": "stderr",
     "output_type": "stream",
     "text": [
      "C:\\Users\\sebpo\\AppData\\Local\\Temp\\ipykernel_24280\\1739624593.py:33: FutureWarning: The frame.append method is deprecated and will be removed from pandas in a future version. Use pandas.concat instead.\n",
      "  storage = storage.append({\"k\":k, \"z\":z, \"w\":w, \"h\":h,\n"
     ]
    },
    {
     "name": "stdout",
     "output_type": "stream",
     "text": [
      "496\n"
     ]
    },
    {
     "name": "stderr",
     "output_type": "stream",
     "text": [
      "C:\\Users\\sebpo\\AppData\\Local\\Temp\\ipykernel_24280\\1739624593.py:33: FutureWarning: The frame.append method is deprecated and will be removed from pandas in a future version. Use pandas.concat instead.\n",
      "  storage = storage.append({\"k\":k, \"z\":z, \"w\":w, \"h\":h,\n"
     ]
    },
    {
     "name": "stdout",
     "output_type": "stream",
     "text": [
      "497\n"
     ]
    },
    {
     "name": "stderr",
     "output_type": "stream",
     "text": [
      "C:\\Users\\sebpo\\AppData\\Local\\Temp\\ipykernel_24280\\1739624593.py:33: FutureWarning: The frame.append method is deprecated and will be removed from pandas in a future version. Use pandas.concat instead.\n",
      "  storage = storage.append({\"k\":k, \"z\":z, \"w\":w, \"h\":h,\n"
     ]
    },
    {
     "name": "stdout",
     "output_type": "stream",
     "text": [
      "498\n",
      "499\n"
     ]
    },
    {
     "name": "stderr",
     "output_type": "stream",
     "text": [
      "C:\\Users\\sebpo\\AppData\\Local\\Temp\\ipykernel_24280\\1739624593.py:33: FutureWarning: The frame.append method is deprecated and will be removed from pandas in a future version. Use pandas.concat instead.\n",
      "  storage = storage.append({\"k\":k, \"z\":z, \"w\":w, \"h\":h,\n"
     ]
    }
   ],
   "source": [
    "storage = pd.DataFrame(columns = [\"k\", \"z\", \"w\", \"h\", \"profits\"])\n",
    "for n in range(len(grid)):\n",
    "    # Each loop we pull out the values for a new set of hyperparamters from the grid\n",
    "    k,z,w,h= grid[n]\n",
    "    \n",
    "    # We fit a filter and CI using the next set of parameters\n",
    "\n",
    "\n",
    "    energy_xle1[\"Filter\"] = energy_xle1['S5ENRS Index  (R2)'].ewm(alpha = k, adjust = False).mean()\n",
    "    energy_xle1[\"Filter Error\"] = energy_xle1['S5ENRS Index  (R2)'] -energy_xle1[\"Filter\"]\n",
    "    energy_xle1[\"std\"] = energy_xle1[\"Filter Error\"].rolling(int(w)).std()\n",
    "    energy_xle1[\"Upper\"] = energy_xle1[\"Filter\"] + z*energy_xle1[\"std\"]\n",
    "    energy_xle1[\"Lower\"] = energy_xle1[\"Filter\"] - z*energy_xle1[\"std\"]\n",
    "    energy_xle1[\"test\"] = np.where(energy_xle1[\"Filter Error\"].abs()>z*energy_xle1[\"std\"], 1, 0)*np.sign(energy_xle1[\"Filter Error\"])\n",
    "    \n",
    "    # create vectors where we can store information on signals and when the change is first signalled\n",
    "    energy_xle1[\"test2\"] = 0\n",
    "    energy_xle1[\"signal\"] = 0\n",
    "    \n",
    "    for j in energy_xle1.index:\n",
    "        # if there is a change in the signal, we want to take a position for teh next h periods\n",
    "        if (energy_xle1.loc[j, \"test\"] == 1) &  (energy_xle1.shift().loc[j, \"test\"] != 1):\n",
    "            energy_xle1.loc[j:j+datetime.timedelta(h), \"signal\"] = 1\n",
    "            energy_xle1.loc[j, \"test2\"] = 1\n",
    "        elif (energy_xle1.loc[j, \"test\"] == -1) &  (energy_xle1.shift().loc[j, \"test\"] != -1):\n",
    "            energy_xle1.loc[j:j+datetime.timedelta(h), \"signal\"] =  -1\n",
    "            energy_xle1.loc[j, \"test2\"] = -1\n",
    "    \n",
    "    # calculate metric\n",
    "    energy_xle1[\"cumulative_returns\"] = np.exp((energy_xle1[\"signal\"].shift()*energy_xle1.returns).cumsum())-1\n",
    "    \n",
    "    # store the results\n",
    "    storage = storage.append({\"k\":k, \"z\":z, \"w\":w, \"h\":h,\n",
    "                \"profits\":energy_xle1[\"cumulative_returns\"][-1]}, ignore_index = True)\n",
    "    # print so I can track progress of loop (can take a few minutes)\n",
    "    print(n)"
   ]
  },
  {
   "cell_type": "code",
   "execution_count": 89,
   "id": "f30249e0",
   "metadata": {},
   "outputs": [
    {
     "data": {
      "text/html": [
       "<div>\n",
       "<style scoped>\n",
       "    .dataframe tbody tr th:only-of-type {\n",
       "        vertical-align: middle;\n",
       "    }\n",
       "\n",
       "    .dataframe tbody tr th {\n",
       "        vertical-align: top;\n",
       "    }\n",
       "\n",
       "    .dataframe thead th {\n",
       "        text-align: right;\n",
       "    }\n",
       "</style>\n",
       "<table border=\"1\" class=\"dataframe\">\n",
       "  <thead>\n",
       "    <tr style=\"text-align: right;\">\n",
       "      <th></th>\n",
       "      <th>k</th>\n",
       "      <th>z</th>\n",
       "      <th>w</th>\n",
       "      <th>h</th>\n",
       "      <th>profits</th>\n",
       "    </tr>\n",
       "  </thead>\n",
       "  <tbody>\n",
       "    <tr>\n",
       "      <th>0</th>\n",
       "      <td>0.99</td>\n",
       "      <td>0.342222</td>\n",
       "      <td>25.0</td>\n",
       "      <td>5.0</td>\n",
       "      <td>-0.786712</td>\n",
       "    </tr>\n",
       "    <tr>\n",
       "      <th>1</th>\n",
       "      <td>0.99</td>\n",
       "      <td>0.342222</td>\n",
       "      <td>20.0</td>\n",
       "      <td>5.0</td>\n",
       "      <td>-0.76573</td>\n",
       "    </tr>\n",
       "    <tr>\n",
       "      <th>2</th>\n",
       "      <td>0.881111</td>\n",
       "      <td>0.01</td>\n",
       "      <td>20.0</td>\n",
       "      <td>5.0</td>\n",
       "      <td>-0.739876</td>\n",
       "    </tr>\n",
       "    <tr>\n",
       "      <th>3</th>\n",
       "      <td>0.881111</td>\n",
       "      <td>0.01</td>\n",
       "      <td>25.0</td>\n",
       "      <td>5.0</td>\n",
       "      <td>-0.724306</td>\n",
       "    </tr>\n",
       "    <tr>\n",
       "      <th>4</th>\n",
       "      <td>0.99</td>\n",
       "      <td>0.342222</td>\n",
       "      <td>15.0</td>\n",
       "      <td>5.0</td>\n",
       "      <td>-0.721998</td>\n",
       "    </tr>\n",
       "    <tr>\n",
       "      <th>...</th>\n",
       "      <td>...</td>\n",
       "      <td>...</td>\n",
       "      <td>...</td>\n",
       "      <td>...</td>\n",
       "      <td>...</td>\n",
       "    </tr>\n",
       "    <tr>\n",
       "      <th>495</th>\n",
       "      <td>0.118889</td>\n",
       "      <td>3.0</td>\n",
       "      <td>15.0</td>\n",
       "      <td>5.0</td>\n",
       "      <td>0.558695</td>\n",
       "    </tr>\n",
       "    <tr>\n",
       "      <th>496</th>\n",
       "      <td>0.01</td>\n",
       "      <td>1.671111</td>\n",
       "      <td>20.0</td>\n",
       "      <td>5.0</td>\n",
       "      <td>0.574051</td>\n",
       "    </tr>\n",
       "    <tr>\n",
       "      <th>497</th>\n",
       "      <td>0.663333</td>\n",
       "      <td>0.674444</td>\n",
       "      <td>25.0</td>\n",
       "      <td>5.0</td>\n",
       "      <td>0.579334</td>\n",
       "    </tr>\n",
       "    <tr>\n",
       "      <th>498</th>\n",
       "      <td>0.01</td>\n",
       "      <td>1.338889</td>\n",
       "      <td>25.0</td>\n",
       "      <td>5.0</td>\n",
       "      <td>0.616437</td>\n",
       "    </tr>\n",
       "    <tr>\n",
       "      <th>499</th>\n",
       "      <td>0.01</td>\n",
       "      <td>2.003333</td>\n",
       "      <td>5.0</td>\n",
       "      <td>5.0</td>\n",
       "      <td>0.637004</td>\n",
       "    </tr>\n",
       "  </tbody>\n",
       "</table>\n",
       "<p>500 rows × 5 columns</p>\n",
       "</div>"
      ],
      "text/plain": [
       "            k         z     w    h   profits\n",
       "0        0.99  0.342222  25.0  5.0 -0.786712\n",
       "1        0.99  0.342222  20.0  5.0  -0.76573\n",
       "2    0.881111      0.01  20.0  5.0 -0.739876\n",
       "3    0.881111      0.01  25.0  5.0 -0.724306\n",
       "4        0.99  0.342222  15.0  5.0 -0.721998\n",
       "..        ...       ...   ...  ...       ...\n",
       "495  0.118889       3.0  15.0  5.0  0.558695\n",
       "496      0.01  1.671111  20.0  5.0  0.574051\n",
       "497  0.663333  0.674444  25.0  5.0  0.579334\n",
       "498      0.01  1.338889  25.0  5.0  0.616437\n",
       "499      0.01  2.003333   5.0  5.0  0.637004\n",
       "\n",
       "[500 rows x 5 columns]"
      ]
     },
     "execution_count": 89,
     "metadata": {},
     "output_type": "execute_result"
    }
   ],
   "source": [
    "storage = storage.sort_values(by = \"profits\").reset_index(drop = True)\n",
    "storage"
   ]
  },
  {
   "cell_type": "code",
   "execution_count": 90,
   "id": "34e06e16",
   "metadata": {},
   "outputs": [],
   "source": [
    "# heatmap \n",
    "\n",
    "import seaborn as sns\n",
    "\n",
    "def heatmap(x, y, metric, values):\n",
    "    \n",
    "    # specify the columns I will be pulling from the results\n",
    "    p2p = values[[x, y, metric]]\n",
    "    \n",
    "    # If p > 2, we need to group \n",
    "    heat = np.round(p2p.groupby([x,y]).max(),1)\n",
    "    heat = heat.unstack()[metric]\n",
    "\n",
    "    # round labels\n",
    "    heat.index = np.round(heat.index,2)\n",
    "    heat.columns = np.round(heat.columns,2)\n",
    "\n",
    "    # make plot\n",
    "    f, ax = plt.subplots(figsize=(25, 12))\n",
    "    ax = sns.heatmap(heat, fmt='.1g')\n",
    "    ax.set_title(\"Heat map of \"+ metric,size = 18)\n",
    "    ax.tick_params(axis='both', which='major', labelsize=20)\n",
    "    ax.set_xlabel(y, size = 18)\n",
    "    ax.set_ylabel(x, size = 18)\n",
    "    ax.collections[0].colorbar.set_label(metric, size = 18)\n",
    "    sns.set(font_scale=1)\n",
    "    plt.show()"
   ]
  },
  {
   "cell_type": "code",
   "execution_count": 91,
   "id": "f2a076c5",
   "metadata": {},
   "outputs": [
    {
     "data": {
      "image/png": "[encoded data removed]",
      "text/plain": [
       "<Figure size 1800x864 with 2 Axes>"
      ]
     },
     "metadata": {},
     "output_type": "display_data"
    }
   ],
   "source": [
    "heatmap(\"k\", \"z\",\"profits\", storage)"
   ]
  },
  {
   "cell_type": "markdown",
   "id": "7aa7cefe",
   "metadata": {},
   "source": [
    "Final hyperparameters are k = 0.66 and z = 0.67 and h = 5"
   ]
  },
  {
   "cell_type": "markdown",
   "id": "ebbdd799",
   "metadata": {},
   "source": [
    "### c."
   ]
  },
  {
   "cell_type": "code",
   "execution_count": 92,
   "id": "01534249",
   "metadata": {},
   "outputs": [],
   "source": [
    "# apply strategy to rest 20% of the observations \n",
    "\n",
    "val_df1 = val_df.copy()\n",
    "val_df1[\"Filter\"] = val_df1['S5ENRS Index  (R2)'].ewm(alpha = k, adjust = False).mean()\n",
    "val_df1[\"Filter Error\"] = val_df1['S5ENRS Index  (R2)'] -val_df1[\"Filter\"]\n",
    "val_df1[\"std\"] = val_df1[\"Filter Error\"].rolling(int(w)).std()\n",
    "val_df1[\"Upper\"] = val_df1[\"Filter\"] + z*val_df1[\"std\"]\n",
    "val_df1[\"Lower\"] = val_df1[\"Filter\"] - z*val_df1[\"std\"]\n",
    "\n",
    "val_df1[\"test\"] = np.where(val_df1[\"Filter Error\"].abs()>z*val_df1[\"std\"], 1, 0)*np.sign(val_df1[\"Filter Error\"])\n",
    "\n",
    "val_df1[\"test2\"] = 0\n",
    "val_df1[\"signal\"] = 0\n",
    "for j in val_df1.index:\n",
    "    if (val_df1.loc[j, \"test\"] == 1) &  (val_df1.shift().loc[j, \"test\"] != 1):\n",
    "        val_df1.loc[j:j+datetime.timedelta(h), \"signal\"] = 1\n",
    "        val_df1.loc[j, \"test2\"] = 1\n",
    "    elif (val_df1.loc[j, \"test\"] == -1) &  (val_df1.shift().loc[j, \"test\"] != -1):\n",
    "        val_df1.loc[j:j+datetime.timedelta(h), \"signal\"] =  -1\n",
    "        val_df1.loc[j, \"test2\"] = -1\n",
    "val_df1[\"cumulative_returns\"] = np.exp((val_df1[\"signal\"].shift()*val_df1.returns).cumsum())-1\n",
    "val_df1[\"strat_returns\"] = val_df1[\"signal\"].shift()*val_df1.returns\n"
   ]
  },
  {
   "cell_type": "code",
   "execution_count": 93,
   "id": "6fa68472",
   "metadata": {},
   "outputs": [
    {
     "data": {
      "image/png": "[encoded data removed]",
      "text/plain": [
       "<Figure size 1080x360 with 1 Axes>"
      ]
     },
     "metadata": {},
     "output_type": "display_data"
    }
   ],
   "source": [
    "# visualize kalman filter \n",
    "\n",
    "sns.set_style(\"white\")\n",
    "fig, ax = plt.subplots(figsize = (15, 5))\n",
    "ax.set_title(\"Kalman Filter vs Actual Values \" + \"Z=\"+str(z) + \" w=\" + str(w)+ \" k=\" + str(k))\n",
    "\n",
    "ax.set_ylabel(\"Forward P/E of energy sector\")\n",
    "ax.plot(val_df1['S5ENRS Index  (R2)'])\n",
    "#ax.plot(df_copy[\"Filter\"])\n",
    "\n",
    "\n",
    "ax.fill_between(val_df1.index, val_df1.Lower, val_df1.Upper, color='b', alpha=.2)\n",
    "ax.scatter(val_df1[val_df1.test2 == 1].index, val_df1[val_df1.test2 == 1]['S5ENRS Index  (R2)'], color = \"blue\")\n",
    "ax.scatter(val_df1[val_df1.test2 == -1].index, val_df1[val_df1.test2 == -1]['S5ENRS Index  (R2)'], color = \"red\")\n",
    "\n",
    "#ax.axvline(df_copy.index[-5], color = \"red\", linestyle = '--')\n",
    "ax.legend([\"Energy ETF Price\", \"Kalman CI\", \"Long Position\", \"Short Position\"])\n",
    "\n",
    "\n",
    "#plt.xlim([datetime.date(2000, 1, 1), datetime.date(2004, 1, 1)])\n",
    "ax.grid()"
   ]
  },
  {
   "cell_type": "code",
   "execution_count": 94,
   "id": "d9ab0724",
   "metadata": {},
   "outputs": [
    {
     "data": {
      "image/png": "[encoded data removed]",
      "text/plain": [
       "<Figure size 1080x360 with 1 Axes>"
      ]
     },
     "metadata": {},
     "output_type": "display_data"
    }
   ],
   "source": [
    "# visualize returns \n",
    "\n",
    "plt.figure(figsize = (15, 5))\n",
    "(val_df1[\"cumulative_returns\"]).plot()\n",
    "\n",
    "plt.title(\"Price Earnings Strategy:\"+ \", Z = \"+str(z) + \", w = \" + str(w)+ \", k = \" + str(k))\n",
    "\n",
    "plt.legend([\"Equity Curve\"])\n",
    "\n",
    "plt.grid()"
   ]
  },
  {
   "cell_type": "markdown",
   "id": "10984100",
   "metadata": {},
   "source": [
    "Total Rate of Return"
   ]
  },
  {
   "cell_type": "code",
   "execution_count": 95,
   "id": "beb3fe8a",
   "metadata": {},
   "outputs": [
    {
     "name": "stdout",
     "output_type": "stream",
     "text": [
      "0.19089711393223618\n"
     ]
    }
   ],
   "source": [
    "total_return = val_df1[\"cumulative_returns\"].iloc[-1]\n",
    "print(total_return)"
   ]
  },
  {
   "cell_type": "markdown",
   "id": "18f2911f",
   "metadata": {},
   "source": [
    "Annualized Rate of Return"
   ]
  },
  {
   "cell_type": "code",
   "execution_count": 96,
   "id": "1e76b540",
   "metadata": {},
   "outputs": [
    {
     "name": "stdout",
     "output_type": "stream",
     "text": [
      "annualized rate of return is 0.9191513330919499 %\n"
     ]
    }
   ],
   "source": [
    "P = 1000000\n",
    "t = len(val_df1)/12\n",
    "A = (val_df1[\"cumulative_returns\"].iloc[-1]/100+1)*P\n",
    "ann_rate = (((A/P)**(1/t))-1)*100\n",
    "print('annualized rate of return is', ann_rate*100, '%')"
   ]
  },
  {
   "cell_type": "markdown",
   "id": "80d61007",
   "metadata": {},
   "source": [
    "RoR over th edays we hiold a position"
   ]
  },
  {
   "cell_type": "code",
   "execution_count": 97,
   "id": "69306026",
   "metadata": {},
   "outputs": [
    {
     "name": "stdout",
     "output_type": "stream",
     "text": [
      "Days in market: 249\n"
     ]
    }
   ],
   "source": [
    "days_in_market = val_df1[\"signal\"].ne(0).count()  # count the number of rows where the signal is not zero\n",
    "print(f\"Days in market: {days_in_market}\")"
   ]
  },
  {
   "cell_type": "code",
   "execution_count": 98,
   "id": "68c135bd",
   "metadata": {},
   "outputs": [
    {
     "data": {
      "text/plain": [
       "-2.5631458286736843"
      ]
     },
     "execution_count": 98,
     "metadata": {},
     "output_type": "execute_result"
    }
   ],
   "source": [
    "val_df1['ror_in_market'] = (val_df1[\"cumulative_returns\"].shift()/val_df1[\"cumulative_returns\"])**(365/249)-1\n",
    "val_df1['ror_in_market'].sum()"
   ]
  },
  {
   "cell_type": "markdown",
   "id": "6787b449",
   "metadata": {},
   "source": [
    "Sharpe Ratio"
   ]
  },
  {
   "cell_type": "code",
   "execution_count": 99,
   "id": "b83e223e",
   "metadata": {},
   "outputs": [
    {
     "data": {
      "text/html": [
       "<div>\n",
       "<style scoped>\n",
       "    .dataframe tbody tr th:only-of-type {\n",
       "        vertical-align: middle;\n",
       "    }\n",
       "\n",
       "    .dataframe tbody tr th {\n",
       "        vertical-align: top;\n",
       "    }\n",
       "\n",
       "    .dataframe thead th {\n",
       "        text-align: right;\n",
       "    }\n",
       "</style>\n",
       "<table border=\"1\" class=\"dataframe\">\n",
       "  <thead>\n",
       "    <tr style=\"text-align: right;\">\n",
       "      <th></th>\n",
       "      <th>value</th>\n",
       "    </tr>\n",
       "    <tr>\n",
       "      <th>date</th>\n",
       "      <th></th>\n",
       "    </tr>\n",
       "  </thead>\n",
       "  <tbody>\n",
       "    <tr>\n",
       "      <th>2023-01-08</th>\n",
       "      <td>NaN</td>\n",
       "    </tr>\n",
       "    <tr>\n",
       "      <th>2023-01-09</th>\n",
       "      <td>NaN</td>\n",
       "    </tr>\n",
       "    <tr>\n",
       "      <th>2023-01-10</th>\n",
       "      <td>NaN</td>\n",
       "    </tr>\n",
       "    <tr>\n",
       "      <th>2023-01-11</th>\n",
       "      <td>NaN</td>\n",
       "    </tr>\n",
       "    <tr>\n",
       "      <th>2023-01-12</th>\n",
       "      <td>NaN</td>\n",
       "    </tr>\n",
       "  </tbody>\n",
       "</table>\n",
       "</div>"
      ],
      "text/plain": [
       "             value\n",
       "date              \n",
       "2023-01-08     NaN\n",
       "2023-01-09     NaN\n",
       "2023-01-10     NaN\n",
       "2023-01-11     NaN\n",
       "2023-01-12     NaN"
      ]
     },
     "execution_count": 99,
     "metadata": {},
     "output_type": "execute_result"
    }
   ],
   "source": [
    "rf = pd.read_csv('1-year-treasury-rate-yield-chart.csv')\n",
    "rf.set_index('date', inplace=True)\n",
    "\n",
    "# convert the index to datetime\n",
    "rf.index = pd.to_datetime(rf.index)\n",
    "rf.tail()"
   ]
  },
  {
   "cell_type": "code",
   "execution_count": 100,
   "id": "5c668889",
   "metadata": {},
   "outputs": [
    {
     "data": {
      "text/html": [
       "<div>\n",
       "<style scoped>\n",
       "    .dataframe tbody tr th:only-of-type {\n",
       "        vertical-align: middle;\n",
       "    }\n",
       "\n",
       "    .dataframe tbody tr th {\n",
       "        vertical-align: top;\n",
       "    }\n",
       "\n",
       "    .dataframe thead th {\n",
       "        text-align: right;\n",
       "    }\n",
       "</style>\n",
       "<table border=\"1\" class=\"dataframe\">\n",
       "  <thead>\n",
       "    <tr style=\"text-align: right;\">\n",
       "      <th></th>\n",
       "      <th>S5ENRS Index  (R2)</th>\n",
       "      <th>Close</th>\n",
       "      <th>returns</th>\n",
       "      <th>Filter</th>\n",
       "      <th>Filter Error</th>\n",
       "      <th>std</th>\n",
       "      <th>Upper</th>\n",
       "      <th>Lower</th>\n",
       "      <th>test</th>\n",
       "      <th>test2</th>\n",
       "      <th>signal</th>\n",
       "      <th>cumulative_returns</th>\n",
       "      <th>strat_returns</th>\n",
       "      <th>ror_in_market</th>\n",
       "      <th>value</th>\n",
       "    </tr>\n",
       "    <tr>\n",
       "      <th>Date</th>\n",
       "      <th></th>\n",
       "      <th></th>\n",
       "      <th></th>\n",
       "      <th></th>\n",
       "      <th></th>\n",
       "      <th></th>\n",
       "      <th></th>\n",
       "      <th></th>\n",
       "      <th></th>\n",
       "      <th></th>\n",
       "      <th></th>\n",
       "      <th></th>\n",
       "      <th></th>\n",
       "      <th></th>\n",
       "      <th></th>\n",
       "    </tr>\n",
       "  </thead>\n",
       "  <tbody>\n",
       "    <tr>\n",
       "      <th>2018-04-27</th>\n",
       "      <td>19.7716</td>\n",
       "      <td>73.820000</td>\n",
       "      <td>0.007069</td>\n",
       "      <td>19.771600</td>\n",
       "      <td>0.000000</td>\n",
       "      <td>NaN</td>\n",
       "      <td>NaN</td>\n",
       "      <td>NaN</td>\n",
       "      <td>0.0</td>\n",
       "      <td>0</td>\n",
       "      <td>0</td>\n",
       "      <td>NaN</td>\n",
       "      <td>NaN</td>\n",
       "      <td>NaN</td>\n",
       "      <td>2.24</td>\n",
       "    </tr>\n",
       "    <tr>\n",
       "      <th>2018-05-04</th>\n",
       "      <td>19.5187</td>\n",
       "      <td>73.849998</td>\n",
       "      <td>0.000406</td>\n",
       "      <td>19.521229</td>\n",
       "      <td>-0.002529</td>\n",
       "      <td>NaN</td>\n",
       "      <td>NaN</td>\n",
       "      <td>NaN</td>\n",
       "      <td>-0.0</td>\n",
       "      <td>0</td>\n",
       "      <td>0</td>\n",
       "      <td>0.000000</td>\n",
       "      <td>0.0</td>\n",
       "      <td>NaN</td>\n",
       "      <td>2.24</td>\n",
       "    </tr>\n",
       "    <tr>\n",
       "      <th>2018-05-11</th>\n",
       "      <td>19.7347</td>\n",
       "      <td>76.730003</td>\n",
       "      <td>0.038257</td>\n",
       "      <td>19.732565</td>\n",
       "      <td>0.002135</td>\n",
       "      <td>NaN</td>\n",
       "      <td>NaN</td>\n",
       "      <td>NaN</td>\n",
       "      <td>0.0</td>\n",
       "      <td>0</td>\n",
       "      <td>0</td>\n",
       "      <td>0.000000</td>\n",
       "      <td>0.0</td>\n",
       "      <td>NaN</td>\n",
       "      <td>2.28</td>\n",
       "    </tr>\n",
       "    <tr>\n",
       "      <th>2018-05-18</th>\n",
       "      <td>19.6663</td>\n",
       "      <td>78.110001</td>\n",
       "      <td>0.017825</td>\n",
       "      <td>19.666963</td>\n",
       "      <td>-0.000663</td>\n",
       "      <td>NaN</td>\n",
       "      <td>NaN</td>\n",
       "      <td>NaN</td>\n",
       "      <td>-0.0</td>\n",
       "      <td>0</td>\n",
       "      <td>0</td>\n",
       "      <td>0.000000</td>\n",
       "      <td>0.0</td>\n",
       "      <td>NaN</td>\n",
       "      <td>2.32</td>\n",
       "    </tr>\n",
       "    <tr>\n",
       "      <th>2018-05-25</th>\n",
       "      <td>18.4294</td>\n",
       "      <td>74.580002</td>\n",
       "      <td>-0.046246</td>\n",
       "      <td>18.441776</td>\n",
       "      <td>-0.012376</td>\n",
       "      <td>NaN</td>\n",
       "      <td>NaN</td>\n",
       "      <td>NaN</td>\n",
       "      <td>-0.0</td>\n",
       "      <td>0</td>\n",
       "      <td>0</td>\n",
       "      <td>0.000000</td>\n",
       "      <td>-0.0</td>\n",
       "      <td>NaN</td>\n",
       "      <td>2.27</td>\n",
       "    </tr>\n",
       "    <tr>\n",
       "      <th>...</th>\n",
       "      <td>...</td>\n",
       "      <td>...</td>\n",
       "      <td>...</td>\n",
       "      <td>...</td>\n",
       "      <td>...</td>\n",
       "      <td>...</td>\n",
       "      <td>...</td>\n",
       "      <td>...</td>\n",
       "      <td>...</td>\n",
       "      <td>...</td>\n",
       "      <td>...</td>\n",
       "      <td>...</td>\n",
       "      <td>...</td>\n",
       "      <td>...</td>\n",
       "      <td>...</td>\n",
       "    </tr>\n",
       "    <tr>\n",
       "      <th>2023-01-06</th>\n",
       "      <td>10.1140</td>\n",
       "      <td>87.559998</td>\n",
       "      <td>0.001028</td>\n",
       "      <td>10.113164</td>\n",
       "      <td>0.000836</td>\n",
       "      <td>0.004722</td>\n",
       "      <td>10.127330</td>\n",
       "      <td>10.098998</td>\n",
       "      <td>0.0</td>\n",
       "      <td>0</td>\n",
       "      <td>0</td>\n",
       "      <td>0.190897</td>\n",
       "      <td>0.0</td>\n",
       "      <td>0.0</td>\n",
       "      <td>NaN</td>\n",
       "    </tr>\n",
       "    <tr>\n",
       "      <th>2023-01-13</th>\n",
       "      <td>10.5296</td>\n",
       "      <td>89.949997</td>\n",
       "      <td>0.026930</td>\n",
       "      <td>10.525436</td>\n",
       "      <td>0.004164</td>\n",
       "      <td>0.004759</td>\n",
       "      <td>10.539712</td>\n",
       "      <td>10.511160</td>\n",
       "      <td>0.0</td>\n",
       "      <td>0</td>\n",
       "      <td>0</td>\n",
       "      <td>0.190897</td>\n",
       "      <td>0.0</td>\n",
       "      <td>0.0</td>\n",
       "      <td>NaN</td>\n",
       "    </tr>\n",
       "    <tr>\n",
       "      <th>2023-01-20</th>\n",
       "      <td>10.6727</td>\n",
       "      <td>90.480003</td>\n",
       "      <td>0.005875</td>\n",
       "      <td>10.671227</td>\n",
       "      <td>0.001473</td>\n",
       "      <td>0.004539</td>\n",
       "      <td>10.684845</td>\n",
       "      <td>10.657610</td>\n",
       "      <td>0.0</td>\n",
       "      <td>0</td>\n",
       "      <td>0</td>\n",
       "      <td>0.190897</td>\n",
       "      <td>0.0</td>\n",
       "      <td>0.0</td>\n",
       "      <td>NaN</td>\n",
       "    </tr>\n",
       "    <tr>\n",
       "      <th>2023-01-27</th>\n",
       "      <td>10.9352</td>\n",
       "      <td>91.230003</td>\n",
       "      <td>0.008255</td>\n",
       "      <td>10.932560</td>\n",
       "      <td>0.002640</td>\n",
       "      <td>0.004211</td>\n",
       "      <td>10.945194</td>\n",
       "      <td>10.919926</td>\n",
       "      <td>0.0</td>\n",
       "      <td>0</td>\n",
       "      <td>0</td>\n",
       "      <td>0.190897</td>\n",
       "      <td>0.0</td>\n",
       "      <td>0.0</td>\n",
       "      <td>NaN</td>\n",
       "    </tr>\n",
       "    <tr>\n",
       "      <th>2023-01-31</th>\n",
       "      <td>10.7430</td>\n",
       "      <td>89.930000</td>\n",
       "      <td>-0.014352</td>\n",
       "      <td>10.744896</td>\n",
       "      <td>-0.001896</td>\n",
       "      <td>0.004127</td>\n",
       "      <td>10.757276</td>\n",
       "      <td>10.732516</td>\n",
       "      <td>-0.0</td>\n",
       "      <td>0</td>\n",
       "      <td>0</td>\n",
       "      <td>0.190897</td>\n",
       "      <td>-0.0</td>\n",
       "      <td>0.0</td>\n",
       "      <td>NaN</td>\n",
       "    </tr>\n",
       "  </tbody>\n",
       "</table>\n",
       "<p>249 rows × 15 columns</p>\n",
       "</div>"
      ],
      "text/plain": [
       "            S5ENRS Index  (R2)      Close   returns     Filter  Filter Error  \\\n",
       "Date                                                                           \n",
       "2018-04-27             19.7716  73.820000  0.007069  19.771600      0.000000   \n",
       "2018-05-04             19.5187  73.849998  0.000406  19.521229     -0.002529   \n",
       "2018-05-11             19.7347  76.730003  0.038257  19.732565      0.002135   \n",
       "2018-05-18             19.6663  78.110001  0.017825  19.666963     -0.000663   \n",
       "2018-05-25             18.4294  74.580002 -0.046246  18.441776     -0.012376   \n",
       "...                        ...        ...       ...        ...           ...   \n",
       "2023-01-06             10.1140  87.559998  0.001028  10.113164      0.000836   \n",
       "2023-01-13             10.5296  89.949997  0.026930  10.525436      0.004164   \n",
       "2023-01-20             10.6727  90.480003  0.005875  10.671227      0.001473   \n",
       "2023-01-27             10.9352  91.230003  0.008255  10.932560      0.002640   \n",
       "2023-01-31             10.7430  89.930000 -0.014352  10.744896     -0.001896   \n",
       "\n",
       "                 std      Upper      Lower  test  test2  signal  \\\n",
       "Date                                                              \n",
       "2018-04-27       NaN        NaN        NaN   0.0      0       0   \n",
       "2018-05-04       NaN        NaN        NaN  -0.0      0       0   \n",
       "2018-05-11       NaN        NaN        NaN   0.0      0       0   \n",
       "2018-05-18       NaN        NaN        NaN  -0.0      0       0   \n",
       "2018-05-25       NaN        NaN        NaN  -0.0      0       0   \n",
       "...              ...        ...        ...   ...    ...     ...   \n",
       "2023-01-06  0.004722  10.127330  10.098998   0.0      0       0   \n",
       "2023-01-13  0.004759  10.539712  10.511160   0.0      0       0   \n",
       "2023-01-20  0.004539  10.684845  10.657610   0.0      0       0   \n",
       "2023-01-27  0.004211  10.945194  10.919926   0.0      0       0   \n",
       "2023-01-31  0.004127  10.757276  10.732516  -0.0      0       0   \n",
       "\n",
       "            cumulative_returns  strat_returns  ror_in_market   value  \n",
       "Date                                                                  \n",
       "2018-04-27                 NaN            NaN            NaN    2.24  \n",
       "2018-05-04            0.000000            0.0            NaN    2.24  \n",
       "2018-05-11            0.000000            0.0            NaN    2.28  \n",
       "2018-05-18            0.000000            0.0            NaN    2.32  \n",
       "2018-05-25            0.000000           -0.0            NaN    2.27  \n",
       "...                        ...            ...            ...     ...  \n",
       "2023-01-06            0.190897            0.0            0.0     NaN  \n",
       "2023-01-13            0.190897            0.0            0.0     NaN  \n",
       "2023-01-20            0.190897            0.0            0.0     NaN  \n",
       "2023-01-27            0.190897            0.0            0.0     NaN  \n",
       "2023-01-31            0.190897           -0.0            0.0     NaN  \n",
       "\n",
       "[249 rows x 15 columns]"
      ]
     },
     "execution_count": 100,
     "metadata": {},
     "output_type": "execute_result"
    }
   ],
   "source": [
    "# merge rf database with val_df1 database \n",
    "\n",
    "rf_energy = pd.merge_asof(val_df1, rf,left_index = True, right_index = True)\n",
    "rf_energy"
   ]
  },
  {
   "cell_type": "code",
   "execution_count": 101,
   "id": "21b4ab76",
   "metadata": {},
   "outputs": [
    {
     "data": {
      "text/plain": [
       "Index(['S5ENRS Index  (R2)', 'Close', 'returns', 'Filter', 'Filter Error',\n",
       "       'std', 'Upper', 'Lower', 'test', 'test2', 'signal',\n",
       "       'cumulative_returns', 'strat_returns', 'ror_in_market', ' value'],\n",
       "      dtype='object')"
      ]
     },
     "execution_count": 101,
     "metadata": {},
     "output_type": "execute_result"
    }
   ],
   "source": [
    "rf_energy.columns"
   ]
  },
  {
   "cell_type": "code",
   "execution_count": 102,
   "id": "01f1a864",
   "metadata": {},
   "outputs": [],
   "source": [
    "rf_energy[\"rf\"] = rf_energy[' value']\n",
    "rf_energy[\"rf\"] = rf_energy[\"rf\"].ffill()"
   ]
  },
  {
   "cell_type": "code",
   "execution_count": 103,
   "id": "5d69ee2a",
   "metadata": {},
   "outputs": [],
   "source": [
    "# excess return \n",
    "\n",
    "rf_energy[\"excess_return\"] = rf_energy['returns'] - rf_energy['rf']"
   ]
  },
  {
   "cell_type": "code",
   "execution_count": 104,
   "id": "b651482f",
   "metadata": {},
   "outputs": [],
   "source": [
    "# annualized excess return \n",
    "\n",
    "anualized_excess = ((rf_energy[\"excess_return\"]+1).prod()**(12/len(rf_energy))-1)*100"
   ]
  },
  {
   "cell_type": "code",
   "execution_count": 105,
   "id": "70b3a417",
   "metadata": {},
   "outputs": [],
   "source": [
    "# anualized standard deviation\n",
    "\n",
    "excess_ann_std = rf_energy[\"excess_return\"].std()*np.sqrt(12)*100"
   ]
  },
  {
   "cell_type": "code",
   "execution_count": 106,
   "id": "4bd48075",
   "metadata": {},
   "outputs": [
    {
     "name": "stdout",
     "output_type": "stream",
     "text": [
      "sharpe ratio is 0.11310182428662408\n"
     ]
    }
   ],
   "source": [
    "# sharpe ratio \n",
    "\n",
    "print('sharpe ratio is',(anualized_excess)/excess_ann_std)"
   ]
  },
  {
   "cell_type": "markdown",
   "id": "50f04bc1",
   "metadata": {},
   "source": [
    "Gini Coefficent"
   ]
  },
  {
   "cell_type": "code",
   "execution_count": 107,
   "id": "1ab88f21",
   "metadata": {},
   "outputs": [],
   "source": [
    "returns = val_df1[['returns']]\n",
    "returns.columns = ['Returns']"
   ]
  },
  {
   "cell_type": "code",
   "execution_count": 108,
   "id": "3019ff23",
   "metadata": {},
   "outputs": [
    {
     "name": "stderr",
     "output_type": "stream",
     "text": [
      "C:\\Users\\sebpo\\AppData\\Local\\Temp\\ipykernel_24280\\2230478343.py:8: FutureWarning: The frame.append method is deprecated and will be removed from pandas in a future version. Use pandas.concat instead.\n",
      "  LorenzCurve = pd.DataFrame({'Returns': [0]}).append(LorenzCurve)\n"
     ]
    },
    {
     "data": {
      "text/plain": [
       "0.7463093832343952"
      ]
     },
     "execution_count": 108,
     "metadata": {},
     "output_type": "execute_result"
    }
   ],
   "source": [
    "def GINI_COEF(returns):\n",
    "    # get the number of periods -> will allow us to calculate the areas\n",
    "    periods = len(returns.sort_values(by=\"Returns\")) - 1\n",
    "    \n",
    "    # sort values and sum to calculate the lorenz curve\n",
    "    LorenzCurve = np.cumsum(returns.sort_values(by=\"Returns\"))\n",
    "    # start from 0\n",
    "    LorenzCurve = pd.DataFrame({'Returns': [0]}).append(LorenzCurve)\n",
    "    Line = LorenzCurve.copy()\n",
    "    # Form the line that encompasses A and B\n",
    "    Line[\"Returns\"] = np.arange(0, 1 + 1 / periods, 1 / periods) * max(LorenzCurve[\"Returns\"])\n",
    "    \n",
    "    # calculate the area of A+B\n",
    "    UpArea = 0\n",
    "    for i in range(len(returns)-1):\n",
    "        UpArea += ((Line.iloc[i+1, 0] - LorenzCurve.iloc[i+1, 0] + Line.iloc[i, 0] - LorenzCurve.iloc[i, 0]) / 2)\n",
    "    \n",
    "    # calculate the area of A+B+C\n",
    "    if min(LorenzCurve[\"Returns\"]) < 0:\n",
    "        AllArea = (np.abs(min(LorenzCurve[\"Returns\"])) * periods) + ((max(LorenzCurve[\"Returns\"]) * periods) / 2)\n",
    "    else:\n",
    "        AllArea = ((max(LorenzCurve[\"Returns\"]) * periods) / 2)\n",
    "    gini = UpArea / AllArea\n",
    "    return gini\n",
    "\n",
    "\n",
    "\n",
    "GINI_COEF(returns)\n"
   ]
  },
  {
   "cell_type": "markdown",
   "id": "ddd9baa8",
   "metadata": {},
   "source": [
    "## Question:2\n",
    "3.5% coupon 10-year Treasury note is currently selling at $983.125\n",
    "face value is $1000\n",
    "Coupons for treasury notes are paid semi-annually\n",
    "### a."
   ]
  },
  {
   "cell_type": "code",
   "execution_count": 109,
   "id": "11f0be58",
   "metadata": {},
   "outputs": [
    {
     "name": "stdout",
     "output_type": "stream",
     "text": [
      "Semi-annual yield to maturity: 3.70%\n"
     ]
    },
    {
     "name": "stderr",
     "output_type": "stream",
     "text": [
      "C:\\Users\\sebpo\\AppData\\Local\\Temp\\ipykernel_24280\\3434243794.py:12: DeprecationWarning: Calling np.sum(generator) is deprecated, and in the future will give a different result. Use np.sum(np.fromiter(generator)) or the python sum builtin instead.\n",
      "  return P - np.sum(C/(1+r/2)**i for i in range(1,n+1)) - F/(1+r/2)**n\n"
     ]
    }
   ],
   "source": [
    "# semiannual yield to maturity (r) of this note\n",
    "P = 983.125\n",
    "F = 1000\n",
    "c = 0.035\n",
    "t = 10 \n",
    "C = 17.5\n",
    "n = 20\n",
    "\n",
    "\n",
    "# Define the function to solve for\n",
    "def f(r):\n",
    "    return P - np.sum(C/(1+r/2)**i for i in range(1,n+1)) - F/(1+r/2)**n\n",
    "\n",
    "# Define the bisection method\n",
    "def bisection(a, b, f, tol=1e-6):\n",
    "    while (b-a)/2 > tol:\n",
    "        c = (a+b)/2\n",
    "        if f(c) == 0:\n",
    "            return c\n",
    "        elif f(a)*f(c) < 0:\n",
    "            b = c\n",
    "        else:\n",
    "            a = c\n",
    "    return (a+b)/2\n",
    "\n",
    "# Solve for the semi-annual yield to maturity\n",
    "r = bisection(0, 1, f)\n",
    "print(\"Semi-annual yield to maturity: {:.2%}\".format(r))"
   ]
  },
  {
   "cell_type": "markdown",
   "id": "2cea17d5",
   "metadata": {},
   "source": [
    "### b."
   ]
  },
  {
   "cell_type": "code",
   "execution_count": 110,
   "id": "3c92a375",
   "metadata": {},
   "outputs": [
    {
     "name": "stdout",
     "output_type": "stream",
     "text": [
      "Annual yield to maturity: 3.74%\n"
     ]
    }
   ],
   "source": [
    "# annualized yield to maturity \n",
    "\n",
    "annual_yield = (1+r/2)**2 - 1\n",
    "print(\"Annual yield to maturity: {:.2%}\".format(annual_yield))\n"
   ]
  },
  {
   "cell_type": "markdown",
   "id": "edcce050",
   "metadata": {},
   "source": [
    "## Question:3\n",
    "### a."
   ]
  },
  {
   "cell_type": "code",
   "execution_count": 111,
   "id": "c64128bc",
   "metadata": {},
   "outputs": [
    {
     "data": {
      "text/html": [
       "<div>\n",
       "<style scoped>\n",
       "    .dataframe tbody tr th:only-of-type {\n",
       "        vertical-align: middle;\n",
       "    }\n",
       "\n",
       "    .dataframe tbody tr th {\n",
       "        vertical-align: top;\n",
       "    }\n",
       "\n",
       "    .dataframe thead th {\n",
       "        text-align: right;\n",
       "    }\n",
       "</style>\n",
       "<table border=\"1\" class=\"dataframe\">\n",
       "  <thead>\n",
       "    <tr style=\"text-align: right;\">\n",
       "      <th></th>\n",
       "      <th>United States</th>\n",
       "      <th>Euro Area</th>\n",
       "      <th>Canada</th>\n",
       "      <th>Australia</th>\n",
       "      <th>Switzerland</th>\n",
       "      <th>United Kingdom</th>\n",
       "      <th>Japan</th>\n",
       "      <th>Norway</th>\n",
       "      <th>New Zealand</th>\n",
       "      <th>Sweden</th>\n",
       "    </tr>\n",
       "    <tr>\n",
       "      <th>date</th>\n",
       "      <th></th>\n",
       "      <th></th>\n",
       "      <th></th>\n",
       "      <th></th>\n",
       "      <th></th>\n",
       "      <th></th>\n",
       "      <th></th>\n",
       "      <th></th>\n",
       "      <th></th>\n",
       "      <th></th>\n",
       "    </tr>\n",
       "  </thead>\n",
       "  <tbody>\n",
       "    <tr>\n",
       "      <th>2000-02-01</th>\n",
       "      <td>0.004875</td>\n",
       "      <td>0.002901</td>\n",
       "      <td>0.004333</td>\n",
       "      <td>0.004709</td>\n",
       "      <td>0.002012</td>\n",
       "      <td>0.004985</td>\n",
       "      <td>NaN</td>\n",
       "      <td>0.004781</td>\n",
       "      <td>0.004812</td>\n",
       "      <td>0.003193</td>\n",
       "    </tr>\n",
       "    <tr>\n",
       "      <th>2000-03-01</th>\n",
       "      <td>0.004978</td>\n",
       "      <td>0.003070</td>\n",
       "      <td>0.004395</td>\n",
       "      <td>0.004781</td>\n",
       "      <td>0.002349</td>\n",
       "      <td>0.004983</td>\n",
       "      <td>NaN</td>\n",
       "      <td>0.004868</td>\n",
       "      <td>0.005073</td>\n",
       "      <td>0.003322</td>\n",
       "    </tr>\n",
       "    <tr>\n",
       "      <th>2000-04-01</th>\n",
       "      <td>0.005088</td>\n",
       "      <td>0.003214</td>\n",
       "      <td>0.004482</td>\n",
       "      <td>0.004899</td>\n",
       "      <td>0.002663</td>\n",
       "      <td>0.005036</td>\n",
       "      <td>NaN</td>\n",
       "      <td>0.005049</td>\n",
       "      <td>0.005254</td>\n",
       "      <td>0.003266</td>\n",
       "    </tr>\n",
       "    <tr>\n",
       "      <th>2000-05-01</th>\n",
       "      <td>0.005427</td>\n",
       "      <td>0.003564</td>\n",
       "      <td>0.004770</td>\n",
       "      <td>0.005112</td>\n",
       "      <td>0.002596</td>\n",
       "      <td>0.005048</td>\n",
       "      <td>NaN</td>\n",
       "      <td>0.005262</td>\n",
       "      <td>0.005474</td>\n",
       "      <td>0.003242</td>\n",
       "    </tr>\n",
       "    <tr>\n",
       "      <th>2000-06-01</th>\n",
       "      <td>0.005442</td>\n",
       "      <td>0.003676</td>\n",
       "      <td>0.004794</td>\n",
       "      <td>0.005049</td>\n",
       "      <td>0.002787</td>\n",
       "      <td>0.004980</td>\n",
       "      <td>NaN</td>\n",
       "      <td>0.005435</td>\n",
       "      <td>0.005560</td>\n",
       "      <td>0.003225</td>\n",
       "    </tr>\n",
       "    <tr>\n",
       "      <th>...</th>\n",
       "      <td>...</td>\n",
       "      <td>...</td>\n",
       "      <td>...</td>\n",
       "      <td>...</td>\n",
       "      <td>...</td>\n",
       "      <td>...</td>\n",
       "      <td>...</td>\n",
       "      <td>...</td>\n",
       "      <td>...</td>\n",
       "      <td>...</td>\n",
       "    </tr>\n",
       "    <tr>\n",
       "      <th>2022-09-01</th>\n",
       "      <td>0.002636</td>\n",
       "      <td>0.000839</td>\n",
       "      <td>0.003106</td>\n",
       "      <td>0.002271</td>\n",
       "      <td>NaN</td>\n",
       "      <td>0.002393</td>\n",
       "      <td>-0.000017</td>\n",
       "      <td>0.002418</td>\n",
       "      <td>0.002984</td>\n",
       "      <td>0.001250</td>\n",
       "    </tr>\n",
       "    <tr>\n",
       "      <th>2022-10-01</th>\n",
       "      <td>0.003153</td>\n",
       "      <td>0.001182</td>\n",
       "      <td>0.003459</td>\n",
       "      <td>0.002426</td>\n",
       "      <td>NaN</td>\n",
       "      <td>0.002782</td>\n",
       "      <td>-0.000013</td>\n",
       "      <td>0.002734</td>\n",
       "      <td>0.003274</td>\n",
       "      <td>0.001324</td>\n",
       "    </tr>\n",
       "    <tr>\n",
       "      <th>2022-11-01</th>\n",
       "      <td>0.003643</td>\n",
       "      <td>0.001508</td>\n",
       "      <td>0.003572</td>\n",
       "      <td>0.002515</td>\n",
       "      <td>NaN</td>\n",
       "      <td>0.002887</td>\n",
       "      <td>-0.000013</td>\n",
       "      <td>0.002879</td>\n",
       "      <td>0.003466</td>\n",
       "      <td>0.001389</td>\n",
       "    </tr>\n",
       "    <tr>\n",
       "      <th>2022-12-01</th>\n",
       "      <td>0.003683</td>\n",
       "      <td>0.001706</td>\n",
       "      <td>0.003715</td>\n",
       "      <td>0.002604</td>\n",
       "      <td>NaN</td>\n",
       "      <td>0.003097</td>\n",
       "      <td>-0.000013</td>\n",
       "      <td>0.002677</td>\n",
       "      <td>0.003699</td>\n",
       "      <td>0.001668</td>\n",
       "    </tr>\n",
       "    <tr>\n",
       "      <th>2023-01-01</th>\n",
       "      <td>0.003763</td>\n",
       "      <td>0.001933</td>\n",
       "      <td>0.003886</td>\n",
       "      <td>0.002725</td>\n",
       "      <td>NaN</td>\n",
       "      <td>0.003282</td>\n",
       "      <td>NaN</td>\n",
       "      <td>0.002685</td>\n",
       "      <td>0.003923</td>\n",
       "      <td>0.002190</td>\n",
       "    </tr>\n",
       "  </tbody>\n",
       "</table>\n",
       "<p>276 rows × 10 columns</p>\n",
       "</div>"
      ],
      "text/plain": [
       "            United States  Euro Area    Canada  Australia  Switzerland  \\\n",
       "date                                                                     \n",
       "2000-02-01       0.004875   0.002901  0.004333   0.004709     0.002012   \n",
       "2000-03-01       0.004978   0.003070  0.004395   0.004781     0.002349   \n",
       "2000-04-01       0.005088   0.003214  0.004482   0.004899     0.002663   \n",
       "2000-05-01       0.005427   0.003564  0.004770   0.005112     0.002596   \n",
       "2000-06-01       0.005442   0.003676  0.004794   0.005049     0.002787   \n",
       "...                   ...        ...       ...        ...          ...   \n",
       "2022-09-01       0.002636   0.000839  0.003106   0.002271          NaN   \n",
       "2022-10-01       0.003153   0.001182  0.003459   0.002426          NaN   \n",
       "2022-11-01       0.003643   0.001508  0.003572   0.002515          NaN   \n",
       "2022-12-01       0.003683   0.001706  0.003715   0.002604          NaN   \n",
       "2023-01-01       0.003763   0.001933  0.003886   0.002725          NaN   \n",
       "\n",
       "            United Kingdom     Japan    Norway  New Zealand    Sweden  \n",
       "date                                                                   \n",
       "2000-02-01        0.004985       NaN  0.004781     0.004812  0.003193  \n",
       "2000-03-01        0.004983       NaN  0.004868     0.005073  0.003322  \n",
       "2000-04-01        0.005036       NaN  0.005049     0.005254  0.003266  \n",
       "2000-05-01        0.005048       NaN  0.005262     0.005474  0.003242  \n",
       "2000-06-01        0.004980       NaN  0.005435     0.005560  0.003225  \n",
       "...                    ...       ...       ...          ...       ...  \n",
       "2022-09-01        0.002393 -0.000017  0.002418     0.002984  0.001250  \n",
       "2022-10-01        0.002782 -0.000013  0.002734     0.003274  0.001324  \n",
       "2022-11-01        0.002887 -0.000013  0.002879     0.003466  0.001389  \n",
       "2022-12-01        0.003097 -0.000013  0.002677     0.003699  0.001668  \n",
       "2023-01-01        0.003282       NaN  0.002685     0.003923  0.002190  \n",
       "\n",
       "[276 rows x 10 columns]"
      ]
     },
     "execution_count": 111,
     "metadata": {},
     "output_type": "execute_result"
    }
   ],
   "source": [
    "# upload database - monthly yield \n",
    "\n",
    "interest = pd.read_csv(\"Hw3_Interest_Rates.csv\")\n",
    "\n",
    "# change date to datetime and make it as index\n",
    "interest['date'] = pd.to_datetime(interest['date'])\n",
    "\n",
    "interest.set_index('date', inplace = True)\n",
    "interest"
   ]
  },
  {
   "cell_type": "code",
   "execution_count": 112,
   "id": "eb164e71",
   "metadata": {},
   "outputs": [
    {
     "name": "stderr",
     "output_type": "stream",
     "text": [
      "C:\\Users\\sebpo\\AppData\\Local\\Temp\\ipykernel_24280\\1311990001.py:4: SettingWithCopyWarning: \n",
      "A value is trying to be set on a copy of a slice from a DataFrame\n",
      "\n",
      "See the caveats in the documentation: https://pandas.pydata.org/pandas-docs/stable/user_guide/indexing.html#returning-a-view-versus-a-copy\n",
      "  irs.fillna(0, inplace = True)\n"
     ]
    }
   ],
   "source": [
    "# extract yields only for Japan and US \n",
    "\n",
    "irs = interest[['United States', 'Canada']]\n",
    "irs.fillna(0, inplace = True)"
   ]
  },
  {
   "cell_type": "code",
   "execution_count": 113,
   "id": "f4d3c952",
   "metadata": {},
   "outputs": [],
   "source": [
    "# extract exchange rate data for United States and Japan \n",
    "\n",
    "ex = pd.read_excel(\"ex_rates.xlsx\")\n",
    "ex['Date'] = pd.to_datetime(ex['Unnamed: 0'])\n",
    "ex.set_index('Date', inplace = True)\n",
    "exchange = ex[['Canada']]"
   ]
  },
  {
   "cell_type": "code",
   "execution_count": 114,
   "id": "2a948bce",
   "metadata": {},
   "outputs": [
    {
     "name": "stderr",
     "output_type": "stream",
     "text": [
      "C:\\Users\\sebpo\\AppData\\Local\\Temp\\ipykernel_24280\\303839078.py:1: SettingWithCopyWarning: \n",
      "A value is trying to be set on a copy of a slice from a DataFrame.\n",
      "Try using .loc[row_indexer,col_indexer] = value instead\n",
      "\n",
      "See the caveats in the documentation: https://pandas.pydata.org/pandas-docs/stable/user_guide/indexing.html#returning-a-view-versus-a-copy\n",
      "  exchange['United States'] = 1\n"
     ]
    },
    {
     "data": {
      "text/html": [
       "<div>\n",
       "<style scoped>\n",
       "    .dataframe tbody tr th:only-of-type {\n",
       "        vertical-align: middle;\n",
       "    }\n",
       "\n",
       "    .dataframe tbody tr th {\n",
       "        vertical-align: top;\n",
       "    }\n",
       "\n",
       "    .dataframe thead th {\n",
       "        text-align: right;\n",
       "    }\n",
       "</style>\n",
       "<table border=\"1\" class=\"dataframe\">\n",
       "  <thead>\n",
       "    <tr style=\"text-align: right;\">\n",
       "      <th></th>\n",
       "      <th>Canada</th>\n",
       "      <th>United States</th>\n",
       "    </tr>\n",
       "    <tr>\n",
       "      <th>Date</th>\n",
       "      <th></th>\n",
       "      <th></th>\n",
       "    </tr>\n",
       "  </thead>\n",
       "  <tbody>\n",
       "    <tr>\n",
       "      <th>2000-02-01</th>\n",
       "      <td>1.4496</td>\n",
       "      <td>1</td>\n",
       "    </tr>\n",
       "    <tr>\n",
       "      <th>2000-03-01</th>\n",
       "      <td>1.4494</td>\n",
       "      <td>1</td>\n",
       "    </tr>\n",
       "    <tr>\n",
       "      <th>2000-04-01</th>\n",
       "      <td>1.4801</td>\n",
       "      <td>1</td>\n",
       "    </tr>\n",
       "    <tr>\n",
       "      <th>2000-05-01</th>\n",
       "      <td>1.4965</td>\n",
       "      <td>1</td>\n",
       "    </tr>\n",
       "    <tr>\n",
       "      <th>2000-06-01</th>\n",
       "      <td>1.4806</td>\n",
       "      <td>1</td>\n",
       "    </tr>\n",
       "    <tr>\n",
       "      <th>...</th>\n",
       "      <td>...</td>\n",
       "      <td>...</td>\n",
       "    </tr>\n",
       "    <tr>\n",
       "      <th>2022-09-01</th>\n",
       "      <td>1.3707</td>\n",
       "      <td>1</td>\n",
       "    </tr>\n",
       "    <tr>\n",
       "      <th>2022-10-01</th>\n",
       "      <td>1.3649</td>\n",
       "      <td>1</td>\n",
       "    </tr>\n",
       "    <tr>\n",
       "      <th>2022-11-01</th>\n",
       "      <td>1.3508</td>\n",
       "      <td>1</td>\n",
       "    </tr>\n",
       "    <tr>\n",
       "      <th>2022-12-01</th>\n",
       "      <td>1.3603</td>\n",
       "      <td>1</td>\n",
       "    </tr>\n",
       "    <tr>\n",
       "      <th>2023-01-01</th>\n",
       "      <td>1.3350</td>\n",
       "      <td>1</td>\n",
       "    </tr>\n",
       "  </tbody>\n",
       "</table>\n",
       "<p>276 rows × 2 columns</p>\n",
       "</div>"
      ],
      "text/plain": [
       "            Canada  United States\n",
       "Date                             \n",
       "2000-02-01  1.4496              1\n",
       "2000-03-01  1.4494              1\n",
       "2000-04-01  1.4801              1\n",
       "2000-05-01  1.4965              1\n",
       "2000-06-01  1.4806              1\n",
       "...            ...            ...\n",
       "2022-09-01  1.3707              1\n",
       "2022-10-01  1.3649              1\n",
       "2022-11-01  1.3508              1\n",
       "2022-12-01  1.3603              1\n",
       "2023-01-01  1.3350              1\n",
       "\n",
       "[276 rows x 2 columns]"
      ]
     },
     "execution_count": 114,
     "metadata": {},
     "output_type": "execute_result"
    }
   ],
   "source": [
    "exchange['United States'] = 1\n",
    "exchange"
   ]
  },
  {
   "cell_type": "code",
   "execution_count": 115,
   "id": "d7facd2d",
   "metadata": {},
   "outputs": [],
   "source": [
    "# calculate the currencies with the highest and lowest yields each period\n",
    "maxI = irs.idxmax(axis = 1)\n",
    "minI = irs.idxmin(axis = 1)"
   ]
  },
  {
   "cell_type": "code",
   "execution_count": 116,
   "id": "e8d017e7",
   "metadata": {},
   "outputs": [
    {
     "name": "stderr",
     "output_type": "stream",
     "text": [
      "C:\\Users\\sebpo\\AppData\\Local\\Temp\\ipykernel_24280\\3411724993.py:1: SettingWithCopyWarning: \n",
      "A value is trying to be set on a copy of a slice from a DataFrame.\n",
      "Try using .loc[row_indexer,col_indexer] = value instead\n",
      "\n",
      "See the caveats in the documentation: https://pandas.pydata.org/pandas-docs/stable/user_guide/indexing.html#returning-a-view-versus-a-copy\n",
      "  irs['max yield'] = maxI\n",
      "C:\\Users\\sebpo\\AppData\\Local\\Temp\\ipykernel_24280\\3411724993.py:2: SettingWithCopyWarning: \n",
      "A value is trying to be set on a copy of a slice from a DataFrame.\n",
      "Try using .loc[row_indexer,col_indexer] = value instead\n",
      "\n",
      "See the caveats in the documentation: https://pandas.pydata.org/pandas-docs/stable/user_guide/indexing.html#returning-a-view-versus-a-copy\n",
      "  irs['min yield'] = minI\n"
     ]
    },
    {
     "data": {
      "text/html": [
       "<div>\n",
       "<style scoped>\n",
       "    .dataframe tbody tr th:only-of-type {\n",
       "        vertical-align: middle;\n",
       "    }\n",
       "\n",
       "    .dataframe tbody tr th {\n",
       "        vertical-align: top;\n",
       "    }\n",
       "\n",
       "    .dataframe thead th {\n",
       "        text-align: right;\n",
       "    }\n",
       "</style>\n",
       "<table border=\"1\" class=\"dataframe\">\n",
       "  <thead>\n",
       "    <tr style=\"text-align: right;\">\n",
       "      <th></th>\n",
       "      <th>United States</th>\n",
       "      <th>Canada</th>\n",
       "      <th>max yield</th>\n",
       "      <th>min yield</th>\n",
       "    </tr>\n",
       "    <tr>\n",
       "      <th>date</th>\n",
       "      <th></th>\n",
       "      <th></th>\n",
       "      <th></th>\n",
       "      <th></th>\n",
       "    </tr>\n",
       "  </thead>\n",
       "  <tbody>\n",
       "    <tr>\n",
       "      <th>2000-02-01</th>\n",
       "      <td>0.004875</td>\n",
       "      <td>0.004333</td>\n",
       "      <td>United States</td>\n",
       "      <td>Canada</td>\n",
       "    </tr>\n",
       "    <tr>\n",
       "      <th>2000-03-01</th>\n",
       "      <td>0.004978</td>\n",
       "      <td>0.004395</td>\n",
       "      <td>United States</td>\n",
       "      <td>Canada</td>\n",
       "    </tr>\n",
       "    <tr>\n",
       "      <th>2000-04-01</th>\n",
       "      <td>0.005088</td>\n",
       "      <td>0.004482</td>\n",
       "      <td>United States</td>\n",
       "      <td>Canada</td>\n",
       "    </tr>\n",
       "    <tr>\n",
       "      <th>2000-05-01</th>\n",
       "      <td>0.005427</td>\n",
       "      <td>0.004770</td>\n",
       "      <td>United States</td>\n",
       "      <td>Canada</td>\n",
       "    </tr>\n",
       "    <tr>\n",
       "      <th>2000-06-01</th>\n",
       "      <td>0.005442</td>\n",
       "      <td>0.004794</td>\n",
       "      <td>United States</td>\n",
       "      <td>Canada</td>\n",
       "    </tr>\n",
       "    <tr>\n",
       "      <th>...</th>\n",
       "      <td>...</td>\n",
       "      <td>...</td>\n",
       "      <td>...</td>\n",
       "      <td>...</td>\n",
       "    </tr>\n",
       "    <tr>\n",
       "      <th>2022-09-01</th>\n",
       "      <td>0.002636</td>\n",
       "      <td>0.003106</td>\n",
       "      <td>Canada</td>\n",
       "      <td>United States</td>\n",
       "    </tr>\n",
       "    <tr>\n",
       "      <th>2022-10-01</th>\n",
       "      <td>0.003153</td>\n",
       "      <td>0.003459</td>\n",
       "      <td>Canada</td>\n",
       "      <td>United States</td>\n",
       "    </tr>\n",
       "    <tr>\n",
       "      <th>2022-11-01</th>\n",
       "      <td>0.003643</td>\n",
       "      <td>0.003572</td>\n",
       "      <td>United States</td>\n",
       "      <td>Canada</td>\n",
       "    </tr>\n",
       "    <tr>\n",
       "      <th>2022-12-01</th>\n",
       "      <td>0.003683</td>\n",
       "      <td>0.003715</td>\n",
       "      <td>Canada</td>\n",
       "      <td>United States</td>\n",
       "    </tr>\n",
       "    <tr>\n",
       "      <th>2023-01-01</th>\n",
       "      <td>0.003763</td>\n",
       "      <td>0.003886</td>\n",
       "      <td>Canada</td>\n",
       "      <td>United States</td>\n",
       "    </tr>\n",
       "  </tbody>\n",
       "</table>\n",
       "<p>276 rows × 4 columns</p>\n",
       "</div>"
      ],
      "text/plain": [
       "            United States    Canada      max yield      min yield\n",
       "date                                                             \n",
       "2000-02-01       0.004875  0.004333  United States         Canada\n",
       "2000-03-01       0.004978  0.004395  United States         Canada\n",
       "2000-04-01       0.005088  0.004482  United States         Canada\n",
       "2000-05-01       0.005427  0.004770  United States         Canada\n",
       "2000-06-01       0.005442  0.004794  United States         Canada\n",
       "...                   ...       ...            ...            ...\n",
       "2022-09-01       0.002636  0.003106         Canada  United States\n",
       "2022-10-01       0.003153  0.003459         Canada  United States\n",
       "2022-11-01       0.003643  0.003572  United States         Canada\n",
       "2022-12-01       0.003683  0.003715         Canada  United States\n",
       "2023-01-01       0.003763  0.003886         Canada  United States\n",
       "\n",
       "[276 rows x 4 columns]"
      ]
     },
     "execution_count": 116,
     "metadata": {},
     "output_type": "execute_result"
    }
   ],
   "source": [
    "irs['max yield'] = maxI\n",
    "irs['min yield'] = minI\n",
    "irs"
   ]
  },
  {
   "cell_type": "code",
   "execution_count": 117,
   "id": "6082a0e7",
   "metadata": {},
   "outputs": [
    {
     "data": {
      "text/html": [
       "<div>\n",
       "<style scoped>\n",
       "    .dataframe tbody tr th:only-of-type {\n",
       "        vertical-align: middle;\n",
       "    }\n",
       "\n",
       "    .dataframe tbody tr th {\n",
       "        vertical-align: top;\n",
       "    }\n",
       "\n",
       "    .dataframe thead th {\n",
       "        text-align: right;\n",
       "    }\n",
       "</style>\n",
       "<table border=\"1\" class=\"dataframe\">\n",
       "  <thead>\n",
       "    <tr style=\"text-align: right;\">\n",
       "      <th></th>\n",
       "      <th>High Yield</th>\n",
       "      <th>Low Yield</th>\n",
       "    </tr>\n",
       "    <tr>\n",
       "      <th>date</th>\n",
       "      <th></th>\n",
       "      <th></th>\n",
       "    </tr>\n",
       "  </thead>\n",
       "  <tbody>\n",
       "    <tr>\n",
       "      <th>2000-02-01</th>\n",
       "      <td>United States</td>\n",
       "      <td>Canada</td>\n",
       "    </tr>\n",
       "    <tr>\n",
       "      <th>2000-03-01</th>\n",
       "      <td>United States</td>\n",
       "      <td>Canada</td>\n",
       "    </tr>\n",
       "    <tr>\n",
       "      <th>2000-04-01</th>\n",
       "      <td>United States</td>\n",
       "      <td>Canada</td>\n",
       "    </tr>\n",
       "    <tr>\n",
       "      <th>2000-05-01</th>\n",
       "      <td>United States</td>\n",
       "      <td>Canada</td>\n",
       "    </tr>\n",
       "    <tr>\n",
       "      <th>2000-06-01</th>\n",
       "      <td>United States</td>\n",
       "      <td>Canada</td>\n",
       "    </tr>\n",
       "    <tr>\n",
       "      <th>...</th>\n",
       "      <td>...</td>\n",
       "      <td>...</td>\n",
       "    </tr>\n",
       "    <tr>\n",
       "      <th>2022-09-01</th>\n",
       "      <td>Canada</td>\n",
       "      <td>United States</td>\n",
       "    </tr>\n",
       "    <tr>\n",
       "      <th>2022-10-01</th>\n",
       "      <td>Canada</td>\n",
       "      <td>United States</td>\n",
       "    </tr>\n",
       "    <tr>\n",
       "      <th>2022-11-01</th>\n",
       "      <td>United States</td>\n",
       "      <td>Canada</td>\n",
       "    </tr>\n",
       "    <tr>\n",
       "      <th>2022-12-01</th>\n",
       "      <td>Canada</td>\n",
       "      <td>United States</td>\n",
       "    </tr>\n",
       "    <tr>\n",
       "      <th>2023-01-01</th>\n",
       "      <td>Canada</td>\n",
       "      <td>United States</td>\n",
       "    </tr>\n",
       "  </tbody>\n",
       "</table>\n",
       "<p>276 rows × 2 columns</p>\n",
       "</div>"
      ],
      "text/plain": [
       "               High Yield      Low Yield\n",
       "date                                    \n",
       "2000-02-01  United States         Canada\n",
       "2000-03-01  United States         Canada\n",
       "2000-04-01  United States         Canada\n",
       "2000-05-01  United States         Canada\n",
       "2000-06-01  United States         Canada\n",
       "...                   ...            ...\n",
       "2022-09-01         Canada  United States\n",
       "2022-10-01         Canada  United States\n",
       "2022-11-01  United States         Canada\n",
       "2022-12-01         Canada  United States\n",
       "2023-01-01         Canada  United States\n",
       "\n",
       "[276 rows x 2 columns]"
      ]
     },
     "execution_count": 117,
     "metadata": {},
     "output_type": "execute_result"
    }
   ],
   "source": [
    "yld = pd.DataFrame([maxI, minI]).T\n",
    "yld.columns = [\"High Yield\", \"Low Yield\"]\n",
    "yld"
   ]
  },
  {
   "cell_type": "code",
   "execution_count": 118,
   "id": "fd84c856",
   "metadata": {},
   "outputs": [
    {
     "name": "stdout",
     "output_type": "stream",
     "text": [
      "5.421077894553498\n",
      "6.737543773026594\n",
      "6.559779278525497\n",
      "6.059702522100785\n",
      "6.686190080858822\n",
      "5.763369614317831\n",
      "6.64673516262247\n",
      "6.545148354461595\n",
      "6.959217135125087\n",
      "4.939699362779699\n",
      "5.486677917624917\n",
      "2.2513333285232306\n",
      "1.6343207323132063\n",
      "0.526040465179058\n",
      "0.6358161004577383\n",
      "3.937801348761802\n",
      "4.947707723536382\n",
      "5.008451039521432\n",
      "4.168120146660655\n",
      "4.816661648930086\n",
      "4.682387615570402\n",
      "1.5650517082746234\n",
      "2.413849444139057\n",
      "2.1894236363269197\n",
      "2.5618379641419704\n",
      "2.959974313969706\n",
      "4.814479216844314\n",
      "6.603345663810151\n",
      "6.933558783122026\n",
      "9.177033685591509\n",
      "9.479595507481516\n",
      "9.735749523041065\n",
      "9.287942541708812\n",
      "11.606859181616588\n",
      "13.295301869523964\n",
      "13.533960061058599\n",
      "13.756432928342592\n",
      "16.721475439625493\n",
      "18.22101413056736\n",
      "17.56887778655862\n",
      "16.721569651849954\n",
      "16.376688644012496\n",
      "15.15300836711782\n",
      "13.964601174114144\n",
      "13.290534133379692\n",
      "13.658155677466755\n",
      "12.630708039230116\n",
      "11.599160357941887\n",
      "10.736996401888957\n",
      "8.310610360924743\n",
      "8.262337178904492\n",
      "7.480486401007164\n",
      "5.336657661710488\n",
      "4.6235834328043115\n",
      "4.465697900651067\n",
      "5.122074869227124\n",
      "4.896526723925586\n",
      "3.4899716495091972\n",
      "0.3720569805348539\n",
      "0.19346905174749907\n",
      "1.1256113773117313\n",
      "3.5257978889125283\n",
      "4.00499312743473\n",
      "4.636941491359558\n",
      "6.434473125363869\n",
      "6.921216000237429\n",
      "7.612808870366543\n",
      "8.233978566918374\n",
      "8.037328101495856\n",
      "8.091325289484857\n",
      "7.198809676872159\n",
      "7.629564384636158\n",
      "8.666625383416058\n",
      "6.1542469374149675\n",
      "6.733108915616292\n",
      "7.505940128736384\n",
      "7.811154219891989\n",
      "7.678871560218013\n",
      "8.659567862479463\n",
      "8.350004766950669\n",
      "8.572476608777222\n",
      "8.715720064445946\n",
      "8.309558403750351\n",
      "7.6512179331899475\n",
      "7.193543686173278\n",
      "6.198765573683502\n",
      "6.35713310556347\n",
      "7.3282933942613795\n",
      "6.38758520579141\n",
      "4.837901086630929\n",
      "2.0589092882563094\n",
      "0.5960513226172779\n",
      "3.643420657264251\n",
      "1.2943977134195706\n",
      "2.320835211574696\n",
      "4.290209890977\n",
      "5.300626953777389\n",
      "6.897663076399667\n",
      "5.313793738193624\n",
      "3.2999418483750738\n",
      "3.136376854067713\n",
      "2.915704819044148\n",
      "3.5740777101810153\n",
      "5.605743818222269\n",
      "8.972718757017862\n",
      "3.7763916126663055\n",
      "4.3664938506408415\n",
      "4.0421873153452506\n",
      "0.5827805132619996\n",
      "-0.42074546138452895\n",
      "0.7034746234119549\n",
      "0.1957734451657016\n",
      "1.8693636058057344\n",
      "0.32938308195329613\n",
      "1.075992963318448\n",
      "1.1954096823199767\n",
      "1.305953635798967\n",
      "1.4475342513649763\n",
      "1.2755772525816587\n",
      "1.5464824001506747\n",
      "1.6503955874120477\n",
      "1.3295559144110003\n",
      "1.449281955206624\n",
      "1.145187917410718\n",
      "1.885502757138477\n",
      "3.3131642757944078\n",
      "5.05726210103178\n",
      "6.885745504184127\n",
      "7.247024621910612\n",
      "7.741631168666089\n",
      "7.200220165845312\n",
      "7.670150548810582\n",
      "7.530305826738788\n",
      "7.723749120502347\n",
      "7.682008055081358\n",
      "8.156595953213296\n",
      "7.95796374068436\n",
      "7.463639921011184\n",
      "6.524825374507044\n",
      "7.2799246216091005\n",
      "6.234565405296447\n",
      "6.236588194848467\n",
      "5.552174044345995\n",
      "6.417657344093502\n",
      "7.041962850962426\n",
      "7.212368322704062\n",
      "6.684681425520067\n",
      "7.492538894342795\n",
      "7.098621633031844\n",
      "7.28686940025459\n",
      "7.476010799290211\n",
      "7.465767203948378\n",
      "7.753259741842614\n",
      "7.688436351434076\n",
      "7.594706514114931\n",
      "7.383089525854913\n",
      "7.929911627448845\n",
      "7.948456627941269\n",
      "7.678770517754602\n",
      "7.813377736142982\n",
      "8.263975069845124\n",
      "8.262394752486953\n",
      "8.912325385280566\n",
      "8.66656649761817\n",
      "8.473834604962137\n",
      "8.68406362706471\n",
      "8.086794139277456\n",
      "8.754701000807597\n",
      "8.63208269333752\n",
      "8.782714750893412\n",
      "8.804203008722062\n",
      "9.002060462401422\n",
      "8.60835339507244\n",
      "8.643065016607652\n",
      "8.332264788110857\n",
      "8.637560956884542\n",
      "8.555385292593089\n",
      "8.523614599826537\n",
      "7.741803085027314\n",
      "8.131843170812397\n",
      "6.042383644361497\n",
      "6.620816774698129\n",
      "6.162539733877411\n",
      "6.106098126963362\n",
      "5.5546329615151615\n",
      "4.527925597377366\n",
      "2.8336744204080833\n",
      "3.264898621363876\n",
      "3.2072096384050384\n",
      "3.5927257569804496\n",
      "2.2381980596568907\n",
      "2.137887553931308\n",
      "2.4316805482654784\n",
      "2.3029133269873645\n",
      "2.1024466546495733\n",
      "2.3397484451402306\n",
      "2.245313987468755\n",
      "1.5422626582020316\n",
      "0.744192190252063\n",
      "0.3490225253806267\n",
      "0.8183694921126579\n",
      "0.9112994434862864\n",
      "0.19634014064590222\n",
      "0.3942517372389158\n",
      "0.0727847393089851\n",
      "1.2557630686122545\n",
      "1.4924038257628123\n",
      "1.7981241970801314\n",
      "2.625563615861285\n",
      "0.8622720890341835\n",
      "0.36741525986369794\n",
      "0.2262979797566338\n",
      "0.5807674449317144\n",
      "0.38353789794617654\n",
      "1.065593971002805\n",
      "1.4806367772249462\n",
      "1.9724240158103772\n",
      "3.8738986150392307\n",
      "4.70336409497852\n",
      "4.405126682781328\n",
      "4.263930385861768\n",
      "3.07158480050421\n",
      "2.817259670255753\n",
      "3.2579927468695793\n",
      "3.113699098023929\n",
      "3.9461586011637877\n",
      "3.392371488255886\n",
      "3.6224640075038614\n",
      "4.321499202572085\n",
      "5.134700166052879\n",
      "5.102678388917454\n",
      "4.138584381619133\n",
      "3.8325617465016055\n",
      "3.278122826085651\n",
      "1.7403098879159735\n",
      "1.5423321483069827\n",
      "0.46287916986248234\n",
      "0.8288429647302404\n",
      "1.0218601239510505\n",
      "1.9016087093164398\n",
      "0.8507383805735849\n",
      "0.449223625362821\n",
      "4.110539139894977\n",
      "1.4463691176774653\n",
      "0.9576392370446907\n",
      "0.8962624644159283\n",
      "0.8667629512527999\n",
      "1.0015428732927707\n",
      "1.097062957761846\n",
      "0.6610205053559781\n",
      "0.5941198436409438\n",
      "0.5028711217113666\n",
      "0.579211000502481\n",
      "0.7662358879839797\n",
      "0.6301718605973957\n",
      "0.6538748669322829\n",
      "0.7792327221348789\n",
      "0.8382396186132557\n",
      "0.9106025164748119\n",
      "1.0641537850198195\n",
      "0.9385078018552525\n",
      "0.9798354461105243\n",
      "0.857451969654504\n",
      "1.9570870692842124\n",
      "2.01428728763706\n",
      "0.9610515190251929\n",
      "3.6252550307512124\n",
      "3.440825785667462\n",
      "3.0545622373310426\n",
      "3.5475279372744133\n",
      "3.7484149742371784\n",
      "4.830824291000525\n",
      "3.4215250850637524\n",
      "0.9621228264546602\n",
      "1.0240742331100492\n"
     ]
    }
   ],
   "source": [
    "# trading strategy: go short of currency with lower interest rate and go long on currency with higher interest rate \n",
    "\n",
    "# profits \n",
    "\n",
    "profits = np.array([])\n",
    "for j in range(len(exchange)-1):\n",
    "    \n",
    "    # identify the country with the highest (long)        # identifies if US has greater yield than Canada or not \n",
    "    # and lowest (short) yield\n",
    "    long = maxI[j]\n",
    "    short = minI[j]\n",
    "    \n",
    "    # get the exchange rate at t0 and t+1\n",
    "    # for the short\n",
    "    sts0 = exchange[short][j]                             # shorts currency with lower yield \n",
    "    sts1 = exchange[short][j+1]\n",
    "    \n",
    "    # get the monthly interest rate\n",
    "    # for the short\n",
    "    si = irs[short][j]\n",
    "    \n",
    "    # calculate the amount owed\n",
    "    owed = 10000*sts0*si/sts1\n",
    "    \n",
    "    # get the exchange rate at t0 and t+1\n",
    "    # for the long\n",
    "    stl0 = exchange[long][j]\n",
    "    stl1 = exchange[long][j+1]\n",
    "    \n",
    "    # get the monthly interest rate for the long\n",
    "    li = irs[long][j]\n",
    "    \n",
    "    # calculate the ending balance\n",
    "    balance = 10000*stl0*li/stl1\n",
    "    \n",
    "    # calculate the profit\n",
    "    profit = balance - owed\n",
    "    \n",
    "    # store the profits\n",
    "    profits = np.append(profits, profit)\n",
    "    \n",
    "    print(profit)\n",
    "    \n",
    "    \n",
    "profits = pd.DataFrame(profits, index = irs.index[:-1], columns = [\"Profit\"])"
   ]
  },
  {
   "cell_type": "code",
   "execution_count": 119,
   "id": "a65a13f5",
   "metadata": {},
   "outputs": [
    {
     "data": {
      "image/png": "[encoded data removed]",
      "text/plain": [
       "<Figure size 720x576 with 1 Axes>"
      ]
     },
     "metadata": {},
     "output_type": "display_data"
    }
   ],
   "source": [
    "# trying to visualize the trading strategy \n",
    "\n",
    "import matplotlib.pyplot as plt\n",
    "\n",
    "# Plot the yields of US and Canada\n",
    "fig, ax = plt.subplots(figsize=(10, 8))\n",
    "ax.plot(irs[\"United States\"], label='US Yield')\n",
    "ax.plot(irs['Canada'], label='Canada Yield')\n",
    "\n",
    "# Add trading signals as dots and 'x'\n",
    "for j in range(len(profits)):\n",
    "    if maxI[j] == \"United States\":\n",
    "        ax.scatter(irs.index[j], irs.iloc[j][\"United States\"], color='green', marker='x')\n",
    "    elif minI[j] == \"United States\":\n",
    "        ax.scatter(irs.index[j], irs.iloc[j][\"United States\"], color='red', marker='.')\n",
    "    if maxI[j] == \"Canada\":\n",
    "        ax.scatter(irs.index[j], irs.iloc[j][\"Canada\"], color='blue', marker='x')\n",
    "    elif minI[j] == \"Canada\":\n",
    "        ax.scatter(irs.index[j], irs.iloc[j][\"Canada\"], color='black', marker='.')\n",
    "    \n",
    "# Set plot labels and legend\n",
    "ax.set_ylabel('Yield')\n",
    "ax.set_xlabel('Year')\n",
    "ax.legend()\n",
    "plt.show()\n"
   ]
  },
  {
   "cell_type": "code",
   "execution_count": 120,
   "id": "e78a96d9",
   "metadata": {},
   "outputs": [
    {
     "data": {
      "text/html": [
       "<div>\n",
       "<style scoped>\n",
       "    .dataframe tbody tr th:only-of-type {\n",
       "        vertical-align: middle;\n",
       "    }\n",
       "\n",
       "    .dataframe tbody tr th {\n",
       "        vertical-align: top;\n",
       "    }\n",
       "\n",
       "    .dataframe thead th {\n",
       "        text-align: right;\n",
       "    }\n",
       "</style>\n",
       "<table border=\"1\" class=\"dataframe\">\n",
       "  <thead>\n",
       "    <tr style=\"text-align: right;\">\n",
       "      <th></th>\n",
       "      <th>Profit</th>\n",
       "    </tr>\n",
       "    <tr>\n",
       "      <th>date</th>\n",
       "      <th></th>\n",
       "    </tr>\n",
       "  </thead>\n",
       "  <tbody>\n",
       "    <tr>\n",
       "      <th>2000-12-31</th>\n",
       "      <td>67.805141</td>\n",
       "    </tr>\n",
       "    <tr>\n",
       "      <th>2001-12-31</th>\n",
       "      <td>36.587541</td>\n",
       "    </tr>\n",
       "    <tr>\n",
       "      <th>2002-12-31</th>\n",
       "      <td>88.645102</td>\n",
       "    </tr>\n",
       "    <tr>\n",
       "      <th>2003-12-31</th>\n",
       "      <td>181.597026</td>\n",
       "    </tr>\n",
       "    <tr>\n",
       "      <th>2004-12-31</th>\n",
       "      <td>74.696160</td>\n",
       "    </tr>\n",
       "  </tbody>\n",
       "</table>\n",
       "</div>"
      ],
      "text/plain": [
       "                Profit\n",
       "date                  \n",
       "2000-12-31   67.805141\n",
       "2001-12-31   36.587541\n",
       "2002-12-31   88.645102\n",
       "2003-12-31  181.597026\n",
       "2004-12-31   74.696160"
      ]
     },
     "execution_count": 120,
     "metadata": {},
     "output_type": "execute_result"
    }
   ],
   "source": [
    "# yearly profits \n",
    "year_profit = profits.Profit.resample('Y').sum()\n",
    "year_profit = pd.DataFrame(year_profit)\n",
    "year_profit.head()"
   ]
  },
  {
   "cell_type": "code",
   "execution_count": 121,
   "id": "37f7fa59",
   "metadata": {},
   "outputs": [
    {
     "name": "stderr",
     "output_type": "stream",
     "text": [
      "C:\\Users\\sebpo\\AppData\\Local\\Temp\\ipykernel_24280\\3299341746.py:3: FutureWarning: The frame.append method is deprecated and will be removed from pandas in a future version. Use pandas.concat instead.\n",
      "  cp = profits.resample('Y').sum().cumsum().append(pd.DataFrame(0, index = [pd.to_datetime(\"12/31/1999\")], columns = ['Profit'])).sort_index()\n"
     ]
    },
    {
     "data": {
      "image/png": "[encoded data removed]",
      "text/plain": [
       "<Figure size 1080x720 with 1 Axes>"
      ]
     },
     "metadata": {},
     "output_type": "display_data"
    }
   ],
   "source": [
    "# equity curve without reinvestment \n",
    "\n",
    "cp = profits.resample('Y').sum().cumsum().append(pd.DataFrame(0, index = [pd.to_datetime(\"12/31/1999\")], columns = ['Profit'])).sort_index()\n",
    "plt.figure(figsize = (15, 10))\n",
    "plt.title('Cumulative Profit vs. Date')\n",
    "plt.plot(cp)\n",
    "plt.ylabel('Cumulative Profit')\n",
    "plt.xlabel('Date')\n",
    "\n",
    "plt.grid()"
   ]
  },
  {
   "cell_type": "markdown",
   "id": "d15a8c61",
   "metadata": {},
   "source": [
    "Total Rate of Return"
   ]
  },
  {
   "cell_type": "code",
   "execution_count": 122,
   "id": "2e057254",
   "metadata": {},
   "outputs": [
    {
     "name": "stdout",
     "output_type": "stream",
     "text": [
      "total rate of return date\n",
      "2000-12-31    0.678051\n",
      "2001-12-31    0.365875\n",
      "2002-12-31    0.886451\n",
      "2003-12-31    1.815970\n",
      "2004-12-31    0.746962\n",
      "2005-12-31    0.660168\n",
      "2006-12-31    0.947868\n",
      "2007-12-31    0.558681\n",
      "2008-12-31    0.574497\n",
      "2009-12-31    0.136027\n",
      "2010-12-31    0.464515\n",
      "2011-12-31    0.860125\n",
      "2012-12-31    0.872129\n",
      "2013-12-31    0.981036\n",
      "2014-12-31    1.030178\n",
      "2015-12-31    0.582829\n",
      "2016-12-31    0.181215\n",
      "2017-12-31    0.111248\n",
      "2018-12-31    0.402984\n",
      "2019-12-31    0.350268\n",
      "2020-12-31    0.148329\n",
      "2021-12-31    0.095004\n",
      "2022-12-31    0.325876\n",
      "Freq: A-DEC, Name: Profit, dtype: float64\n"
     ]
    }
   ],
   "source": [
    "tror = (profits.Profit.resample('Y').sum()/10000)*100\n",
    "print('total rate of return', tror)"
   ]
  },
  {
   "cell_type": "markdown",
   "id": "de130118",
   "metadata": {},
   "source": [
    "Annualized Return"
   ]
  },
  {
   "cell_type": "code",
   "execution_count": 123,
   "id": "7ad37250",
   "metadata": {},
   "outputs": [
    {
     "data": {
      "text/plain": [
       "0.005982091621892005"
      ]
     },
     "execution_count": 123,
     "metadata": {},
     "output_type": "execute_result"
    }
   ],
   "source": [
    "t = len(tror)\n",
    "ann_re = ((((tror/100)+1).cumprod()[-1])**(1/t)-1)\n",
    "ann_re"
   ]
  },
  {
   "cell_type": "markdown",
   "id": "48da7453",
   "metadata": {},
   "source": [
    "Alpha and Beta\n"
   ]
  },
  {
   "cell_type": "code",
   "execution_count": 124,
   "id": "dd4e951b",
   "metadata": {},
   "outputs": [],
   "source": [
    "# for this we need market rate of return and we need risk free rate "
   ]
  },
  {
   "cell_type": "code",
   "execution_count": 125,
   "id": "ad22325f",
   "metadata": {},
   "outputs": [
    {
     "data": {
      "text/html": [
       "<div>\n",
       "<style scoped>\n",
       "    .dataframe tbody tr th:only-of-type {\n",
       "        vertical-align: middle;\n",
       "    }\n",
       "\n",
       "    .dataframe tbody tr th {\n",
       "        vertical-align: top;\n",
       "    }\n",
       "\n",
       "    .dataframe thead th {\n",
       "        text-align: right;\n",
       "    }\n",
       "</style>\n",
       "<table border=\"1\" class=\"dataframe\">\n",
       "  <thead>\n",
       "    <tr style=\"text-align: right;\">\n",
       "      <th></th>\n",
       "      <th>Close</th>\n",
       "    </tr>\n",
       "    <tr>\n",
       "      <th>Date</th>\n",
       "      <th></th>\n",
       "    </tr>\n",
       "  </thead>\n",
       "  <tbody>\n",
       "    <tr>\n",
       "      <th>1928-12-31 00:00:00-05:00</th>\n",
       "      <td>0.001329</td>\n",
       "    </tr>\n",
       "    <tr>\n",
       "      <th>1929-12-31 00:00:00-05:00</th>\n",
       "      <td>-0.000230</td>\n",
       "    </tr>\n",
       "    <tr>\n",
       "      <th>1930-12-31 00:00:00-05:00</th>\n",
       "      <td>-0.001181</td>\n",
       "    </tr>\n",
       "    <tr>\n",
       "      <th>1931-12-31 00:00:00-05:00</th>\n",
       "      <td>-0.002183</td>\n",
       "    </tr>\n",
       "    <tr>\n",
       "      <th>1932-12-31 00:00:00-05:00</th>\n",
       "      <td>-0.000077</td>\n",
       "    </tr>\n",
       "    <tr>\n",
       "      <th>...</th>\n",
       "      <td>...</td>\n",
       "    </tr>\n",
       "    <tr>\n",
       "      <th>2019-12-31 00:00:00-05:00</th>\n",
       "      <td>0.001038</td>\n",
       "    </tr>\n",
       "    <tr>\n",
       "      <th>2020-12-31 00:00:00-05:00</th>\n",
       "      <td>0.000832</td>\n",
       "    </tr>\n",
       "    <tr>\n",
       "      <th>2021-12-31 00:00:00-05:00</th>\n",
       "      <td>0.000980</td>\n",
       "    </tr>\n",
       "    <tr>\n",
       "      <th>2022-12-31 00:00:00-05:00</th>\n",
       "      <td>-0.000745</td>\n",
       "    </tr>\n",
       "    <tr>\n",
       "      <th>2023-12-31 00:00:00-05:00</th>\n",
       "      <td>0.000917</td>\n",
       "    </tr>\n",
       "  </tbody>\n",
       "</table>\n",
       "<p>96 rows × 1 columns</p>\n",
       "</div>"
      ],
      "text/plain": [
       "                              Close\n",
       "Date                               \n",
       "1928-12-31 00:00:00-05:00  0.001329\n",
       "1929-12-31 00:00:00-05:00 -0.000230\n",
       "1930-12-31 00:00:00-05:00 -0.001181\n",
       "1931-12-31 00:00:00-05:00 -0.002183\n",
       "1932-12-31 00:00:00-05:00 -0.000077\n",
       "...                             ...\n",
       "2019-12-31 00:00:00-05:00  0.001038\n",
       "2020-12-31 00:00:00-05:00  0.000832\n",
       "2021-12-31 00:00:00-05:00  0.000980\n",
       "2022-12-31 00:00:00-05:00 -0.000745\n",
       "2023-12-31 00:00:00-05:00  0.000917\n",
       "\n",
       "[96 rows x 1 columns]"
      ]
     },
     "execution_count": 125,
     "metadata": {},
     "output_type": "execute_result"
    }
   ],
   "source": [
    "# get market returns \n",
    "\n",
    "import yfinance as yf\n",
    "\n",
    "# Download data for the S&P 500 index\n",
    "spy = yf.Ticker(\"^GSPC\")\n",
    "snp = spy.history(period=\"max\")\n",
    "\n",
    "# Select only the closing price column\n",
    "snp_close = snp[[\"Close\"]]\n",
    "\n",
    "snp_close.index = pd.to_datetime(snp_close.index)\n",
    "snp_close\n",
    "\n",
    "# convert closing price to returns \n",
    "snp_close = snp_close.pct_change()\n",
    "\n",
    "# get yearly data \n",
    "\n",
    "snp_yearly = snp_close.resample('Y').mean()\n",
    "snp_yearly.dropna()"
   ]
  },
  {
   "cell_type": "code",
   "execution_count": 126,
   "id": "fe1cc00e",
   "metadata": {},
   "outputs": [
    {
     "data": {
      "text/html": [
       "<div>\n",
       "<style scoped>\n",
       "    .dataframe tbody tr th:only-of-type {\n",
       "        vertical-align: middle;\n",
       "    }\n",
       "\n",
       "    .dataframe tbody tr th {\n",
       "        vertical-align: top;\n",
       "    }\n",
       "\n",
       "    .dataframe thead th {\n",
       "        text-align: right;\n",
       "    }\n",
       "</style>\n",
       "<table border=\"1\" class=\"dataframe\">\n",
       "  <thead>\n",
       "    <tr style=\"text-align: right;\">\n",
       "      <th></th>\n",
       "      <th>value</th>\n",
       "    </tr>\n",
       "    <tr>\n",
       "      <th>date</th>\n",
       "      <th></th>\n",
       "    </tr>\n",
       "  </thead>\n",
       "  <tbody>\n",
       "    <tr>\n",
       "      <th>1962-01-02</th>\n",
       "      <td>3.22</td>\n",
       "    </tr>\n",
       "    <tr>\n",
       "      <th>1962-01-03</th>\n",
       "      <td>3.24</td>\n",
       "    </tr>\n",
       "    <tr>\n",
       "      <th>1962-01-04</th>\n",
       "      <td>3.24</td>\n",
       "    </tr>\n",
       "    <tr>\n",
       "      <th>1962-01-05</th>\n",
       "      <td>3.26</td>\n",
       "    </tr>\n",
       "    <tr>\n",
       "      <th>1962-01-08</th>\n",
       "      <td>3.31</td>\n",
       "    </tr>\n",
       "    <tr>\n",
       "      <th>...</th>\n",
       "      <td>...</td>\n",
       "    </tr>\n",
       "    <tr>\n",
       "      <th>2023-01-08</th>\n",
       "      <td>NaN</td>\n",
       "    </tr>\n",
       "    <tr>\n",
       "      <th>2023-01-09</th>\n",
       "      <td>NaN</td>\n",
       "    </tr>\n",
       "    <tr>\n",
       "      <th>2023-01-10</th>\n",
       "      <td>NaN</td>\n",
       "    </tr>\n",
       "    <tr>\n",
       "      <th>2023-01-11</th>\n",
       "      <td>NaN</td>\n",
       "    </tr>\n",
       "    <tr>\n",
       "      <th>2023-01-12</th>\n",
       "      <td>NaN</td>\n",
       "    </tr>\n",
       "  </tbody>\n",
       "</table>\n",
       "<p>15270 rows × 1 columns</p>\n",
       "</div>"
      ],
      "text/plain": [
       "             value\n",
       "date              \n",
       "1962-01-02    3.22\n",
       "1962-01-03    3.24\n",
       "1962-01-04    3.24\n",
       "1962-01-05    3.26\n",
       "1962-01-08    3.31\n",
       "...            ...\n",
       "2023-01-08     NaN\n",
       "2023-01-09     NaN\n",
       "2023-01-10     NaN\n",
       "2023-01-11     NaN\n",
       "2023-01-12     NaN\n",
       "\n",
       "[15270 rows x 1 columns]"
      ]
     },
     "execution_count": 126,
     "metadata": {},
     "output_type": "execute_result"
    }
   ],
   "source": [
    "# get risk free rate \n",
    "\n",
    "rf1 = rf.copy()\n",
    "\n",
    "# convert into annual data \n",
    "\n",
    "rf1.resample('Y').mean()\n",
    "rf1"
   ]
  },
  {
   "cell_type": "code",
   "execution_count": 127,
   "id": "bb33d695",
   "metadata": {},
   "outputs": [
    {
     "data": {
      "text/html": [
       "<div>\n",
       "<style scoped>\n",
       "    .dataframe tbody tr th:only-of-type {\n",
       "        vertical-align: middle;\n",
       "    }\n",
       "\n",
       "    .dataframe tbody tr th {\n",
       "        vertical-align: top;\n",
       "    }\n",
       "\n",
       "    .dataframe thead th {\n",
       "        text-align: right;\n",
       "    }\n",
       "</style>\n",
       "<table border=\"1\" class=\"dataframe\">\n",
       "  <thead>\n",
       "    <tr style=\"text-align: right;\">\n",
       "      <th></th>\n",
       "      <th>Close</th>\n",
       "      <th>value</th>\n",
       "    </tr>\n",
       "    <tr>\n",
       "      <th>Date</th>\n",
       "      <th></th>\n",
       "      <th></th>\n",
       "    </tr>\n",
       "  </thead>\n",
       "  <tbody>\n",
       "    <tr>\n",
       "      <th>1962-12-31 00:00:00-05:00</th>\n",
       "      <td>-0.000444</td>\n",
       "      <td>3.0500</td>\n",
       "    </tr>\n",
       "    <tr>\n",
       "      <th>1963-12-31 00:00:00-05:00</th>\n",
       "      <td>0.000704</td>\n",
       "      <td>3.8300</td>\n",
       "    </tr>\n",
       "    <tr>\n",
       "      <th>1964-12-31 00:00:00-05:00</th>\n",
       "      <td>0.000488</td>\n",
       "      <td>3.9900</td>\n",
       "    </tr>\n",
       "    <tr>\n",
       "      <th>1965-12-31 00:00:00-05:00</th>\n",
       "      <td>0.000354</td>\n",
       "      <td>4.9600</td>\n",
       "    </tr>\n",
       "    <tr>\n",
       "      <th>1966-12-31 00:00:00-05:00</th>\n",
       "      <td>-0.000529</td>\n",
       "      <td>5.0000</td>\n",
       "    </tr>\n",
       "    <tr>\n",
       "      <th>1967-12-31 00:00:00-05:00</th>\n",
       "      <td>0.000744</td>\n",
       "      <td>5.7600</td>\n",
       "    </tr>\n",
       "    <tr>\n",
       "      <th>1968-12-31 00:00:00-05:00</th>\n",
       "      <td>0.000344</td>\n",
       "      <td>6.4600</td>\n",
       "    </tr>\n",
       "    <tr>\n",
       "      <th>1969-12-31 00:00:00-05:00</th>\n",
       "      <td>-0.000462</td>\n",
       "      <td>8.3200</td>\n",
       "    </tr>\n",
       "    <tr>\n",
       "      <th>1970-12-31 00:00:00-05:00</th>\n",
       "      <td>0.000049</td>\n",
       "      <td>4.9400</td>\n",
       "    </tr>\n",
       "    <tr>\n",
       "      <th>1971-12-31 00:00:00-05:00</th>\n",
       "      <td>0.000426</td>\n",
       "      <td>4.4600</td>\n",
       "    </tr>\n",
       "    <tr>\n",
       "      <th>1972-12-31 00:00:00-05:00</th>\n",
       "      <td>0.000591</td>\n",
       "      <td>5.6800</td>\n",
       "    </tr>\n",
       "    <tr>\n",
       "      <th>1973-12-31 00:00:00-05:00</th>\n",
       "      <td>-0.000707</td>\n",
       "      <td>7.3000</td>\n",
       "    </tr>\n",
       "    <tr>\n",
       "      <th>1974-12-31 00:00:00-05:00</th>\n",
       "      <td>-0.001299</td>\n",
       "      <td>7.3500</td>\n",
       "    </tr>\n",
       "    <tr>\n",
       "      <th>1975-12-31 00:00:00-05:00</th>\n",
       "      <td>0.001131</td>\n",
       "      <td>6.1600</td>\n",
       "    </tr>\n",
       "    <tr>\n",
       "      <th>1976-12-31 00:00:00-05:00</th>\n",
       "      <td>0.000717</td>\n",
       "      <td>4.8600</td>\n",
       "    </tr>\n",
       "    <tr>\n",
       "      <th>1977-12-31 00:00:00-05:00</th>\n",
       "      <td>-0.000468</td>\n",
       "      <td>6.9800</td>\n",
       "    </tr>\n",
       "    <tr>\n",
       "      <th>1978-12-31 00:00:00-05:00</th>\n",
       "      <td>0.000073</td>\n",
       "      <td>10.5700</td>\n",
       "    </tr>\n",
       "    <tr>\n",
       "      <th>1979-12-31 00:00:00-05:00</th>\n",
       "      <td>0.000482</td>\n",
       "      <td>11.7000</td>\n",
       "    </tr>\n",
       "    <tr>\n",
       "      <th>1980-12-31 00:00:00-05:00</th>\n",
       "      <td>0.000960</td>\n",
       "      <td>13.8600</td>\n",
       "    </tr>\n",
       "    <tr>\n",
       "      <th>1981-12-31 00:00:00-05:00</th>\n",
       "      <td>-0.000369</td>\n",
       "      <td>13.3500</td>\n",
       "    </tr>\n",
       "    <tr>\n",
       "      <th>1982-12-31 00:00:00-05:00</th>\n",
       "      <td>0.000610</td>\n",
       "      <td>8.6800</td>\n",
       "    </tr>\n",
       "    <tr>\n",
       "      <th>1983-12-31 00:00:00-05:00</th>\n",
       "      <td>0.000665</td>\n",
       "      <td>10.0800</td>\n",
       "    </tr>\n",
       "    <tr>\n",
       "      <th>1984-12-31 00:00:00-05:00</th>\n",
       "      <td>0.000087</td>\n",
       "      <td>9.2200</td>\n",
       "    </tr>\n",
       "    <tr>\n",
       "      <th>1985-12-31 00:00:00-05:00</th>\n",
       "      <td>0.000948</td>\n",
       "      <td>7.6000</td>\n",
       "    </tr>\n",
       "    <tr>\n",
       "      <th>1986-12-31 00:00:00-05:00</th>\n",
       "      <td>0.000582</td>\n",
       "      <td>5.9500</td>\n",
       "    </tr>\n",
       "    <tr>\n",
       "      <th>1987-12-31 00:00:00-05:00</th>\n",
       "      <td>0.000297</td>\n",
       "      <td>7.1000</td>\n",
       "    </tr>\n",
       "    <tr>\n",
       "      <th>1988-12-31 00:00:00-05:00</th>\n",
       "      <td>0.000520</td>\n",
       "      <td>9.0200</td>\n",
       "    </tr>\n",
       "    <tr>\n",
       "      <th>1989-12-31 00:00:00-05:00</th>\n",
       "      <td>0.000991</td>\n",
       "      <td>7.7600</td>\n",
       "    </tr>\n",
       "    <tr>\n",
       "      <th>1990-12-31 00:00:00-05:00</th>\n",
       "      <td>-0.000218</td>\n",
       "      <td>6.8200</td>\n",
       "    </tr>\n",
       "    <tr>\n",
       "      <th>1991-12-31 00:00:00-05:00</th>\n",
       "      <td>0.000964</td>\n",
       "      <td>4.1200</td>\n",
       "    </tr>\n",
       "    <tr>\n",
       "      <th>1992-12-31 00:00:00-05:00</th>\n",
       "      <td>0.000190</td>\n",
       "      <td>3.6100</td>\n",
       "    </tr>\n",
       "    <tr>\n",
       "      <th>1993-12-31 00:00:00-05:00</th>\n",
       "      <td>0.000284</td>\n",
       "      <td>3.6300</td>\n",
       "    </tr>\n",
       "    <tr>\n",
       "      <th>1994-12-31 00:00:00-05:00</th>\n",
       "      <td>-0.000042</td>\n",
       "      <td>7.2000</td>\n",
       "    </tr>\n",
       "    <tr>\n",
       "      <th>1995-12-31 00:00:00-05:00</th>\n",
       "      <td>0.001177</td>\n",
       "      <td>5.1800</td>\n",
       "    </tr>\n",
       "    <tr>\n",
       "      <th>1996-12-31 00:00:00-05:00</th>\n",
       "      <td>0.000754</td>\n",
       "      <td>5.5100</td>\n",
       "    </tr>\n",
       "    <tr>\n",
       "      <th>1997-12-31 00:00:00-05:00</th>\n",
       "      <td>0.001133</td>\n",
       "      <td>5.5100</td>\n",
       "    </tr>\n",
       "    <tr>\n",
       "      <th>1998-12-31 00:00:00-05:00</th>\n",
       "      <td>0.001020</td>\n",
       "      <td>4.5300</td>\n",
       "    </tr>\n",
       "    <tr>\n",
       "      <th>1999-12-31 00:00:00-05:00</th>\n",
       "      <td>0.000772</td>\n",
       "      <td>5.9800</td>\n",
       "    </tr>\n",
       "    <tr>\n",
       "      <th>2000-12-31 00:00:00-05:00</th>\n",
       "      <td>-0.000327</td>\n",
       "      <td>5.3200</td>\n",
       "    </tr>\n",
       "    <tr>\n",
       "      <th>2001-12-31 00:00:00-05:00</th>\n",
       "      <td>-0.000472</td>\n",
       "      <td>2.1700</td>\n",
       "    </tr>\n",
       "    <tr>\n",
       "      <th>2002-12-31 00:00:00-05:00</th>\n",
       "      <td>-0.000922</td>\n",
       "      <td>1.3200</td>\n",
       "    </tr>\n",
       "    <tr>\n",
       "      <th>2003-12-31 00:00:00-05:00</th>\n",
       "      <td>0.000987</td>\n",
       "      <td>1.2600</td>\n",
       "    </tr>\n",
       "    <tr>\n",
       "      <th>2004-12-31 00:00:00-05:00</th>\n",
       "      <td>0.000366</td>\n",
       "      <td>2.7500</td>\n",
       "    </tr>\n",
       "    <tr>\n",
       "      <th>2005-12-31 00:00:00-05:00</th>\n",
       "      <td>0.000138</td>\n",
       "      <td>4.3800</td>\n",
       "    </tr>\n",
       "    <tr>\n",
       "      <th>2006-12-31 00:00:00-05:00</th>\n",
       "      <td>0.000529</td>\n",
       "      <td>5.0000</td>\n",
       "    </tr>\n",
       "    <tr>\n",
       "      <th>2007-12-31 00:00:00-05:00</th>\n",
       "      <td>0.000189</td>\n",
       "      <td>3.3400</td>\n",
       "    </tr>\n",
       "    <tr>\n",
       "      <th>2008-12-31 00:00:00-05:00</th>\n",
       "      <td>-0.001587</td>\n",
       "      <td>0.3700</td>\n",
       "    </tr>\n",
       "    <tr>\n",
       "      <th>2009-12-31 00:00:00-05:00</th>\n",
       "      <td>0.000983</td>\n",
       "      <td>0.4700</td>\n",
       "    </tr>\n",
       "    <tr>\n",
       "      <th>2010-12-31 00:00:00-05:00</th>\n",
       "      <td>0.000542</td>\n",
       "      <td>0.2900</td>\n",
       "    </tr>\n",
       "    <tr>\n",
       "      <th>2011-12-31 00:00:00-05:00</th>\n",
       "      <td>0.000107</td>\n",
       "      <td>0.1200</td>\n",
       "    </tr>\n",
       "    <tr>\n",
       "      <th>2012-12-31 00:00:00-05:00</th>\n",
       "      <td>0.000536</td>\n",
       "      <td>0.1600</td>\n",
       "    </tr>\n",
       "    <tr>\n",
       "      <th>2013-12-31 00:00:00-05:00</th>\n",
       "      <td>0.001054</td>\n",
       "      <td>0.1300</td>\n",
       "    </tr>\n",
       "    <tr>\n",
       "      <th>2014-12-31 00:00:00-05:00</th>\n",
       "      <td>0.000454</td>\n",
       "      <td>0.2500</td>\n",
       "    </tr>\n",
       "    <tr>\n",
       "      <th>2015-12-31 00:00:00-05:00</th>\n",
       "      <td>0.000019</td>\n",
       "      <td>0.6500</td>\n",
       "    </tr>\n",
       "    <tr>\n",
       "      <th>2016-12-31 00:00:00-05:00</th>\n",
       "      <td>0.000395</td>\n",
       "      <td>0.8106</td>\n",
       "    </tr>\n",
       "    <tr>\n",
       "      <th>2017-12-31 00:00:00-05:00</th>\n",
       "      <td>0.000716</td>\n",
       "      <td>1.7316</td>\n",
       "    </tr>\n",
       "    <tr>\n",
       "      <th>2018-12-31 00:00:00-05:00</th>\n",
       "      <td>-0.000199</td>\n",
       "      <td>2.6300</td>\n",
       "    </tr>\n",
       "    <tr>\n",
       "      <th>2019-12-31 00:00:00-05:00</th>\n",
       "      <td>0.001038</td>\n",
       "      <td>1.5900</td>\n",
       "    </tr>\n",
       "    <tr>\n",
       "      <th>2020-12-31 00:00:00-05:00</th>\n",
       "      <td>0.000832</td>\n",
       "      <td>0.1000</td>\n",
       "    </tr>\n",
       "    <tr>\n",
       "      <th>2021-12-31 00:00:00-05:00</th>\n",
       "      <td>0.000980</td>\n",
       "      <td>0.3900</td>\n",
       "    </tr>\n",
       "  </tbody>\n",
       "</table>\n",
       "</div>"
      ],
      "text/plain": [
       "                              Close    value\n",
       "Date                                        \n",
       "1962-12-31 00:00:00-05:00 -0.000444   3.0500\n",
       "1963-12-31 00:00:00-05:00  0.000704   3.8300\n",
       "1964-12-31 00:00:00-05:00  0.000488   3.9900\n",
       "1965-12-31 00:00:00-05:00  0.000354   4.9600\n",
       "1966-12-31 00:00:00-05:00 -0.000529   5.0000\n",
       "1967-12-31 00:00:00-05:00  0.000744   5.7600\n",
       "1968-12-31 00:00:00-05:00  0.000344   6.4600\n",
       "1969-12-31 00:00:00-05:00 -0.000462   8.3200\n",
       "1970-12-31 00:00:00-05:00  0.000049   4.9400\n",
       "1971-12-31 00:00:00-05:00  0.000426   4.4600\n",
       "1972-12-31 00:00:00-05:00  0.000591   5.6800\n",
       "1973-12-31 00:00:00-05:00 -0.000707   7.3000\n",
       "1974-12-31 00:00:00-05:00 -0.001299   7.3500\n",
       "1975-12-31 00:00:00-05:00  0.001131   6.1600\n",
       "1976-12-31 00:00:00-05:00  0.000717   4.8600\n",
       "1977-12-31 00:00:00-05:00 -0.000468   6.9800\n",
       "1978-12-31 00:00:00-05:00  0.000073  10.5700\n",
       "1979-12-31 00:00:00-05:00  0.000482  11.7000\n",
       "1980-12-31 00:00:00-05:00  0.000960  13.8600\n",
       "1981-12-31 00:00:00-05:00 -0.000369  13.3500\n",
       "1982-12-31 00:00:00-05:00  0.000610   8.6800\n",
       "1983-12-31 00:00:00-05:00  0.000665  10.0800\n",
       "1984-12-31 00:00:00-05:00  0.000087   9.2200\n",
       "1985-12-31 00:00:00-05:00  0.000948   7.6000\n",
       "1986-12-31 00:00:00-05:00  0.000582   5.9500\n",
       "1987-12-31 00:00:00-05:00  0.000297   7.1000\n",
       "1988-12-31 00:00:00-05:00  0.000520   9.0200\n",
       "1989-12-31 00:00:00-05:00  0.000991   7.7600\n",
       "1990-12-31 00:00:00-05:00 -0.000218   6.8200\n",
       "1991-12-31 00:00:00-05:00  0.000964   4.1200\n",
       "1992-12-31 00:00:00-05:00  0.000190   3.6100\n",
       "1993-12-31 00:00:00-05:00  0.000284   3.6300\n",
       "1994-12-31 00:00:00-05:00 -0.000042   7.2000\n",
       "1995-12-31 00:00:00-05:00  0.001177   5.1800\n",
       "1996-12-31 00:00:00-05:00  0.000754   5.5100\n",
       "1997-12-31 00:00:00-05:00  0.001133   5.5100\n",
       "1998-12-31 00:00:00-05:00  0.001020   4.5300\n",
       "1999-12-31 00:00:00-05:00  0.000772   5.9800\n",
       "2000-12-31 00:00:00-05:00 -0.000327   5.3200\n",
       "2001-12-31 00:00:00-05:00 -0.000472   2.1700\n",
       "2002-12-31 00:00:00-05:00 -0.000922   1.3200\n",
       "2003-12-31 00:00:00-05:00  0.000987   1.2600\n",
       "2004-12-31 00:00:00-05:00  0.000366   2.7500\n",
       "2005-12-31 00:00:00-05:00  0.000138   4.3800\n",
       "2006-12-31 00:00:00-05:00  0.000529   5.0000\n",
       "2007-12-31 00:00:00-05:00  0.000189   3.3400\n",
       "2008-12-31 00:00:00-05:00 -0.001587   0.3700\n",
       "2009-12-31 00:00:00-05:00  0.000983   0.4700\n",
       "2010-12-31 00:00:00-05:00  0.000542   0.2900\n",
       "2011-12-31 00:00:00-05:00  0.000107   0.1200\n",
       "2012-12-31 00:00:00-05:00  0.000536   0.1600\n",
       "2013-12-31 00:00:00-05:00  0.001054   0.1300\n",
       "2014-12-31 00:00:00-05:00  0.000454   0.2500\n",
       "2015-12-31 00:00:00-05:00  0.000019   0.6500\n",
       "2016-12-31 00:00:00-05:00  0.000395   0.8106\n",
       "2017-12-31 00:00:00-05:00  0.000716   1.7316\n",
       "2018-12-31 00:00:00-05:00 -0.000199   2.6300\n",
       "2019-12-31 00:00:00-05:00  0.001038   1.5900\n",
       "2020-12-31 00:00:00-05:00  0.000832   0.1000\n",
       "2021-12-31 00:00:00-05:00  0.000980   0.3900"
      ]
     },
     "execution_count": 127,
     "metadata": {},
     "output_type": "execute_result"
    }
   ],
   "source": [
    "# merge all datasets \n",
    "\n",
    "# merge market free interest rate with market return \n",
    "\n",
    "snp_rf = pd.merge_asof(snp_yearly, rf1, left_index = True, right_index = True)\n",
    "snp_rf.dropna()"
   ]
  },
  {
   "cell_type": "code",
   "execution_count": 128,
   "id": "71b8acc7",
   "metadata": {},
   "outputs": [
    {
     "data": {
      "text/html": [
       "<div>\n",
       "<style scoped>\n",
       "    .dataframe tbody tr th:only-of-type {\n",
       "        vertical-align: middle;\n",
       "    }\n",
       "\n",
       "    .dataframe tbody tr th {\n",
       "        vertical-align: top;\n",
       "    }\n",
       "\n",
       "    .dataframe thead th {\n",
       "        text-align: right;\n",
       "    }\n",
       "</style>\n",
       "<table border=\"1\" class=\"dataframe\">\n",
       "  <thead>\n",
       "    <tr style=\"text-align: right;\">\n",
       "      <th></th>\n",
       "      <th>Close</th>\n",
       "      <th>value</th>\n",
       "      <th>Profit</th>\n",
       "    </tr>\n",
       "    <tr>\n",
       "      <th>Date</th>\n",
       "      <th></th>\n",
       "      <th></th>\n",
       "      <th></th>\n",
       "    </tr>\n",
       "  </thead>\n",
       "  <tbody>\n",
       "    <tr>\n",
       "      <th>2000-12-31 00:00:00-05:00</th>\n",
       "      <td>-0.000327</td>\n",
       "      <td>5.3200</td>\n",
       "      <td>0.678051</td>\n",
       "    </tr>\n",
       "    <tr>\n",
       "      <th>2001-12-31 00:00:00-05:00</th>\n",
       "      <td>-0.000472</td>\n",
       "      <td>2.1700</td>\n",
       "      <td>0.365875</td>\n",
       "    </tr>\n",
       "    <tr>\n",
       "      <th>2002-12-31 00:00:00-05:00</th>\n",
       "      <td>-0.000922</td>\n",
       "      <td>1.3200</td>\n",
       "      <td>0.886451</td>\n",
       "    </tr>\n",
       "    <tr>\n",
       "      <th>2003-12-31 00:00:00-05:00</th>\n",
       "      <td>0.000987</td>\n",
       "      <td>1.2600</td>\n",
       "      <td>1.815970</td>\n",
       "    </tr>\n",
       "    <tr>\n",
       "      <th>2004-12-31 00:00:00-05:00</th>\n",
       "      <td>0.000366</td>\n",
       "      <td>2.7500</td>\n",
       "      <td>0.746962</td>\n",
       "    </tr>\n",
       "    <tr>\n",
       "      <th>2005-12-31 00:00:00-05:00</th>\n",
       "      <td>0.000138</td>\n",
       "      <td>4.3800</td>\n",
       "      <td>0.660168</td>\n",
       "    </tr>\n",
       "    <tr>\n",
       "      <th>2006-12-31 00:00:00-05:00</th>\n",
       "      <td>0.000529</td>\n",
       "      <td>5.0000</td>\n",
       "      <td>0.947868</td>\n",
       "    </tr>\n",
       "    <tr>\n",
       "      <th>2007-12-31 00:00:00-05:00</th>\n",
       "      <td>0.000189</td>\n",
       "      <td>3.3400</td>\n",
       "      <td>0.558681</td>\n",
       "    </tr>\n",
       "    <tr>\n",
       "      <th>2008-12-31 00:00:00-05:00</th>\n",
       "      <td>-0.001587</td>\n",
       "      <td>0.3700</td>\n",
       "      <td>0.574497</td>\n",
       "    </tr>\n",
       "    <tr>\n",
       "      <th>2009-12-31 00:00:00-05:00</th>\n",
       "      <td>0.000983</td>\n",
       "      <td>0.4700</td>\n",
       "      <td>0.136027</td>\n",
       "    </tr>\n",
       "    <tr>\n",
       "      <th>2010-12-31 00:00:00-05:00</th>\n",
       "      <td>0.000542</td>\n",
       "      <td>0.2900</td>\n",
       "      <td>0.464515</td>\n",
       "    </tr>\n",
       "    <tr>\n",
       "      <th>2011-12-31 00:00:00-05:00</th>\n",
       "      <td>0.000107</td>\n",
       "      <td>0.1200</td>\n",
       "      <td>0.860125</td>\n",
       "    </tr>\n",
       "    <tr>\n",
       "      <th>2012-12-31 00:00:00-05:00</th>\n",
       "      <td>0.000536</td>\n",
       "      <td>0.1600</td>\n",
       "      <td>0.872129</td>\n",
       "    </tr>\n",
       "    <tr>\n",
       "      <th>2013-12-31 00:00:00-05:00</th>\n",
       "      <td>0.001054</td>\n",
       "      <td>0.1300</td>\n",
       "      <td>0.981036</td>\n",
       "    </tr>\n",
       "    <tr>\n",
       "      <th>2014-12-31 00:00:00-05:00</th>\n",
       "      <td>0.000454</td>\n",
       "      <td>0.2500</td>\n",
       "      <td>1.030178</td>\n",
       "    </tr>\n",
       "    <tr>\n",
       "      <th>2015-12-31 00:00:00-05:00</th>\n",
       "      <td>0.000019</td>\n",
       "      <td>0.6500</td>\n",
       "      <td>0.582829</td>\n",
       "    </tr>\n",
       "    <tr>\n",
       "      <th>2016-12-31 00:00:00-05:00</th>\n",
       "      <td>0.000395</td>\n",
       "      <td>0.8106</td>\n",
       "      <td>0.181215</td>\n",
       "    </tr>\n",
       "    <tr>\n",
       "      <th>2017-12-31 00:00:00-05:00</th>\n",
       "      <td>0.000716</td>\n",
       "      <td>1.7316</td>\n",
       "      <td>0.111248</td>\n",
       "    </tr>\n",
       "    <tr>\n",
       "      <th>2018-12-31 00:00:00-05:00</th>\n",
       "      <td>-0.000199</td>\n",
       "      <td>2.6300</td>\n",
       "      <td>0.402984</td>\n",
       "    </tr>\n",
       "    <tr>\n",
       "      <th>2019-12-31 00:00:00-05:00</th>\n",
       "      <td>0.001038</td>\n",
       "      <td>1.5900</td>\n",
       "      <td>0.350268</td>\n",
       "    </tr>\n",
       "    <tr>\n",
       "      <th>2020-12-31 00:00:00-05:00</th>\n",
       "      <td>0.000832</td>\n",
       "      <td>0.1000</td>\n",
       "      <td>0.148329</td>\n",
       "    </tr>\n",
       "    <tr>\n",
       "      <th>2021-12-31 00:00:00-05:00</th>\n",
       "      <td>0.000980</td>\n",
       "      <td>0.3900</td>\n",
       "      <td>0.095004</td>\n",
       "    </tr>\n",
       "  </tbody>\n",
       "</table>\n",
       "</div>"
      ],
      "text/plain": [
       "                              Close   value    Profit\n",
       "Date                                                 \n",
       "2000-12-31 00:00:00-05:00 -0.000327  5.3200  0.678051\n",
       "2001-12-31 00:00:00-05:00 -0.000472  2.1700  0.365875\n",
       "2002-12-31 00:00:00-05:00 -0.000922  1.3200  0.886451\n",
       "2003-12-31 00:00:00-05:00  0.000987  1.2600  1.815970\n",
       "2004-12-31 00:00:00-05:00  0.000366  2.7500  0.746962\n",
       "2005-12-31 00:00:00-05:00  0.000138  4.3800  0.660168\n",
       "2006-12-31 00:00:00-05:00  0.000529  5.0000  0.947868\n",
       "2007-12-31 00:00:00-05:00  0.000189  3.3400  0.558681\n",
       "2008-12-31 00:00:00-05:00 -0.001587  0.3700  0.574497\n",
       "2009-12-31 00:00:00-05:00  0.000983  0.4700  0.136027\n",
       "2010-12-31 00:00:00-05:00  0.000542  0.2900  0.464515\n",
       "2011-12-31 00:00:00-05:00  0.000107  0.1200  0.860125\n",
       "2012-12-31 00:00:00-05:00  0.000536  0.1600  0.872129\n",
       "2013-12-31 00:00:00-05:00  0.001054  0.1300  0.981036\n",
       "2014-12-31 00:00:00-05:00  0.000454  0.2500  1.030178\n",
       "2015-12-31 00:00:00-05:00  0.000019  0.6500  0.582829\n",
       "2016-12-31 00:00:00-05:00  0.000395  0.8106  0.181215\n",
       "2017-12-31 00:00:00-05:00  0.000716  1.7316  0.111248\n",
       "2018-12-31 00:00:00-05:00 -0.000199  2.6300  0.402984\n",
       "2019-12-31 00:00:00-05:00  0.001038  1.5900  0.350268\n",
       "2020-12-31 00:00:00-05:00  0.000832  0.1000  0.148329\n",
       "2021-12-31 00:00:00-05:00  0.000980  0.3900  0.095004"
      ]
     },
     "execution_count": 128,
     "metadata": {},
     "output_type": "execute_result"
    }
   ],
   "source": [
    "# merge above dataset with tror dataset\n",
    "\n",
    "final = pd.merge_asof(snp_rf, tror, left_index = True, right_index = True)\n",
    "final.dropna()"
   ]
  },
  {
   "cell_type": "code",
   "execution_count": 129,
   "id": "ecd4ae2d",
   "metadata": {},
   "outputs": [
    {
     "data": {
      "text/html": [
       "<div>\n",
       "<style scoped>\n",
       "    .dataframe tbody tr th:only-of-type {\n",
       "        vertical-align: middle;\n",
       "    }\n",
       "\n",
       "    .dataframe tbody tr th {\n",
       "        vertical-align: top;\n",
       "    }\n",
       "\n",
       "    .dataframe thead th {\n",
       "        text-align: right;\n",
       "    }\n",
       "</style>\n",
       "<table border=\"1\" class=\"dataframe\">\n",
       "  <thead>\n",
       "    <tr style=\"text-align: right;\">\n",
       "      <th></th>\n",
       "      <th>Close</th>\n",
       "      <th>value</th>\n",
       "      <th>Profit</th>\n",
       "      <th>excess market return</th>\n",
       "    </tr>\n",
       "    <tr>\n",
       "      <th>Date</th>\n",
       "      <th></th>\n",
       "      <th></th>\n",
       "      <th></th>\n",
       "      <th></th>\n",
       "    </tr>\n",
       "  </thead>\n",
       "  <tbody>\n",
       "    <tr>\n",
       "      <th>2000-12-31 00:00:00-05:00</th>\n",
       "      <td>-0.000327</td>\n",
       "      <td>5.3200</td>\n",
       "      <td>0.678051</td>\n",
       "      <td>-5.320327</td>\n",
       "    </tr>\n",
       "    <tr>\n",
       "      <th>2001-12-31 00:00:00-05:00</th>\n",
       "      <td>-0.000472</td>\n",
       "      <td>2.1700</td>\n",
       "      <td>0.365875</td>\n",
       "      <td>-2.170472</td>\n",
       "    </tr>\n",
       "    <tr>\n",
       "      <th>2002-12-31 00:00:00-05:00</th>\n",
       "      <td>-0.000922</td>\n",
       "      <td>1.3200</td>\n",
       "      <td>0.886451</td>\n",
       "      <td>-1.320922</td>\n",
       "    </tr>\n",
       "    <tr>\n",
       "      <th>2003-12-31 00:00:00-05:00</th>\n",
       "      <td>0.000987</td>\n",
       "      <td>1.2600</td>\n",
       "      <td>1.815970</td>\n",
       "      <td>-1.259013</td>\n",
       "    </tr>\n",
       "    <tr>\n",
       "      <th>2004-12-31 00:00:00-05:00</th>\n",
       "      <td>0.000366</td>\n",
       "      <td>2.7500</td>\n",
       "      <td>0.746962</td>\n",
       "      <td>-2.749634</td>\n",
       "    </tr>\n",
       "    <tr>\n",
       "      <th>2005-12-31 00:00:00-05:00</th>\n",
       "      <td>0.000138</td>\n",
       "      <td>4.3800</td>\n",
       "      <td>0.660168</td>\n",
       "      <td>-4.379862</td>\n",
       "    </tr>\n",
       "    <tr>\n",
       "      <th>2006-12-31 00:00:00-05:00</th>\n",
       "      <td>0.000529</td>\n",
       "      <td>5.0000</td>\n",
       "      <td>0.947868</td>\n",
       "      <td>-4.999471</td>\n",
       "    </tr>\n",
       "    <tr>\n",
       "      <th>2007-12-31 00:00:00-05:00</th>\n",
       "      <td>0.000189</td>\n",
       "      <td>3.3400</td>\n",
       "      <td>0.558681</td>\n",
       "      <td>-3.339811</td>\n",
       "    </tr>\n",
       "    <tr>\n",
       "      <th>2008-12-31 00:00:00-05:00</th>\n",
       "      <td>-0.001587</td>\n",
       "      <td>0.3700</td>\n",
       "      <td>0.574497</td>\n",
       "      <td>-0.371587</td>\n",
       "    </tr>\n",
       "    <tr>\n",
       "      <th>2009-12-31 00:00:00-05:00</th>\n",
       "      <td>0.000983</td>\n",
       "      <td>0.4700</td>\n",
       "      <td>0.136027</td>\n",
       "      <td>-0.469017</td>\n",
       "    </tr>\n",
       "    <tr>\n",
       "      <th>2010-12-31 00:00:00-05:00</th>\n",
       "      <td>0.000542</td>\n",
       "      <td>0.2900</td>\n",
       "      <td>0.464515</td>\n",
       "      <td>-0.289458</td>\n",
       "    </tr>\n",
       "    <tr>\n",
       "      <th>2011-12-31 00:00:00-05:00</th>\n",
       "      <td>0.000107</td>\n",
       "      <td>0.1200</td>\n",
       "      <td>0.860125</td>\n",
       "      <td>-0.119893</td>\n",
       "    </tr>\n",
       "    <tr>\n",
       "      <th>2012-12-31 00:00:00-05:00</th>\n",
       "      <td>0.000536</td>\n",
       "      <td>0.1600</td>\n",
       "      <td>0.872129</td>\n",
       "      <td>-0.159464</td>\n",
       "    </tr>\n",
       "    <tr>\n",
       "      <th>2013-12-31 00:00:00-05:00</th>\n",
       "      <td>0.001054</td>\n",
       "      <td>0.1300</td>\n",
       "      <td>0.981036</td>\n",
       "      <td>-0.128946</td>\n",
       "    </tr>\n",
       "    <tr>\n",
       "      <th>2014-12-31 00:00:00-05:00</th>\n",
       "      <td>0.000454</td>\n",
       "      <td>0.2500</td>\n",
       "      <td>1.030178</td>\n",
       "      <td>-0.249546</td>\n",
       "    </tr>\n",
       "    <tr>\n",
       "      <th>2015-12-31 00:00:00-05:00</th>\n",
       "      <td>0.000019</td>\n",
       "      <td>0.6500</td>\n",
       "      <td>0.582829</td>\n",
       "      <td>-0.649981</td>\n",
       "    </tr>\n",
       "    <tr>\n",
       "      <th>2016-12-31 00:00:00-05:00</th>\n",
       "      <td>0.000395</td>\n",
       "      <td>0.8106</td>\n",
       "      <td>0.181215</td>\n",
       "      <td>-0.810205</td>\n",
       "    </tr>\n",
       "    <tr>\n",
       "      <th>2017-12-31 00:00:00-05:00</th>\n",
       "      <td>0.000716</td>\n",
       "      <td>1.7316</td>\n",
       "      <td>0.111248</td>\n",
       "      <td>-1.730884</td>\n",
       "    </tr>\n",
       "    <tr>\n",
       "      <th>2018-12-31 00:00:00-05:00</th>\n",
       "      <td>-0.000199</td>\n",
       "      <td>2.6300</td>\n",
       "      <td>0.402984</td>\n",
       "      <td>-2.630199</td>\n",
       "    </tr>\n",
       "    <tr>\n",
       "      <th>2019-12-31 00:00:00-05:00</th>\n",
       "      <td>0.001038</td>\n",
       "      <td>1.5900</td>\n",
       "      <td>0.350268</td>\n",
       "      <td>-1.588962</td>\n",
       "    </tr>\n",
       "    <tr>\n",
       "      <th>2020-12-31 00:00:00-05:00</th>\n",
       "      <td>0.000832</td>\n",
       "      <td>0.1000</td>\n",
       "      <td>0.148329</td>\n",
       "      <td>-0.099168</td>\n",
       "    </tr>\n",
       "    <tr>\n",
       "      <th>2021-12-31 00:00:00-05:00</th>\n",
       "      <td>0.000980</td>\n",
       "      <td>0.3900</td>\n",
       "      <td>0.095004</td>\n",
       "      <td>-0.389020</td>\n",
       "    </tr>\n",
       "  </tbody>\n",
       "</table>\n",
       "</div>"
      ],
      "text/plain": [
       "                              Close   value    Profit  excess market return\n",
       "Date                                                                       \n",
       "2000-12-31 00:00:00-05:00 -0.000327  5.3200  0.678051             -5.320327\n",
       "2001-12-31 00:00:00-05:00 -0.000472  2.1700  0.365875             -2.170472\n",
       "2002-12-31 00:00:00-05:00 -0.000922  1.3200  0.886451             -1.320922\n",
       "2003-12-31 00:00:00-05:00  0.000987  1.2600  1.815970             -1.259013\n",
       "2004-12-31 00:00:00-05:00  0.000366  2.7500  0.746962             -2.749634\n",
       "2005-12-31 00:00:00-05:00  0.000138  4.3800  0.660168             -4.379862\n",
       "2006-12-31 00:00:00-05:00  0.000529  5.0000  0.947868             -4.999471\n",
       "2007-12-31 00:00:00-05:00  0.000189  3.3400  0.558681             -3.339811\n",
       "2008-12-31 00:00:00-05:00 -0.001587  0.3700  0.574497             -0.371587\n",
       "2009-12-31 00:00:00-05:00  0.000983  0.4700  0.136027             -0.469017\n",
       "2010-12-31 00:00:00-05:00  0.000542  0.2900  0.464515             -0.289458\n",
       "2011-12-31 00:00:00-05:00  0.000107  0.1200  0.860125             -0.119893\n",
       "2012-12-31 00:00:00-05:00  0.000536  0.1600  0.872129             -0.159464\n",
       "2013-12-31 00:00:00-05:00  0.001054  0.1300  0.981036             -0.128946\n",
       "2014-12-31 00:00:00-05:00  0.000454  0.2500  1.030178             -0.249546\n",
       "2015-12-31 00:00:00-05:00  0.000019  0.6500  0.582829             -0.649981\n",
       "2016-12-31 00:00:00-05:00  0.000395  0.8106  0.181215             -0.810205\n",
       "2017-12-31 00:00:00-05:00  0.000716  1.7316  0.111248             -1.730884\n",
       "2018-12-31 00:00:00-05:00 -0.000199  2.6300  0.402984             -2.630199\n",
       "2019-12-31 00:00:00-05:00  0.001038  1.5900  0.350268             -1.588962\n",
       "2020-12-31 00:00:00-05:00  0.000832  0.1000  0.148329             -0.099168\n",
       "2021-12-31 00:00:00-05:00  0.000980  0.3900  0.095004             -0.389020"
      ]
     },
     "execution_count": 129,
     "metadata": {},
     "output_type": "execute_result"
    }
   ],
   "source": [
    "# now calculate excess market return \n",
    "final['excess market return'] = final['Close'] - final[' value']\n",
    "final.dropna()"
   ]
  },
  {
   "cell_type": "code",
   "execution_count": 130,
   "id": "f6fb898c",
   "metadata": {},
   "outputs": [],
   "source": [
    "import statsmodels.api as sm\n"
   ]
  },
  {
   "cell_type": "code",
   "execution_count": 131,
   "id": "a11d876d",
   "metadata": {},
   "outputs": [
    {
     "name": "stdout",
     "output_type": "stream",
     "text": [
      "Alpha:  0.6101718512242316\n",
      "Beta:  -0.008946519843041453\n"
     ]
    }
   ],
   "source": [
    "# run regression \n",
    "\n",
    "\n",
    "X = sm.add_constant(final['excess market return']).dropna()\n",
    "y = final['Profit'].dropna()\n",
    "\n",
    "X_Y = pd.merge_asof(X, y, left_index=True, right_index=True, direction='nearest').dropna()\n",
    "\n",
    "x_y = X_Y[['const', 'excess market return']]\n",
    "\n",
    "model = sm.OLS(X_Y['Profit'], x_y).fit()\n",
    "alpha, beta = model.params\n",
    "\n",
    "print(\"Alpha: \", alpha)\n",
    "print(\"Beta: \", beta)\n"
   ]
  },
  {
   "cell_type": "markdown",
   "id": "ece38149",
   "metadata": {},
   "source": [
    "Sharpe Ratio"
   ]
  },
  {
   "cell_type": "code",
   "execution_count": 132,
   "id": "08ac8a27",
   "metadata": {},
   "outputs": [],
   "source": [
    "# get excess return \n",
    "\n",
    "final['excess return'] = final['Profit'] - final[' value']"
   ]
  },
  {
   "cell_type": "code",
   "execution_count": 133,
   "id": "539d7ca0",
   "metadata": {},
   "outputs": [
    {
     "name": "stdout",
     "output_type": "stream",
     "text": [
      "Sharpe Ratio:  -0.6101811978724458\n"
     ]
    }
   ],
   "source": [
    "# get standard deviation \n",
    "\n",
    "avg_return = np.mean(final['excess return'])\n",
    "volatility = np.std(final['excess return'])\n",
    "\n",
    "# Assume you have the risk-free rate stored in a variable called rf_rate\n",
    "sharpe_ratio = (avg_return) / volatility\n",
    "\n",
    "print(\"Sharpe Ratio: \", sharpe_ratio)"
   ]
  },
  {
   "cell_type": "markdown",
   "id": "a7c51275",
   "metadata": {},
   "source": [
    "Gini Coefficent"
   ]
  },
  {
   "cell_type": "code",
   "execution_count": 134,
   "id": "0dc9db66",
   "metadata": {},
   "outputs": [
    {
     "name": "stderr",
     "output_type": "stream",
     "text": [
      "C:\\Users\\sebpo\\AppData\\Local\\Temp\\ipykernel_24280\\3765746689.py:8: FutureWarning: The frame.append method is deprecated and will be removed from pandas in a future version. Use pandas.concat instead.\n",
      "  LorenzCurve = pd.DataFrame({'Returns': [0]}).append(LorenzCurve)\n"
     ]
    },
    {
     "data": {
      "text/plain": [
       "-0.09884817577093283"
      ]
     },
     "execution_count": 134,
     "metadata": {},
     "output_type": "execute_result"
    }
   ],
   "source": [
    "def GINI_COEF(returns):\n",
    "    # get the number of periods -> will allow us to calculate the areas\n",
    "    periods = len(returns)\n",
    "    \n",
    "    # sort values and sum to calculate the lorenz curve\n",
    "    LorenzCurve = np.cumsum(returns.sort_values(by=\"Returns\"))\n",
    "    # start from 0\n",
    "    LorenzCurve = pd.DataFrame({'Returns': [0]}).append(LorenzCurve)\n",
    "    Line = LorenzCurve.copy()\n",
    "    # Form the line that encompasses A and B\n",
    "    Line[\"Returns\"] = np.arange(0, 1 + 1 / periods, 1 / periods) * max(LorenzCurve[\"Returns\"])\n",
    "    \n",
    "    # calculate the area of A+B\n",
    "    UpArea = 0\n",
    "    for i in range(1, len(returns)):\n",
    "        if not np.isnan(LorenzCurve.iloc[i, 0]):\n",
    "            UpArea += ((Line.iloc[i, 0] - LorenzCurve.iloc[i, 0] + Line.iloc[i - 1, 0] - LorenzCurve.iloc[i - 1, 0]) / 2)\n",
    "    # calculate the area of A+B+C\n",
    "    if min(LorenzCurve[\"Returns\"]) < 0:\n",
    "        AllArea = (np.abs(min(LorenzCurve[\"Returns\"])) * periods) + ((max(LorenzCurve[\"Returns\"]) * periods) / 2)\n",
    "    else:\n",
    "        AllArea = ((max(LorenzCurve[\"Returns\"]) * periods) / 2)\n",
    "    gini = UpArea / AllArea\n",
    "    return gini\n",
    "\n",
    "returns = final[['Profit']]\n",
    "returns.columns = ['Returns']\n",
    "\n",
    "GINI_COEF(returns)\n"
   ]
  },
  {
   "cell_type": "markdown",
   "id": "4cd2bb1b",
   "metadata": {},
   "source": [
    "## Question:4\n",
    "### a."
   ]
  },
  {
   "cell_type": "markdown",
   "id": "af923dde",
   "metadata": {},
   "source": [
    "The author explains that while the Fed is raising rates, it is also cautious about the future of inflation and employment, and so it may not make any drastic moves yet. However, the author also suggests that there is a risk that investors may start to disregard the Fed's statements about rate hikes, as they may believe that the Fed is only talking tough without intending to follow through. This could lead to confusion and uncertainty in the markets, which could ultimately harm the economy."
   ]
  },
  {
   "cell_type": "markdown",
   "id": "0169bc6e",
   "metadata": {},
   "source": [
    "### b."
   ]
  },
  {
   "cell_type": "markdown",
   "id": "339a3b66",
   "metadata": {},
   "source": [
    "If the investors call bluff on the Fed's decison to hike rates, they might initiate a sell-off which can worsen the crisis and which can crash stock prices. On the other hand, if they feel that the Fed is trying to ameliorate the inflation, it can lead to investor confidence as the acctions will restore sepding power and can strengthen the stock market"
   ]
  },
  {
   "cell_type": "markdown",
   "id": "3d78b6a1",
   "metadata": {},
   "source": [
    "## Question:5"
   ]
  },
  {
   "cell_type": "markdown",
   "id": "8b6723bd",
   "metadata": {},
   "source": [
    "Maybe, investors beleive that threats to earnings have receded, and a higher PE ratio would be justified and thus are optimistic about future economic growht and are investing due to future expectations. Especially with respect to tech stocks, which show great potential in terms of growth. Maybe, the effects of bond yields can actually be overlooked. One reason could also be the prevalance of AI which could very well mean that we are at the precipice of another tech boom and an economic boom, which could signify the positive outlook of stocks. "
   ]
  },
  {
   "cell_type": "code",
   "execution_count": null,
   "id": "cc1c6924",
   "metadata": {},
   "outputs": [],
   "source": []
  },
  {
   "cell_type": "code",
   "execution_count": null,
   "id": "f78f6ddf",
   "metadata": {},
   "outputs": [],
   "source": []
  }
 ],
 "metadata": {
  "kernelspec": {
   "display_name": "Python 3 (ipykernel)",
   "language": "python",
   "name": "python3"
  },
  "language_info": {
   "codemirror_mode": {
    "name": "ipython",
    "version": 3
   },
   "file_extension": ".py",
   "mimetype": "text/x-python",
   "name": "python",
   "nbconvert_exporter": "python",
   "pygments_lexer": "ipython3",
   "version": "3.9.12"
  }
 },
 "nbformat": 4,
 "nbformat_minor": 5
}
